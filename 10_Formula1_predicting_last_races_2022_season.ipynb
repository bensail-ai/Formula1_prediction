{
 "cells": [
  {
   "cell_type": "markdown",
   "metadata": {},
   "source": [
    "# Evaluation of Model on Final unseen races of 2022"
   ]
  },
  {
   "cell_type": "markdown",
   "metadata": {},
   "source": []
  },
  {
   "cell_type": "code",
   "execution_count": 1,
   "metadata": {},
   "outputs": [],
   "source": [
    "import pandas as pd\n",
    "import numpy as np\n",
    "import seaborn as sns\n",
    "import matplotlib.pyplot as plt\n",
    "from scipy import stats\n",
    "import plotly.express as px\n",
    "\n",
    "from scripts.ds_ultils import *\n",
    "from scripts.fastf1_data_download import *\n",
    "from scripts.model_ultils import *\n",
    "plt.style.use('./scripts/plotstyle.mplstyle')\n",
    "import warnings\n",
    "warnings.filterwarnings('ignore')\n",
    "from sklearn.compose import ColumnTransformer\n",
    "from sklearn.decomposition import PCA\n",
    "from sklearn.preprocessing import StandardScaler, OneHotEncoder, LabelEncoder\n",
    "from sklearn.pipeline import Pipeline\n",
    "from sklearn.preprocessing import MinMaxScaler, StandardScaler\n",
    "from sklearn.linear_model import LinearRegression\n",
    "from sklearn.ensemble import RandomForestRegressor\n",
    "from sklearn.metrics import r2_score ,mean_squared_error, mean_absolute_error\n",
    "from sklearn.metrics import accuracy_score,confusion_matrix,classification_report, plot_roc_curve,roc_auc_score\n",
    "from sklearn.feature_selection import SelectKBest, SelectFromModel\n",
    "from mlxtend.feature_selection import ColumnSelector\n",
    "from sklearn.model_selection import (GridSearchCV, RandomizedSearchCV,\n",
    "                                     cross_val_score, train_test_split)\n",
    "import joblib\n",
    "from xgboost import XGBRegressor"
   ]
  },
  {
   "cell_type": "code",
   "execution_count": null,
   "metadata": {},
   "outputs": [],
   "source": [
    "#download the data from the api\n",
    "new_results=get_new_results_dataframe(file,event_df)\n",
    "new_data = pull_new_races_aggregate_telemetry(new_results_df)\n",
    "new_data.to_pickle('./data/model_data/formula1_2022_last_races_model_data.pkl',compression='gzip')"
   ]
  },
  {
   "cell_type": "code",
   "execution_count": null,
   "metadata": {},
   "outputs": [],
   "source": [
    "new_data_df=pd.read_pickle('./data/model_data/formula1_2022_last_races_model_data.pkl',compression='gzip')"
   ]
  },
  {
   "cell_type": "code",
   "execution_count": null,
   "metadata": {},
   "outputs": [],
   "source": []
  },
  {
   "cell_type": "code",
   "execution_count": null,
   "metadata": {},
   "outputs": [],
   "source": []
  }
 ],
 "metadata": {
  "kernelspec": {
   "display_name": "Python 3.9.13 ('Formula1')",
   "language": "python",
   "name": "python3"
  },
  "language_info": {
   "codemirror_mode": {
    "name": "ipython",
    "version": 3
   },
   "file_extension": ".py",
   "mimetype": "text/x-python",
   "name": "python",
   "nbconvert_exporter": "python",
   "pygments_lexer": "ipython3",
   "version": "3.9.13"
  },
  "orig_nbformat": 4,
  "vscode": {
   "interpreter": {
    "hash": "df33e983c06e0aea19505ce5c944c877d6d15f02d67e223997f73ecad7eaf96c"
   }
  }
 },
 "nbformat": 4,
 "nbformat_minor": 2
}
