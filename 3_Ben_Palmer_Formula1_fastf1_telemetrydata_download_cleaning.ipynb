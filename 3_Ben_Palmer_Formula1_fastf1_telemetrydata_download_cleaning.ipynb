{
 "cells": [
  {
   "cell_type": "markdown",
   "metadata": {},
   "source": [
    "# Formula1 Sample Telemetry Data Download and Data Cleaning \n",
    "Author : Ben Palmer\\\n",
    "Date : 02/11/2022\n",
    "\n",
    "## Summary:\n",
    "\n",
    "In this notebook we have succesffully download telemetry from FastF1 for a sample of 10 GrandPrix's over 2018 and 2018. We have successfully cleaned and prepared the data for further EDA and feature aggregation.\n",
    "\n",
    "## Introduction:\n",
    "\n",
    "The aim of this notebook is to download telemetry data from the [FastF1 library](https://theoehrly.github.io/Fast-F1/)\n",
    "\n",
    "FastF1 gives access to F1 lap timing, car telemetry and position, tyre data, weather data, the event schedule and session results. This done by a api link to [F1 Live](https://www.formula1.com/en/f1-live.html).\n",
    "\n",
    "The telemetry data is the same data that media companies use to show telemtry data during the races, example output from F1live:\n",
    "\n",
    "<div ><img style=\"height:300px\"   src ='./images/f1live example.png' /> </div>\n",
    "\n",
    "\n",
    "This telemetry data gives a tremendous amount of data on the car performance around each lap of the track. It is expected that this data will be instrumental in the prediction of our target variables;\n",
    "- `Qualifying Position`\n",
    "- `Qualifying Lap Time`\n",
    "\n",
    "However the data is on a different record level to the previous Ergast Database we investigated in [2_Formula1_EDA_on_ergast_legacy_database](./2_Formula1_EDA_on_ergast_legacy_database.ipynb). As explain in the following figure:\n",
    "\n",
    "<div ><img style=\"height:300px\"   src ='./images/database structure.png' /> </div>\n",
    "\n",
    "Once we have download the data we will have to complete feature engineering and aggregation to be able to combine feature of car performane with our result database.\n",
    "\n",
    "Since the telemetry database is soo large, each driver completing multiple laps per session and each lap have 800 records of data, we will take a sample of races from 2018 and 2019 for our initial analysis. After the analysis and exploration has been completed we will use our knowledge to download data for the complete dataset from 2018 to 2022.\n",
    "\n",
    "First this notebook will download and clean the sample dataset.\n",
    "\n",
    "## Table of Contents:\n",
    "\n",
    "1. [Telemetry Data Download](#download)\\\n",
    "    1.1 [Sample Races](#sample)\\\n",
    "    1.2 [Download](#download)\n",
    "\n",
    "2. [Data Inspection & Cleaning](#inspect)\\\n",
    "    2.1 [Cleaning Qualifying TIme](#qualitimes)\\\n",
    "    2.2 [Addittional Columns](#addcols)\\\n",
    "    2.3 [Feature Engineering](#age)\\\n",
    "    2.4 [NaN values](#nan)\\\n",
    "    2.5 [Time Columns](#time)\\\n",
    "    2.6 [Save Dataframe](#save)\n",
    "\n",
    "3. [Summary](#sum)\n",
    "\n",
    "4. [Next Steps](#nextsteps)"
   ]
  },
  {
   "cell_type": "markdown",
   "metadata": {},
   "source": [
    "## Imports"
   ]
  },
  {
   "cell_type": "code",
   "execution_count": 1,
   "metadata": {},
   "outputs": [],
   "source": [
    "import fastf1\n",
    "from scripts import ds_ultils,data_cleaning\n",
    "from scripts.f1_ultils import convert_time_miliseconds,find_fastest_lap, fill_mean_parameter,clean_q3_times\n",
    "\n",
    "from scripts.fastf1_data_download import f1_telemetry_data , combine_telemetry\n",
    "import numpy as np\n",
    "import pandas as pd\n",
    "    \n"
   ]
  },
  {
   "cell_type": "markdown",
   "metadata": {},
   "source": [
    "# Telemetry Data Download:\n",
    "<a id=\"download\"></a>\n",
    "\n",
    "This Section downloads telemetry data from a sample of races in 2018 & 2019. This does take some time and creates a lot of intermediate projects. However the complete telemetry dataset has been saved so this section does not need to be run and has been commentd out."
   ]
  },
  {
   "cell_type": "markdown",
   "metadata": {},
   "source": [
    "## Sample Races\n",
    "<a id=\"sample\"></a>\n",
    "\n",
    "First lets take a random sample of 3 races. We will then add two other races which from our [initial EDA](./2_Formula1_EDA_on_ergast_legacy_database.ipynb) were especially important to get pole position. These were Monaco and the Spanish GrandPrix"
   ]
  },
  {
   "cell_type": "code",
   "execution_count": 3,
   "metadata": {},
   "outputs": [
    {
     "data": {
      "text/plain": [
       "array([15, 19,  6])"
      ]
     },
     "execution_count": 3,
     "metadata": {},
     "output_type": "execute_result"
    }
   ],
   "source": [
    "# Random 3 races\n",
    "random = np.random.RandomState(1234).randint(20,size=3)\n",
    "random"
   ]
  },
  {
   "cell_type": "markdown",
   "metadata": {},
   "source": [
    "### Read the Ergast results database we will combine telemetry with"
   ]
  },
  {
   "cell_type": "code",
   "execution_count": 4,
   "metadata": {},
   "outputs": [],
   "source": [
    "ergast_combined_df=pd.read_csv('./data/clean/combined_ergast_clean.csv')"
   ]
  },
  {
   "cell_type": "markdown",
   "metadata": {},
   "source": [
    "Find the list of circuits in 2018"
   ]
  },
  {
   "cell_type": "code",
   "execution_count": 5,
   "metadata": {},
   "outputs": [],
   "source": [
    "circuits=list(ergast_combined_df.loc[ergast_combined_df['year']==2018,'name'].unique())\n"
   ]
  },
  {
   "cell_type": "markdown",
   "metadata": {},
   "source": [
    "Take the random 3 circuits and append Monaco and Spanish Grand Prix"
   ]
  },
  {
   "cell_type": "code",
   "execution_count": 6,
   "metadata": {},
   "outputs": [
    {
     "data": {
      "text/plain": [
       "['Austrian Grand Prix',\n",
       " 'Russian Grand Prix',\n",
       " 'Hungarian Grand Prix',\n",
       " 'Monaco Grand Prix',\n",
       " 'Spanish Grand Prix']"
      ]
     },
     "execution_count": 6,
     "metadata": {},
     "output_type": "execute_result"
    }
   ],
   "source": [
    "circuits=list(ergast_combined_df.loc[ergast_combined_df['year']==2018,'name'].unique())\n",
    "circuits_2018=[]\n",
    "for i in random:\n",
    "    if circuits[i] not in (['Monaco Grand Prix','Spanish Grand Prix']):\n",
    "        circuits_2018.append(circuits[i])\n",
    "    else:\n",
    "        circuits_2018.append(circuits[i+2])\n",
    "circuits_2018.append('Monaco Grand Prix')\n",
    "circuits_2018.append('Spanish Grand Prix')\n",
    "circuits_2018"
   ]
  },
  {
   "cell_type": "markdown",
   "metadata": {},
   "source": [
    "These are the list of circuits we will download telemetry data from for 2018 and 2019"
   ]
  },
  {
   "cell_type": "markdown",
   "metadata": {},
   "source": [
    "## Telemetry Data Download:\n",
    "<a id=\"download\"></a>\n",
    "These code blocks call the API of FastF1 and retrive the weather, car and telemetry data for each driver in those qualifying sessions.\n",
    "\n",
    "These take some time and are commented out as intermediate products are saved."
   ]
  },
  {
   "cell_type": "code",
   "execution_count": null,
   "metadata": {},
   "outputs": [],
   "source": [
    "# event_data={}\n",
    "# for circuit in circuits_2018:\n",
    "#     event_data[circuit] =f1_telemetry_data(2018,circuit)\n"
   ]
  },
  {
   "cell_type": "code",
   "execution_count": 8,
   "metadata": {},
   "outputs": [
    {
     "data": {
      "text/plain": [
       "dict_keys(['Austrian Grand Prix', 'Russian Grand Prix', 'Hungarian Grand Prix', 'Monaco Grand Prix', 'Spanish Grand Prix'])"
      ]
     },
     "execution_count": 8,
     "metadata": {},
     "output_type": "execute_result"
    }
   ],
   "source": [
    "# event_data.keys()"
   ]
  },
  {
   "cell_type": "code",
   "execution_count": 9,
   "metadata": {},
   "outputs": [],
   "source": [
    "# combine the telemetry data with the qualifying results database\n",
    "# combined_2018_data = combine_telemetry(event_data,ergast_combined_df,session='qualifying',year=2018)"
   ]
  },
  {
   "cell_type": "code",
   "execution_count": null,
   "metadata": {},
   "outputs": [],
   "source": [
    "#save 2018 data\n",
    "#combined_2018_data.to_pickle('./data/clean/2018_telemetry_subsetcircuits_data.pkl',compression='gzip')"
   ]
  },
  {
   "cell_type": "code",
   "execution_count": 10,
   "metadata": {},
   "outputs": [
    {
     "data": {
      "text/plain": [
       "549163"
      ]
     },
     "execution_count": 10,
     "metadata": {},
     "output_type": "execute_result"
    }
   ],
   "source": [
    "# How many rows of data\n",
    "#len(combined_2018_data)"
   ]
  },
  {
   "cell_type": "code",
   "execution_count": 11,
   "metadata": {},
   "outputs": [
    {
     "data": {
      "text/plain": [
       "array(['red_bull_ring', 'sochi', 'hungaroring', 'monaco', 'catalunya'],\n",
       "      dtype=object)"
      ]
     },
     "execution_count": 11,
     "metadata": {},
     "output_type": "execute_result"
    }
   ],
   "source": [
    "# Check the circuits\n",
    "#combined_2018_data['circuitRef'].unique()"
   ]
  },
  {
   "cell_type": "code",
   "execution_count": null,
   "metadata": {},
   "outputs": [],
   "source": [
    "# event_data={}\n",
    "# for circuit in circuits_2018:\n",
    "#     event_data[circuit] =f1_telemetry_data(2019,circuit)\n"
   ]
  },
  {
   "cell_type": "code",
   "execution_count": null,
   "metadata": {},
   "outputs": [],
   "source": [
    "#combined_2019_data = combine_telemetry(event_data,ergast_combined_df,session='qualifying',year=2019)"
   ]
  },
  {
   "cell_type": "code",
   "execution_count": null,
   "metadata": {},
   "outputs": [],
   "source": [
    "#ombined_2019_data.to_pickle('./data/clean/2019_telemetry_subsetcircuits_data.pkl',compression='gzip')"
   ]
  },
  {
   "cell_type": "code",
   "execution_count": null,
   "metadata": {},
   "outputs": [
    {
     "data": {
      "text/html": [
       "<div>\n",
       "<style scoped>\n",
       "    .dataframe tbody tr th:only-of-type {\n",
       "        vertical-align: middle;\n",
       "    }\n",
       "\n",
       "    .dataframe tbody tr th {\n",
       "        vertical-align: top;\n",
       "    }\n",
       "\n",
       "    .dataframe thead th {\n",
       "        text-align: right;\n",
       "    }\n",
       "</style>\n",
       "<table border=\"1\" class=\"dataframe\">\n",
       "  <thead>\n",
       "    <tr style=\"text-align: right;\">\n",
       "      <th></th>\n",
       "      <th>raceId</th>\n",
       "      <th>year</th>\n",
       "      <th>circuitId</th>\n",
       "      <th>name</th>\n",
       "      <th>date</th>\n",
       "      <th>time</th>\n",
       "      <th>quali_date</th>\n",
       "      <th>quali_time</th>\n",
       "      <th>sprint_date</th>\n",
       "      <th>sprint_time</th>\n",
       "      <th>lat_x</th>\n",
       "      <th>lng_x</th>\n",
       "      <th>race_temp</th>\n",
       "      <th>race_precip</th>\n",
       "      <th>race_humidity</th>\n",
       "      <th>quali_temp</th>\n",
       "      <th>quali_precip</th>\n",
       "      <th>quali_humidity</th>\n",
       "      <th>fp1_date</th>\n",
       "      <th>fp1_time</th>\n",
       "      <th>fp2_date</th>\n",
       "      <th>fp2_time</th>\n",
       "      <th>fp3_date</th>\n",
       "      <th>fp3_time</th>\n",
       "      <th>race_condition_wiki</th>\n",
       "      <th>quali_condition_clean</th>\n",
       "      <th>circuitRef</th>\n",
       "      <th>location</th>\n",
       "      <th>country</th>\n",
       "      <th>alt</th>\n",
       "      <th>qualifyId</th>\n",
       "      <th>driverId</th>\n",
       "      <th>constructorId</th>\n",
       "      <th>quali_position</th>\n",
       "      <th>q1</th>\n",
       "      <th>q2</th>\n",
       "      <th>q3</th>\n",
       "      <th>resultId_x</th>\n",
       "      <th>grid_sprint</th>\n",
       "      <th>positionText_sprint</th>\n",
       "      <th>...</th>\n",
       "      <th>qualifying_SpeedI1</th>\n",
       "      <th>qualifying_SpeedI2</th>\n",
       "      <th>qualifying_SpeedFL</th>\n",
       "      <th>qualifying_SpeedST</th>\n",
       "      <th>qualifying_IsPersonalBest</th>\n",
       "      <th>qualifying_Compound</th>\n",
       "      <th>qualifying_TyreLife</th>\n",
       "      <th>qualifying_FreshTyre</th>\n",
       "      <th>qualifying_Stint</th>\n",
       "      <th>qualifying_LapStartTime</th>\n",
       "      <th>qualifying_Team</th>\n",
       "      <th>qualifying_Driver</th>\n",
       "      <th>qualifying_TrackStatus</th>\n",
       "      <th>qualifying_IsAccurate</th>\n",
       "      <th>qualifying_LapStartDate</th>\n",
       "      <th>qualifying_AirTemp</th>\n",
       "      <th>qualifying_Humidity</th>\n",
       "      <th>qualifying_Pressure</th>\n",
       "      <th>qualifying_Rainfall</th>\n",
       "      <th>qualifying_TrackTemp</th>\n",
       "      <th>qualifying_WindDirection</th>\n",
       "      <th>qualifying_WindSpeed</th>\n",
       "      <th>qualifying_Date</th>\n",
       "      <th>qualifying_SessionTime</th>\n",
       "      <th>qualifying_DriverAhead</th>\n",
       "      <th>qualifying_DistanceToDriverAhead</th>\n",
       "      <th>qualifying_Time_y</th>\n",
       "      <th>qualifying_RPM</th>\n",
       "      <th>qualifying_Speed</th>\n",
       "      <th>qualifying_nGear</th>\n",
       "      <th>qualifying_Throttle</th>\n",
       "      <th>qualifying_Brake</th>\n",
       "      <th>qualifying_DRS</th>\n",
       "      <th>qualifying_Source</th>\n",
       "      <th>qualifying_Distance</th>\n",
       "      <th>qualifying_RelativeDistance</th>\n",
       "      <th>qualifying_Status</th>\n",
       "      <th>qualifying_X</th>\n",
       "      <th>qualifying_Y</th>\n",
       "      <th>qualifying_Z</th>\n",
       "    </tr>\n",
       "  </thead>\n",
       "  <tbody>\n",
       "    <tr>\n",
       "      <th>0</th>\n",
       "      <td>1018</td>\n",
       "      <td>2019</td>\n",
       "      <td>70</td>\n",
       "      <td>Austrian Grand Prix</td>\n",
       "      <td>2019-06-30</td>\n",
       "      <td>13:10:00</td>\n",
       "      <td>NaN</td>\n",
       "      <td>NaN</td>\n",
       "      <td>NaN</td>\n",
       "      <td>NaN</td>\n",
       "      <td>47.2197</td>\n",
       "      <td>14.7647</td>\n",
       "      <td>32.733333</td>\n",
       "      <td>0.0</td>\n",
       "      <td>25.193333</td>\n",
       "      <td>27.7</td>\n",
       "      <td>0.0</td>\n",
       "      <td>32.366667</td>\n",
       "      <td>NaN</td>\n",
       "      <td>NaN</td>\n",
       "      <td>NaN</td>\n",
       "      <td>NaN</td>\n",
       "      <td>NaN</td>\n",
       "      <td>NaN</td>\n",
       "      <td>dry</td>\n",
       "      <td>dry</td>\n",
       "      <td>red_bull_ring</td>\n",
       "      <td>Spielberg</td>\n",
       "      <td>Austria</td>\n",
       "      <td>678.0</td>\n",
       "      <td>8118</td>\n",
       "      <td>844</td>\n",
       "      <td>6</td>\n",
       "      <td>1</td>\n",
       "      <td>1:04.138</td>\n",
       "      <td>1:03.378</td>\n",
       "      <td>1:03.003</td>\n",
       "      <td>NaN</td>\n",
       "      <td>NaN</td>\n",
       "      <td>NaN</td>\n",
       "      <td>...</td>\n",
       "      <td>329.0</td>\n",
       "      <td>249.0</td>\n",
       "      <td>297.0</td>\n",
       "      <td>325.0</td>\n",
       "      <td>False</td>\n",
       "      <td>MEDIUM</td>\n",
       "      <td>2.0</td>\n",
       "      <td>True</td>\n",
       "      <td>1.0</td>\n",
       "      <td>0 days 00:20:54.451000</td>\n",
       "      <td>Ferrari</td>\n",
       "      <td>LEC</td>\n",
       "      <td>1</td>\n",
       "      <td>True</td>\n",
       "      <td>2019-06-29 13:05:56.707</td>\n",
       "      <td>29.0</td>\n",
       "      <td>28.1</td>\n",
       "      <td>942.0</td>\n",
       "      <td>False</td>\n",
       "      <td>51.9</td>\n",
       "      <td>76</td>\n",
       "      <td>2.3</td>\n",
       "      <td>2019-06-29 13:05:56.707</td>\n",
       "      <td>0 days 00:20:54.451000</td>\n",
       "      <td></td>\n",
       "      <td>124.540278</td>\n",
       "      <td>0 days 00:00:00</td>\n",
       "      <td>10855.0</td>\n",
       "      <td>303.0</td>\n",
       "      <td>8.0</td>\n",
       "      <td>100.0</td>\n",
       "      <td>False</td>\n",
       "      <td>12.0</td>\n",
       "      <td>interpolation</td>\n",
       "      <td>0.140054</td>\n",
       "      <td>0.000032</td>\n",
       "      <td>OnTrack</td>\n",
       "      <td>1447.0</td>\n",
       "      <td>-1090.0</td>\n",
       "      <td>7215.0</td>\n",
       "    </tr>\n",
       "    <tr>\n",
       "      <th>1</th>\n",
       "      <td>1018</td>\n",
       "      <td>2019</td>\n",
       "      <td>70</td>\n",
       "      <td>Austrian Grand Prix</td>\n",
       "      <td>2019-06-30</td>\n",
       "      <td>13:10:00</td>\n",
       "      <td>NaN</td>\n",
       "      <td>NaN</td>\n",
       "      <td>NaN</td>\n",
       "      <td>NaN</td>\n",
       "      <td>47.2197</td>\n",
       "      <td>14.7647</td>\n",
       "      <td>32.733333</td>\n",
       "      <td>0.0</td>\n",
       "      <td>25.193333</td>\n",
       "      <td>27.7</td>\n",
       "      <td>0.0</td>\n",
       "      <td>32.366667</td>\n",
       "      <td>NaN</td>\n",
       "      <td>NaN</td>\n",
       "      <td>NaN</td>\n",
       "      <td>NaN</td>\n",
       "      <td>NaN</td>\n",
       "      <td>NaN</td>\n",
       "      <td>dry</td>\n",
       "      <td>dry</td>\n",
       "      <td>red_bull_ring</td>\n",
       "      <td>Spielberg</td>\n",
       "      <td>Austria</td>\n",
       "      <td>678.0</td>\n",
       "      <td>8118</td>\n",
       "      <td>844</td>\n",
       "      <td>6</td>\n",
       "      <td>1</td>\n",
       "      <td>1:04.138</td>\n",
       "      <td>1:03.378</td>\n",
       "      <td>1:03.003</td>\n",
       "      <td>NaN</td>\n",
       "      <td>NaN</td>\n",
       "      <td>NaN</td>\n",
       "      <td>...</td>\n",
       "      <td>329.0</td>\n",
       "      <td>249.0</td>\n",
       "      <td>297.0</td>\n",
       "      <td>325.0</td>\n",
       "      <td>False</td>\n",
       "      <td>MEDIUM</td>\n",
       "      <td>2.0</td>\n",
       "      <td>True</td>\n",
       "      <td>1.0</td>\n",
       "      <td>0 days 00:20:54.451000</td>\n",
       "      <td>Ferrari</td>\n",
       "      <td>LEC</td>\n",
       "      <td>1</td>\n",
       "      <td>True</td>\n",
       "      <td>2019-06-29 13:05:56.707</td>\n",
       "      <td>29.0</td>\n",
       "      <td>28.1</td>\n",
       "      <td>942.0</td>\n",
       "      <td>False</td>\n",
       "      <td>51.9</td>\n",
       "      <td>76</td>\n",
       "      <td>2.3</td>\n",
       "      <td>2019-06-29 13:05:56.809</td>\n",
       "      <td>0 days 00:20:54.553000</td>\n",
       "      <td></td>\n",
       "      <td>124.540278</td>\n",
       "      <td>0 days 00:00:00.102000</td>\n",
       "      <td>10878.0</td>\n",
       "      <td>304.0</td>\n",
       "      <td>8.0</td>\n",
       "      <td>100.0</td>\n",
       "      <td>False</td>\n",
       "      <td>12.0</td>\n",
       "      <td>car</td>\n",
       "      <td>8.766667</td>\n",
       "      <td>0.002019</td>\n",
       "      <td>OnTrack</td>\n",
       "      <td>1374.0</td>\n",
       "      <td>-1109.0</td>\n",
       "      <td>7215.0</td>\n",
       "    </tr>\n",
       "    <tr>\n",
       "      <th>2</th>\n",
       "      <td>1018</td>\n",
       "      <td>2019</td>\n",
       "      <td>70</td>\n",
       "      <td>Austrian Grand Prix</td>\n",
       "      <td>2019-06-30</td>\n",
       "      <td>13:10:00</td>\n",
       "      <td>NaN</td>\n",
       "      <td>NaN</td>\n",
       "      <td>NaN</td>\n",
       "      <td>NaN</td>\n",
       "      <td>47.2197</td>\n",
       "      <td>14.7647</td>\n",
       "      <td>32.733333</td>\n",
       "      <td>0.0</td>\n",
       "      <td>25.193333</td>\n",
       "      <td>27.7</td>\n",
       "      <td>0.0</td>\n",
       "      <td>32.366667</td>\n",
       "      <td>NaN</td>\n",
       "      <td>NaN</td>\n",
       "      <td>NaN</td>\n",
       "      <td>NaN</td>\n",
       "      <td>NaN</td>\n",
       "      <td>NaN</td>\n",
       "      <td>dry</td>\n",
       "      <td>dry</td>\n",
       "      <td>red_bull_ring</td>\n",
       "      <td>Spielberg</td>\n",
       "      <td>Austria</td>\n",
       "      <td>678.0</td>\n",
       "      <td>8118</td>\n",
       "      <td>844</td>\n",
       "      <td>6</td>\n",
       "      <td>1</td>\n",
       "      <td>1:04.138</td>\n",
       "      <td>1:03.378</td>\n",
       "      <td>1:03.003</td>\n",
       "      <td>NaN</td>\n",
       "      <td>NaN</td>\n",
       "      <td>NaN</td>\n",
       "      <td>...</td>\n",
       "      <td>329.0</td>\n",
       "      <td>249.0</td>\n",
       "      <td>297.0</td>\n",
       "      <td>325.0</td>\n",
       "      <td>False</td>\n",
       "      <td>MEDIUM</td>\n",
       "      <td>2.0</td>\n",
       "      <td>True</td>\n",
       "      <td>1.0</td>\n",
       "      <td>0 days 00:20:54.451000</td>\n",
       "      <td>Ferrari</td>\n",
       "      <td>LEC</td>\n",
       "      <td>1</td>\n",
       "      <td>True</td>\n",
       "      <td>2019-06-29 13:05:56.707</td>\n",
       "      <td>29.0</td>\n",
       "      <td>28.1</td>\n",
       "      <td>942.0</td>\n",
       "      <td>False</td>\n",
       "      <td>51.9</td>\n",
       "      <td>76</td>\n",
       "      <td>2.3</td>\n",
       "      <td>2019-06-29 13:05:56.952</td>\n",
       "      <td>0 days 00:20:54.696000</td>\n",
       "      <td></td>\n",
       "      <td>124.540278</td>\n",
       "      <td>0 days 00:00:00.245000</td>\n",
       "      <td>10956.0</td>\n",
       "      <td>305.0</td>\n",
       "      <td>8.0</td>\n",
       "      <td>100.0</td>\n",
       "      <td>False</td>\n",
       "      <td>12.0</td>\n",
       "      <td>pos</td>\n",
       "      <td>20.895643</td>\n",
       "      <td>0.004812</td>\n",
       "      <td>OnTrack</td>\n",
       "      <td>1272.0</td>\n",
       "      <td>-1137.0</td>\n",
       "      <td>7215.0</td>\n",
       "    </tr>\n",
       "    <tr>\n",
       "      <th>3</th>\n",
       "      <td>1018</td>\n",
       "      <td>2019</td>\n",
       "      <td>70</td>\n",
       "      <td>Austrian Grand Prix</td>\n",
       "      <td>2019-06-30</td>\n",
       "      <td>13:10:00</td>\n",
       "      <td>NaN</td>\n",
       "      <td>NaN</td>\n",
       "      <td>NaN</td>\n",
       "      <td>NaN</td>\n",
       "      <td>47.2197</td>\n",
       "      <td>14.7647</td>\n",
       "      <td>32.733333</td>\n",
       "      <td>0.0</td>\n",
       "      <td>25.193333</td>\n",
       "      <td>27.7</td>\n",
       "      <td>0.0</td>\n",
       "      <td>32.366667</td>\n",
       "      <td>NaN</td>\n",
       "      <td>NaN</td>\n",
       "      <td>NaN</td>\n",
       "      <td>NaN</td>\n",
       "      <td>NaN</td>\n",
       "      <td>NaN</td>\n",
       "      <td>dry</td>\n",
       "      <td>dry</td>\n",
       "      <td>red_bull_ring</td>\n",
       "      <td>Spielberg</td>\n",
       "      <td>Austria</td>\n",
       "      <td>678.0</td>\n",
       "      <td>8118</td>\n",
       "      <td>844</td>\n",
       "      <td>6</td>\n",
       "      <td>1</td>\n",
       "      <td>1:04.138</td>\n",
       "      <td>1:03.378</td>\n",
       "      <td>1:03.003</td>\n",
       "      <td>NaN</td>\n",
       "      <td>NaN</td>\n",
       "      <td>NaN</td>\n",
       "      <td>...</td>\n",
       "      <td>329.0</td>\n",
       "      <td>249.0</td>\n",
       "      <td>297.0</td>\n",
       "      <td>325.0</td>\n",
       "      <td>False</td>\n",
       "      <td>MEDIUM</td>\n",
       "      <td>2.0</td>\n",
       "      <td>True</td>\n",
       "      <td>1.0</td>\n",
       "      <td>0 days 00:20:54.451000</td>\n",
       "      <td>Ferrari</td>\n",
       "      <td>LEC</td>\n",
       "      <td>1</td>\n",
       "      <td>True</td>\n",
       "      <td>2019-06-29 13:05:56.707</td>\n",
       "      <td>29.0</td>\n",
       "      <td>28.1</td>\n",
       "      <td>942.0</td>\n",
       "      <td>False</td>\n",
       "      <td>51.9</td>\n",
       "      <td>76</td>\n",
       "      <td>2.3</td>\n",
       "      <td>2019-06-29 13:05:57.048</td>\n",
       "      <td>0 days 00:20:54.792000</td>\n",
       "      <td>44</td>\n",
       "      <td>124.540278</td>\n",
       "      <td>0 days 00:00:00.341000</td>\n",
       "      <td>11035.0</td>\n",
       "      <td>306.0</td>\n",
       "      <td>8.0</td>\n",
       "      <td>100.0</td>\n",
       "      <td>False</td>\n",
       "      <td>12.0</td>\n",
       "      <td>car</td>\n",
       "      <td>29.081667</td>\n",
       "      <td>0.006697</td>\n",
       "      <td>OnTrack</td>\n",
       "      <td>1204.0</td>\n",
       "      <td>-1155.0</td>\n",
       "      <td>7214.0</td>\n",
       "    </tr>\n",
       "    <tr>\n",
       "      <th>4</th>\n",
       "      <td>1018</td>\n",
       "      <td>2019</td>\n",
       "      <td>70</td>\n",
       "      <td>Austrian Grand Prix</td>\n",
       "      <td>2019-06-30</td>\n",
       "      <td>13:10:00</td>\n",
       "      <td>NaN</td>\n",
       "      <td>NaN</td>\n",
       "      <td>NaN</td>\n",
       "      <td>NaN</td>\n",
       "      <td>47.2197</td>\n",
       "      <td>14.7647</td>\n",
       "      <td>32.733333</td>\n",
       "      <td>0.0</td>\n",
       "      <td>25.193333</td>\n",
       "      <td>27.7</td>\n",
       "      <td>0.0</td>\n",
       "      <td>32.366667</td>\n",
       "      <td>NaN</td>\n",
       "      <td>NaN</td>\n",
       "      <td>NaN</td>\n",
       "      <td>NaN</td>\n",
       "      <td>NaN</td>\n",
       "      <td>NaN</td>\n",
       "      <td>dry</td>\n",
       "      <td>dry</td>\n",
       "      <td>red_bull_ring</td>\n",
       "      <td>Spielberg</td>\n",
       "      <td>Austria</td>\n",
       "      <td>678.0</td>\n",
       "      <td>8118</td>\n",
       "      <td>844</td>\n",
       "      <td>6</td>\n",
       "      <td>1</td>\n",
       "      <td>1:04.138</td>\n",
       "      <td>1:03.378</td>\n",
       "      <td>1:03.003</td>\n",
       "      <td>NaN</td>\n",
       "      <td>NaN</td>\n",
       "      <td>NaN</td>\n",
       "      <td>...</td>\n",
       "      <td>329.0</td>\n",
       "      <td>249.0</td>\n",
       "      <td>297.0</td>\n",
       "      <td>325.0</td>\n",
       "      <td>False</td>\n",
       "      <td>MEDIUM</td>\n",
       "      <td>2.0</td>\n",
       "      <td>True</td>\n",
       "      <td>1.0</td>\n",
       "      <td>0 days 00:20:54.451000</td>\n",
       "      <td>Ferrari</td>\n",
       "      <td>LEC</td>\n",
       "      <td>1</td>\n",
       "      <td>True</td>\n",
       "      <td>2019-06-29 13:05:56.707</td>\n",
       "      <td>29.0</td>\n",
       "      <td>28.1</td>\n",
       "      <td>942.0</td>\n",
       "      <td>False</td>\n",
       "      <td>51.9</td>\n",
       "      <td>76</td>\n",
       "      <td>2.3</td>\n",
       "      <td>2019-06-29 13:05:57.252</td>\n",
       "      <td>0 days 00:20:54.996000</td>\n",
       "      <td>44</td>\n",
       "      <td>124.656944</td>\n",
       "      <td>0 days 00:00:00.545000</td>\n",
       "      <td>11068.0</td>\n",
       "      <td>308.0</td>\n",
       "      <td>8.0</td>\n",
       "      <td>100.0</td>\n",
       "      <td>False</td>\n",
       "      <td>12.0</td>\n",
       "      <td>pos</td>\n",
       "      <td>46.626791</td>\n",
       "      <td>0.010737</td>\n",
       "      <td>OnTrack</td>\n",
       "      <td>1060.0</td>\n",
       "      <td>-1194.0</td>\n",
       "      <td>7214.0</td>\n",
       "    </tr>\n",
       "  </tbody>\n",
       "</table>\n",
       "<p>5 rows × 126 columns</p>\n",
       "</div>"
      ],
      "text/plain": [
       "   raceId  year  circuitId  ... qualifying_X qualifying_Y qualifying_Z\n",
       "0    1018  2019         70  ...       1447.0      -1090.0       7215.0\n",
       "1    1018  2019         70  ...       1374.0      -1109.0       7215.0\n",
       "2    1018  2019         70  ...       1272.0      -1137.0       7215.0\n",
       "3    1018  2019         70  ...       1204.0      -1155.0       7214.0\n",
       "4    1018  2019         70  ...       1060.0      -1194.0       7214.0\n",
       "\n",
       "[5 rows x 126 columns]"
      ]
     },
     "execution_count": 18,
     "metadata": {},
     "output_type": "execute_result"
    }
   ],
   "source": [
    "#combined_2019_data.head()"
   ]
  },
  {
   "cell_type": "markdown",
   "metadata": {},
   "source": [
    "Concatonate the 2018 and 2019 data together"
   ]
  },
  {
   "cell_type": "code",
   "execution_count": null,
   "metadata": {},
   "outputs": [],
   "source": [
    "#combined_telemetry_data=pd.concat([combined_2018_data,combined_2019_data])"
   ]
  },
  {
   "cell_type": "markdown",
   "metadata": {},
   "source": [
    "Save the intermediate product"
   ]
  },
  {
   "cell_type": "code",
   "execution_count": null,
   "metadata": {},
   "outputs": [],
   "source": [
    "#combined_telemetry_data.to_pickle('./data/clean/years_18_19_telemetry_subsetcircuits_data.pkl',compression='gzip')"
   ]
  },
  {
   "cell_type": "markdown",
   "metadata": {},
   "source": [
    "## Telemetry Data Inspection & Cleaning:\n",
    "<a id=\"inspect\"></a>\n",
    "\n",
    "In this section the sample database is inspected and cleaned ready for feature aggreagtions and EDA."
   ]
  },
  {
   "cell_type": "markdown",
   "metadata": {},
   "source": [
    "### Data Dictionary:\n",
    "What is the data dictionary of the combined data set?\n",
    "\n",
    "\n",
    "- `raceId`(float) : id of the race linked to Ergast database\n",
    "- `year` (float) : year of the Grand Prix\n",
    "- `circuitId` (float): id of the circuit\n",
    "- `name` (float) : name of the Grand Prix\n",
    "- `date` (float) : date of the qualifying session\n",
    "- `time` (float) : Time of the qualifying session\n",
    "- `quali_date` (object) : Date of qualifying\n",
    "- `quali_time` (object) : Time of qualifying\n",
    "- `sprint_date` (object) : Date of the sprint race if run\n",
    "- `sprint_time` (object) : Time of the sprint race if run\n",
    "- `lat_x` (float) : Latitude of the circuit\n",
    "- `lng_x` (float) : Longitude of the circuit\n",
    "- `race_temp` (float) : race temperature from weather api\n",
    "- `race_precip` (float) : race precipitation from weather api\n",
    "- `race_humidity` (float) : race humidity from weather api\n",
    "- `quali_temp` (float) : qualifying temperature from weather api\n",
    "- `quali_precip` (float) : qualifying precipitation from weather api\n",
    "- `quali_humidity` (float) : qualifying precipitation from weather api\n",
    "- `fp1_date` (object) : Date of free practice 1\n",
    "- `fp1_time` (object) : Time of free practice 1\n",
    "- `fp2_date`(object) : Date of free practice 2\n",
    "- `fp2_time` (object) : Time of free practice 2\n",
    "- `fp3_date`(object) : Date of free practice 3\n",
    "- `fp3_time` (object) : Time of free practice 3\n",
    "- `race_condition_wiki` (object) : Race condition from Wikipedia\n",
    "- `quali_condition_clean` (object) : Qualifying condition from weather API\n",
    "- `circuitRef` (object) : circuit name\n",
    "- `location` (object) : Location of circuit\n",
    "- `country` (object) : country name\n",
    "- `alt` (float) : altitude of the circuit\n",
    "- `qualifyId` (float) : id of qualifying session\n",
    "- `driverId` (float) : Driver Id number\n",
    "- `constructorId` (float) : Team Id number\n",
    "- `quali_position` (float) : position of qualifying\n",
    "- `q1` (object) : Best lap time in Q1 in minutes and seconds. \n",
    "- `q2` (object) : Best lap time in Q2 in minutes and seconds, if drivers are knocked out of Q1 recorded as NaN\n",
    "- `q3` (object) : Best lap time in Q3 in minutes and seconds, if drivers are knocked out of Q2 recorded as NaN\n",
    "- `resultId_x` (float): Race result Id\n",
    "- `grid_sprint` (float) : Grid position for Sprint race if it occurs\n",
    "- `positionText_sprint` (object) : Race position for Sprint race if it occurs as category\n",
    "- `positionOrder_sprint` (float) : Race position for Sprint race if it occurs\n",
    "- `points_sprint` (float) : Points awarded for sprint race\n",
    "- `laps_sprint` (float) : number of laps completed in sprint race\n",
    "- `milliseconds_sprint` (float) : time taken to complete sprint race\n",
    "- `fastestLap_sprint` (float) : lap number of fastest lap in the sprint race\n",
    "- `fastestLapTime_sprint` (float) : fastest lap time for that driver in the sprint race\n",
    "- `status_sprint` (object) : status, finished, retired or crashed\n",
    "- `resultId_y` (float) : result id for the final race\n",
    "- `grid` (float) : grid position for race after penalities\n",
    "- `positionText` (object) : Race position as category\n",
    "- `positionOrder`(float) : position of race\n",
    "- `points` (float) : points from race\n",
    "- `laps` (float) : number of laps completed in the race\n",
    "- `milliseconds` (float) : time taken to complete the race\n",
    "- `fastestLap` (float) : lap number of fastest lap in the race\n",
    "- `rank` (float) : rank of fastest laps \n",
    "- `fastestLapTime` (float) : fastest lap time of driver in race\n",
    "- `fastestLapSpeed` (float) : average speed on fastest lap time in the race\n",
    "- `status` (object) : status, finished, retired or crashed\n",
    "- `driverStandingsId` (float) : driver Id for overal points standing\n",
    "- `points_drivers` (float): cumulative points of the season\n",
    "- `position_drivers` (float): position in drivers season standing after the race\n",
    "- `wins_drivers` (float) : number of wins that season\n",
    "- `constructorStandingsId`\n",
    "- `points_constructors` (float) : number of points the constructors have in the standings\n",
    "- `position_constructors` (float) : position in constructors standings after the race\n",
    "- `wins_constructors` (float) : number of constructors wins that season\n",
    "- `points_constructor_ind_races` (float) : points gained in that race constructors\n",
    "- `driverRef` (object) : Name of driver\n",
    "- `number` (object) : number assinged to the driver that goes on the car. e.g. Hamilton 44\n",
    "- `dob` (object) : Date of Birth of driver\n",
    "- `nationality_drivers` (object) : Nationality of driver\n",
    "- `constructorRef` (object) : Constructor name\n",
    "- `nationality_constructors` (object) : Nationality of constructors\n",
    "- `qualifying_lapId` (float) : Id of individual lap \n",
    "- `qualifying_end_lap_sessiontime` (pandas.Timedelta): Session time when the lap time was set (end of lap) \n",
    "- `qualifying_DriverNumber` (object) : Driver number\n",
    "- `qualifying_LapTime` (pandas.Timedelta): Recorded lap time. \n",
    "- `qualifying_Sector1Time` (pandas.Timedelta): Sector 1 recorded time\n",
    "- `qualifying_Sector2Time` (pandas.Timedelta): Sector 2 recorded time\n",
    "- `qualifying_Sector3Time` (pandas.Timedelta): Sector 3 recorded time\n",
    "- `qualifying_LapNumber` Recorded lap number\n",
    "- `qualifying_SpeedI1` (float): Speedtrap sector 1 [km/h]\n",
    "- `qualifying_SpeedI2`(float): Speedtrap sector 2 [km/h]\n",
    "- `qualifying_SpeedFL` (float): Speedtrap at finish line [km/h]\n",
    "- `qualifying_SpeedST`(float): Speedtrap on longest straight (Not sure) [km/h]\n",
    "- `qualifying_IsPersonalBest` (bool) : Flag that indicates whether this lap is the official personal best lap of a driver. If any lap of a driver is quicker than their respective personal best lap, this means that the quicker lap is invalid and not counted. This can happen it the track limits were execeeded, for example.\n",
    "- `qualifying_Compound` (object): Tyres event specific compound name: SOFT, MEDIUM, HARD, INTERMEDIATE, WET (the actual underlying compounds C1 to C5 are not differentiated).\n",
    "- `qualifying_TyreLife` (float): Laps driven on this tire (includes laps in other sessions for used sets of tires)\n",
    "- `qualifying_FreshTyre` (bool): Tyre had TyreLife=0 at stint start, i.e. was a new tire\n",
    "- `qualifying_Stint` (int): Stint number\n",
    "- `qualifying_TrackStatus` A string that contains track status numbers for all track status that occurred during this lap. ‘1’: Track clear (beginning of session ot to indicate the end of another status)\n",
    "‘2’: Yellow flag (sectors are unknown)\n",
    "‘4’: Safety Car\n",
    "‘5’: Red Flag\n",
    "‘6’: Virtual Safety Car deployed\n",
    "‘7’: Virtual Safety Car ending \n",
    "- `qualifying_IsAccurate`(bool) Indicates that the lap start and end time are synced correctly with other laps. \n",
    "- `qualifying_LapStartDate` : (pandas.datetime): Timestamp at the start of the lap\n",
    "- `qualifying_AirTemp` (float): Air temperature [°C]\n",
    "- `qualifying_Humidity` (float): Relative humidity [%]\n",
    "- `qualifying_Pressure` (float): Air pressure [mbar]\n",
    "- `qualifying_Rainfall` (bool): Shows if there is rainfall \n",
    "- `qualifying_TrackTemp`  (float): Track temperature [°C]\n",
    "- `qualifying_WindDirection` (int): Wind direction [°] (0°-359°)\n",
    "- `qualifying_WindSpeed` (float): Wind speed [km/h]\n",
    "- `qualifying_DistanceToDriverAhead` Distance to driver ahead  \n",
    "- `qualifying_lap_timedelta` : (timedelta): Time (0 is start of the data slice)\n",
    "- `qualifying_RPM` (int): Car RPM\n",
    "- `qualifying_Speed` (float): Car speed [km/h]\n",
    "- `qualifying_nGear`(int): Car gear number\n",
    "- `qualifying_Throttle`(float): 0-100 Throttle pedal pressure [%]\n",
    "- `qualifying_Brake`(bool): Brakes are applied or not.\n",
    "- `qualifying_DRS`(int): DRS indicator 0 = Off\n",
    "1 = Off\n",
    "2 = (?)\n",
    "3 = (?)\n",
    "8 = Detected, Eligible once in Activation Zone (Noted Sometimes)\n",
    "10 = On (Unknown Distinction)\n",
    "12 = On (Unknown Distinction)\n",
    "14 = On (Unknown Distinction)\n",
    "- `qualifying_Source` (str): Flag indicating how this sample was created:\n",
    "‘car’: sample from original api car data\n",
    "‘pos’: sample from original api position data\n",
    "‘interpolated’: this sample was artificially created; all values are computed/interpolated\n",
    "- `qualifying_Distance` Distance driven between two samples\n",
    "- `qualifying_RelativeDistance` distance driven since the first sampl\n",
    "- `qualifying_Status` Flag - OffTrack/OnTrack \n",
    "- `qualifying_X` X position [1/10 m]\n",
    "- `qualifying_Y` Y position [1/10 m]\n",
    "- `qualifying_Z` Z position [1/10 m]\n",
    "- `fastest_lap_milliseconds` (float) offical qualifying time in milliseconds\n",
    "- `age` (float) age of driver\n",
    "\n"
   ]
  },
  {
   "cell_type": "code",
   "execution_count": 16,
   "metadata": {},
   "outputs": [],
   "source": [
    "# read database\n",
    "combined_telemetry_data=pd.read_pickle('./data/clean/years_18_19_telemetry_subsetcircuits_data.pkl',compression='gzip')"
   ]
  },
  {
   "cell_type": "code",
   "execution_count": 3,
   "metadata": {},
   "outputs": [
    {
     "name": "stdout",
     "output_type": "stream",
     "text": [
      "This dataframe has 21719605 NaN values\n",
      " The NaN values come from: ['quali_date', 'quali_time', 'sprint_date', 'sprint_time', 'fp1_date', 'fp1_time', 'fp2_date', 'fp2_time', 'fp3_date', 'fp3_time', 'q1', 'q2', 'q3', 'resultId_x', 'grid_sprint', 'positionText_sprint', 'positionOrder_sprint', 'points_sprint', 'laps_sprint', 'milliseconds_sprint', 'fastestLap_sprint', 'fastestLapTime_sprint', 'status_sprint', 'milliseconds', 'fastestLap', 'fastestLapTime', 'fastestLapSpeed', 'qualifying_lapId', 'qualifying_Time_x', 'qualifying_DriverNumber', 'qualifying_LapTime', 'qualifying_LapNumber', 'qualifying_Sector1Time', 'qualifying_Sector2Time', 'qualifying_Sector3Time', 'qualifying_Sector1SessionTime', 'qualifying_Sector2SessionTime', 'qualifying_Sector3SessionTime', 'qualifying_SpeedI1', 'qualifying_SpeedI2', 'qualifying_SpeedFL', 'qualifying_SpeedST', 'qualifying_IsPersonalBest', 'qualifying_Compound', 'qualifying_TyreLife', 'qualifying_FreshTyre', 'qualifying_Stint', 'qualifying_LapStartTime', 'qualifying_Team', 'qualifying_Driver', 'qualifying_TrackStatus', 'qualifying_IsAccurate', 'qualifying_LapStartDate', 'qualifying_AirTemp', 'qualifying_Humidity', 'qualifying_Pressure', 'qualifying_Rainfall', 'qualifying_TrackTemp', 'qualifying_WindDirection', 'qualifying_WindSpeed', 'qualifying_Date', 'qualifying_SessionTime', 'qualifying_DriverAhead', 'qualifying_DistanceToDriverAhead', 'qualifying_Time_y', 'qualifying_RPM', 'qualifying_Speed', 'qualifying_nGear', 'qualifying_Throttle', 'qualifying_Brake', 'qualifying_DRS', 'qualifying_Source', 'qualifying_Distance', 'qualifying_RelativeDistance', 'qualifying_Status', 'qualifying_X', 'qualifying_Y', 'qualifying_Z']. \n",
      "\t These ['quali_date', 'quali_time', 'sprint_date', 'sprint_time', 'fp1_date', 'fp1_time', 'fp2_date', 'fp2_time', 'fp3_date', 'fp3_time', 'resultId_x', 'grid_sprint', 'positionText_sprint', 'positionOrder_sprint', 'points_sprint', 'laps_sprint', 'milliseconds_sprint', 'fastestLap_sprint', 'fastestLapTime_sprint', 'status_sprint', 'milliseconds'] columns have > 50% NaNs\n"
     ]
    }
   ],
   "source": [
    "ds_ultils.nan_checker(combined_telemetry_data)"
   ]
  },
  {
   "cell_type": "markdown",
   "metadata": {},
   "source": [
    "Database has a lot of NaN values to understand. Most come from the sprint and free practice result sections. This is because sprint races were a concept only introduced recently and only occur once or twice a season. Therefore we can remove these columns as they are not useful to us.\n",
    "\n",
    "In addittion the free practice time and data we will not use in this analysis so that is not an issue."
   ]
  },
  {
   "cell_type": "code",
   "execution_count": 4,
   "metadata": {},
   "outputs": [
    {
     "data": {
      "text/plain": [
       "0          2018-06-30 13:03:47.133\n",
       "1          2018-06-30 13:03:47.133\n",
       "2          2018-06-30 13:03:47.133\n",
       "3          2018-06-30 13:03:47.133\n",
       "4          2018-06-30 13:03:47.133\n",
       "                    ...           \n",
       "1018653    2019-05-11 13:16:36.564\n",
       "1018654    2019-05-11 13:16:36.564\n",
       "1018655    2019-05-11 13:16:36.564\n",
       "1018656    2019-05-11 13:16:36.564\n",
       "1018657    2019-05-11 13:16:36.564\n",
       "Name: qualifying_LapStartDate, Length: 1018658, dtype: object"
      ]
     },
     "execution_count": 4,
     "metadata": {},
     "output_type": "execute_result"
    }
   ],
   "source": [
    "combined_telemetry_data['qualifying_LapStartDate']"
   ]
  },
  {
   "cell_type": "markdown",
   "metadata": {},
   "source": [
    "For 2018 and 2019 there was no sprint races,so we can drop those columns. In addittion the date and time of the qualifying can be dropped since we have the same data replicated per lap in the telemetry data.\n"
   ]
  },
  {
   "cell_type": "code",
   "execution_count": 5,
   "metadata": {},
   "outputs": [],
   "source": [
    "qualifying_data_clean = combined_telemetry_data.copy()"
   ]
  },
  {
   "cell_type": "code",
   "execution_count": 6,
   "metadata": {},
   "outputs": [],
   "source": [
    "qualifying_data_clean.drop(columns=['quali_date', 'quali_time', 'sprint_date',\n",
    " 'sprint_time', 'fp1_date', 'fp1_time', 'fp2_date', 'fp2_time', 'fp3_date', \n",
    " 'fp3_time', 'grid_sprint', 'positionText_sprint', 'positionOrder_sprint', \n",
    " 'points_sprint', 'laps_sprint', 'milliseconds_sprint', 'fastestLap_sprint', \n",
    " 'fastestLapTime_sprint', 'status_sprint'],axis=1,inplace=True)"
   ]
  },
  {
   "cell_type": "code",
   "execution_count": 7,
   "metadata": {},
   "outputs": [
    {
     "data": {
      "text/plain": [
       "1.0"
      ]
     },
     "execution_count": 7,
     "metadata": {},
     "output_type": "execute_result"
    }
   ],
   "source": [
    "(qualifying_data_clean['resultId_x'].isna()).sum()/len(qualifying_data_clean)\n",
    "#resultID is for the sprint races with no results so it is all nan's - we can drop columns"
   ]
  },
  {
   "cell_type": "code",
   "execution_count": 8,
   "metadata": {},
   "outputs": [],
   "source": [
    "qualifying_data_clean.drop(columns='resultId_x',axis=1,inplace=True)"
   ]
  },
  {
   "cell_type": "markdown",
   "metadata": {},
   "source": [
    "We are focusing on predicting qualifying performance for specific, drivers, cars and circuits. Therefore we can remove data on the race for this analysis."
   ]
  },
  {
   "cell_type": "code",
   "execution_count": 9,
   "metadata": {},
   "outputs": [
    {
     "data": {
      "text/plain": [
       "0.5199615572645578"
      ]
     },
     "execution_count": 9,
     "metadata": {},
     "output_type": "execute_result"
    }
   ],
   "source": [
    "qualifying_data_clean['milliseconds'].isna().sum()/len(qualifying_data_clean)"
   ]
  },
  {
   "cell_type": "code",
   "execution_count": 10,
   "metadata": {},
   "outputs": [],
   "source": [
    "qualifying_data_clean.drop(columns=['laps',\n",
    " 'milliseconds',\n",
    " 'fastestLap',\n",
    " 'rank',\n",
    " 'fastestLapTime',\n",
    " 'fastestLapSpeed',\n",
    " 'status'],axis=1,inplace=True)"
   ]
  },
  {
   "cell_type": "markdown",
   "metadata": {},
   "source": [
    "Since we have detailed weather conditions information for each lap from the telemetry we can remove weather condition information we collected previously as this is a duplicate."
   ]
  },
  {
   "cell_type": "code",
   "execution_count": 11,
   "metadata": {},
   "outputs": [],
   "source": [
    "qualifying_data_clean.drop(columns=['race_temp',\n",
    " 'race_precip',\n",
    " 'race_humidity',\n",
    " 'quali_temp',\n",
    " 'quali_precip',\n",
    " 'quali_humidity',\n",
    " 'race_condition_wiki',\n",
    " 'quali_condition_clean'],axis=1,inplace=True)"
   ]
  },
  {
   "cell_type": "code",
   "execution_count": 12,
   "metadata": {},
   "outputs": [
    {
     "name": "stdout",
     "output_type": "stream",
     "text": [
      "The number of unqiue circuit ref matches the circuitId : True\n",
      "The number of unqiue Driver ref matches the driverId : True\n",
      "The number of unqiue constructor ref matches the constructorId : True\n"
     ]
    }
   ],
   "source": [
    "print('The number of unqiue circuit ref matches the circuitId :',len(qualifying_data_clean.circuitId.unique()) == len(qualifying_data_clean.circuitRef.unique()))\n",
    "print('The number of unqiue Driver ref matches the driverId :',len(qualifying_data_clean.driverId.unique()) == len(qualifying_data_clean.driverRef.unique()))\n",
    "print('The number of unqiue constructor ref matches the constructorId :',len(qualifying_data_clean.constructorId.unique()) == len(qualifying_data_clean.constructorRef.unique()))\n"
   ]
  },
  {
   "cell_type": "code",
   "execution_count": 13,
   "metadata": {},
   "outputs": [],
   "source": [
    "qualifying_data_clean.drop(columns=['circuitId','driverId','constructorId'],axis=1,inplace=True)"
   ]
  },
  {
   "cell_type": "markdown",
   "metadata": {},
   "source": [
    "The other id's for result, driver standinds constructor standings can be now dropped as we have successfully merged the data and kept unique entries for driver, car and circuit combinations"
   ]
  },
  {
   "cell_type": "code",
   "execution_count": 14,
   "metadata": {},
   "outputs": [],
   "source": [
    "qualifying_data_clean.drop(columns=['resultId_y',\n",
    "'driverStandingsId',\n",
    "'constructorStandingsId',\n",
    "'constructorResultsId'],axis=1,inplace=True)"
   ]
  },
  {
   "cell_type": "markdown",
   "metadata": {},
   "source": [
    "## Cleaning Qualifying Times\n",
    "<a id=\"qualitimes\"></a>\n",
    "\n",
    "Qualifying is when the drivers go out to complete their fastest times around one lap of the circuit. The order of these poisitions defines the start order for the race. Hence it is very important to do well in qualifying.\n",
    "\n",
    "Qualifying is split into 3 sessions:\n",
    "- Q1 ( session 1)\n",
    "- Q2 (session 2)\n",
    "- Q3 (session 3)\n",
    "\n",
    "In Q1, the drivers have an allotated time to complete their fastest time, the bottom 5 drivers on the score sheet then are knocked out and do not proceed to Q2. They will start in their order 15-20.\n",
    "\n",
    "In Q2, the drivers have another period of time to complete their fastest times on a blank slate (ignoring Q1 times). Tbe bottom 5 drivers are thne knocked out and do not proceed to Q3\n",
    "\n",
    "in Q3, the top ten drivers have a time period to go out and set their fastest time in this sessions (previous times ignored) to define the starting order for the top ten.\n",
    "\n",
    "In our database since its only q1 that all the drivers complete a time in. We have NaN values in Q2 and Q3.\n",
    "\n",
    "We will have to merge all the times into one column. We will do this by keeping the Q3 times which are usually the fastest, and then add the next 5 drivers with their Q2 times and the last 5 drivers with their Q1 drivers.\n",
    "\n",
    "\n",
    "Are there any q1 nans?"
   ]
  },
  {
   "cell_type": "code",
   "execution_count": 15,
   "metadata": {},
   "outputs": [
    {
     "data": {
      "text/plain": [
       "0.00019633674893830905"
      ]
     },
     "execution_count": 15,
     "metadata": {},
     "output_type": "execute_result"
    }
   ],
   "source": [
    "((qualifying_data_clean['q1'].isna()).sum()/len(qualifying_data_clean))*100"
   ]
  },
  {
   "cell_type": "code",
   "execution_count": 17,
   "metadata": {},
   "outputs": [
    {
     "data": {
      "text/html": [
       "<div>\n",
       "<style scoped>\n",
       "    .dataframe tbody tr th:only-of-type {\n",
       "        vertical-align: middle;\n",
       "    }\n",
       "\n",
       "    .dataframe tbody tr th {\n",
       "        vertical-align: top;\n",
       "    }\n",
       "\n",
       "    .dataframe thead th {\n",
       "        text-align: right;\n",
       "    }\n",
       "</style>\n",
       "<table border=\"1\" class=\"dataframe\">\n",
       "  <thead>\n",
       "    <tr style=\"text-align: right;\">\n",
       "      <th></th>\n",
       "      <th>raceId</th>\n",
       "      <th>year</th>\n",
       "      <th>name</th>\n",
       "      <th>date</th>\n",
       "      <th>time</th>\n",
       "      <th>lat_x</th>\n",
       "      <th>lng_x</th>\n",
       "      <th>circuitRef</th>\n",
       "      <th>location</th>\n",
       "      <th>country</th>\n",
       "      <th>...</th>\n",
       "      <th>qualifying_Throttle</th>\n",
       "      <th>qualifying_Brake</th>\n",
       "      <th>qualifying_DRS</th>\n",
       "      <th>qualifying_Source</th>\n",
       "      <th>qualifying_Distance</th>\n",
       "      <th>qualifying_RelativeDistance</th>\n",
       "      <th>qualifying_Status</th>\n",
       "      <th>qualifying_X</th>\n",
       "      <th>qualifying_Y</th>\n",
       "      <th>qualifying_Z</th>\n",
       "    </tr>\n",
       "  </thead>\n",
       "  <tbody>\n",
       "    <tr>\n",
       "      <th>426623</th>\n",
       "      <td>994</td>\n",
       "      <td>2018</td>\n",
       "      <td>Monaco Grand Prix</td>\n",
       "      <td>2018-05-27</td>\n",
       "      <td>13:10:00</td>\n",
       "      <td>43.7347</td>\n",
       "      <td>7.42056</td>\n",
       "      <td>monaco</td>\n",
       "      <td>Monte-Carlo</td>\n",
       "      <td>Monaco</td>\n",
       "      <td>...</td>\n",
       "      <td>NaN</td>\n",
       "      <td>NaN</td>\n",
       "      <td>NaN</td>\n",
       "      <td>NaN</td>\n",
       "      <td>NaN</td>\n",
       "      <td>NaN</td>\n",
       "      <td>NaN</td>\n",
       "      <td>NaN</td>\n",
       "      <td>NaN</td>\n",
       "      <td>NaN</td>\n",
       "    </tr>\n",
       "    <tr>\n",
       "      <th>549162</th>\n",
       "      <td>993</td>\n",
       "      <td>2018</td>\n",
       "      <td>Spanish Grand Prix</td>\n",
       "      <td>2018-05-13</td>\n",
       "      <td>13:10:00</td>\n",
       "      <td>41.5700</td>\n",
       "      <td>2.26111</td>\n",
       "      <td>catalunya</td>\n",
       "      <td>Montmeló</td>\n",
       "      <td>Spain</td>\n",
       "      <td>...</td>\n",
       "      <td>NaN</td>\n",
       "      <td>NaN</td>\n",
       "      <td>NaN</td>\n",
       "      <td>NaN</td>\n",
       "      <td>NaN</td>\n",
       "      <td>NaN</td>\n",
       "      <td>NaN</td>\n",
       "      <td>NaN</td>\n",
       "      <td>NaN</td>\n",
       "      <td>NaN</td>\n",
       "    </tr>\n",
       "  </tbody>\n",
       "</table>\n",
       "<p>2 rows × 84 columns</p>\n",
       "</div>"
      ],
      "text/plain": [
       "        raceId  year                name        date      time    lat_x  \\\n",
       "426623     994  2018   Monaco Grand Prix  2018-05-27  13:10:00  43.7347   \n",
       "549162     993  2018  Spanish Grand Prix  2018-05-13  13:10:00  41.5700   \n",
       "\n",
       "          lng_x circuitRef     location country  ...  qualifying_Throttle  \\\n",
       "426623  7.42056     monaco  Monte-Carlo  Monaco  ...                  NaN   \n",
       "549162  2.26111  catalunya     Montmeló   Spain  ...                  NaN   \n",
       "\n",
       "        qualifying_Brake  qualifying_DRS qualifying_Source  \\\n",
       "426623               NaN             NaN               NaN   \n",
       "549162               NaN             NaN               NaN   \n",
       "\n",
       "       qualifying_Distance qualifying_RelativeDistance  qualifying_Status  \\\n",
       "426623                 NaN                         NaN                NaN   \n",
       "549162                 NaN                         NaN                NaN   \n",
       "\n",
       "       qualifying_X  qualifying_Y  qualifying_Z  \n",
       "426623          NaN           NaN           NaN  \n",
       "549162          NaN           NaN           NaN  \n",
       "\n",
       "[2 rows x 84 columns]"
      ]
     },
     "execution_count": 17,
     "metadata": {},
     "output_type": "execute_result"
    }
   ],
   "source": [
    "qualifying_data_clean[qualifying_data_clean['q1'].isna()]"
   ]
  },
  {
   "cell_type": "markdown",
   "metadata": {},
   "source": [
    "These two entries have NaN values for Q1 and the whole database, therefore we have no data for these drivers and hence will have to drop. It is only a small portion of the data."
   ]
  },
  {
   "cell_type": "code",
   "execution_count": 18,
   "metadata": {},
   "outputs": [],
   "source": [
    "qualifying_data_clean = qualifying_data_clean[qualifying_data_clean.index.isin(qualifying_data_clean['q1'].dropna().index)]"
   ]
  },
  {
   "cell_type": "code",
   "execution_count": 19,
   "metadata": {},
   "outputs": [],
   "source": [
    "#make np.NaN floats strings for conversion to milliseconds\n",
    "qualifying_data_clean['q2'].fillna('nan',inplace=True)\n",
    "qualifying_data_clean['q3'].fillna('nan',inplace=True)"
   ]
  },
  {
   "cell_type": "markdown",
   "metadata": {},
   "source": [
    "Convert the object times into floats of lap times in milliseconds:"
   ]
  },
  {
   "cell_type": "code",
   "execution_count": 20,
   "metadata": {},
   "outputs": [],
   "source": [
    "qualifying_data_clean['q1_milliseconds']=qualifying_data_clean['q1'].apply(convert_time_miliseconds)"
   ]
  },
  {
   "cell_type": "code",
   "execution_count": 21,
   "metadata": {},
   "outputs": [],
   "source": [
    "qualifying_data_clean['q2_milliseconds']=qualifying_data_clean['q2'].apply(convert_time_miliseconds)\n",
    "qualifying_data_clean['q3_milliseconds']=qualifying_data_clean['q3'].apply(convert_time_miliseconds)"
   ]
  },
  {
   "cell_type": "markdown",
   "metadata": {},
   "source": [
    "Function takes the Q3 times, adds the next 5 from Q2 and bottom 5 from Q1."
   ]
  },
  {
   "cell_type": "code",
   "execution_count": 22,
   "metadata": {},
   "outputs": [],
   "source": [
    "qualifying_data_clean=clean_q3_times(qualifying_data_clean,'q1_milliseconds','q2_milliseconds','q3_milliseconds','fastest_lap_milliseconds')"
   ]
  },
  {
   "cell_type": "code",
   "execution_count": 23,
   "metadata": {},
   "outputs": [
    {
     "data": {
      "text/html": [
       "<div>\n",
       "<style scoped>\n",
       "    .dataframe tbody tr th:only-of-type {\n",
       "        vertical-align: middle;\n",
       "    }\n",
       "\n",
       "    .dataframe tbody tr th {\n",
       "        vertical-align: top;\n",
       "    }\n",
       "\n",
       "    .dataframe thead th {\n",
       "        text-align: right;\n",
       "    }\n",
       "</style>\n",
       "<table border=\"1\" class=\"dataframe\">\n",
       "  <thead>\n",
       "    <tr style=\"text-align: right;\">\n",
       "      <th></th>\n",
       "      <th>fastest_lap_milliseconds</th>\n",
       "      <th>q1_milliseconds</th>\n",
       "      <th>q2_milliseconds</th>\n",
       "      <th>q3_milliseconds</th>\n",
       "      <th>q1</th>\n",
       "      <th>q2</th>\n",
       "      <th>q3</th>\n",
       "    </tr>\n",
       "  </thead>\n",
       "  <tbody>\n",
       "    <tr>\n",
       "      <th>0</th>\n",
       "      <td>63130.0</td>\n",
       "      <td>64175.0</td>\n",
       "      <td>63756.0</td>\n",
       "      <td>63130.0</td>\n",
       "      <td>1:04.175</td>\n",
       "      <td>1:03.756</td>\n",
       "      <td>1:03.130</td>\n",
       "    </tr>\n",
       "    <tr>\n",
       "      <th>1</th>\n",
       "      <td>63130.0</td>\n",
       "      <td>64175.0</td>\n",
       "      <td>63756.0</td>\n",
       "      <td>63130.0</td>\n",
       "      <td>1:04.175</td>\n",
       "      <td>1:03.756</td>\n",
       "      <td>1:03.130</td>\n",
       "    </tr>\n",
       "    <tr>\n",
       "      <th>2</th>\n",
       "      <td>63130.0</td>\n",
       "      <td>64175.0</td>\n",
       "      <td>63756.0</td>\n",
       "      <td>63130.0</td>\n",
       "      <td>1:04.175</td>\n",
       "      <td>1:03.756</td>\n",
       "      <td>1:03.130</td>\n",
       "    </tr>\n",
       "    <tr>\n",
       "      <th>3</th>\n",
       "      <td>63130.0</td>\n",
       "      <td>64175.0</td>\n",
       "      <td>63756.0</td>\n",
       "      <td>63130.0</td>\n",
       "      <td>1:04.175</td>\n",
       "      <td>1:03.756</td>\n",
       "      <td>1:03.130</td>\n",
       "    </tr>\n",
       "    <tr>\n",
       "      <th>4</th>\n",
       "      <td>63130.0</td>\n",
       "      <td>64175.0</td>\n",
       "      <td>63756.0</td>\n",
       "      <td>63130.0</td>\n",
       "      <td>1:04.175</td>\n",
       "      <td>1:03.756</td>\n",
       "      <td>1:03.130</td>\n",
       "    </tr>\n",
       "    <tr>\n",
       "      <th>...</th>\n",
       "      <td>...</td>\n",
       "      <td>...</td>\n",
       "      <td>...</td>\n",
       "      <td>...</td>\n",
       "      <td>...</td>\n",
       "      <td>...</td>\n",
       "      <td>...</td>\n",
       "    </tr>\n",
       "    <tr>\n",
       "      <th>1018653</th>\n",
       "      <td>80254.0</td>\n",
       "      <td>80254.0</td>\n",
       "      <td>NaN</td>\n",
       "      <td>NaN</td>\n",
       "      <td>1:20.254</td>\n",
       "      <td>nan</td>\n",
       "      <td>nan</td>\n",
       "    </tr>\n",
       "    <tr>\n",
       "      <th>1018654</th>\n",
       "      <td>80254.0</td>\n",
       "      <td>80254.0</td>\n",
       "      <td>NaN</td>\n",
       "      <td>NaN</td>\n",
       "      <td>1:20.254</td>\n",
       "      <td>nan</td>\n",
       "      <td>nan</td>\n",
       "    </tr>\n",
       "    <tr>\n",
       "      <th>1018655</th>\n",
       "      <td>80254.0</td>\n",
       "      <td>80254.0</td>\n",
       "      <td>NaN</td>\n",
       "      <td>NaN</td>\n",
       "      <td>1:20.254</td>\n",
       "      <td>nan</td>\n",
       "      <td>nan</td>\n",
       "    </tr>\n",
       "    <tr>\n",
       "      <th>1018656</th>\n",
       "      <td>80254.0</td>\n",
       "      <td>80254.0</td>\n",
       "      <td>NaN</td>\n",
       "      <td>NaN</td>\n",
       "      <td>1:20.254</td>\n",
       "      <td>nan</td>\n",
       "      <td>nan</td>\n",
       "    </tr>\n",
       "    <tr>\n",
       "      <th>1018657</th>\n",
       "      <td>80254.0</td>\n",
       "      <td>80254.0</td>\n",
       "      <td>NaN</td>\n",
       "      <td>NaN</td>\n",
       "      <td>1:20.254</td>\n",
       "      <td>nan</td>\n",
       "      <td>nan</td>\n",
       "    </tr>\n",
       "  </tbody>\n",
       "</table>\n",
       "<p>1018656 rows × 7 columns</p>\n",
       "</div>"
      ],
      "text/plain": [
       "         fastest_lap_milliseconds  q1_milliseconds  q2_milliseconds  \\\n",
       "0                         63130.0          64175.0          63756.0   \n",
       "1                         63130.0          64175.0          63756.0   \n",
       "2                         63130.0          64175.0          63756.0   \n",
       "3                         63130.0          64175.0          63756.0   \n",
       "4                         63130.0          64175.0          63756.0   \n",
       "...                           ...              ...              ...   \n",
       "1018653                   80254.0          80254.0              NaN   \n",
       "1018654                   80254.0          80254.0              NaN   \n",
       "1018655                   80254.0          80254.0              NaN   \n",
       "1018656                   80254.0          80254.0              NaN   \n",
       "1018657                   80254.0          80254.0              NaN   \n",
       "\n",
       "         q3_milliseconds        q1        q2        q3  \n",
       "0                63130.0  1:04.175  1:03.756  1:03.130  \n",
       "1                63130.0  1:04.175  1:03.756  1:03.130  \n",
       "2                63130.0  1:04.175  1:03.756  1:03.130  \n",
       "3                63130.0  1:04.175  1:03.756  1:03.130  \n",
       "4                63130.0  1:04.175  1:03.756  1:03.130  \n",
       "...                  ...       ...       ...       ...  \n",
       "1018653              NaN  1:20.254       nan       nan  \n",
       "1018654              NaN  1:20.254       nan       nan  \n",
       "1018655              NaN  1:20.254       nan       nan  \n",
       "1018656              NaN  1:20.254       nan       nan  \n",
       "1018657              NaN  1:20.254       nan       nan  \n",
       "\n",
       "[1018656 rows x 7 columns]"
      ]
     },
     "execution_count": 23,
     "metadata": {},
     "output_type": "execute_result"
    }
   ],
   "source": [
    "#validate that worked as expected\n",
    "qualifying_data_clean[['fastest_lap_milliseconds','q1_milliseconds','q2_milliseconds','q3_milliseconds','q1','q2','q3']]"
   ]
  },
  {
   "cell_type": "code",
   "execution_count": 24,
   "metadata": {},
   "outputs": [
    {
     "data": {
      "text/plain": [
       "0"
      ]
     },
     "execution_count": 24,
     "metadata": {},
     "output_type": "execute_result"
    }
   ],
   "source": [
    "(qualifying_data_clean['fastest_lap_milliseconds'].isna()).sum()"
   ]
  },
  {
   "cell_type": "markdown",
   "metadata": {},
   "source": [
    "We have a complete dataset of Fastest Lap times. Now we can drop the intermediate columns and the individual session fastest times and retain just the fastest time for that circuit"
   ]
  },
  {
   "cell_type": "code",
   "execution_count": 25,
   "metadata": {},
   "outputs": [],
   "source": [
    "qualifying_data_clean.drop(columns=['q1_milliseconds',\n",
    "'q2_milliseconds',\n",
    "'q3_milliseconds',\n",
    "'q1',\n",
    "'q2',\n",
    "'q3'\n",
    "], axis=1,inplace=True)"
   ]
  },
  {
   "cell_type": "markdown",
   "metadata": {},
   "source": [
    "## Data Inspection & Cleaning Other Columns:\n",
    "<a id=\"addcols\"></a>\n",
    "Now lets look into the other columns"
   ]
  },
  {
   "cell_type": "markdown",
   "metadata": {},
   "source": [
    "Date is not the date of qualifying but of the race, we can replace that with qualifying lap data.\n",
    "time is also not of qualifying but of the race so can be dropped\n",
    "Location is a duplicate of Lat, Lng and Alt,\n",
    "grid is quali_position but accounts for penalties. This is not linked to pure performance ( such as engine penalties for replacing engines etc. Therefore we will drop grid)\n",
    "\n",
    "number should be a repeat of qualifying driver number"
   ]
  },
  {
   "cell_type": "code",
   "execution_count": 26,
   "metadata": {},
   "outputs": [],
   "source": [
    "#replace date with qualifying date as interested in qualifying only\n",
    "qualifying_data_clean['date']=qualifying_data_clean['qualifying_Date'].str.split(' ').str[0]"
   ]
  },
  {
   "cell_type": "code",
   "execution_count": 27,
   "metadata": {},
   "outputs": [
    {
     "data": {
      "text/plain": [
       "1"
      ]
     },
     "execution_count": 27,
     "metadata": {},
     "output_type": "execute_result"
    }
   ],
   "source": [
    "#number is a duplicate of driver number. Validate this\n",
    "(qualifying_data_clean['number'] != qualifying_data_clean['qualifying_DriverNumber']).sum()"
   ]
  },
  {
   "cell_type": "code",
   "execution_count": 28,
   "metadata": {},
   "outputs": [
    {
     "data": {
      "text/html": [
       "<div>\n",
       "<style scoped>\n",
       "    .dataframe tbody tr th:only-of-type {\n",
       "        vertical-align: middle;\n",
       "    }\n",
       "\n",
       "    .dataframe tbody tr th {\n",
       "        vertical-align: top;\n",
       "    }\n",
       "\n",
       "    .dataframe thead th {\n",
       "        text-align: right;\n",
       "    }\n",
       "</style>\n",
       "<table border=\"1\" class=\"dataframe\">\n",
       "  <thead>\n",
       "    <tr style=\"text-align: right;\">\n",
       "      <th></th>\n",
       "      <th>number</th>\n",
       "      <th>qualifying_DriverNumber</th>\n",
       "      <th>circuitRef</th>\n",
       "      <th>qualifying_lapId</th>\n",
       "    </tr>\n",
       "  </thead>\n",
       "  <tbody>\n",
       "    <tr>\n",
       "      <th>717562</th>\n",
       "      <td>26.0</td>\n",
       "      <td>NaN</td>\n",
       "      <td>sochi</td>\n",
       "      <td>NaN</td>\n",
       "    </tr>\n",
       "  </tbody>\n",
       "</table>\n",
       "</div>"
      ],
      "text/plain": [
       "        number  qualifying_DriverNumber circuitRef  qualifying_lapId\n",
       "717562    26.0                      NaN      sochi               NaN"
      ]
     },
     "execution_count": 28,
     "metadata": {},
     "output_type": "execute_result"
    }
   ],
   "source": [
    "qualifying_data_clean.loc[qualifying_data_clean['number'] != qualifying_data_clean['qualifying_DriverNumber'],['number','qualifying_DriverNumber','circuitRef','qualifying_lapId']]"
   ]
  },
  {
   "cell_type": "markdown",
   "metadata": {},
   "source": [
    "Only 1 occurence where driver number not equal to number, missing  lap data for car 26 in Sochi. Will drop this row of data"
   ]
  },
  {
   "cell_type": "code",
   "execution_count": 29,
   "metadata": {},
   "outputs": [],
   "source": [
    "qualifying_data_clean.drop(index=717562,axis=0,inplace=True)"
   ]
  },
  {
   "cell_type": "markdown",
   "metadata": {},
   "source": [
    "Validate we can remove number"
   ]
  },
  {
   "cell_type": "code",
   "execution_count": 30,
   "metadata": {},
   "outputs": [
    {
     "data": {
      "text/plain": [
       "0"
      ]
     },
     "execution_count": 30,
     "metadata": {},
     "output_type": "execute_result"
    }
   ],
   "source": [
    "(qualifying_data_clean['number'] != qualifying_data_clean['qualifying_DriverNumber']).sum()"
   ]
  },
  {
   "cell_type": "code",
   "execution_count": 31,
   "metadata": {},
   "outputs": [],
   "source": [
    "qualifying_data_clean.drop(columns=['number','location','grid'],axis=1,inplace=True)"
   ]
  },
  {
   "cell_type": "markdown",
   "metadata": {},
   "source": [
    "For the race, PositionText and positionOrder are duplicates of race result, we will combine"
   ]
  },
  {
   "cell_type": "code",
   "execution_count": 32,
   "metadata": {},
   "outputs": [
    {
     "data": {
      "text/plain": [
       "array([19., 16.,  3.,  2.,  1.,  4., 18.,  5., 12., 20.,  6., 11.,  9.,\n",
       "        8., 14., 15.,  7., 13., 17., 10.])"
      ]
     },
     "execution_count": 32,
     "metadata": {},
     "output_type": "execute_result"
    }
   ],
   "source": [
    "qualifying_data_clean['positionOrder'].unique()"
   ]
  },
  {
   "cell_type": "code",
   "execution_count": 33,
   "metadata": {},
   "outputs": [
    {
     "data": {
      "text/plain": [
       "array(['R', '3', '2', 2, 1, 4, '4', '5', '12', '6', 6, 11, 9, 8, 14, 15,\n",
       "       7, '7', '13', '10', 3, 10, 13, 5, '17', '14', '18', '16', '15',\n",
       "       '11', 12, 16, 17, '8', '9', 19, 18, 20, '1', '19'], dtype=object)"
      ]
     },
     "execution_count": 33,
     "metadata": {},
     "output_type": "execute_result"
    }
   ],
   "source": [
    "qualifying_data_clean['positionText'].unique()"
   ]
  },
  {
   "cell_type": "code",
   "execution_count": 34,
   "metadata": {},
   "outputs": [
    {
     "data": {
      "text/html": [
       "<div>\n",
       "<style scoped>\n",
       "    .dataframe tbody tr th:only-of-type {\n",
       "        vertical-align: middle;\n",
       "    }\n",
       "\n",
       "    .dataframe tbody tr th {\n",
       "        vertical-align: top;\n",
       "    }\n",
       "\n",
       "    .dataframe thead th {\n",
       "        text-align: right;\n",
       "    }\n",
       "</style>\n",
       "<table border=\"1\" class=\"dataframe\">\n",
       "  <thead>\n",
       "    <tr style=\"text-align: right;\">\n",
       "      <th></th>\n",
       "      <th>positionText</th>\n",
       "      <th>positionOrder</th>\n",
       "    </tr>\n",
       "  </thead>\n",
       "  <tbody>\n",
       "    <tr>\n",
       "      <th>1000</th>\n",
       "      <td>R</td>\n",
       "      <td>19.0</td>\n",
       "    </tr>\n",
       "    <tr>\n",
       "      <th>1001</th>\n",
       "      <td>R</td>\n",
       "      <td>19.0</td>\n",
       "    </tr>\n",
       "    <tr>\n",
       "      <th>1002</th>\n",
       "      <td>R</td>\n",
       "      <td>19.0</td>\n",
       "    </tr>\n",
       "    <tr>\n",
       "      <th>1003</th>\n",
       "      <td>R</td>\n",
       "      <td>19.0</td>\n",
       "    </tr>\n",
       "    <tr>\n",
       "      <th>1004</th>\n",
       "      <td>R</td>\n",
       "      <td>19.0</td>\n",
       "    </tr>\n",
       "    <tr>\n",
       "      <th>1005</th>\n",
       "      <td>R</td>\n",
       "      <td>19.0</td>\n",
       "    </tr>\n",
       "    <tr>\n",
       "      <th>1006</th>\n",
       "      <td>R</td>\n",
       "      <td>19.0</td>\n",
       "    </tr>\n",
       "    <tr>\n",
       "      <th>1007</th>\n",
       "      <td>R</td>\n",
       "      <td>19.0</td>\n",
       "    </tr>\n",
       "    <tr>\n",
       "      <th>1008</th>\n",
       "      <td>R</td>\n",
       "      <td>19.0</td>\n",
       "    </tr>\n",
       "    <tr>\n",
       "      <th>1009</th>\n",
       "      <td>R</td>\n",
       "      <td>19.0</td>\n",
       "    </tr>\n",
       "  </tbody>\n",
       "</table>\n",
       "</div>"
      ],
      "text/plain": [
       "     positionText  positionOrder\n",
       "1000            R           19.0\n",
       "1001            R           19.0\n",
       "1002            R           19.0\n",
       "1003            R           19.0\n",
       "1004            R           19.0\n",
       "1005            R           19.0\n",
       "1006            R           19.0\n",
       "1007            R           19.0\n",
       "1008            R           19.0\n",
       "1009            R           19.0"
      ]
     },
     "execution_count": 34,
     "metadata": {},
     "output_type": "execute_result"
    }
   ],
   "source": [
    "qualifying_data_clean[['positionText','positionOrder']].iloc[1000:1010]"
   ]
  },
  {
   "cell_type": "markdown",
   "metadata": {},
   "source": [
    "Position Text accounts for retired, position Order is just a float which assigns cars a result even if they don't finish. The first car to retire is assigned last position and the next car to retire next to last etc.. Since we are focusing on qualifying car performance we will drop positionText"
   ]
  },
  {
   "cell_type": "code",
   "execution_count": 35,
   "metadata": {},
   "outputs": [],
   "source": [
    "qualifying_data_clean.drop(columns=['positionText'],axis=1,inplace=True)"
   ]
  },
  {
   "cell_type": "markdown",
   "metadata": {},
   "source": [
    "## Feature Engineering Age\n",
    "<a id=\"age\"></a>\n",
    "\n",
    "We will convert dob into age for this analysis to see if age has an impact on pole positions"
   ]
  },
  {
   "cell_type": "code",
   "execution_count": 36,
   "metadata": {},
   "outputs": [],
   "source": [
    "qualifying_data_clean['dob']=qualifying_data_clean['dob'].astype('datetime64')\n",
    "qualifying_data_clean['date']=qualifying_data_clean['date'].astype('datetime64')"
   ]
  },
  {
   "cell_type": "code",
   "execution_count": 37,
   "metadata": {},
   "outputs": [],
   "source": [
    "# inspired from stackoverflow https://stackoverflow.com/questions/26788854/pandas-get-the-age-from-a-date-example-date-of-birth\n",
    "qualifying_data_clean['age']=(qualifying_data_clean['date'] - qualifying_data_clean['dob']).astype('<m8[Y]')"
   ]
  },
  {
   "cell_type": "code",
   "execution_count": 38,
   "metadata": {},
   "outputs": [],
   "source": [
    "qualifying_data_clean.drop(columns=['dob'],axis=1,inplace=True)"
   ]
  },
  {
   "cell_type": "markdown",
   "metadata": {},
   "source": [
    "## Dealing with NaN values:\n",
    "<a id=\"nan\"></a>\n",
    "\n",
    "lets check how many NaN values are remaining?"
   ]
  },
  {
   "cell_type": "code",
   "execution_count": 39,
   "metadata": {},
   "outputs": [
    {
     "name": "stdout",
     "output_type": "stream",
     "text": [
      "This dataframe has 178042 NaN values\n",
      " The NaN values come from: ['qualifying_LapTime', 'qualifying_SpeedI1', 'qualifying_SpeedI2', 'qualifying_SpeedFL', 'qualifying_SpeedST', 'qualifying_Compound', 'qualifying_TyreLife', 'qualifying_FreshTyre', 'qualifying_Stint', 'qualifying_DriverAhead', 'qualifying_DistanceToDriverAhead']. \n",
      "\n"
     ]
    }
   ],
   "source": [
    "ds_ultils.nan_checker(qualifying_data_clean)\n"
   ]
  },
  {
   "cell_type": "markdown",
   "metadata": {},
   "source": [
    "The NaN values come all from LapTime, Speed traps, Tyre data and driver ahead.\n",
    "\n"
   ]
  },
  {
   "cell_type": "markdown",
   "metadata": {},
   "source": [
    "To measure pure car performance we do not need to know which car is ahead. Therefore we can remove driver ahead"
   ]
  },
  {
   "cell_type": "code",
   "execution_count": 41,
   "metadata": {},
   "outputs": [],
   "source": [
    "qualifying_data_clean.drop(columns=['qualifying_DriverAhead'],axis=1,inplace=True)"
   ]
  },
  {
   "cell_type": "markdown",
   "metadata": {},
   "source": [
    "Lets look at the NaN values for LapTime."
   ]
  },
  {
   "cell_type": "code",
   "execution_count": 40,
   "metadata": {},
   "outputs": [
    {
     "data": {
      "text/html": [
       "<div>\n",
       "<style scoped>\n",
       "    .dataframe tbody tr th:only-of-type {\n",
       "        vertical-align: middle;\n",
       "    }\n",
       "\n",
       "    .dataframe tbody tr th {\n",
       "        vertical-align: top;\n",
       "    }\n",
       "\n",
       "    .dataframe thead th {\n",
       "        text-align: right;\n",
       "    }\n",
       "</style>\n",
       "<table border=\"1\" class=\"dataframe\">\n",
       "  <thead>\n",
       "    <tr style=\"text-align: right;\">\n",
       "      <th></th>\n",
       "      <th>qualifying_LapTime</th>\n",
       "      <th>qualifying_SpeedI1</th>\n",
       "      <th>qualifying_SpeedI2</th>\n",
       "      <th>qualifying_SpeedFL</th>\n",
       "      <th>qualifying_SpeedST</th>\n",
       "      <th>qualifying_Compound</th>\n",
       "      <th>qualifying_TyreLife</th>\n",
       "      <th>qualifying_FreshTyre</th>\n",
       "      <th>qualifying_Stint</th>\n",
       "      <th>qualifying_DriverAhead</th>\n",
       "      <th>qualifying_DistanceToDriverAhead</th>\n",
       "      <th>qualifying_DriverNumber</th>\n",
       "    </tr>\n",
       "  </thead>\n",
       "  <tbody>\n",
       "    <tr>\n",
       "      <th>95414</th>\n",
       "      <td>NaN</td>\n",
       "      <td>108.0</td>\n",
       "      <td>253.0</td>\n",
       "      <td>177.0</td>\n",
       "      <td>140.0</td>\n",
       "      <td>HYPERSOFT</td>\n",
       "      <td>5.0</td>\n",
       "      <td>True</td>\n",
       "      <td>1.0</td>\n",
       "      <td>NaN</td>\n",
       "      <td>1242.801111</td>\n",
       "      <td>44.0</td>\n",
       "    </tr>\n",
       "    <tr>\n",
       "      <th>95415</th>\n",
       "      <td>NaN</td>\n",
       "      <td>108.0</td>\n",
       "      <td>253.0</td>\n",
       "      <td>177.0</td>\n",
       "      <td>140.0</td>\n",
       "      <td>HYPERSOFT</td>\n",
       "      <td>5.0</td>\n",
       "      <td>True</td>\n",
       "      <td>1.0</td>\n",
       "      <td>NaN</td>\n",
       "      <td>1242.801111</td>\n",
       "      <td>44.0</td>\n",
       "    </tr>\n",
       "    <tr>\n",
       "      <th>95416</th>\n",
       "      <td>NaN</td>\n",
       "      <td>108.0</td>\n",
       "      <td>253.0</td>\n",
       "      <td>177.0</td>\n",
       "      <td>140.0</td>\n",
       "      <td>HYPERSOFT</td>\n",
       "      <td>5.0</td>\n",
       "      <td>True</td>\n",
       "      <td>1.0</td>\n",
       "      <td>NaN</td>\n",
       "      <td>1242.801111</td>\n",
       "      <td>44.0</td>\n",
       "    </tr>\n",
       "    <tr>\n",
       "      <th>95417</th>\n",
       "      <td>NaN</td>\n",
       "      <td>108.0</td>\n",
       "      <td>253.0</td>\n",
       "      <td>177.0</td>\n",
       "      <td>140.0</td>\n",
       "      <td>HYPERSOFT</td>\n",
       "      <td>5.0</td>\n",
       "      <td>True</td>\n",
       "      <td>1.0</td>\n",
       "      <td>NaN</td>\n",
       "      <td>1242.801111</td>\n",
       "      <td>44.0</td>\n",
       "    </tr>\n",
       "    <tr>\n",
       "      <th>95418</th>\n",
       "      <td>NaN</td>\n",
       "      <td>108.0</td>\n",
       "      <td>253.0</td>\n",
       "      <td>177.0</td>\n",
       "      <td>140.0</td>\n",
       "      <td>HYPERSOFT</td>\n",
       "      <td>5.0</td>\n",
       "      <td>True</td>\n",
       "      <td>1.0</td>\n",
       "      <td>77.0</td>\n",
       "      <td>1242.801111</td>\n",
       "      <td>44.0</td>\n",
       "    </tr>\n",
       "    <tr>\n",
       "      <th>...</th>\n",
       "      <td>...</td>\n",
       "      <td>...</td>\n",
       "      <td>...</td>\n",
       "      <td>...</td>\n",
       "      <td>...</td>\n",
       "      <td>...</td>\n",
       "      <td>...</td>\n",
       "      <td>...</td>\n",
       "      <td>...</td>\n",
       "      <td>...</td>\n",
       "      <td>...</td>\n",
       "      <td>...</td>\n",
       "    </tr>\n",
       "    <tr>\n",
       "      <th>677167</th>\n",
       "      <td>NaN</td>\n",
       "      <td>117.0</td>\n",
       "      <td>255.0</td>\n",
       "      <td>172.0</td>\n",
       "      <td>244.0</td>\n",
       "      <td>SOFT</td>\n",
       "      <td>3.0</td>\n",
       "      <td>True</td>\n",
       "      <td>1.0</td>\n",
       "      <td>23.0</td>\n",
       "      <td>322.196944</td>\n",
       "      <td>8.0</td>\n",
       "    </tr>\n",
       "    <tr>\n",
       "      <th>677168</th>\n",
       "      <td>NaN</td>\n",
       "      <td>117.0</td>\n",
       "      <td>255.0</td>\n",
       "      <td>172.0</td>\n",
       "      <td>244.0</td>\n",
       "      <td>SOFT</td>\n",
       "      <td>3.0</td>\n",
       "      <td>True</td>\n",
       "      <td>1.0</td>\n",
       "      <td>23.0</td>\n",
       "      <td>324.830278</td>\n",
       "      <td>8.0</td>\n",
       "    </tr>\n",
       "    <tr>\n",
       "      <th>677169</th>\n",
       "      <td>NaN</td>\n",
       "      <td>117.0</td>\n",
       "      <td>255.0</td>\n",
       "      <td>172.0</td>\n",
       "      <td>244.0</td>\n",
       "      <td>SOFT</td>\n",
       "      <td>3.0</td>\n",
       "      <td>True</td>\n",
       "      <td>1.0</td>\n",
       "      <td>23.0</td>\n",
       "      <td>327.054306</td>\n",
       "      <td>8.0</td>\n",
       "    </tr>\n",
       "    <tr>\n",
       "      <th>677170</th>\n",
       "      <td>NaN</td>\n",
       "      <td>117.0</td>\n",
       "      <td>255.0</td>\n",
       "      <td>172.0</td>\n",
       "      <td>244.0</td>\n",
       "      <td>SOFT</td>\n",
       "      <td>3.0</td>\n",
       "      <td>True</td>\n",
       "      <td>1.0</td>\n",
       "      <td>23.0</td>\n",
       "      <td>329.278333</td>\n",
       "      <td>8.0</td>\n",
       "    </tr>\n",
       "    <tr>\n",
       "      <th>677171</th>\n",
       "      <td>NaN</td>\n",
       "      <td>117.0</td>\n",
       "      <td>255.0</td>\n",
       "      <td>172.0</td>\n",
       "      <td>244.0</td>\n",
       "      <td>SOFT</td>\n",
       "      <td>3.0</td>\n",
       "      <td>True</td>\n",
       "      <td>1.0</td>\n",
       "      <td>23.0</td>\n",
       "      <td>329.278333</td>\n",
       "      <td>8.0</td>\n",
       "    </tr>\n",
       "  </tbody>\n",
       "</table>\n",
       "<p>10801 rows × 12 columns</p>\n",
       "</div>"
      ],
      "text/plain": [
       "       qualifying_LapTime  qualifying_SpeedI1  qualifying_SpeedI2  \\\n",
       "95414                 NaN               108.0               253.0   \n",
       "95415                 NaN               108.0               253.0   \n",
       "95416                 NaN               108.0               253.0   \n",
       "95417                 NaN               108.0               253.0   \n",
       "95418                 NaN               108.0               253.0   \n",
       "...                   ...                 ...                 ...   \n",
       "677167                NaN               117.0               255.0   \n",
       "677168                NaN               117.0               255.0   \n",
       "677169                NaN               117.0               255.0   \n",
       "677170                NaN               117.0               255.0   \n",
       "677171                NaN               117.0               255.0   \n",
       "\n",
       "        qualifying_SpeedFL  qualifying_SpeedST qualifying_Compound  \\\n",
       "95414                177.0               140.0           HYPERSOFT   \n",
       "95415                177.0               140.0           HYPERSOFT   \n",
       "95416                177.0               140.0           HYPERSOFT   \n",
       "95417                177.0               140.0           HYPERSOFT   \n",
       "95418                177.0               140.0           HYPERSOFT   \n",
       "...                    ...                 ...                 ...   \n",
       "677167               172.0               244.0                SOFT   \n",
       "677168               172.0               244.0                SOFT   \n",
       "677169               172.0               244.0                SOFT   \n",
       "677170               172.0               244.0                SOFT   \n",
       "677171               172.0               244.0                SOFT   \n",
       "\n",
       "        qualifying_TyreLife qualifying_FreshTyre  qualifying_Stint  \\\n",
       "95414                   5.0                 True               1.0   \n",
       "95415                   5.0                 True               1.0   \n",
       "95416                   5.0                 True               1.0   \n",
       "95417                   5.0                 True               1.0   \n",
       "95418                   5.0                 True               1.0   \n",
       "...                     ...                  ...               ...   \n",
       "677167                  3.0                 True               1.0   \n",
       "677168                  3.0                 True               1.0   \n",
       "677169                  3.0                 True               1.0   \n",
       "677170                  3.0                 True               1.0   \n",
       "677171                  3.0                 True               1.0   \n",
       "\n",
       "        qualifying_DriverAhead  qualifying_DistanceToDriverAhead  \\\n",
       "95414                      NaN                       1242.801111   \n",
       "95415                      NaN                       1242.801111   \n",
       "95416                      NaN                       1242.801111   \n",
       "95417                      NaN                       1242.801111   \n",
       "95418                     77.0                       1242.801111   \n",
       "...                        ...                               ...   \n",
       "677167                    23.0                        322.196944   \n",
       "677168                    23.0                        324.830278   \n",
       "677169                    23.0                        327.054306   \n",
       "677170                    23.0                        329.278333   \n",
       "677171                    23.0                        329.278333   \n",
       "\n",
       "        qualifying_DriverNumber  \n",
       "95414                      44.0  \n",
       "95415                      44.0  \n",
       "95416                      44.0  \n",
       "95417                      44.0  \n",
       "95418                      44.0  \n",
       "...                         ...  \n",
       "677167                      8.0  \n",
       "677168                      8.0  \n",
       "677169                      8.0  \n",
       "677170                      8.0  \n",
       "677171                      8.0  \n",
       "\n",
       "[10801 rows x 12 columns]"
      ]
     },
     "execution_count": 40,
     "metadata": {},
     "output_type": "execute_result"
    }
   ],
   "source": [
    "qualifying_data_clean.loc[qualifying_data_clean['qualifying_LapTime'].isna(),['qualifying_LapTime', 'qualifying_SpeedI1', 'qualifying_SpeedI2', 'qualifying_SpeedFL', 'qualifying_SpeedST', 'qualifying_Compound', 'qualifying_TyreLife', 'qualifying_FreshTyre', 'qualifying_Stint', 'qualifying_DriverAhead', 'qualifying_DistanceToDriverAhead','qualifying_DriverNumber']]"
   ]
  },
  {
   "cell_type": "code",
   "execution_count": 45,
   "metadata": {},
   "outputs": [
    {
     "data": {
      "text/plain": [
       "1.0603197353372829"
      ]
     },
     "execution_count": 45,
     "metadata": {},
     "output_type": "execute_result"
    }
   ],
   "source": [
    "(qualifying_data_clean['qualifying_LapTime'].isna().sum()/len(qualifying_data_clean))*100"
   ]
  },
  {
   "cell_type": "markdown",
   "metadata": {},
   "source": [
    "IsAccurate (bool): Indicates that the lap start and end time are synced correctly with other laps. \n",
    "\n",
    "If this value is True, the lap has passed as basic accuracy check for timing data. This does not guarantee accuracy but laps marked as inaccurate need to be handled with caution. They might contain errors which can not be spotted easily. Laps need to satisfy the following criteria to be marked as accurate:\n",
    "\n",
    "not an inlap or outlap\n",
    "\n",
    "set under green or yellow flag (the api sometimes has issues with data from SC/VSC laps)\n",
    "\n",
    "is not the first lap after a safety car period (issues with SC/VSC might still appear on the first lap after it has ended)\n",
    "\n",
    "has a value for lap time and all sector times\n",
    "\n",
    "the sum of the sector times matches the lap time "
   ]
  },
  {
   "cell_type": "markdown",
   "metadata": {},
   "source": [
    "Since in accurate lap time match the len of lap times with nans we will remove all laps not accurate from the database"
   ]
  },
  {
   "cell_type": "code",
   "execution_count": 46,
   "metadata": {},
   "outputs": [],
   "source": [
    "qualifying_data_clean = qualifying_data_clean[qualifying_data_clean['qualifying_IsAccurate']]"
   ]
  },
  {
   "cell_type": "code",
   "execution_count": 47,
   "metadata": {},
   "outputs": [
    {
     "data": {
      "text/plain": [
       "0"
      ]
     },
     "execution_count": 47,
     "metadata": {},
     "output_type": "execute_result"
    }
   ],
   "source": [
    "qualifying_data_clean['qualifying_LapTime'].isna().sum()"
   ]
  },
  {
   "cell_type": "markdown",
   "metadata": {},
   "source": [
    "Removing inaccurate laps got rid of lap time nans"
   ]
  },
  {
   "cell_type": "code",
   "execution_count": 48,
   "metadata": {},
   "outputs": [
    {
     "name": "stdout",
     "output_type": "stream",
     "text": [
      "This dataframe has 83465 NaN values\n",
      " The NaN values come from: ['qualifying_SpeedI1', 'qualifying_SpeedI2', 'qualifying_SpeedFL', 'qualifying_SpeedST', 'qualifying_Compound', 'qualifying_TyreLife', 'qualifying_FreshTyre', 'qualifying_Stint', 'qualifying_DistanceToDriverAhead']. \n",
      "\n"
     ]
    }
   ],
   "source": [
    "ds_ultils.nan_checker(qualifying_data_clean)"
   ]
  },
  {
   "cell_type": "markdown",
   "metadata": {},
   "source": [
    "Lets now evaluate intermediate Speed Traps"
   ]
  },
  {
   "cell_type": "code",
   "execution_count": 49,
   "metadata": {},
   "outputs": [
    {
     "data": {
      "text/plain": [
       "array([ 7., 33., 28., 44., 77.])"
      ]
     },
     "execution_count": 49,
     "metadata": {},
     "output_type": "execute_result"
    }
   ],
   "source": [
    "qualifying_data_clean.loc[qualifying_data_clean['qualifying_SpeedI1'].isna(),'qualifying_DriverNumber'].unique()"
   ]
  },
  {
   "cell_type": "code",
   "execution_count": 50,
   "metadata": {},
   "outputs": [
    {
     "data": {
      "text/plain": [
       "array([ 33.,  41.,  98., 111.,   4.,  12.,  21.,  66.])"
      ]
     },
     "execution_count": 50,
     "metadata": {},
     "output_type": "execute_result"
    }
   ],
   "source": [
    "qualifying_data_clean.loc[qualifying_data_clean['qualifying_SpeedI1'].isna(),'qualifying_lapId'].unique()"
   ]
  },
  {
   "cell_type": "code",
   "execution_count": 51,
   "metadata": {},
   "outputs": [
    {
     "data": {
      "text/html": [
       "<div>\n",
       "<style scoped>\n",
       "    .dataframe tbody tr th:only-of-type {\n",
       "        vertical-align: middle;\n",
       "    }\n",
       "\n",
       "    .dataframe tbody tr th {\n",
       "        vertical-align: top;\n",
       "    }\n",
       "\n",
       "    .dataframe thead th {\n",
       "        text-align: right;\n",
       "    }\n",
       "</style>\n",
       "<table border=\"1\" class=\"dataframe\">\n",
       "  <thead>\n",
       "    <tr style=\"text-align: right;\">\n",
       "      <th></th>\n",
       "      <th>qualifying_lapId</th>\n",
       "      <th>raceId</th>\n",
       "      <th>qualifying_DriverNumber</th>\n",
       "      <th>qualifying_SpeedI1</th>\n",
       "    </tr>\n",
       "  </thead>\n",
       "  <tbody>\n",
       "    <tr>\n",
       "      <th>167010</th>\n",
       "      <td>33.0</td>\n",
       "      <td>1000</td>\n",
       "      <td>7.0</td>\n",
       "      <td>NaN</td>\n",
       "    </tr>\n",
       "    <tr>\n",
       "      <th>167011</th>\n",
       "      <td>33.0</td>\n",
       "      <td>1000</td>\n",
       "      <td>7.0</td>\n",
       "      <td>NaN</td>\n",
       "    </tr>\n",
       "    <tr>\n",
       "      <th>167012</th>\n",
       "      <td>33.0</td>\n",
       "      <td>1000</td>\n",
       "      <td>7.0</td>\n",
       "      <td>NaN</td>\n",
       "    </tr>\n",
       "    <tr>\n",
       "      <th>167013</th>\n",
       "      <td>33.0</td>\n",
       "      <td>1000</td>\n",
       "      <td>7.0</td>\n",
       "      <td>NaN</td>\n",
       "    </tr>\n",
       "    <tr>\n",
       "      <th>167014</th>\n",
       "      <td>33.0</td>\n",
       "      <td>1000</td>\n",
       "      <td>7.0</td>\n",
       "      <td>NaN</td>\n",
       "    </tr>\n",
       "    <tr>\n",
       "      <th>...</th>\n",
       "      <td>...</td>\n",
       "      <td>...</td>\n",
       "      <td>...</td>\n",
       "      <td>...</td>\n",
       "    </tr>\n",
       "    <tr>\n",
       "      <th>586811</th>\n",
       "      <td>66.0</td>\n",
       "      <td>1018</td>\n",
       "      <td>7.0</td>\n",
       "      <td>NaN</td>\n",
       "    </tr>\n",
       "    <tr>\n",
       "      <th>586812</th>\n",
       "      <td>66.0</td>\n",
       "      <td>1018</td>\n",
       "      <td>7.0</td>\n",
       "      <td>NaN</td>\n",
       "    </tr>\n",
       "    <tr>\n",
       "      <th>586813</th>\n",
       "      <td>66.0</td>\n",
       "      <td>1018</td>\n",
       "      <td>7.0</td>\n",
       "      <td>NaN</td>\n",
       "    </tr>\n",
       "    <tr>\n",
       "      <th>586814</th>\n",
       "      <td>66.0</td>\n",
       "      <td>1018</td>\n",
       "      <td>7.0</td>\n",
       "      <td>NaN</td>\n",
       "    </tr>\n",
       "    <tr>\n",
       "      <th>586815</th>\n",
       "      <td>66.0</td>\n",
       "      <td>1018</td>\n",
       "      <td>7.0</td>\n",
       "      <td>NaN</td>\n",
       "    </tr>\n",
       "  </tbody>\n",
       "</table>\n",
       "<p>5180 rows × 4 columns</p>\n",
       "</div>"
      ],
      "text/plain": [
       "        qualifying_lapId  raceId  qualifying_DriverNumber  qualifying_SpeedI1\n",
       "167010              33.0    1000                      7.0                 NaN\n",
       "167011              33.0    1000                      7.0                 NaN\n",
       "167012              33.0    1000                      7.0                 NaN\n",
       "167013              33.0    1000                      7.0                 NaN\n",
       "167014              33.0    1000                      7.0                 NaN\n",
       "...                  ...     ...                      ...                 ...\n",
       "586811              66.0    1018                      7.0                 NaN\n",
       "586812              66.0    1018                      7.0                 NaN\n",
       "586813              66.0    1018                      7.0                 NaN\n",
       "586814              66.0    1018                      7.0                 NaN\n",
       "586815              66.0    1018                      7.0                 NaN\n",
       "\n",
       "[5180 rows x 4 columns]"
      ]
     },
     "execution_count": 51,
     "metadata": {},
     "output_type": "execute_result"
    }
   ],
   "source": [
    "qualifying_data_clean.loc[qualifying_data_clean['qualifying_SpeedI1'].isna(),['qualifying_lapId','raceId','qualifying_DriverNumber','qualifying_SpeedI1']]"
   ]
  },
  {
   "cell_type": "markdown",
   "metadata": {},
   "source": [
    "The Intermediate Speed Trap measurements are NaN's for a single lap. Therefore we can fill them by taking the average for that qualifying stint.\n",
    "\n",
    "Qualifying stint is a number assigned to when a driver goes out and completes a set number of laps consequetively before coming into the pits."
   ]
  },
  {
   "cell_type": "code",
   "execution_count": 52,
   "metadata": {},
   "outputs": [
    {
     "name": "stdout",
     "output_type": "stream",
     "text": [
      "percentage nans: 100.0\n"
     ]
    },
    {
     "data": {
      "text/html": [
       "<div>\n",
       "<style scoped>\n",
       "    .dataframe tbody tr th:only-of-type {\n",
       "        vertical-align: middle;\n",
       "    }\n",
       "\n",
       "    .dataframe tbody tr th {\n",
       "        vertical-align: top;\n",
       "    }\n",
       "\n",
       "    .dataframe thead th {\n",
       "        text-align: right;\n",
       "    }\n",
       "</style>\n",
       "<table border=\"1\" class=\"dataframe\">\n",
       "  <thead>\n",
       "    <tr style=\"text-align: right;\">\n",
       "      <th></th>\n",
       "      <th>qualifying_SpeedI1</th>\n",
       "      <th>qualifying_Stint</th>\n",
       "    </tr>\n",
       "  </thead>\n",
       "  <tbody>\n",
       "    <tr>\n",
       "      <th>167010</th>\n",
       "      <td>NaN</td>\n",
       "      <td>2.0</td>\n",
       "    </tr>\n",
       "    <tr>\n",
       "      <th>167011</th>\n",
       "      <td>NaN</td>\n",
       "      <td>2.0</td>\n",
       "    </tr>\n",
       "    <tr>\n",
       "      <th>167012</th>\n",
       "      <td>NaN</td>\n",
       "      <td>2.0</td>\n",
       "    </tr>\n",
       "    <tr>\n",
       "      <th>167013</th>\n",
       "      <td>NaN</td>\n",
       "      <td>2.0</td>\n",
       "    </tr>\n",
       "    <tr>\n",
       "      <th>167014</th>\n",
       "      <td>NaN</td>\n",
       "      <td>2.0</td>\n",
       "    </tr>\n",
       "    <tr>\n",
       "      <th>...</th>\n",
       "      <td>...</td>\n",
       "      <td>...</td>\n",
       "    </tr>\n",
       "    <tr>\n",
       "      <th>167594</th>\n",
       "      <td>NaN</td>\n",
       "      <td>2.0</td>\n",
       "    </tr>\n",
       "    <tr>\n",
       "      <th>167595</th>\n",
       "      <td>NaN</td>\n",
       "      <td>2.0</td>\n",
       "    </tr>\n",
       "    <tr>\n",
       "      <th>167596</th>\n",
       "      <td>NaN</td>\n",
       "      <td>2.0</td>\n",
       "    </tr>\n",
       "    <tr>\n",
       "      <th>167597</th>\n",
       "      <td>NaN</td>\n",
       "      <td>2.0</td>\n",
       "    </tr>\n",
       "    <tr>\n",
       "      <th>167598</th>\n",
       "      <td>NaN</td>\n",
       "      <td>2.0</td>\n",
       "    </tr>\n",
       "  </tbody>\n",
       "</table>\n",
       "<p>589 rows × 2 columns</p>\n",
       "</div>"
      ],
      "text/plain": [
       "        qualifying_SpeedI1  qualifying_Stint\n",
       "167010                 NaN               2.0\n",
       "167011                 NaN               2.0\n",
       "167012                 NaN               2.0\n",
       "167013                 NaN               2.0\n",
       "167014                 NaN               2.0\n",
       "...                    ...               ...\n",
       "167594                 NaN               2.0\n",
       "167595                 NaN               2.0\n",
       "167596                 NaN               2.0\n",
       "167597                 NaN               2.0\n",
       "167598                 NaN               2.0\n",
       "\n",
       "[589 rows x 2 columns]"
      ]
     },
     "execution_count": 52,
     "metadata": {},
     "output_type": "execute_result"
    }
   ],
   "source": [
    "query = (qualifying_data_clean['qualifying_lapId']==33) & (qualifying_data_clean['raceId']==1000) & (qualifying_data_clean['qualifying_DriverNumber'] ==7)\n",
    "print('percentage nans:',(qualifying_data_clean.loc[query,'qualifying_SpeedI1'].isna().sum()/len(qualifying_data_clean.loc[query,'qualifying_SpeedI1']))*100)\n",
    "qualifying_data_clean.loc[query,['qualifying_SpeedI1','qualifying_Stint']]"
   ]
  },
  {
   "cell_type": "markdown",
   "metadata": {},
   "source": [
    "This Function fills the parameter based on the mean for that qualifying stint."
   ]
  },
  {
   "cell_type": "code",
   "execution_count": 53,
   "metadata": {},
   "outputs": [],
   "source": [
    "qualifying_data_clean = fill_mean_parameter(qualifying_data_clean,'qualifying_SpeedI1')"
   ]
  },
  {
   "cell_type": "code",
   "execution_count": 54,
   "metadata": {},
   "outputs": [
    {
     "name": "stdout",
     "output_type": "stream",
     "text": [
      "This dataframe has 78285 NaN values\n",
      " The NaN values come from: ['qualifying_SpeedI2', 'qualifying_SpeedFL', 'qualifying_SpeedST', 'qualifying_Compound', 'qualifying_TyreLife', 'qualifying_FreshTyre', 'qualifying_Stint', 'qualifying_DistanceToDriverAhead']. \n",
      "\n"
     ]
    }
   ],
   "source": [
    "ds_ultils.nan_checker(qualifying_data_clean)"
   ]
  },
  {
   "cell_type": "code",
   "execution_count": 55,
   "metadata": {},
   "outputs": [],
   "source": [
    "qualifying_data_clean = fill_mean_parameter(qualifying_data_clean,'qualifying_SpeedI2')\n",
    "qualifying_data_clean = fill_mean_parameter(qualifying_data_clean,'qualifying_SpeedFL')\n",
    "qualifying_data_clean = fill_mean_parameter(qualifying_data_clean,'qualifying_SpeedST')"
   ]
  },
  {
   "cell_type": "markdown",
   "metadata": {},
   "source": [
    "Investigate NaN tyre values"
   ]
  },
  {
   "cell_type": "code",
   "execution_count": 56,
   "metadata": {},
   "outputs": [
    {
     "data": {
      "text/html": [
       "<div>\n",
       "<style scoped>\n",
       "    .dataframe tbody tr th:only-of-type {\n",
       "        vertical-align: middle;\n",
       "    }\n",
       "\n",
       "    .dataframe tbody tr th {\n",
       "        vertical-align: top;\n",
       "    }\n",
       "\n",
       "    .dataframe thead th {\n",
       "        text-align: right;\n",
       "    }\n",
       "</style>\n",
       "<table border=\"1\" class=\"dataframe\">\n",
       "  <thead>\n",
       "    <tr style=\"text-align: right;\">\n",
       "      <th></th>\n",
       "      <th>qualifying_Compound</th>\n",
       "      <th>qualifying_TyreLife</th>\n",
       "      <th>qualifying_FreshTyre</th>\n",
       "      <th>qualifying_Stint</th>\n",
       "    </tr>\n",
       "  </thead>\n",
       "  <tbody>\n",
       "    <tr>\n",
       "      <th>79477</th>\n",
       "      <td>NaN</td>\n",
       "      <td>NaN</td>\n",
       "      <td>NaN</td>\n",
       "      <td>NaN</td>\n",
       "    </tr>\n",
       "    <tr>\n",
       "      <th>79478</th>\n",
       "      <td>NaN</td>\n",
       "      <td>NaN</td>\n",
       "      <td>NaN</td>\n",
       "      <td>NaN</td>\n",
       "    </tr>\n",
       "    <tr>\n",
       "      <th>79479</th>\n",
       "      <td>NaN</td>\n",
       "      <td>NaN</td>\n",
       "      <td>NaN</td>\n",
       "      <td>NaN</td>\n",
       "    </tr>\n",
       "    <tr>\n",
       "      <th>79480</th>\n",
       "      <td>NaN</td>\n",
       "      <td>NaN</td>\n",
       "      <td>NaN</td>\n",
       "      <td>NaN</td>\n",
       "    </tr>\n",
       "    <tr>\n",
       "      <th>79481</th>\n",
       "      <td>NaN</td>\n",
       "      <td>NaN</td>\n",
       "      <td>NaN</td>\n",
       "      <td>NaN</td>\n",
       "    </tr>\n",
       "    <tr>\n",
       "      <th>...</th>\n",
       "      <td>...</td>\n",
       "      <td>...</td>\n",
       "      <td>...</td>\n",
       "      <td>...</td>\n",
       "    </tr>\n",
       "    <tr>\n",
       "      <th>546466</th>\n",
       "      <td>NaN</td>\n",
       "      <td>NaN</td>\n",
       "      <td>NaN</td>\n",
       "      <td>NaN</td>\n",
       "    </tr>\n",
       "    <tr>\n",
       "      <th>546467</th>\n",
       "      <td>NaN</td>\n",
       "      <td>NaN</td>\n",
       "      <td>NaN</td>\n",
       "      <td>NaN</td>\n",
       "    </tr>\n",
       "    <tr>\n",
       "      <th>546468</th>\n",
       "      <td>NaN</td>\n",
       "      <td>NaN</td>\n",
       "      <td>NaN</td>\n",
       "      <td>NaN</td>\n",
       "    </tr>\n",
       "    <tr>\n",
       "      <th>546469</th>\n",
       "      <td>NaN</td>\n",
       "      <td>NaN</td>\n",
       "      <td>NaN</td>\n",
       "      <td>NaN</td>\n",
       "    </tr>\n",
       "    <tr>\n",
       "      <th>546470</th>\n",
       "      <td>NaN</td>\n",
       "      <td>NaN</td>\n",
       "      <td>NaN</td>\n",
       "      <td>NaN</td>\n",
       "    </tr>\n",
       "  </tbody>\n",
       "</table>\n",
       "<p>2470 rows × 4 columns</p>\n",
       "</div>"
      ],
      "text/plain": [
       "       qualifying_Compound  qualifying_TyreLife qualifying_FreshTyre  \\\n",
       "79477                  NaN                  NaN                  NaN   \n",
       "79478                  NaN                  NaN                  NaN   \n",
       "79479                  NaN                  NaN                  NaN   \n",
       "79480                  NaN                  NaN                  NaN   \n",
       "79481                  NaN                  NaN                  NaN   \n",
       "...                    ...                  ...                  ...   \n",
       "546466                 NaN                  NaN                  NaN   \n",
       "546467                 NaN                  NaN                  NaN   \n",
       "546468                 NaN                  NaN                  NaN   \n",
       "546469                 NaN                  NaN                  NaN   \n",
       "546470                 NaN                  NaN                  NaN   \n",
       "\n",
       "        qualifying_Stint  \n",
       "79477                NaN  \n",
       "79478                NaN  \n",
       "79479                NaN  \n",
       "79480                NaN  \n",
       "79481                NaN  \n",
       "...                  ...  \n",
       "546466               NaN  \n",
       "546467               NaN  \n",
       "546468               NaN  \n",
       "546469               NaN  \n",
       "546470               NaN  \n",
       "\n",
       "[2470 rows x 4 columns]"
      ]
     },
     "execution_count": 56,
     "metadata": {},
     "output_type": "execute_result"
    }
   ],
   "source": [
    "qualifying_data_clean.loc[qualifying_data_clean['qualifying_Compound'].isna(),['qualifying_Compound', 'qualifying_TyreLife', 'qualifying_FreshTyre', 'qualifying_Stint']]"
   ]
  },
  {
   "cell_type": "code",
   "execution_count": 57,
   "metadata": {},
   "outputs": [
    {
     "name": "stdout",
     "output_type": "stream",
     "text": [
      "compound nans : 2470\n",
      "Tyrelife nans : 2470\n",
      "FreshTyre nans : 2470\n",
      "Stint nans : 2470\n",
      "distance to driver ahead nans : 59596\n"
     ]
    }
   ],
   "source": [
    "print('compound nans :', qualifying_data_clean['qualifying_Compound'].isna().sum())\n",
    "print('Tyrelife nans :',qualifying_data_clean['qualifying_TyreLife'].isna().sum())\n",
    "print('FreshTyre nans :',qualifying_data_clean['qualifying_FreshTyre'].isna().sum())\n",
    "print('Stint nans :',qualifying_data_clean['qualifying_Stint'].isna().sum())\n",
    "print('distance to driver ahead nans :',qualifying_data_clean['qualifying_DistanceToDriverAhead'].isna().sum())\n"
   ]
  },
  {
   "cell_type": "code",
   "execution_count": 58,
   "metadata": {},
   "outputs": [
    {
     "data": {
      "text/plain": [
       "qualifying_Compound     0.245075\n",
       "qualifying_TyreLife     0.245075\n",
       "qualifying_FreshTyre    0.245075\n",
       "qualifying_Stint        0.245075\n",
       "dtype: float64"
      ]
     },
     "execution_count": 58,
     "metadata": {},
     "output_type": "execute_result"
    }
   ],
   "source": [
    "(qualifying_data_clean.loc[qualifying_data_clean['qualifying_Compound'].isna(),['qualifying_Compound', 'qualifying_TyreLife', 'qualifying_FreshTyre', 'qualifying_Stint']].isna().sum()/len(qualifying_data_clean))*100"
   ]
  },
  {
   "cell_type": "markdown",
   "metadata": {},
   "source": [
    "These rows have NaN values for qualifying stint as well so can't not fill with the mean for that stint. Compound, tyreLife, freshtyre, stint all have there nans at the same rows. Drop these rows as 0.2% of the data"
   ]
  },
  {
   "cell_type": "code",
   "execution_count": 59,
   "metadata": {},
   "outputs": [],
   "source": [
    "qualifying_data_clean=qualifying_data_clean[qualifying_data_clean.index.isin(qualifying_data_clean['qualifying_Compound'].dropna(axis=0).index)].copy()"
   ]
  },
  {
   "cell_type": "markdown",
   "metadata": {},
   "source": [
    "Distance to driver ahead"
   ]
  },
  {
   "cell_type": "code",
   "execution_count": 60,
   "metadata": {},
   "outputs": [
    {
     "data": {
      "text/plain": [
       "5.752826780613178"
      ]
     },
     "execution_count": 60,
     "metadata": {},
     "output_type": "execute_result"
    }
   ],
   "source": [
    "(qualifying_data_clean['qualifying_DistanceToDriverAhead'].isna().sum()/len(qualifying_data_clean))*100"
   ]
  },
  {
   "cell_type": "markdown",
   "metadata": {},
   "source": [
    "Distance to driver ahead every lap has 5% of the data missing. This can not be dropped and has to be filled. However for this lap it is always nan and even for the whole qualifying stint. Therefore since it is expected not to be a key parameter the missing values are filled with mean for that driver and race."
   ]
  },
  {
   "cell_type": "code",
   "execution_count": 61,
   "metadata": {},
   "outputs": [],
   "source": [
    "indexes = qualifying_data_clean.loc[qualifying_data_clean['qualifying_DistanceToDriverAhead'].isna()].groupby(['qualifying_lapId',\n",
    "'raceId','qualifying_DriverNumber'])['qualifying_Stint'].unique().index\n",
    "values = qualifying_data_clean.loc[qualifying_data_clean['qualifying_DistanceToDriverAhead'].isna()].groupby(['qualifying_lapId',\n",
    "'raceId','qualifying_DriverNumber'])['qualifying_Stint'].unique().values\n",
    "for i,ind in enumerate(indexes):   \n",
    "    query = (qualifying_data_clean['raceId']==ind[1]) & (qualifying_data_clean['qualifying_DriverNumber'] ==ind[2])\n",
    "    mean_para = qualifying_data_clean.loc[query,['qualifying_DistanceToDriverAhead']].mean()\n",
    "    query2= (qualifying_data_clean['qualifying_lapId']==ind[0])&(qualifying_data_clean['raceId']==ind[1]) & (qualifying_data_clean['qualifying_DriverNumber'] ==ind[2])\n",
    "    qualifying_data_clean.loc[query2,['qualifying_DistanceToDriverAhead']] = mean_para.values"
   ]
  },
  {
   "cell_type": "code",
   "execution_count": 62,
   "metadata": {},
   "outputs": [
    {
     "name": "stdout",
     "output_type": "stream",
     "text": [
      "This dataframe has 0 NaN values\n"
     ]
    }
   ],
   "source": [
    "ds_ultils.nan_checker(qualifying_data_clean)"
   ]
  },
  {
   "cell_type": "markdown",
   "metadata": {},
   "source": [
    "The dataframe has no nulls and most of the duplicated information in the columns is removed"
   ]
  },
  {
   "cell_type": "code",
   "execution_count": 63,
   "metadata": {},
   "outputs": [
    {
     "data": {
      "text/plain": [
       "0"
      ]
     },
     "execution_count": 63,
     "metadata": {},
     "output_type": "execute_result"
    }
   ],
   "source": [
    "qualifying_data_clean.duplicated().sum()\n",
    "# 0 duplicated rows"
   ]
  },
  {
   "cell_type": "markdown",
   "metadata": {},
   "source": [
    "## Checking Time Columns:\n",
    "<a id=\"save\"></a>\n",
    "\n",
    "The columns of sector times and lap times are objects but should be pandas time deltas occurding to FastF1 data dictionary so need to be converted to time deltas to be then converted to floats."
   ]
  },
  {
   "cell_type": "code",
   "execution_count": 65,
   "metadata": {},
   "outputs": [
    {
     "data": {
      "text/html": [
       "<div>\n",
       "<style scoped>\n",
       "    .dataframe tbody tr th:only-of-type {\n",
       "        vertical-align: middle;\n",
       "    }\n",
       "\n",
       "    .dataframe tbody tr th {\n",
       "        vertical-align: top;\n",
       "    }\n",
       "\n",
       "    .dataframe thead th {\n",
       "        text-align: right;\n",
       "    }\n",
       "</style>\n",
       "<table border=\"1\" class=\"dataframe\">\n",
       "  <thead>\n",
       "    <tr style=\"text-align: right;\">\n",
       "      <th></th>\n",
       "      <th>qualifying_LapTime</th>\n",
       "      <th>qualifying_Time_x</th>\n",
       "      <th>qualifying_Sector1Time</th>\n",
       "      <th>qualifying_Sector2Time</th>\n",
       "      <th>qualifying_Sector3Time</th>\n",
       "      <th>qualifying_Sector1SessionTime</th>\n",
       "      <th>qualifying_Sector2SessionTime</th>\n",
       "      <th>qualifying_Sector3SessionTime</th>\n",
       "      <th>qualifying_LapStartTime</th>\n",
       "      <th>qualifying_LapStartDate</th>\n",
       "      <th>qualifying_Date</th>\n",
       "      <th>qualifying_SessionTime</th>\n",
       "      <th>qualifying_Time_y</th>\n",
       "    </tr>\n",
       "  </thead>\n",
       "  <tbody>\n",
       "    <tr>\n",
       "      <th>0</th>\n",
       "      <td>0 days 00:01:04.539000</td>\n",
       "      <td>0 days 00:08:43.423000</td>\n",
       "      <td>0 days 00:00:16.343000</td>\n",
       "      <td>0 days 00:00:28.620000</td>\n",
       "      <td>0 days 00:00:19.576000</td>\n",
       "      <td>0 days 00:07:55.227000</td>\n",
       "      <td>0 days 00:08:23.847000</td>\n",
       "      <td>0 days 00:08:43.423000</td>\n",
       "      <td>0 days 00:07:38.884000</td>\n",
       "      <td>2018-06-30 13:03:47.133</td>\n",
       "      <td>2018-06-30 13:03:47.133</td>\n",
       "      <td>0 days 00:07:38.884000</td>\n",
       "      <td>0 days 00:00:00</td>\n",
       "    </tr>\n",
       "    <tr>\n",
       "      <th>1</th>\n",
       "      <td>0 days 00:01:04.539000</td>\n",
       "      <td>0 days 00:08:43.423000</td>\n",
       "      <td>0 days 00:00:16.343000</td>\n",
       "      <td>0 days 00:00:28.620000</td>\n",
       "      <td>0 days 00:00:19.576000</td>\n",
       "      <td>0 days 00:07:55.227000</td>\n",
       "      <td>0 days 00:08:23.847000</td>\n",
       "      <td>0 days 00:08:43.423000</td>\n",
       "      <td>0 days 00:07:38.884000</td>\n",
       "      <td>2018-06-30 13:03:47.133</td>\n",
       "      <td>2018-06-30 13:03:47.280</td>\n",
       "      <td>0 days 00:07:39.031000</td>\n",
       "      <td>0 days 00:00:00.147000</td>\n",
       "    </tr>\n",
       "    <tr>\n",
       "      <th>2</th>\n",
       "      <td>0 days 00:01:04.539000</td>\n",
       "      <td>0 days 00:08:43.423000</td>\n",
       "      <td>0 days 00:00:16.343000</td>\n",
       "      <td>0 days 00:00:28.620000</td>\n",
       "      <td>0 days 00:00:19.576000</td>\n",
       "      <td>0 days 00:07:55.227000</td>\n",
       "      <td>0 days 00:08:23.847000</td>\n",
       "      <td>0 days 00:08:43.423000</td>\n",
       "      <td>0 days 00:07:38.884000</td>\n",
       "      <td>2018-06-30 13:03:47.133</td>\n",
       "      <td>2018-06-30 13:03:47.324</td>\n",
       "      <td>0 days 00:07:39.075000</td>\n",
       "      <td>0 days 00:00:00.191000</td>\n",
       "    </tr>\n",
       "    <tr>\n",
       "      <th>3</th>\n",
       "      <td>0 days 00:01:04.539000</td>\n",
       "      <td>0 days 00:08:43.423000</td>\n",
       "      <td>0 days 00:00:16.343000</td>\n",
       "      <td>0 days 00:00:28.620000</td>\n",
       "      <td>0 days 00:00:19.576000</td>\n",
       "      <td>0 days 00:07:55.227000</td>\n",
       "      <td>0 days 00:08:23.847000</td>\n",
       "      <td>0 days 00:08:43.423000</td>\n",
       "      <td>0 days 00:07:38.884000</td>\n",
       "      <td>2018-06-30 13:03:47.133</td>\n",
       "      <td>2018-06-30 13:03:47.564</td>\n",
       "      <td>0 days 00:07:39.315000</td>\n",
       "      <td>0 days 00:00:00.431000</td>\n",
       "    </tr>\n",
       "    <tr>\n",
       "      <th>4</th>\n",
       "      <td>0 days 00:01:04.539000</td>\n",
       "      <td>0 days 00:08:43.423000</td>\n",
       "      <td>0 days 00:00:16.343000</td>\n",
       "      <td>0 days 00:00:28.620000</td>\n",
       "      <td>0 days 00:00:19.576000</td>\n",
       "      <td>0 days 00:07:55.227000</td>\n",
       "      <td>0 days 00:08:23.847000</td>\n",
       "      <td>0 days 00:08:43.423000</td>\n",
       "      <td>0 days 00:07:38.884000</td>\n",
       "      <td>2018-06-30 13:03:47.133</td>\n",
       "      <td>2018-06-30 13:03:47.579</td>\n",
       "      <td>0 days 00:07:39.330000</td>\n",
       "      <td>0 days 00:00:00.446000</td>\n",
       "    </tr>\n",
       "    <tr>\n",
       "      <th>...</th>\n",
       "      <td>...</td>\n",
       "      <td>...</td>\n",
       "      <td>...</td>\n",
       "      <td>...</td>\n",
       "      <td>...</td>\n",
       "      <td>...</td>\n",
       "      <td>...</td>\n",
       "      <td>...</td>\n",
       "      <td>...</td>\n",
       "      <td>...</td>\n",
       "      <td>...</td>\n",
       "      <td>...</td>\n",
       "      <td>...</td>\n",
       "    </tr>\n",
       "    <tr>\n",
       "      <th>1018653</th>\n",
       "      <td>0 days 00:01:20.547000</td>\n",
       "      <td>0 days 00:32:57.064000</td>\n",
       "      <td>0 days 00:00:22.227000</td>\n",
       "      <td>0 days 00:00:30.223000</td>\n",
       "      <td>0 days 00:00:28.097000</td>\n",
       "      <td>0 days 00:31:58.744000</td>\n",
       "      <td>0 days 00:32:28.967000</td>\n",
       "      <td>0 days 00:32:57.064000</td>\n",
       "      <td>0 days 00:31:36.517000</td>\n",
       "      <td>2019-05-11 13:16:36.564</td>\n",
       "      <td>2019-05-11 13:17:56.609</td>\n",
       "      <td>0 days 00:32:56.562000</td>\n",
       "      <td>0 days 00:01:20.045000</td>\n",
       "    </tr>\n",
       "    <tr>\n",
       "      <th>1018654</th>\n",
       "      <td>0 days 00:01:20.547000</td>\n",
       "      <td>0 days 00:32:57.064000</td>\n",
       "      <td>0 days 00:00:22.227000</td>\n",
       "      <td>0 days 00:00:30.223000</td>\n",
       "      <td>0 days 00:00:28.097000</td>\n",
       "      <td>0 days 00:31:58.744000</td>\n",
       "      <td>0 days 00:32:28.967000</td>\n",
       "      <td>0 days 00:32:57.064000</td>\n",
       "      <td>0 days 00:31:36.517000</td>\n",
       "      <td>2019-05-11 13:16:36.564</td>\n",
       "      <td>2019-05-11 13:17:56.810</td>\n",
       "      <td>0 days 00:32:56.763000</td>\n",
       "      <td>0 days 00:01:20.246000</td>\n",
       "    </tr>\n",
       "    <tr>\n",
       "      <th>1018655</th>\n",
       "      <td>0 days 00:01:20.547000</td>\n",
       "      <td>0 days 00:32:57.064000</td>\n",
       "      <td>0 days 00:00:22.227000</td>\n",
       "      <td>0 days 00:00:30.223000</td>\n",
       "      <td>0 days 00:00:28.097000</td>\n",
       "      <td>0 days 00:31:58.744000</td>\n",
       "      <td>0 days 00:32:28.967000</td>\n",
       "      <td>0 days 00:32:57.064000</td>\n",
       "      <td>0 days 00:31:36.517000</td>\n",
       "      <td>2019-05-11 13:16:36.564</td>\n",
       "      <td>2019-05-11 13:17:56.849</td>\n",
       "      <td>0 days 00:32:56.802000</td>\n",
       "      <td>0 days 00:01:20.285000</td>\n",
       "    </tr>\n",
       "    <tr>\n",
       "      <th>1018656</th>\n",
       "      <td>0 days 00:01:20.547000</td>\n",
       "      <td>0 days 00:32:57.064000</td>\n",
       "      <td>0 days 00:00:22.227000</td>\n",
       "      <td>0 days 00:00:30.223000</td>\n",
       "      <td>0 days 00:00:28.097000</td>\n",
       "      <td>0 days 00:31:58.744000</td>\n",
       "      <td>0 days 00:32:28.967000</td>\n",
       "      <td>0 days 00:32:57.064000</td>\n",
       "      <td>0 days 00:31:36.517000</td>\n",
       "      <td>2019-05-11 13:16:36.564</td>\n",
       "      <td>2019-05-11 13:17:57.050</td>\n",
       "      <td>0 days 00:32:57.003000</td>\n",
       "      <td>0 days 00:01:20.486000</td>\n",
       "    </tr>\n",
       "    <tr>\n",
       "      <th>1018657</th>\n",
       "      <td>0 days 00:01:20.547000</td>\n",
       "      <td>0 days 00:32:57.064000</td>\n",
       "      <td>0 days 00:00:22.227000</td>\n",
       "      <td>0 days 00:00:30.223000</td>\n",
       "      <td>0 days 00:00:28.097000</td>\n",
       "      <td>0 days 00:31:58.744000</td>\n",
       "      <td>0 days 00:32:28.967000</td>\n",
       "      <td>0 days 00:32:57.064000</td>\n",
       "      <td>0 days 00:31:36.517000</td>\n",
       "      <td>2019-05-11 13:16:36.564</td>\n",
       "      <td>2019-05-11 13:17:57.111</td>\n",
       "      <td>0 days 00:32:57.064000</td>\n",
       "      <td>0 days 00:01:20.547000</td>\n",
       "    </tr>\n",
       "  </tbody>\n",
       "</table>\n",
       "<p>1005384 rows × 13 columns</p>\n",
       "</div>"
      ],
      "text/plain": [
       "             qualifying_LapTime       qualifying_Time_x  \\\n",
       "0        0 days 00:01:04.539000  0 days 00:08:43.423000   \n",
       "1        0 days 00:01:04.539000  0 days 00:08:43.423000   \n",
       "2        0 days 00:01:04.539000  0 days 00:08:43.423000   \n",
       "3        0 days 00:01:04.539000  0 days 00:08:43.423000   \n",
       "4        0 days 00:01:04.539000  0 days 00:08:43.423000   \n",
       "...                         ...                     ...   \n",
       "1018653  0 days 00:01:20.547000  0 days 00:32:57.064000   \n",
       "1018654  0 days 00:01:20.547000  0 days 00:32:57.064000   \n",
       "1018655  0 days 00:01:20.547000  0 days 00:32:57.064000   \n",
       "1018656  0 days 00:01:20.547000  0 days 00:32:57.064000   \n",
       "1018657  0 days 00:01:20.547000  0 days 00:32:57.064000   \n",
       "\n",
       "         qualifying_Sector1Time  qualifying_Sector2Time  \\\n",
       "0        0 days 00:00:16.343000  0 days 00:00:28.620000   \n",
       "1        0 days 00:00:16.343000  0 days 00:00:28.620000   \n",
       "2        0 days 00:00:16.343000  0 days 00:00:28.620000   \n",
       "3        0 days 00:00:16.343000  0 days 00:00:28.620000   \n",
       "4        0 days 00:00:16.343000  0 days 00:00:28.620000   \n",
       "...                         ...                     ...   \n",
       "1018653  0 days 00:00:22.227000  0 days 00:00:30.223000   \n",
       "1018654  0 days 00:00:22.227000  0 days 00:00:30.223000   \n",
       "1018655  0 days 00:00:22.227000  0 days 00:00:30.223000   \n",
       "1018656  0 days 00:00:22.227000  0 days 00:00:30.223000   \n",
       "1018657  0 days 00:00:22.227000  0 days 00:00:30.223000   \n",
       "\n",
       "         qualifying_Sector3Time qualifying_Sector1SessionTime  \\\n",
       "0        0 days 00:00:19.576000        0 days 00:07:55.227000   \n",
       "1        0 days 00:00:19.576000        0 days 00:07:55.227000   \n",
       "2        0 days 00:00:19.576000        0 days 00:07:55.227000   \n",
       "3        0 days 00:00:19.576000        0 days 00:07:55.227000   \n",
       "4        0 days 00:00:19.576000        0 days 00:07:55.227000   \n",
       "...                         ...                           ...   \n",
       "1018653  0 days 00:00:28.097000        0 days 00:31:58.744000   \n",
       "1018654  0 days 00:00:28.097000        0 days 00:31:58.744000   \n",
       "1018655  0 days 00:00:28.097000        0 days 00:31:58.744000   \n",
       "1018656  0 days 00:00:28.097000        0 days 00:31:58.744000   \n",
       "1018657  0 days 00:00:28.097000        0 days 00:31:58.744000   \n",
       "\n",
       "        qualifying_Sector2SessionTime qualifying_Sector3SessionTime  \\\n",
       "0              0 days 00:08:23.847000        0 days 00:08:43.423000   \n",
       "1              0 days 00:08:23.847000        0 days 00:08:43.423000   \n",
       "2              0 days 00:08:23.847000        0 days 00:08:43.423000   \n",
       "3              0 days 00:08:23.847000        0 days 00:08:43.423000   \n",
       "4              0 days 00:08:23.847000        0 days 00:08:43.423000   \n",
       "...                               ...                           ...   \n",
       "1018653        0 days 00:32:28.967000        0 days 00:32:57.064000   \n",
       "1018654        0 days 00:32:28.967000        0 days 00:32:57.064000   \n",
       "1018655        0 days 00:32:28.967000        0 days 00:32:57.064000   \n",
       "1018656        0 days 00:32:28.967000        0 days 00:32:57.064000   \n",
       "1018657        0 days 00:32:28.967000        0 days 00:32:57.064000   \n",
       "\n",
       "        qualifying_LapStartTime  qualifying_LapStartDate  \\\n",
       "0        0 days 00:07:38.884000  2018-06-30 13:03:47.133   \n",
       "1        0 days 00:07:38.884000  2018-06-30 13:03:47.133   \n",
       "2        0 days 00:07:38.884000  2018-06-30 13:03:47.133   \n",
       "3        0 days 00:07:38.884000  2018-06-30 13:03:47.133   \n",
       "4        0 days 00:07:38.884000  2018-06-30 13:03:47.133   \n",
       "...                         ...                      ...   \n",
       "1018653  0 days 00:31:36.517000  2019-05-11 13:16:36.564   \n",
       "1018654  0 days 00:31:36.517000  2019-05-11 13:16:36.564   \n",
       "1018655  0 days 00:31:36.517000  2019-05-11 13:16:36.564   \n",
       "1018656  0 days 00:31:36.517000  2019-05-11 13:16:36.564   \n",
       "1018657  0 days 00:31:36.517000  2019-05-11 13:16:36.564   \n",
       "\n",
       "                 qualifying_Date  qualifying_SessionTime  \\\n",
       "0        2018-06-30 13:03:47.133  0 days 00:07:38.884000   \n",
       "1        2018-06-30 13:03:47.280  0 days 00:07:39.031000   \n",
       "2        2018-06-30 13:03:47.324  0 days 00:07:39.075000   \n",
       "3        2018-06-30 13:03:47.564  0 days 00:07:39.315000   \n",
       "4        2018-06-30 13:03:47.579  0 days 00:07:39.330000   \n",
       "...                          ...                     ...   \n",
       "1018653  2019-05-11 13:17:56.609  0 days 00:32:56.562000   \n",
       "1018654  2019-05-11 13:17:56.810  0 days 00:32:56.763000   \n",
       "1018655  2019-05-11 13:17:56.849  0 days 00:32:56.802000   \n",
       "1018656  2019-05-11 13:17:57.050  0 days 00:32:57.003000   \n",
       "1018657  2019-05-11 13:17:57.111  0 days 00:32:57.064000   \n",
       "\n",
       "              qualifying_Time_y  \n",
       "0               0 days 00:00:00  \n",
       "1        0 days 00:00:00.147000  \n",
       "2        0 days 00:00:00.191000  \n",
       "3        0 days 00:00:00.431000  \n",
       "4        0 days 00:00:00.446000  \n",
       "...                         ...  \n",
       "1018653  0 days 00:01:20.045000  \n",
       "1018654  0 days 00:01:20.246000  \n",
       "1018655  0 days 00:01:20.285000  \n",
       "1018656  0 days 00:01:20.486000  \n",
       "1018657  0 days 00:01:20.547000  \n",
       "\n",
       "[1005384 rows x 13 columns]"
      ]
     },
     "execution_count": 65,
     "metadata": {},
     "output_type": "execute_result"
    }
   ],
   "source": [
    "qualifying_data_clean[['qualifying_LapTime','qualifying_Time_x','qualifying_Sector1Time',\n",
    "       'qualifying_Sector2Time', 'qualifying_Sector3Time','qualifying_Sector1SessionTime', 'qualifying_Sector2SessionTime',\n",
    "       'qualifying_Sector3SessionTime','qualifying_LapStartTime','qualifying_LapStartDate','qualifying_Date',\n",
    "       'qualifying_SessionTime', 'qualifying_Time_y']]"
   ]
  },
  {
   "cell_type": "markdown",
   "metadata": {},
   "source": [
    "## Data Dictionary of Time Columns:"
   ]
  },
  {
   "cell_type": "markdown",
   "metadata": {},
   "source": [
    "- `Time_x` (pandas.Timedelta): Session time when the lap time was set (end of lap) \n",
    "- `LapTime` (pandas.Timedelta): Recorded lap time. \n",
    "- `Sector1Time` (pandas.Timedelta): Sector 1 recorded time\n",
    "- `Sector2Time` (pandas.Timedelta): Sector 2 recorded time\n",
    "- `Sector3Time` (pandas.Timedelta): Sector 3 recorded time\n",
    "- `Sector1SessionTime` (pandas.Timedelta): Session time when the Sector 1 time was set\n",
    "- `Sector2SessionTime` (pandas.Timedelta): Session time when the Sector 2 time was set\n",
    "- `Sector3SessionTime` (pandas.Timedelta): Session time when the Sector 3 time was set\n",
    "- `LapStartTime` (pandas.Timedelta): Session time at the start of the lap\n",
    "- `LapStartDate` (pandas.Timestamp): Timestamp at the start of the lap\n",
    "- `Time_y` (timedelta): Time (0 is start of the data slice)\n",
    "- `SessionTime` (timedelta): Time elapsed since the start of the session\n",
    "- `Date` (datetime): The full date + time at which this sample was created\n",
    "\n",
    "\n",
    "`Laptime`, `sector` times are useful performance metrics\n",
    "\n",
    "When the laptime occured in the session could be useful for when the track is increasing in performance\n",
    "\n",
    "The times of the session when the sectors where recorded can be recreated from session time and lap time, and sectors time\n",
    "\n",
    "`LapStartTime` & `LapStartDate` repeat each other therefore we will keep only `LapStartDate`\n",
    "\n",
    "`Time_y` is the time delta from 0 at start of the lap, very useful for metrics around the lap\n",
    "\n",
    "`SessionTime` and `Date` around the lap are not needed as they can be recreated if need from other metrics"
   ]
  },
  {
   "cell_type": "code",
   "execution_count": 66,
   "metadata": {},
   "outputs": [],
   "source": [
    "qualifying_data_clean.drop(columns=['qualifying_Sector1SessionTime',\n",
    "'qualifying_Sector2SessionTime',\n",
    "'qualifying_Sector3SessionTime',\n",
    "'qualifying_LapStartTime',\n",
    "'qualifying_Date',\n",
    "'qualifying_SessionTime',    \n",
    "],axis=1, inplace=True)"
   ]
  },
  {
   "cell_type": "code",
   "execution_count": 67,
   "metadata": {},
   "outputs": [],
   "source": [
    "qualifying_data_clean.rename(columns ={'qualifying_Time_x':'qualifying_end_lap_sessiontime','qualifying_Time_y':'qualifying_lap_timedelta'},inplace=True)"
   ]
  },
  {
   "cell_type": "code",
   "execution_count": 68,
   "metadata": {},
   "outputs": [
    {
     "name": "stdout",
     "output_type": "stream",
     "text": [
      "<class 'pandas.core.frame.DataFrame'>\n",
      "Int64Index: 1005384 entries, 0 to 1018657\n",
      "Data columns (total 71 columns):\n",
      " #   Column                            Non-Null Count    Dtype         \n",
      "---  ------                            --------------    -----         \n",
      " 0   raceId                            1005384 non-null  int64         \n",
      " 1   year                              1005384 non-null  int64         \n",
      " 2   name                              1005384 non-null  object        \n",
      " 3   date                              1005384 non-null  datetime64[ns]\n",
      " 4   time                              1005384 non-null  object        \n",
      " 5   lat_x                             1005384 non-null  float64       \n",
      " 6   lng_x                             1005384 non-null  float64       \n",
      " 7   circuitRef                        1005384 non-null  object        \n",
      " 8   country                           1005384 non-null  object        \n",
      " 9   alt                               1005384 non-null  float64       \n",
      " 10  qualifyId                         1005384 non-null  int64         \n",
      " 11  quali_position                    1005384 non-null  int64         \n",
      " 12  positionOrder                     1005384 non-null  float64       \n",
      " 13  points                            1005384 non-null  float64       \n",
      " 14  points_drivers                    1005384 non-null  float64       \n",
      " 15  position_drivers                  1005384 non-null  float64       \n",
      " 16  wins_drivers                      1005384 non-null  float64       \n",
      " 17  points_constructors               1005384 non-null  float64       \n",
      " 18  position_constructors             1005384 non-null  float64       \n",
      " 19  wins_constructors                 1005384 non-null  float64       \n",
      " 20  points_constructor_ind_races      1005384 non-null  float64       \n",
      " 21  driverRef                         1005384 non-null  object        \n",
      " 22  nationality_drivers               1005384 non-null  object        \n",
      " 23  constructorRef                    1005384 non-null  object        \n",
      " 24  nationality_constructors          1005384 non-null  object        \n",
      " 25  qualifying_lapId                  1005384 non-null  float64       \n",
      " 26  qualifying_end_lap_sessiontime    1005384 non-null  object        \n",
      " 27  qualifying_DriverNumber           1005384 non-null  float64       \n",
      " 28  qualifying_LapTime                1005384 non-null  object        \n",
      " 29  qualifying_LapNumber              1005384 non-null  float64       \n",
      " 30  qualifying_Sector1Time            1005384 non-null  object        \n",
      " 31  qualifying_Sector2Time            1005384 non-null  object        \n",
      " 32  qualifying_Sector3Time            1005384 non-null  object        \n",
      " 33  qualifying_SpeedI1                1005384 non-null  float64       \n",
      " 34  qualifying_SpeedI2                1005384 non-null  float64       \n",
      " 35  qualifying_SpeedFL                1005384 non-null  float64       \n",
      " 36  qualifying_SpeedST                1005384 non-null  float64       \n",
      " 37  qualifying_IsPersonalBest         1005384 non-null  object        \n",
      " 38  qualifying_Compound               1005384 non-null  object        \n",
      " 39  qualifying_TyreLife               1005384 non-null  float64       \n",
      " 40  qualifying_FreshTyre              1005384 non-null  object        \n",
      " 41  qualifying_Stint                  1005384 non-null  float64       \n",
      " 42  qualifying_Team                   1005384 non-null  object        \n",
      " 43  qualifying_Driver                 1005384 non-null  object        \n",
      " 44  qualifying_TrackStatus            1005384 non-null  float64       \n",
      " 45  qualifying_IsAccurate             1005384 non-null  object        \n",
      " 46  qualifying_LapStartDate           1005384 non-null  object        \n",
      " 47  qualifying_AirTemp                1005384 non-null  float64       \n",
      " 48  qualifying_Humidity               1005384 non-null  float64       \n",
      " 49  qualifying_Pressure               1005384 non-null  float64       \n",
      " 50  qualifying_Rainfall               1005384 non-null  object        \n",
      " 51  qualifying_TrackTemp              1005384 non-null  float64       \n",
      " 52  qualifying_WindDirection          1005384 non-null  float64       \n",
      " 53  qualifying_WindSpeed              1005384 non-null  float64       \n",
      " 54  qualifying_DistanceToDriverAhead  1005384 non-null  float64       \n",
      " 55  qualifying_lap_timedelta          1005384 non-null  object        \n",
      " 56  qualifying_RPM                    1005384 non-null  float64       \n",
      " 57  qualifying_Speed                  1005384 non-null  float64       \n",
      " 58  qualifying_nGear                  1005384 non-null  float64       \n",
      " 59  qualifying_Throttle               1005384 non-null  float64       \n",
      " 60  qualifying_Brake                  1005384 non-null  object        \n",
      " 61  qualifying_DRS                    1005384 non-null  float64       \n",
      " 62  qualifying_Source                 1005384 non-null  object        \n",
      " 63  qualifying_Distance               1005384 non-null  float64       \n",
      " 64  qualifying_RelativeDistance       1005384 non-null  float64       \n",
      " 65  qualifying_Status                 1005384 non-null  object        \n",
      " 66  qualifying_X                      1005384 non-null  float64       \n",
      " 67  qualifying_Y                      1005384 non-null  float64       \n",
      " 68  qualifying_Z                      1005384 non-null  float64       \n",
      " 69  fastest_lap_milliseconds          1005384 non-null  float64       \n",
      " 70  age                               1005384 non-null  float64       \n",
      "dtypes: datetime64[ns](1), float64(41), int64(4), object(25)\n",
      "memory usage: 552.3+ MB\n"
     ]
    }
   ],
   "source": [
    "qualifying_data_clean.info()"
   ]
  },
  {
   "cell_type": "markdown",
   "metadata": {},
   "source": [
    "Prepare time columns to be converted to float by assigning them as time deltas."
   ]
  },
  {
   "cell_type": "code",
   "execution_count": 69,
   "metadata": {},
   "outputs": [],
   "source": [
    "qualifying_data_clean['qualifying_end_lap_sessiontime'] = qualifying_data_clean['qualifying_end_lap_sessiontime'].astype('timedelta64')"
   ]
  },
  {
   "cell_type": "code",
   "execution_count": 70,
   "metadata": {},
   "outputs": [],
   "source": [
    "qualifying_data_clean['qualifying_LapTime'] = qualifying_data_clean['qualifying_LapTime'].astype('timedelta64')\n",
    "qualifying_data_clean['qualifying_Sector1Time'] = qualifying_data_clean['qualifying_Sector1Time'].astype('timedelta64')\n",
    "qualifying_data_clean['qualifying_Sector2Time'] = qualifying_data_clean['qualifying_Sector2Time'].astype('timedelta64')\n",
    "qualifying_data_clean['qualifying_Sector3Time'] = qualifying_data_clean['qualifying_Sector3Time'].astype('timedelta64')\n",
    "qualifying_data_clean['qualifying_LapStartDate'] = qualifying_data_clean['qualifying_LapStartDate'].astype('datetime64')\n",
    "qualifying_data_clean['qualifying_lap_timedelta'] = qualifying_data_clean['qualifying_lap_timedelta'].astype('timedelta64')"
   ]
  },
  {
   "cell_type": "code",
   "execution_count": 71,
   "metadata": {},
   "outputs": [
    {
     "data": {
      "text/plain": [
       "True"
      ]
     },
     "execution_count": 71,
     "metadata": {},
     "output_type": "execute_result"
    }
   ],
   "source": [
    "qualifying_data_clean['qualifying_LapTime'].dtype == '<m8[ns]'"
   ]
  },
  {
   "cell_type": "markdown",
   "metadata": {},
   "source": [
    "Convert time deltas to total seconds"
   ]
  },
  {
   "cell_type": "code",
   "execution_count": 72,
   "metadata": {},
   "outputs": [
    {
     "name": "stdout",
     "output_type": "stream",
     "text": [
      "qualifying_end_lap_sessiontime\n",
      "qualifying_LapTime\n",
      "qualifying_Sector1Time\n",
      "qualifying_Sector2Time\n",
      "qualifying_Sector3Time\n",
      "qualifying_lap_timedelta\n"
     ]
    }
   ],
   "source": [
    "# convert timedeltas to total seconds\n",
    "column_data = list(qualifying_data_clean.columns)\n",
    "for col in column_data:\n",
    "    if qualifying_data_clean[col].dtype == '<m8[ns]':\n",
    "        print(col)\n",
    "        qualifying_data_clean[col] = qualifying_data_clean[col].dt.total_seconds()"
   ]
  },
  {
   "cell_type": "code",
   "execution_count": 73,
   "metadata": {},
   "outputs": [
    {
     "name": "stdout",
     "output_type": "stream",
     "text": [
      "<class 'pandas.core.frame.DataFrame'>\n",
      "Int64Index: 1005384 entries, 0 to 1018657\n",
      "Data columns (total 71 columns):\n",
      " #   Column                            Non-Null Count    Dtype         \n",
      "---  ------                            --------------    -----         \n",
      " 0   raceId                            1005384 non-null  int64         \n",
      " 1   year                              1005384 non-null  int64         \n",
      " 2   name                              1005384 non-null  object        \n",
      " 3   date                              1005384 non-null  datetime64[ns]\n",
      " 4   time                              1005384 non-null  object        \n",
      " 5   lat_x                             1005384 non-null  float64       \n",
      " 6   lng_x                             1005384 non-null  float64       \n",
      " 7   circuitRef                        1005384 non-null  object        \n",
      " 8   country                           1005384 non-null  object        \n",
      " 9   alt                               1005384 non-null  float64       \n",
      " 10  qualifyId                         1005384 non-null  int64         \n",
      " 11  quali_position                    1005384 non-null  int64         \n",
      " 12  positionOrder                     1005384 non-null  float64       \n",
      " 13  points                            1005384 non-null  float64       \n",
      " 14  points_drivers                    1005384 non-null  float64       \n",
      " 15  position_drivers                  1005384 non-null  float64       \n",
      " 16  wins_drivers                      1005384 non-null  float64       \n",
      " 17  points_constructors               1005384 non-null  float64       \n",
      " 18  position_constructors             1005384 non-null  float64       \n",
      " 19  wins_constructors                 1005384 non-null  float64       \n",
      " 20  points_constructor_ind_races      1005384 non-null  float64       \n",
      " 21  driverRef                         1005384 non-null  object        \n",
      " 22  nationality_drivers               1005384 non-null  object        \n",
      " 23  constructorRef                    1005384 non-null  object        \n",
      " 24  nationality_constructors          1005384 non-null  object        \n",
      " 25  qualifying_lapId                  1005384 non-null  float64       \n",
      " 26  qualifying_end_lap_sessiontime    1005384 non-null  float64       \n",
      " 27  qualifying_DriverNumber           1005384 non-null  float64       \n",
      " 28  qualifying_LapTime                1005384 non-null  float64       \n",
      " 29  qualifying_LapNumber              1005384 non-null  float64       \n",
      " 30  qualifying_Sector1Time            1005384 non-null  float64       \n",
      " 31  qualifying_Sector2Time            1005384 non-null  float64       \n",
      " 32  qualifying_Sector3Time            1005384 non-null  float64       \n",
      " 33  qualifying_SpeedI1                1005384 non-null  float64       \n",
      " 34  qualifying_SpeedI2                1005384 non-null  float64       \n",
      " 35  qualifying_SpeedFL                1005384 non-null  float64       \n",
      " 36  qualifying_SpeedST                1005384 non-null  float64       \n",
      " 37  qualifying_IsPersonalBest         1005384 non-null  object        \n",
      " 38  qualifying_Compound               1005384 non-null  object        \n",
      " 39  qualifying_TyreLife               1005384 non-null  float64       \n",
      " 40  qualifying_FreshTyre              1005384 non-null  object        \n",
      " 41  qualifying_Stint                  1005384 non-null  float64       \n",
      " 42  qualifying_Team                   1005384 non-null  object        \n",
      " 43  qualifying_Driver                 1005384 non-null  object        \n",
      " 44  qualifying_TrackStatus            1005384 non-null  float64       \n",
      " 45  qualifying_IsAccurate             1005384 non-null  object        \n",
      " 46  qualifying_LapStartDate           1005384 non-null  datetime64[ns]\n",
      " 47  qualifying_AirTemp                1005384 non-null  float64       \n",
      " 48  qualifying_Humidity               1005384 non-null  float64       \n",
      " 49  qualifying_Pressure               1005384 non-null  float64       \n",
      " 50  qualifying_Rainfall               1005384 non-null  object        \n",
      " 51  qualifying_TrackTemp              1005384 non-null  float64       \n",
      " 52  qualifying_WindDirection          1005384 non-null  float64       \n",
      " 53  qualifying_WindSpeed              1005384 non-null  float64       \n",
      " 54  qualifying_DistanceToDriverAhead  1005384 non-null  float64       \n",
      " 55  qualifying_lap_timedelta          1005384 non-null  float64       \n",
      " 56  qualifying_RPM                    1005384 non-null  float64       \n",
      " 57  qualifying_Speed                  1005384 non-null  float64       \n",
      " 58  qualifying_nGear                  1005384 non-null  float64       \n",
      " 59  qualifying_Throttle               1005384 non-null  float64       \n",
      " 60  qualifying_Brake                  1005384 non-null  object        \n",
      " 61  qualifying_DRS                    1005384 non-null  float64       \n",
      " 62  qualifying_Source                 1005384 non-null  object        \n",
      " 63  qualifying_Distance               1005384 non-null  float64       \n",
      " 64  qualifying_RelativeDistance       1005384 non-null  float64       \n",
      " 65  qualifying_Status                 1005384 non-null  object        \n",
      " 66  qualifying_X                      1005384 non-null  float64       \n",
      " 67  qualifying_Y                      1005384 non-null  float64       \n",
      " 68  qualifying_Z                      1005384 non-null  float64       \n",
      " 69  fastest_lap_milliseconds          1005384 non-null  float64       \n",
      " 70  age                               1005384 non-null  float64       \n",
      "dtypes: datetime64[ns](2), float64(47), int64(4), object(18)\n",
      "memory usage: 552.3+ MB\n"
     ]
    }
   ],
   "source": [
    "qualifying_data_clean.info()"
   ]
  },
  {
   "cell_type": "markdown",
   "metadata": {},
   "source": [
    "### Team names miss match"
   ]
  },
  {
   "cell_type": "code",
   "execution_count": 74,
   "metadata": {},
   "outputs": [
    {
     "data": {
      "text/plain": [
       "array(['Red Bull Racing', 'Haas F1 Team', 'Force India', 'Toro Rosso',\n",
       "       'Racing Point', 'Alfa Romeo Racing'], dtype=object)"
      ]
     },
     "execution_count": 74,
     "metadata": {},
     "output_type": "execute_result"
    }
   ],
   "source": [
    "qualifying_data_clean.loc[(qualifying_data_clean['qualifying_Team'].str.lower()!=qualifying_data_clean['constructorRef']),'qualifying_Team'].unique()"
   ]
  },
  {
   "cell_type": "code",
   "execution_count": 75,
   "metadata": {},
   "outputs": [
    {
     "data": {
      "text/plain": [
       "array(['red_bull', 'haas', 'force_india', 'toro_rosso', 'alfa',\n",
       "       'racing_point'], dtype=object)"
      ]
     },
     "execution_count": 75,
     "metadata": {},
     "output_type": "execute_result"
    }
   ],
   "source": [
    "qualifying_data_clean.loc[(qualifying_data_clean['qualifying_Team'].str.lower()!=qualifying_data_clean['constructorRef']),'constructorRef'].unique()"
   ]
  },
  {
   "cell_type": "markdown",
   "metadata": {},
   "source": [
    "constructorRef does match qualifying_team it just has slightly different spelling. we will drop qualifying_team as the constructorRef comes from the larger Ergast database"
   ]
  },
  {
   "cell_type": "code",
   "execution_count": 76,
   "metadata": {},
   "outputs": [
    {
     "data": {
      "text/plain": [
       "array(['BOT', 'HAM', 'VET', 'RAI', 'VER', 'GRO', 'RIC', 'MAG', 'SAI',\n",
       "       'HUL', 'OCO', 'GAS', 'LEC', 'ALO', 'STR', 'VAN', 'PER', 'SIR',\n",
       "       'HAR', 'ERI', 'NOR', 'GIO', 'ALB', 'KVY', 'RUS', 'KUB'],\n",
       "      dtype=object)"
      ]
     },
     "execution_count": 76,
     "metadata": {},
     "output_type": "execute_result"
    }
   ],
   "source": [
    "qualifying_data_clean.loc[(qualifying_data_clean['qualifying_Driver'].str.lower()!=qualifying_data_clean['driverRef']),'qualifying_Driver'].unique()"
   ]
  },
  {
   "cell_type": "markdown",
   "metadata": {},
   "source": [
    "qualifying_driver uses the 3 letter acroynm instead of driverRef string, this is a repeat of the same information so will drop qualifying_Driver"
   ]
  },
  {
   "cell_type": "code",
   "execution_count": 77,
   "metadata": {},
   "outputs": [],
   "source": [
    "qualifying_data_clean.drop(columns=['qualifying_Team','qualifying_Driver'],axis=1,inplace=True)"
   ]
  },
  {
   "cell_type": "markdown",
   "metadata": {},
   "source": [
    "## Save the Cleaned Dataframe\n",
    "<a id=\"save\"></a>\n",
    "\n",
    "The dataframe is now clean and ready for EDA and feature aggregation"
   ]
  },
  {
   "cell_type": "code",
   "execution_count": 85,
   "metadata": {},
   "outputs": [],
   "source": [
    "qualifying_data_clean.to_pickle('./data/clean/years_18_19_telemetry_subsetcircuits_cleaned.pkl',compression='gzip')\n"
   ]
  },
  {
   "cell_type": "markdown",
   "metadata": {},
   "source": [
    "# Summary\n",
    "<a id=\"sum\"></a>\n",
    "\n",
    "In this notebook we have succesffully download telemetry from FastF1 for a sample of 10 GrandPrix's over 2018 and 2018. We have successfully cleaned and prepared the data for further EDA and feature aggregation.\n",
    "\n",
    "\n",
    "\n",
    "# Next Steps\n",
    "<a id=\"nextsteps\"></a>\n",
    "\n",
    "Investigate the telemetry data in more detail, look for relationships between the data and the target variables. Then complete feature aggregations to generate every possible feature that can be thought of to extract information from the data on a lap and interlap level for every driver, back to driver and race record level. The features will be generated to capture feaures about the:\n",
    "- Car Charateristics\n",
    "- Circuit CHaracteristics\n",
    "- Driver Characteristics"
   ]
  },
  {
   "cell_type": "markdown",
   "metadata": {},
   "source": []
  }
 ],
 "metadata": {
  "kernelspec": {
   "display_name": "Python 3.9.13 ('Formula1')",
   "language": "python",
   "name": "python3"
  },
  "language_info": {
   "codemirror_mode": {
    "name": "ipython",
    "version": 3
   },
   "file_extension": ".py",
   "mimetype": "text/x-python",
   "name": "python",
   "nbconvert_exporter": "python",
   "pygments_lexer": "ipython3",
   "version": "3.9.13"
  },
  "orig_nbformat": 4,
  "vscode": {
   "interpreter": {
    "hash": "df33e983c06e0aea19505ce5c944c877d6d15f02d67e223997f73ecad7eaf96c"
   }
  }
 },
 "nbformat": 4,
 "nbformat_minor": 2
}
