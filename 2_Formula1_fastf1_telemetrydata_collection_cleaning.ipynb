{
 "cells": [
  {
   "cell_type": "markdown",
   "metadata": {},
   "source": [
    "Download data from FastF1"
   ]
  },
  {
   "cell_type": "code",
   "execution_count": 1,
   "metadata": {},
   "outputs": [],
   "source": [
    "import fastf1\n",
    "from scripts import ds_ultils,data_cleaning\n",
    "from scripts.f1_ultils import convert_time_miliseconds,find_fastest_lap, fill_mean_parameter\n",
    "\n",
    "from scripts.fastf1_data_download import f1_telemetry_data , combine_telemetry\n",
    "import numpy as np\n",
    "import pandas as pd\n",
    "    \n"
   ]
  },
  {
   "cell_type": "code",
   "execution_count": 2,
   "metadata": {},
   "outputs": [
    {
     "data": {
      "text/plain": [
       "array([15, 19,  6])"
      ]
     },
     "execution_count": 2,
     "metadata": {},
     "output_type": "execute_result"
    }
   ],
   "source": [
    "random = np.random.RandomState(1234).randint(20,size=3)\n",
    "random"
   ]
  },
  {
   "cell_type": "code",
   "execution_count": 3,
   "metadata": {},
   "outputs": [
    {
     "name": "stderr",
     "output_type": "stream",
     "text": [
      "C:\\Users\\ben44\\AppData\\Local\\Temp\\ipykernel_4736\\450351449.py:1: DtypeWarning: Columns (8,9,39,45,46) have mixed types. Specify dtype option on import or set low_memory=False.\n",
      "  ergast_combined_df=pd.read_csv('./data/clean/combined_ergast_clean.csv')\n"
     ]
    }
   ],
   "source": [
    "ergast_combined_df=pd.read_csv('./data/clean/combined_ergast_clean.csv')"
   ]
  },
  {
   "cell_type": "code",
   "execution_count": 4,
   "metadata": {},
   "outputs": [
    {
     "data": {
      "text/plain": [
       "array(['Australian Grand Prix', 'Chinese Grand Prix',\n",
       "       'Bahrain Grand Prix', 'Spanish Grand Prix', 'Monaco Grand Prix',\n",
       "       'British Grand Prix', 'Hungarian Grand Prix', 'Belgian Grand Prix',\n",
       "       'Italian Grand Prix', 'Singapore Grand Prix',\n",
       "       'Japanese Grand Prix', 'Brazilian Grand Prix',\n",
       "       'Abu Dhabi Grand Prix', 'Canadian Grand Prix', 'German Grand Prix',\n",
       "       'Austrian Grand Prix', 'Mexican Grand Prix', 'French Grand Prix',\n",
       "       'United States Grand Prix', 'Russian Grand Prix',\n",
       "       'Azerbaijan Grand Prix'], dtype=object)"
      ]
     },
     "execution_count": 4,
     "metadata": {},
     "output_type": "execute_result"
    }
   ],
   "source": [
    "ergast_combined_df.loc[ergast_combined_df['year']==2018,'name'].unique()"
   ]
  },
  {
   "cell_type": "code",
   "execution_count": 5,
   "metadata": {},
   "outputs": [],
   "source": [
    "circuits=list(ergast_combined_df.loc[ergast_combined_df['year']==2018,'name'].unique())\n"
   ]
  },
  {
   "cell_type": "code",
   "execution_count": 6,
   "metadata": {},
   "outputs": [
    {
     "data": {
      "text/plain": [
       "['Austrian Grand Prix',\n",
       " 'Russian Grand Prix',\n",
       " 'Hungarian Grand Prix',\n",
       " 'Monaco Grand Prix',\n",
       " 'Spanish Grand Prix']"
      ]
     },
     "execution_count": 6,
     "metadata": {},
     "output_type": "execute_result"
    }
   ],
   "source": [
    "circuits=list(ergast_combined_df.loc[ergast_combined_df['year']==2018,'name'].unique())\n",
    "circuits_2018=[]\n",
    "for i in random:\n",
    "    if circuits[i] not in (['Monaco Grand Prix','Spanish Grand Prix']):\n",
    "        circuits_2018.append(circuits[i])\n",
    "    else:\n",
    "        circuits_2018.append(circuits[i+2])\n",
    "circuits_2018.append('Monaco Grand Prix')\n",
    "circuits_2018.append('Spanish Grand Prix')\n",
    "circuits_2018"
   ]
  },
  {
   "cell_type": "code",
   "execution_count": null,
   "metadata": {},
   "outputs": [],
   "source": [
    "event_data={}\n",
    "for circuit in circuits_2018:\n",
    "    event_data[circuit] =f1_telemetry_data(2018,circuit)\n"
   ]
  },
  {
   "cell_type": "code",
   "execution_count": null,
   "metadata": {},
   "outputs": [
    {
     "data": {
      "text/plain": [
       "dict_keys(['Austrian Grand Prix', 'Russian Grand Prix', 'Hungarian Grand Prix', 'Monaco Grand Prix', 'Spanish Grand Prix'])"
      ]
     },
     "execution_count": 9,
     "metadata": {},
     "output_type": "execute_result"
    }
   ],
   "source": [
    "event_data.keys()"
   ]
  },
  {
   "cell_type": "code",
   "execution_count": null,
   "metadata": {},
   "outputs": [],
   "source": [
    "combined_2018_data = combine_telemetry(event_data,ergast_combined_df,session='qualifying',year=2018)"
   ]
  },
  {
   "cell_type": "code",
   "execution_count": null,
   "metadata": {},
   "outputs": [
    {
     "data": {
      "text/plain": [
       "549163"
      ]
     },
     "execution_count": 12,
     "metadata": {},
     "output_type": "execute_result"
    }
   ],
   "source": [
    "len(combined_2018_data)"
   ]
  },
  {
   "cell_type": "code",
   "execution_count": null,
   "metadata": {},
   "outputs": [
    {
     "data": {
      "text/plain": [
       "array(['red_bull_ring', 'sochi', 'hungaroring', 'monaco', 'catalunya'],\n",
       "      dtype=object)"
      ]
     },
     "execution_count": 13,
     "metadata": {},
     "output_type": "execute_result"
    }
   ],
   "source": [
    "combined_2018_data['circuitRef'].unique()"
   ]
  },
  {
   "cell_type": "code",
   "execution_count": null,
   "metadata": {},
   "outputs": [],
   "source": [
    "combined_2018_data.to_csv('./data/clean/2018_telemetry_subsetcircuits_data.csv',index=False)"
   ]
  },
  {
   "cell_type": "code",
   "execution_count": null,
   "metadata": {},
   "outputs": [],
   "source": [
    "event_data={}\n",
    "for circuit in circuits_2018:\n",
    "    event_data[circuit] =f1_telemetry_data(2019,circuit)\n"
   ]
  },
  {
   "cell_type": "code",
   "execution_count": null,
   "metadata": {},
   "outputs": [],
   "source": [
    "combined_2019_data = combine_telemetry(event_data,ergast_combined_df,session='qualifying',year=2019)"
   ]
  },
  {
   "cell_type": "code",
   "execution_count": null,
   "metadata": {},
   "outputs": [],
   "source": [
    "combined_2019_data.to_csv('./data/clean/2019_telemetry_subsetcircuits_data.csv',index=False)"
   ]
  },
  {
   "cell_type": "code",
   "execution_count": null,
   "metadata": {},
   "outputs": [
    {
     "data": {
      "text/html": [
       "<div>\n",
       "<style scoped>\n",
       "    .dataframe tbody tr th:only-of-type {\n",
       "        vertical-align: middle;\n",
       "    }\n",
       "\n",
       "    .dataframe tbody tr th {\n",
       "        vertical-align: top;\n",
       "    }\n",
       "\n",
       "    .dataframe thead th {\n",
       "        text-align: right;\n",
       "    }\n",
       "</style>\n",
       "<table border=\"1\" class=\"dataframe\">\n",
       "  <thead>\n",
       "    <tr style=\"text-align: right;\">\n",
       "      <th></th>\n",
       "      <th>raceId</th>\n",
       "      <th>year</th>\n",
       "      <th>circuitId</th>\n",
       "      <th>name</th>\n",
       "      <th>date</th>\n",
       "      <th>time</th>\n",
       "      <th>quali_date</th>\n",
       "      <th>quali_time</th>\n",
       "      <th>sprint_date</th>\n",
       "      <th>sprint_time</th>\n",
       "      <th>lat_x</th>\n",
       "      <th>lng_x</th>\n",
       "      <th>race_temp</th>\n",
       "      <th>race_precip</th>\n",
       "      <th>race_humidity</th>\n",
       "      <th>quali_temp</th>\n",
       "      <th>quali_precip</th>\n",
       "      <th>quali_humidity</th>\n",
       "      <th>fp1_date</th>\n",
       "      <th>fp1_time</th>\n",
       "      <th>fp2_date</th>\n",
       "      <th>fp2_time</th>\n",
       "      <th>fp3_date</th>\n",
       "      <th>fp3_time</th>\n",
       "      <th>race_condition_wiki</th>\n",
       "      <th>quali_condition_clean</th>\n",
       "      <th>circuitRef</th>\n",
       "      <th>location</th>\n",
       "      <th>country</th>\n",
       "      <th>alt</th>\n",
       "      <th>qualifyId</th>\n",
       "      <th>driverId</th>\n",
       "      <th>constructorId</th>\n",
       "      <th>quali_position</th>\n",
       "      <th>q1</th>\n",
       "      <th>q2</th>\n",
       "      <th>q3</th>\n",
       "      <th>resultId_x</th>\n",
       "      <th>grid_sprint</th>\n",
       "      <th>positionText_sprint</th>\n",
       "      <th>...</th>\n",
       "      <th>qualifying_SpeedI1</th>\n",
       "      <th>qualifying_SpeedI2</th>\n",
       "      <th>qualifying_SpeedFL</th>\n",
       "      <th>qualifying_SpeedST</th>\n",
       "      <th>qualifying_IsPersonalBest</th>\n",
       "      <th>qualifying_Compound</th>\n",
       "      <th>qualifying_TyreLife</th>\n",
       "      <th>qualifying_FreshTyre</th>\n",
       "      <th>qualifying_Stint</th>\n",
       "      <th>qualifying_LapStartTime</th>\n",
       "      <th>qualifying_Team</th>\n",
       "      <th>qualifying_Driver</th>\n",
       "      <th>qualifying_TrackStatus</th>\n",
       "      <th>qualifying_IsAccurate</th>\n",
       "      <th>qualifying_LapStartDate</th>\n",
       "      <th>qualifying_AirTemp</th>\n",
       "      <th>qualifying_Humidity</th>\n",
       "      <th>qualifying_Pressure</th>\n",
       "      <th>qualifying_Rainfall</th>\n",
       "      <th>qualifying_TrackTemp</th>\n",
       "      <th>qualifying_WindDirection</th>\n",
       "      <th>qualifying_WindSpeed</th>\n",
       "      <th>qualifying_Date</th>\n",
       "      <th>qualifying_SessionTime</th>\n",
       "      <th>qualifying_DriverAhead</th>\n",
       "      <th>qualifying_DistanceToDriverAhead</th>\n",
       "      <th>qualifying_Time_y</th>\n",
       "      <th>qualifying_RPM</th>\n",
       "      <th>qualifying_Speed</th>\n",
       "      <th>qualifying_nGear</th>\n",
       "      <th>qualifying_Throttle</th>\n",
       "      <th>qualifying_Brake</th>\n",
       "      <th>qualifying_DRS</th>\n",
       "      <th>qualifying_Source</th>\n",
       "      <th>qualifying_Distance</th>\n",
       "      <th>qualifying_RelativeDistance</th>\n",
       "      <th>qualifying_Status</th>\n",
       "      <th>qualifying_X</th>\n",
       "      <th>qualifying_Y</th>\n",
       "      <th>qualifying_Z</th>\n",
       "    </tr>\n",
       "  </thead>\n",
       "  <tbody>\n",
       "    <tr>\n",
       "      <th>0</th>\n",
       "      <td>1018</td>\n",
       "      <td>2019</td>\n",
       "      <td>70</td>\n",
       "      <td>Austrian Grand Prix</td>\n",
       "      <td>2019-06-30</td>\n",
       "      <td>13:10:00</td>\n",
       "      <td>NaN</td>\n",
       "      <td>NaN</td>\n",
       "      <td>NaN</td>\n",
       "      <td>NaN</td>\n",
       "      <td>47.2197</td>\n",
       "      <td>14.7647</td>\n",
       "      <td>32.733333</td>\n",
       "      <td>0.0</td>\n",
       "      <td>25.193333</td>\n",
       "      <td>27.7</td>\n",
       "      <td>0.0</td>\n",
       "      <td>32.366667</td>\n",
       "      <td>NaN</td>\n",
       "      <td>NaN</td>\n",
       "      <td>NaN</td>\n",
       "      <td>NaN</td>\n",
       "      <td>NaN</td>\n",
       "      <td>NaN</td>\n",
       "      <td>dry</td>\n",
       "      <td>dry</td>\n",
       "      <td>red_bull_ring</td>\n",
       "      <td>Spielberg</td>\n",
       "      <td>Austria</td>\n",
       "      <td>678.0</td>\n",
       "      <td>8118</td>\n",
       "      <td>844</td>\n",
       "      <td>6</td>\n",
       "      <td>1</td>\n",
       "      <td>1:04.138</td>\n",
       "      <td>1:03.378</td>\n",
       "      <td>1:03.003</td>\n",
       "      <td>NaN</td>\n",
       "      <td>NaN</td>\n",
       "      <td>NaN</td>\n",
       "      <td>...</td>\n",
       "      <td>329.0</td>\n",
       "      <td>249.0</td>\n",
       "      <td>297.0</td>\n",
       "      <td>325.0</td>\n",
       "      <td>False</td>\n",
       "      <td>MEDIUM</td>\n",
       "      <td>2.0</td>\n",
       "      <td>True</td>\n",
       "      <td>1.0</td>\n",
       "      <td>0 days 00:20:54.451000</td>\n",
       "      <td>Ferrari</td>\n",
       "      <td>LEC</td>\n",
       "      <td>1</td>\n",
       "      <td>True</td>\n",
       "      <td>2019-06-29 13:05:56.707</td>\n",
       "      <td>29.0</td>\n",
       "      <td>28.1</td>\n",
       "      <td>942.0</td>\n",
       "      <td>False</td>\n",
       "      <td>51.9</td>\n",
       "      <td>76</td>\n",
       "      <td>2.3</td>\n",
       "      <td>2019-06-29 13:05:56.707</td>\n",
       "      <td>0 days 00:20:54.451000</td>\n",
       "      <td></td>\n",
       "      <td>124.540278</td>\n",
       "      <td>0 days 00:00:00</td>\n",
       "      <td>10855.0</td>\n",
       "      <td>303.0</td>\n",
       "      <td>8.0</td>\n",
       "      <td>100.0</td>\n",
       "      <td>False</td>\n",
       "      <td>12.0</td>\n",
       "      <td>interpolation</td>\n",
       "      <td>0.140054</td>\n",
       "      <td>0.000032</td>\n",
       "      <td>OnTrack</td>\n",
       "      <td>1447.0</td>\n",
       "      <td>-1090.0</td>\n",
       "      <td>7215.0</td>\n",
       "    </tr>\n",
       "    <tr>\n",
       "      <th>1</th>\n",
       "      <td>1018</td>\n",
       "      <td>2019</td>\n",
       "      <td>70</td>\n",
       "      <td>Austrian Grand Prix</td>\n",
       "      <td>2019-06-30</td>\n",
       "      <td>13:10:00</td>\n",
       "      <td>NaN</td>\n",
       "      <td>NaN</td>\n",
       "      <td>NaN</td>\n",
       "      <td>NaN</td>\n",
       "      <td>47.2197</td>\n",
       "      <td>14.7647</td>\n",
       "      <td>32.733333</td>\n",
       "      <td>0.0</td>\n",
       "      <td>25.193333</td>\n",
       "      <td>27.7</td>\n",
       "      <td>0.0</td>\n",
       "      <td>32.366667</td>\n",
       "      <td>NaN</td>\n",
       "      <td>NaN</td>\n",
       "      <td>NaN</td>\n",
       "      <td>NaN</td>\n",
       "      <td>NaN</td>\n",
       "      <td>NaN</td>\n",
       "      <td>dry</td>\n",
       "      <td>dry</td>\n",
       "      <td>red_bull_ring</td>\n",
       "      <td>Spielberg</td>\n",
       "      <td>Austria</td>\n",
       "      <td>678.0</td>\n",
       "      <td>8118</td>\n",
       "      <td>844</td>\n",
       "      <td>6</td>\n",
       "      <td>1</td>\n",
       "      <td>1:04.138</td>\n",
       "      <td>1:03.378</td>\n",
       "      <td>1:03.003</td>\n",
       "      <td>NaN</td>\n",
       "      <td>NaN</td>\n",
       "      <td>NaN</td>\n",
       "      <td>...</td>\n",
       "      <td>329.0</td>\n",
       "      <td>249.0</td>\n",
       "      <td>297.0</td>\n",
       "      <td>325.0</td>\n",
       "      <td>False</td>\n",
       "      <td>MEDIUM</td>\n",
       "      <td>2.0</td>\n",
       "      <td>True</td>\n",
       "      <td>1.0</td>\n",
       "      <td>0 days 00:20:54.451000</td>\n",
       "      <td>Ferrari</td>\n",
       "      <td>LEC</td>\n",
       "      <td>1</td>\n",
       "      <td>True</td>\n",
       "      <td>2019-06-29 13:05:56.707</td>\n",
       "      <td>29.0</td>\n",
       "      <td>28.1</td>\n",
       "      <td>942.0</td>\n",
       "      <td>False</td>\n",
       "      <td>51.9</td>\n",
       "      <td>76</td>\n",
       "      <td>2.3</td>\n",
       "      <td>2019-06-29 13:05:56.809</td>\n",
       "      <td>0 days 00:20:54.553000</td>\n",
       "      <td></td>\n",
       "      <td>124.540278</td>\n",
       "      <td>0 days 00:00:00.102000</td>\n",
       "      <td>10878.0</td>\n",
       "      <td>304.0</td>\n",
       "      <td>8.0</td>\n",
       "      <td>100.0</td>\n",
       "      <td>False</td>\n",
       "      <td>12.0</td>\n",
       "      <td>car</td>\n",
       "      <td>8.766667</td>\n",
       "      <td>0.002019</td>\n",
       "      <td>OnTrack</td>\n",
       "      <td>1374.0</td>\n",
       "      <td>-1109.0</td>\n",
       "      <td>7215.0</td>\n",
       "    </tr>\n",
       "    <tr>\n",
       "      <th>2</th>\n",
       "      <td>1018</td>\n",
       "      <td>2019</td>\n",
       "      <td>70</td>\n",
       "      <td>Austrian Grand Prix</td>\n",
       "      <td>2019-06-30</td>\n",
       "      <td>13:10:00</td>\n",
       "      <td>NaN</td>\n",
       "      <td>NaN</td>\n",
       "      <td>NaN</td>\n",
       "      <td>NaN</td>\n",
       "      <td>47.2197</td>\n",
       "      <td>14.7647</td>\n",
       "      <td>32.733333</td>\n",
       "      <td>0.0</td>\n",
       "      <td>25.193333</td>\n",
       "      <td>27.7</td>\n",
       "      <td>0.0</td>\n",
       "      <td>32.366667</td>\n",
       "      <td>NaN</td>\n",
       "      <td>NaN</td>\n",
       "      <td>NaN</td>\n",
       "      <td>NaN</td>\n",
       "      <td>NaN</td>\n",
       "      <td>NaN</td>\n",
       "      <td>dry</td>\n",
       "      <td>dry</td>\n",
       "      <td>red_bull_ring</td>\n",
       "      <td>Spielberg</td>\n",
       "      <td>Austria</td>\n",
       "      <td>678.0</td>\n",
       "      <td>8118</td>\n",
       "      <td>844</td>\n",
       "      <td>6</td>\n",
       "      <td>1</td>\n",
       "      <td>1:04.138</td>\n",
       "      <td>1:03.378</td>\n",
       "      <td>1:03.003</td>\n",
       "      <td>NaN</td>\n",
       "      <td>NaN</td>\n",
       "      <td>NaN</td>\n",
       "      <td>...</td>\n",
       "      <td>329.0</td>\n",
       "      <td>249.0</td>\n",
       "      <td>297.0</td>\n",
       "      <td>325.0</td>\n",
       "      <td>False</td>\n",
       "      <td>MEDIUM</td>\n",
       "      <td>2.0</td>\n",
       "      <td>True</td>\n",
       "      <td>1.0</td>\n",
       "      <td>0 days 00:20:54.451000</td>\n",
       "      <td>Ferrari</td>\n",
       "      <td>LEC</td>\n",
       "      <td>1</td>\n",
       "      <td>True</td>\n",
       "      <td>2019-06-29 13:05:56.707</td>\n",
       "      <td>29.0</td>\n",
       "      <td>28.1</td>\n",
       "      <td>942.0</td>\n",
       "      <td>False</td>\n",
       "      <td>51.9</td>\n",
       "      <td>76</td>\n",
       "      <td>2.3</td>\n",
       "      <td>2019-06-29 13:05:56.952</td>\n",
       "      <td>0 days 00:20:54.696000</td>\n",
       "      <td></td>\n",
       "      <td>124.540278</td>\n",
       "      <td>0 days 00:00:00.245000</td>\n",
       "      <td>10956.0</td>\n",
       "      <td>305.0</td>\n",
       "      <td>8.0</td>\n",
       "      <td>100.0</td>\n",
       "      <td>False</td>\n",
       "      <td>12.0</td>\n",
       "      <td>pos</td>\n",
       "      <td>20.895643</td>\n",
       "      <td>0.004812</td>\n",
       "      <td>OnTrack</td>\n",
       "      <td>1272.0</td>\n",
       "      <td>-1137.0</td>\n",
       "      <td>7215.0</td>\n",
       "    </tr>\n",
       "    <tr>\n",
       "      <th>3</th>\n",
       "      <td>1018</td>\n",
       "      <td>2019</td>\n",
       "      <td>70</td>\n",
       "      <td>Austrian Grand Prix</td>\n",
       "      <td>2019-06-30</td>\n",
       "      <td>13:10:00</td>\n",
       "      <td>NaN</td>\n",
       "      <td>NaN</td>\n",
       "      <td>NaN</td>\n",
       "      <td>NaN</td>\n",
       "      <td>47.2197</td>\n",
       "      <td>14.7647</td>\n",
       "      <td>32.733333</td>\n",
       "      <td>0.0</td>\n",
       "      <td>25.193333</td>\n",
       "      <td>27.7</td>\n",
       "      <td>0.0</td>\n",
       "      <td>32.366667</td>\n",
       "      <td>NaN</td>\n",
       "      <td>NaN</td>\n",
       "      <td>NaN</td>\n",
       "      <td>NaN</td>\n",
       "      <td>NaN</td>\n",
       "      <td>NaN</td>\n",
       "      <td>dry</td>\n",
       "      <td>dry</td>\n",
       "      <td>red_bull_ring</td>\n",
       "      <td>Spielberg</td>\n",
       "      <td>Austria</td>\n",
       "      <td>678.0</td>\n",
       "      <td>8118</td>\n",
       "      <td>844</td>\n",
       "      <td>6</td>\n",
       "      <td>1</td>\n",
       "      <td>1:04.138</td>\n",
       "      <td>1:03.378</td>\n",
       "      <td>1:03.003</td>\n",
       "      <td>NaN</td>\n",
       "      <td>NaN</td>\n",
       "      <td>NaN</td>\n",
       "      <td>...</td>\n",
       "      <td>329.0</td>\n",
       "      <td>249.0</td>\n",
       "      <td>297.0</td>\n",
       "      <td>325.0</td>\n",
       "      <td>False</td>\n",
       "      <td>MEDIUM</td>\n",
       "      <td>2.0</td>\n",
       "      <td>True</td>\n",
       "      <td>1.0</td>\n",
       "      <td>0 days 00:20:54.451000</td>\n",
       "      <td>Ferrari</td>\n",
       "      <td>LEC</td>\n",
       "      <td>1</td>\n",
       "      <td>True</td>\n",
       "      <td>2019-06-29 13:05:56.707</td>\n",
       "      <td>29.0</td>\n",
       "      <td>28.1</td>\n",
       "      <td>942.0</td>\n",
       "      <td>False</td>\n",
       "      <td>51.9</td>\n",
       "      <td>76</td>\n",
       "      <td>2.3</td>\n",
       "      <td>2019-06-29 13:05:57.048</td>\n",
       "      <td>0 days 00:20:54.792000</td>\n",
       "      <td>44</td>\n",
       "      <td>124.540278</td>\n",
       "      <td>0 days 00:00:00.341000</td>\n",
       "      <td>11035.0</td>\n",
       "      <td>306.0</td>\n",
       "      <td>8.0</td>\n",
       "      <td>100.0</td>\n",
       "      <td>False</td>\n",
       "      <td>12.0</td>\n",
       "      <td>car</td>\n",
       "      <td>29.081667</td>\n",
       "      <td>0.006697</td>\n",
       "      <td>OnTrack</td>\n",
       "      <td>1204.0</td>\n",
       "      <td>-1155.0</td>\n",
       "      <td>7214.0</td>\n",
       "    </tr>\n",
       "    <tr>\n",
       "      <th>4</th>\n",
       "      <td>1018</td>\n",
       "      <td>2019</td>\n",
       "      <td>70</td>\n",
       "      <td>Austrian Grand Prix</td>\n",
       "      <td>2019-06-30</td>\n",
       "      <td>13:10:00</td>\n",
       "      <td>NaN</td>\n",
       "      <td>NaN</td>\n",
       "      <td>NaN</td>\n",
       "      <td>NaN</td>\n",
       "      <td>47.2197</td>\n",
       "      <td>14.7647</td>\n",
       "      <td>32.733333</td>\n",
       "      <td>0.0</td>\n",
       "      <td>25.193333</td>\n",
       "      <td>27.7</td>\n",
       "      <td>0.0</td>\n",
       "      <td>32.366667</td>\n",
       "      <td>NaN</td>\n",
       "      <td>NaN</td>\n",
       "      <td>NaN</td>\n",
       "      <td>NaN</td>\n",
       "      <td>NaN</td>\n",
       "      <td>NaN</td>\n",
       "      <td>dry</td>\n",
       "      <td>dry</td>\n",
       "      <td>red_bull_ring</td>\n",
       "      <td>Spielberg</td>\n",
       "      <td>Austria</td>\n",
       "      <td>678.0</td>\n",
       "      <td>8118</td>\n",
       "      <td>844</td>\n",
       "      <td>6</td>\n",
       "      <td>1</td>\n",
       "      <td>1:04.138</td>\n",
       "      <td>1:03.378</td>\n",
       "      <td>1:03.003</td>\n",
       "      <td>NaN</td>\n",
       "      <td>NaN</td>\n",
       "      <td>NaN</td>\n",
       "      <td>...</td>\n",
       "      <td>329.0</td>\n",
       "      <td>249.0</td>\n",
       "      <td>297.0</td>\n",
       "      <td>325.0</td>\n",
       "      <td>False</td>\n",
       "      <td>MEDIUM</td>\n",
       "      <td>2.0</td>\n",
       "      <td>True</td>\n",
       "      <td>1.0</td>\n",
       "      <td>0 days 00:20:54.451000</td>\n",
       "      <td>Ferrari</td>\n",
       "      <td>LEC</td>\n",
       "      <td>1</td>\n",
       "      <td>True</td>\n",
       "      <td>2019-06-29 13:05:56.707</td>\n",
       "      <td>29.0</td>\n",
       "      <td>28.1</td>\n",
       "      <td>942.0</td>\n",
       "      <td>False</td>\n",
       "      <td>51.9</td>\n",
       "      <td>76</td>\n",
       "      <td>2.3</td>\n",
       "      <td>2019-06-29 13:05:57.252</td>\n",
       "      <td>0 days 00:20:54.996000</td>\n",
       "      <td>44</td>\n",
       "      <td>124.656944</td>\n",
       "      <td>0 days 00:00:00.545000</td>\n",
       "      <td>11068.0</td>\n",
       "      <td>308.0</td>\n",
       "      <td>8.0</td>\n",
       "      <td>100.0</td>\n",
       "      <td>False</td>\n",
       "      <td>12.0</td>\n",
       "      <td>pos</td>\n",
       "      <td>46.626791</td>\n",
       "      <td>0.010737</td>\n",
       "      <td>OnTrack</td>\n",
       "      <td>1060.0</td>\n",
       "      <td>-1194.0</td>\n",
       "      <td>7214.0</td>\n",
       "    </tr>\n",
       "  </tbody>\n",
       "</table>\n",
       "<p>5 rows × 126 columns</p>\n",
       "</div>"
      ],
      "text/plain": [
       "   raceId  year  circuitId  ... qualifying_X qualifying_Y qualifying_Z\n",
       "0    1018  2019         70  ...       1447.0      -1090.0       7215.0\n",
       "1    1018  2019         70  ...       1374.0      -1109.0       7215.0\n",
       "2    1018  2019         70  ...       1272.0      -1137.0       7215.0\n",
       "3    1018  2019         70  ...       1204.0      -1155.0       7214.0\n",
       "4    1018  2019         70  ...       1060.0      -1194.0       7214.0\n",
       "\n",
       "[5 rows x 126 columns]"
      ]
     },
     "execution_count": 18,
     "metadata": {},
     "output_type": "execute_result"
    }
   ],
   "source": [
    "combined_2019_data.head()"
   ]
  },
  {
   "cell_type": "code",
   "execution_count": null,
   "metadata": {},
   "outputs": [
    {
     "data": {
      "text/plain": [
       "469495"
      ]
     },
     "execution_count": 19,
     "metadata": {},
     "output_type": "execute_result"
    }
   ],
   "source": [
    "len(combined_2019_data)"
   ]
  },
  {
   "cell_type": "code",
   "execution_count": null,
   "metadata": {},
   "outputs": [
    {
     "data": {
      "text/plain": [
       "549163"
      ]
     },
     "execution_count": 22,
     "metadata": {},
     "output_type": "execute_result"
    }
   ],
   "source": [
    "len(combined_2018_data)"
   ]
  },
  {
   "cell_type": "code",
   "execution_count": null,
   "metadata": {},
   "outputs": [],
   "source": [
    "combined_telemetry_data=pd.concat([combined_2018_data,combined_2019_data])"
   ]
  },
  {
   "cell_type": "code",
   "execution_count": null,
   "metadata": {},
   "outputs": [
    {
     "data": {
      "text/plain": [
       "1018658"
      ]
     },
     "execution_count": 29,
     "metadata": {},
     "output_type": "execute_result"
    }
   ],
   "source": [
    "len(combined_telemetry_data)"
   ]
  },
  {
   "cell_type": "code",
   "execution_count": null,
   "metadata": {},
   "outputs": [],
   "source": [
    "combined_telemetry_data.to_csv('./data/clean/years_18_19_telemetry_subsetcircuits_data.csv',index=False)"
   ]
  },
  {
   "cell_type": "code",
   "execution_count": 219,
   "metadata": {},
   "outputs": [
    {
     "name": "stderr",
     "output_type": "stream",
     "text": [
      "C:\\Users\\ben44\\AppData\\Local\\Temp\\ipykernel_23812\\3422113839.py:1: DtypeWarning: Columns (35,36,49,90,93,99,104,117) have mixed types. Specify dtype option on import or set low_memory=False.\n",
      "  combined_telemetry_data=pd.read_csv('./data/clean/years_18_19_telemetry_subsetcircuits_data.csv')\n"
     ]
    }
   ],
   "source": [
    "combined_telemetry_data=pd.read_csv('./data/clean/years_18_19_telemetry_subsetcircuits_data.csv')"
   ]
  },
  {
   "cell_type": "code",
   "execution_count": 220,
   "metadata": {},
   "outputs": [
    {
     "data": {
      "text/plain": [
       "['raceId',\n",
       " 'year',\n",
       " 'circuitId',\n",
       " 'name',\n",
       " 'date',\n",
       " 'time',\n",
       " 'quali_date',\n",
       " 'quali_time',\n",
       " 'sprint_date',\n",
       " 'sprint_time',\n",
       " 'lat_x',\n",
       " 'lng_x',\n",
       " 'race_temp',\n",
       " 'race_precip',\n",
       " 'race_humidity',\n",
       " 'quali_temp',\n",
       " 'quali_precip',\n",
       " 'quali_humidity',\n",
       " 'fp1_date',\n",
       " 'fp1_time',\n",
       " 'fp2_date',\n",
       " 'fp2_time',\n",
       " 'fp3_date',\n",
       " 'fp3_time',\n",
       " 'race_condition_wiki',\n",
       " 'quali_condition_clean',\n",
       " 'circuitRef',\n",
       " 'location',\n",
       " 'country',\n",
       " 'alt',\n",
       " 'qualifyId',\n",
       " 'driverId',\n",
       " 'constructorId',\n",
       " 'quali_position',\n",
       " 'q1',\n",
       " 'q2',\n",
       " 'q3',\n",
       " 'resultId_x',\n",
       " 'grid_sprint',\n",
       " 'positionText_sprint',\n",
       " 'positionOrder_sprint',\n",
       " 'points_sprint',\n",
       " 'laps_sprint',\n",
       " 'milliseconds_sprint',\n",
       " 'fastestLap_sprint',\n",
       " 'fastestLapTime_sprint',\n",
       " 'status_sprint',\n",
       " 'resultId_y',\n",
       " 'grid',\n",
       " 'positionText',\n",
       " 'positionOrder',\n",
       " 'points',\n",
       " 'laps',\n",
       " 'milliseconds',\n",
       " 'fastestLap',\n",
       " 'rank',\n",
       " 'fastestLapTime',\n",
       " 'fastestLapSpeed',\n",
       " 'status',\n",
       " 'driverStandingsId',\n",
       " 'points_drivers',\n",
       " 'position_drivers',\n",
       " 'wins_drivers',\n",
       " 'constructorStandingsId',\n",
       " 'points_constructors',\n",
       " 'position_constructors',\n",
       " 'wins_constructors',\n",
       " 'constructorResultsId',\n",
       " 'points_constructor_ind_races',\n",
       " 'driverRef',\n",
       " 'number',\n",
       " 'dob',\n",
       " 'nationality_drivers',\n",
       " 'constructorRef',\n",
       " 'nationality_constructors',\n",
       " 'qualifying_lapId',\n",
       " 'qualifying_Time_x',\n",
       " 'qualifying_DriverNumber',\n",
       " 'qualifying_LapTime',\n",
       " 'qualifying_LapNumber',\n",
       " 'qualifying_Sector1Time',\n",
       " 'qualifying_Sector2Time',\n",
       " 'qualifying_Sector3Time',\n",
       " 'qualifying_Sector1SessionTime',\n",
       " 'qualifying_Sector2SessionTime',\n",
       " 'qualifying_Sector3SessionTime',\n",
       " 'qualifying_SpeedI1',\n",
       " 'qualifying_SpeedI2',\n",
       " 'qualifying_SpeedFL',\n",
       " 'qualifying_SpeedST',\n",
       " 'qualifying_IsPersonalBest',\n",
       " 'qualifying_Compound',\n",
       " 'qualifying_TyreLife',\n",
       " 'qualifying_FreshTyre',\n",
       " 'qualifying_Stint',\n",
       " 'qualifying_LapStartTime',\n",
       " 'qualifying_Team',\n",
       " 'qualifying_Driver',\n",
       " 'qualifying_TrackStatus',\n",
       " 'qualifying_IsAccurate',\n",
       " 'qualifying_LapStartDate',\n",
       " 'qualifying_AirTemp',\n",
       " 'qualifying_Humidity',\n",
       " 'qualifying_Pressure',\n",
       " 'qualifying_Rainfall',\n",
       " 'qualifying_TrackTemp',\n",
       " 'qualifying_WindDirection',\n",
       " 'qualifying_WindSpeed',\n",
       " 'qualifying_Date',\n",
       " 'qualifying_SessionTime',\n",
       " 'qualifying_DriverAhead',\n",
       " 'qualifying_DistanceToDriverAhead',\n",
       " 'qualifying_Time_y',\n",
       " 'qualifying_RPM',\n",
       " 'qualifying_Speed',\n",
       " 'qualifying_nGear',\n",
       " 'qualifying_Throttle',\n",
       " 'qualifying_Brake',\n",
       " 'qualifying_DRS',\n",
       " 'qualifying_Source',\n",
       " 'qualifying_Distance',\n",
       " 'qualifying_RelativeDistance',\n",
       " 'qualifying_Status',\n",
       " 'qualifying_X',\n",
       " 'qualifying_Y',\n",
       " 'qualifying_Z']"
      ]
     },
     "execution_count": 220,
     "metadata": {},
     "output_type": "execute_result"
    }
   ],
   "source": [
    "list(combined_telemetry_data.columns)"
   ]
  },
  {
   "cell_type": "code",
   "execution_count": 221,
   "metadata": {},
   "outputs": [
    {
     "name": "stdout",
     "output_type": "stream",
     "text": [
      "This dataframe has 21719605 NaN values\n",
      " The NaN values come from: ['quali_date', 'quali_time', 'sprint_date', 'sprint_time', 'fp1_date', 'fp1_time', 'fp2_date', 'fp2_time', 'fp3_date', 'fp3_time', 'q1', 'q2', 'q3', 'resultId_x', 'grid_sprint', 'positionText_sprint', 'positionOrder_sprint', 'points_sprint', 'laps_sprint', 'milliseconds_sprint', 'fastestLap_sprint', 'fastestLapTime_sprint', 'status_sprint', 'milliseconds', 'fastestLap', 'fastestLapTime', 'fastestLapSpeed', 'qualifying_lapId', 'qualifying_Time_x', 'qualifying_DriverNumber', 'qualifying_LapTime', 'qualifying_LapNumber', 'qualifying_Sector1Time', 'qualifying_Sector2Time', 'qualifying_Sector3Time', 'qualifying_Sector1SessionTime', 'qualifying_Sector2SessionTime', 'qualifying_Sector3SessionTime', 'qualifying_SpeedI1', 'qualifying_SpeedI2', 'qualifying_SpeedFL', 'qualifying_SpeedST', 'qualifying_IsPersonalBest', 'qualifying_Compound', 'qualifying_TyreLife', 'qualifying_FreshTyre', 'qualifying_Stint', 'qualifying_LapStartTime', 'qualifying_Team', 'qualifying_Driver', 'qualifying_TrackStatus', 'qualifying_IsAccurate', 'qualifying_LapStartDate', 'qualifying_AirTemp', 'qualifying_Humidity', 'qualifying_Pressure', 'qualifying_Rainfall', 'qualifying_TrackTemp', 'qualifying_WindDirection', 'qualifying_WindSpeed', 'qualifying_Date', 'qualifying_SessionTime', 'qualifying_DriverAhead', 'qualifying_DistanceToDriverAhead', 'qualifying_Time_y', 'qualifying_RPM', 'qualifying_Speed', 'qualifying_nGear', 'qualifying_Throttle', 'qualifying_Brake', 'qualifying_DRS', 'qualifying_Source', 'qualifying_Distance', 'qualifying_RelativeDistance', 'qualifying_Status', 'qualifying_X', 'qualifying_Y', 'qualifying_Z']. \n",
      "\t These ['quali_date', 'quali_time', 'sprint_date', 'sprint_time', 'fp1_date', 'fp1_time', 'fp2_date', 'fp2_time', 'fp3_date', 'fp3_time', 'resultId_x', 'grid_sprint', 'positionText_sprint', 'positionOrder_sprint', 'points_sprint', 'laps_sprint', 'milliseconds_sprint', 'fastestLap_sprint', 'fastestLapTime_sprint', 'status_sprint', 'milliseconds'] columns have > 50% NaNs\n"
     ]
    }
   ],
   "source": [
    "ds_ultils.nan_checker(combined_telemetry_data)"
   ]
  },
  {
   "cell_type": "code",
   "execution_count": 222,
   "metadata": {},
   "outputs": [
    {
     "data": {
      "text/plain": [
       "0          2018-06-30 13:03:47.133\n",
       "1          2018-06-30 13:03:47.133\n",
       "2          2018-06-30 13:03:47.133\n",
       "3          2018-06-30 13:03:47.133\n",
       "4          2018-06-30 13:03:47.133\n",
       "                    ...           \n",
       "1018653    2019-05-11 13:16:36.564\n",
       "1018654    2019-05-11 13:16:36.564\n",
       "1018655    2019-05-11 13:16:36.564\n",
       "1018656    2019-05-11 13:16:36.564\n",
       "1018657    2019-05-11 13:16:36.564\n",
       "Name: qualifying_LapStartDate, Length: 1018658, dtype: object"
      ]
     },
     "execution_count": 222,
     "metadata": {},
     "output_type": "execute_result"
    }
   ],
   "source": [
    "combined_telemetry_data['qualifying_LapStartDate']"
   ]
  },
  {
   "cell_type": "markdown",
   "metadata": {},
   "source": [
    "For 2018 and 2019 there was no sprint races,so we can drop those columns. In addittion the date and time of the qualifying can be dropped since we have the same data replicated per lap in the telemetry data.\n"
   ]
  },
  {
   "cell_type": "code",
   "execution_count": 223,
   "metadata": {},
   "outputs": [],
   "source": [
    "qualifying_data_clean = combined_telemetry_data.copy()"
   ]
  },
  {
   "cell_type": "code",
   "execution_count": 224,
   "metadata": {},
   "outputs": [],
   "source": [
    "qualifying_data_clean.drop(columns=['quali_date', 'quali_time', 'sprint_date',\n",
    " 'sprint_time', 'fp1_date', 'fp1_time', 'fp2_date', 'fp2_time', 'fp3_date', \n",
    " 'fp3_time', 'grid_sprint', 'positionText_sprint', 'positionOrder_sprint', \n",
    " 'points_sprint', 'laps_sprint', 'milliseconds_sprint', 'fastestLap_sprint', \n",
    " 'fastestLapTime_sprint', 'status_sprint'],axis=1,inplace=True)"
   ]
  },
  {
   "cell_type": "code",
   "execution_count": 225,
   "metadata": {},
   "outputs": [
    {
     "data": {
      "text/plain": [
       "1.0"
      ]
     },
     "execution_count": 225,
     "metadata": {},
     "output_type": "execute_result"
    }
   ],
   "source": [
    "(qualifying_data_clean['resultId_x'].isna()).sum()/len(qualifying_data_clean)\n",
    "#resultID is for the sprint races with no results so it is all nan's - we can drop columns"
   ]
  },
  {
   "cell_type": "code",
   "execution_count": 226,
   "metadata": {},
   "outputs": [],
   "source": [
    "qualifying_data_clean.drop(columns='resultId_x',axis=1,inplace=True)"
   ]
  },
  {
   "cell_type": "markdown",
   "metadata": {},
   "source": [
    "We are focusing on predicting qualifying performance for specific, drivers, cars and circuits. Therefore we can remove data on the race for this analysis."
   ]
  },
  {
   "cell_type": "code",
   "execution_count": 227,
   "metadata": {},
   "outputs": [
    {
     "data": {
      "text/plain": [
       "0.5199615572645578"
      ]
     },
     "execution_count": 227,
     "metadata": {},
     "output_type": "execute_result"
    }
   ],
   "source": [
    "qualifying_data_clean['milliseconds'].isna().sum()/len(qualifying_data_clean)"
   ]
  },
  {
   "cell_type": "code",
   "execution_count": 228,
   "metadata": {},
   "outputs": [],
   "source": [
    "qualifying_data_clean.drop(columns=['laps',\n",
    " 'milliseconds',\n",
    " 'fastestLap',\n",
    " 'rank',\n",
    " 'fastestLapTime',\n",
    " 'fastestLapSpeed',\n",
    " 'status'],axis=1,inplace=True)"
   ]
  },
  {
   "cell_type": "markdown",
   "metadata": {},
   "source": [
    "Since we have detailed weather conditions information for each lap we can remove weather condition information we collected previously as this is a duplicate"
   ]
  },
  {
   "cell_type": "code",
   "execution_count": 229,
   "metadata": {},
   "outputs": [],
   "source": [
    "qualifying_data_clean.drop(columns=['race_temp',\n",
    " 'race_precip',\n",
    " 'race_humidity',\n",
    " 'quali_temp',\n",
    " 'quali_precip',\n",
    " 'quali_humidity',\n",
    " 'race_condition_wiki',\n",
    " 'quali_condition_clean'],axis=1,inplace=True)"
   ]
  },
  {
   "cell_type": "code",
   "execution_count": 230,
   "metadata": {},
   "outputs": [
    {
     "name": "stdout",
     "output_type": "stream",
     "text": [
      "The number of unqiue circuit ref matches the circuitId : True\n",
      "The number of unqiue Driver ref matches the driverId : True\n",
      "The number of unqiue constructor ref matches the constructorId : True\n"
     ]
    }
   ],
   "source": [
    "print('The number of unqiue circuit ref matches the circuitId :',len(qualifying_data_clean.circuitId.unique()) == len(qualifying_data_clean.circuitRef.unique()))\n",
    "print('The number of unqiue Driver ref matches the driverId :',len(qualifying_data_clean.driverId.unique()) == len(qualifying_data_clean.driverRef.unique()))\n",
    "print('The number of unqiue constructor ref matches the constructorId :',len(qualifying_data_clean.constructorId.unique()) == len(qualifying_data_clean.constructorRef.unique()))\n"
   ]
  },
  {
   "cell_type": "code",
   "execution_count": 231,
   "metadata": {},
   "outputs": [],
   "source": [
    "qualifying_data_clean.drop(columns=['circuitId','driverId','constructorId'],axis=1,inplace=True)"
   ]
  },
  {
   "cell_type": "markdown",
   "metadata": {},
   "source": [
    "The other id's for result, driver standinds constructor standings can be now dropped as we have successfully merged the data and kept unique entries for driver, car and circuit combinations"
   ]
  },
  {
   "cell_type": "code",
   "execution_count": 232,
   "metadata": {},
   "outputs": [],
   "source": [
    "qualifying_data_clean.drop(columns=['resultId_y',\n",
    "'driverStandingsId',\n",
    "'constructorStandingsId',\n",
    "'constructorResultsId'],axis=1,inplace=True)"
   ]
  },
  {
   "cell_type": "markdown",
   "metadata": {},
   "source": [
    "## Now to merge Q1,2,3 times to retain the fastest time and convert to milliseconds"
   ]
  },
  {
   "cell_type": "code",
   "execution_count": 233,
   "metadata": {},
   "outputs": [
    {
     "data": {
      "text/plain": [
       "0.00019633674893830905"
      ]
     },
     "execution_count": 233,
     "metadata": {},
     "output_type": "execute_result"
    }
   ],
   "source": [
    "((qualifying_data_clean['q1'].isna()).sum()/len(qualifying_data_clean))*100"
   ]
  },
  {
   "cell_type": "code",
   "execution_count": 234,
   "metadata": {},
   "outputs": [
    {
     "data": {
      "text/plain": [
       "426623    NaN\n",
       "549162    NaN\n",
       "Name: q1, dtype: object"
      ]
     },
     "execution_count": 234,
     "metadata": {},
     "output_type": "execute_result"
    }
   ],
   "source": [
    "qualifying_data_clean.loc[qualifying_data_clean['q1'].isna(),'q1']"
   ]
  },
  {
   "cell_type": "code",
   "execution_count": 235,
   "metadata": {},
   "outputs": [
    {
     "data": {
      "text/html": [
       "<div>\n",
       "<style scoped>\n",
       "    .dataframe tbody tr th:only-of-type {\n",
       "        vertical-align: middle;\n",
       "    }\n",
       "\n",
       "    .dataframe tbody tr th {\n",
       "        vertical-align: top;\n",
       "    }\n",
       "\n",
       "    .dataframe thead th {\n",
       "        text-align: right;\n",
       "    }\n",
       "</style>\n",
       "<table border=\"1\" class=\"dataframe\">\n",
       "  <thead>\n",
       "    <tr style=\"text-align: right;\">\n",
       "      <th></th>\n",
       "      <th>raceId</th>\n",
       "      <th>year</th>\n",
       "      <th>name</th>\n",
       "      <th>date</th>\n",
       "      <th>time</th>\n",
       "      <th>lat_x</th>\n",
       "      <th>lng_x</th>\n",
       "      <th>circuitRef</th>\n",
       "      <th>location</th>\n",
       "      <th>country</th>\n",
       "      <th>...</th>\n",
       "      <th>qualifying_Throttle</th>\n",
       "      <th>qualifying_Brake</th>\n",
       "      <th>qualifying_DRS</th>\n",
       "      <th>qualifying_Source</th>\n",
       "      <th>qualifying_Distance</th>\n",
       "      <th>qualifying_RelativeDistance</th>\n",
       "      <th>qualifying_Status</th>\n",
       "      <th>qualifying_X</th>\n",
       "      <th>qualifying_Y</th>\n",
       "      <th>qualifying_Z</th>\n",
       "    </tr>\n",
       "  </thead>\n",
       "  <tbody>\n",
       "    <tr>\n",
       "      <th>426623</th>\n",
       "      <td>994</td>\n",
       "      <td>2018</td>\n",
       "      <td>Monaco Grand Prix</td>\n",
       "      <td>2018-05-27</td>\n",
       "      <td>13:10:00</td>\n",
       "      <td>43.7347</td>\n",
       "      <td>7.42056</td>\n",
       "      <td>monaco</td>\n",
       "      <td>Monte-Carlo</td>\n",
       "      <td>Monaco</td>\n",
       "      <td>...</td>\n",
       "      <td>NaN</td>\n",
       "      <td>NaN</td>\n",
       "      <td>NaN</td>\n",
       "      <td>NaN</td>\n",
       "      <td>NaN</td>\n",
       "      <td>NaN</td>\n",
       "      <td>NaN</td>\n",
       "      <td>NaN</td>\n",
       "      <td>NaN</td>\n",
       "      <td>NaN</td>\n",
       "    </tr>\n",
       "    <tr>\n",
       "      <th>549162</th>\n",
       "      <td>993</td>\n",
       "      <td>2018</td>\n",
       "      <td>Spanish Grand Prix</td>\n",
       "      <td>2018-05-13</td>\n",
       "      <td>13:10:00</td>\n",
       "      <td>41.5700</td>\n",
       "      <td>2.26111</td>\n",
       "      <td>catalunya</td>\n",
       "      <td>Montmeló</td>\n",
       "      <td>Spain</td>\n",
       "      <td>...</td>\n",
       "      <td>NaN</td>\n",
       "      <td>NaN</td>\n",
       "      <td>NaN</td>\n",
       "      <td>NaN</td>\n",
       "      <td>NaN</td>\n",
       "      <td>NaN</td>\n",
       "      <td>NaN</td>\n",
       "      <td>NaN</td>\n",
       "      <td>NaN</td>\n",
       "      <td>NaN</td>\n",
       "    </tr>\n",
       "  </tbody>\n",
       "</table>\n",
       "<p>2 rows × 84 columns</p>\n",
       "</div>"
      ],
      "text/plain": [
       "        raceId  year                name        date      time    lat_x  \\\n",
       "426623     994  2018   Monaco Grand Prix  2018-05-27  13:10:00  43.7347   \n",
       "549162     993  2018  Spanish Grand Prix  2018-05-13  13:10:00  41.5700   \n",
       "\n",
       "          lng_x circuitRef     location country  ...  qualifying_Throttle  \\\n",
       "426623  7.42056     monaco  Monte-Carlo  Monaco  ...                  NaN   \n",
       "549162  2.26111  catalunya     Montmeló   Spain  ...                  NaN   \n",
       "\n",
       "        qualifying_Brake  qualifying_DRS qualifying_Source  \\\n",
       "426623               NaN             NaN               NaN   \n",
       "549162               NaN             NaN               NaN   \n",
       "\n",
       "       qualifying_Distance qualifying_RelativeDistance  qualifying_Status  \\\n",
       "426623                 NaN                         NaN                NaN   \n",
       "549162                 NaN                         NaN                NaN   \n",
       "\n",
       "       qualifying_X  qualifying_Y  qualifying_Z  \n",
       "426623          NaN           NaN           NaN  \n",
       "549162          NaN           NaN           NaN  \n",
       "\n",
       "[2 rows x 84 columns]"
      ]
     },
     "execution_count": 235,
     "metadata": {},
     "output_type": "execute_result"
    }
   ],
   "source": [
    "qualifying_data_clean[qualifying_data_clean['q1'].isna()]"
   ]
  },
  {
   "cell_type": "code",
   "execution_count": 236,
   "metadata": {},
   "outputs": [],
   "source": [
    "qualifying_data_clean = qualifying_data_clean[qualifying_data_clean.index.isin(qualifying_data_clean['q1'].dropna().index)]"
   ]
  },
  {
   "cell_type": "code",
   "execution_count": 237,
   "metadata": {},
   "outputs": [],
   "source": [
    "#make np.NaN floats strings for conversion to milliseconds\n",
    "qualifying_data_clean['q2'].fillna('nan',inplace=True)\n",
    "qualifying_data_clean['q3'].fillna('nan',inplace=True)"
   ]
  },
  {
   "cell_type": "code",
   "execution_count": 238,
   "metadata": {},
   "outputs": [],
   "source": [
    "qualifying_data_clean['q1_milliseconds']=qualifying_data_clean['q1'].apply(convert_time_miliseconds)"
   ]
  },
  {
   "cell_type": "code",
   "execution_count": 239,
   "metadata": {},
   "outputs": [],
   "source": [
    "qualifying_data_clean['q2_milliseconds']=qualifying_data_clean['q2'].apply(convert_time_miliseconds)\n",
    "qualifying_data_clean['q3_milliseconds']=qualifying_data_clean['q3'].apply(convert_time_miliseconds)"
   ]
  },
  {
   "cell_type": "code",
   "execution_count": 240,
   "metadata": {},
   "outputs": [
    {
     "data": {
      "text/plain": [
       "0          64175.0\n",
       "1          64175.0\n",
       "2          64175.0\n",
       "3          64175.0\n",
       "4          64175.0\n",
       "            ...   \n",
       "1018653    80254.0\n",
       "1018654    80254.0\n",
       "1018655    80254.0\n",
       "1018656    80254.0\n",
       "1018657    80254.0\n",
       "Name: q1_milliseconds, Length: 1018656, dtype: float64"
      ]
     },
     "execution_count": 240,
     "metadata": {},
     "output_type": "execute_result"
    }
   ],
   "source": [
    "qualifying_data_clean['q1_milliseconds']"
   ]
  },
  {
   "cell_type": "code",
   "execution_count": 241,
   "metadata": {},
   "outputs": [],
   "source": [
    "\n",
    "\n",
    "qualifying_data_clean['fastest_lap_milliseconds']=qualifying_data_clean[['q1_milliseconds','q2_milliseconds','q3_milliseconds']].apply(lambda x: find_fastest_lap(x.q1_milliseconds,x.q2_milliseconds,x.q3_milliseconds),axis=1)"
   ]
  },
  {
   "cell_type": "code",
   "execution_count": 242,
   "metadata": {},
   "outputs": [
    {
     "data": {
      "text/html": [
       "<div>\n",
       "<style scoped>\n",
       "    .dataframe tbody tr th:only-of-type {\n",
       "        vertical-align: middle;\n",
       "    }\n",
       "\n",
       "    .dataframe tbody tr th {\n",
       "        vertical-align: top;\n",
       "    }\n",
       "\n",
       "    .dataframe thead th {\n",
       "        text-align: right;\n",
       "    }\n",
       "</style>\n",
       "<table border=\"1\" class=\"dataframe\">\n",
       "  <thead>\n",
       "    <tr style=\"text-align: right;\">\n",
       "      <th></th>\n",
       "      <th>fastest_lap_milliseconds</th>\n",
       "      <th>q1_milliseconds</th>\n",
       "      <th>q2_milliseconds</th>\n",
       "      <th>q3_milliseconds</th>\n",
       "      <th>q1</th>\n",
       "      <th>q2</th>\n",
       "      <th>q3</th>\n",
       "    </tr>\n",
       "  </thead>\n",
       "  <tbody>\n",
       "    <tr>\n",
       "      <th>0</th>\n",
       "      <td>63130.0</td>\n",
       "      <td>64175.0</td>\n",
       "      <td>63756.0</td>\n",
       "      <td>63130.0</td>\n",
       "      <td>1:04.175</td>\n",
       "      <td>1:03.756</td>\n",
       "      <td>1:03.130</td>\n",
       "    </tr>\n",
       "    <tr>\n",
       "      <th>1</th>\n",
       "      <td>63130.0</td>\n",
       "      <td>64175.0</td>\n",
       "      <td>63756.0</td>\n",
       "      <td>63130.0</td>\n",
       "      <td>1:04.175</td>\n",
       "      <td>1:03.756</td>\n",
       "      <td>1:03.130</td>\n",
       "    </tr>\n",
       "    <tr>\n",
       "      <th>2</th>\n",
       "      <td>63130.0</td>\n",
       "      <td>64175.0</td>\n",
       "      <td>63756.0</td>\n",
       "      <td>63130.0</td>\n",
       "      <td>1:04.175</td>\n",
       "      <td>1:03.756</td>\n",
       "      <td>1:03.130</td>\n",
       "    </tr>\n",
       "    <tr>\n",
       "      <th>3</th>\n",
       "      <td>63130.0</td>\n",
       "      <td>64175.0</td>\n",
       "      <td>63756.0</td>\n",
       "      <td>63130.0</td>\n",
       "      <td>1:04.175</td>\n",
       "      <td>1:03.756</td>\n",
       "      <td>1:03.130</td>\n",
       "    </tr>\n",
       "    <tr>\n",
       "      <th>4</th>\n",
       "      <td>63130.0</td>\n",
       "      <td>64175.0</td>\n",
       "      <td>63756.0</td>\n",
       "      <td>63130.0</td>\n",
       "      <td>1:04.175</td>\n",
       "      <td>1:03.756</td>\n",
       "      <td>1:03.130</td>\n",
       "    </tr>\n",
       "    <tr>\n",
       "      <th>...</th>\n",
       "      <td>...</td>\n",
       "      <td>...</td>\n",
       "      <td>...</td>\n",
       "      <td>...</td>\n",
       "      <td>...</td>\n",
       "      <td>...</td>\n",
       "      <td>...</td>\n",
       "    </tr>\n",
       "    <tr>\n",
       "      <th>1018653</th>\n",
       "      <td>80254.0</td>\n",
       "      <td>80254.0</td>\n",
       "      <td>NaN</td>\n",
       "      <td>NaN</td>\n",
       "      <td>1:20.254</td>\n",
       "      <td>nan</td>\n",
       "      <td>nan</td>\n",
       "    </tr>\n",
       "    <tr>\n",
       "      <th>1018654</th>\n",
       "      <td>80254.0</td>\n",
       "      <td>80254.0</td>\n",
       "      <td>NaN</td>\n",
       "      <td>NaN</td>\n",
       "      <td>1:20.254</td>\n",
       "      <td>nan</td>\n",
       "      <td>nan</td>\n",
       "    </tr>\n",
       "    <tr>\n",
       "      <th>1018655</th>\n",
       "      <td>80254.0</td>\n",
       "      <td>80254.0</td>\n",
       "      <td>NaN</td>\n",
       "      <td>NaN</td>\n",
       "      <td>1:20.254</td>\n",
       "      <td>nan</td>\n",
       "      <td>nan</td>\n",
       "    </tr>\n",
       "    <tr>\n",
       "      <th>1018656</th>\n",
       "      <td>80254.0</td>\n",
       "      <td>80254.0</td>\n",
       "      <td>NaN</td>\n",
       "      <td>NaN</td>\n",
       "      <td>1:20.254</td>\n",
       "      <td>nan</td>\n",
       "      <td>nan</td>\n",
       "    </tr>\n",
       "    <tr>\n",
       "      <th>1018657</th>\n",
       "      <td>80254.0</td>\n",
       "      <td>80254.0</td>\n",
       "      <td>NaN</td>\n",
       "      <td>NaN</td>\n",
       "      <td>1:20.254</td>\n",
       "      <td>nan</td>\n",
       "      <td>nan</td>\n",
       "    </tr>\n",
       "  </tbody>\n",
       "</table>\n",
       "<p>1018656 rows × 7 columns</p>\n",
       "</div>"
      ],
      "text/plain": [
       "         fastest_lap_milliseconds  q1_milliseconds  q2_milliseconds  \\\n",
       "0                         63130.0          64175.0          63756.0   \n",
       "1                         63130.0          64175.0          63756.0   \n",
       "2                         63130.0          64175.0          63756.0   \n",
       "3                         63130.0          64175.0          63756.0   \n",
       "4                         63130.0          64175.0          63756.0   \n",
       "...                           ...              ...              ...   \n",
       "1018653                   80254.0          80254.0              NaN   \n",
       "1018654                   80254.0          80254.0              NaN   \n",
       "1018655                   80254.0          80254.0              NaN   \n",
       "1018656                   80254.0          80254.0              NaN   \n",
       "1018657                   80254.0          80254.0              NaN   \n",
       "\n",
       "         q3_milliseconds        q1        q2        q3  \n",
       "0                63130.0  1:04.175  1:03.756  1:03.130  \n",
       "1                63130.0  1:04.175  1:03.756  1:03.130  \n",
       "2                63130.0  1:04.175  1:03.756  1:03.130  \n",
       "3                63130.0  1:04.175  1:03.756  1:03.130  \n",
       "4                63130.0  1:04.175  1:03.756  1:03.130  \n",
       "...                  ...       ...       ...       ...  \n",
       "1018653              NaN  1:20.254       nan       nan  \n",
       "1018654              NaN  1:20.254       nan       nan  \n",
       "1018655              NaN  1:20.254       nan       nan  \n",
       "1018656              NaN  1:20.254       nan       nan  \n",
       "1018657              NaN  1:20.254       nan       nan  \n",
       "\n",
       "[1018656 rows x 7 columns]"
      ]
     },
     "execution_count": 242,
     "metadata": {},
     "output_type": "execute_result"
    }
   ],
   "source": [
    "#validate that worked as expected\n",
    "qualifying_data_clean[['fastest_lap_milliseconds','q1_milliseconds','q2_milliseconds','q3_milliseconds','q1','q2','q3']]"
   ]
  },
  {
   "cell_type": "code",
   "execution_count": 243,
   "metadata": {},
   "outputs": [
    {
     "data": {
      "text/plain": [
       "0"
      ]
     },
     "execution_count": 243,
     "metadata": {},
     "output_type": "execute_result"
    }
   ],
   "source": [
    "(qualifying_data_clean['fastest_lap_milliseconds'].isna()).sum()"
   ]
  },
  {
   "cell_type": "markdown",
   "metadata": {},
   "source": [
    "Now we can drop the intermediate columns and the individual session fastest times and retain just the fastest time for that circuit"
   ]
  },
  {
   "cell_type": "code",
   "execution_count": 244,
   "metadata": {},
   "outputs": [],
   "source": [
    "qualifying_data_clean.drop(columns=['q1_milliseconds',\n",
    "'q2_milliseconds',\n",
    "'q3_milliseconds',\n",
    "'q1',\n",
    "'q2',\n",
    "'q3'\n",
    "], axis=1,inplace=True)"
   ]
  },
  {
   "cell_type": "code",
   "execution_count": 245,
   "metadata": {},
   "outputs": [
    {
     "data": {
      "text/plain": [
       "['raceId',\n",
       " 'year',\n",
       " 'name',\n",
       " 'date',\n",
       " 'time',\n",
       " 'lat_x',\n",
       " 'lng_x',\n",
       " 'circuitRef',\n",
       " 'location',\n",
       " 'country',\n",
       " 'alt',\n",
       " 'qualifyId',\n",
       " 'quali_position',\n",
       " 'grid',\n",
       " 'positionText',\n",
       " 'positionOrder',\n",
       " 'points',\n",
       " 'points_drivers',\n",
       " 'position_drivers',\n",
       " 'wins_drivers',\n",
       " 'points_constructors',\n",
       " 'position_constructors',\n",
       " 'wins_constructors',\n",
       " 'points_constructor_ind_races',\n",
       " 'driverRef',\n",
       " 'number',\n",
       " 'dob',\n",
       " 'nationality_drivers',\n",
       " 'constructorRef',\n",
       " 'nationality_constructors',\n",
       " 'qualifying_lapId',\n",
       " 'qualifying_Time_x',\n",
       " 'qualifying_DriverNumber',\n",
       " 'qualifying_LapTime',\n",
       " 'qualifying_LapNumber',\n",
       " 'qualifying_Sector1Time',\n",
       " 'qualifying_Sector2Time',\n",
       " 'qualifying_Sector3Time',\n",
       " 'qualifying_Sector1SessionTime',\n",
       " 'qualifying_Sector2SessionTime',\n",
       " 'qualifying_Sector3SessionTime',\n",
       " 'qualifying_SpeedI1',\n",
       " 'qualifying_SpeedI2',\n",
       " 'qualifying_SpeedFL',\n",
       " 'qualifying_SpeedST',\n",
       " 'qualifying_IsPersonalBest',\n",
       " 'qualifying_Compound',\n",
       " 'qualifying_TyreLife',\n",
       " 'qualifying_FreshTyre',\n",
       " 'qualifying_Stint',\n",
       " 'qualifying_LapStartTime',\n",
       " 'qualifying_Team',\n",
       " 'qualifying_Driver',\n",
       " 'qualifying_TrackStatus',\n",
       " 'qualifying_IsAccurate',\n",
       " 'qualifying_LapStartDate',\n",
       " 'qualifying_AirTemp',\n",
       " 'qualifying_Humidity',\n",
       " 'qualifying_Pressure',\n",
       " 'qualifying_Rainfall',\n",
       " 'qualifying_TrackTemp',\n",
       " 'qualifying_WindDirection',\n",
       " 'qualifying_WindSpeed',\n",
       " 'qualifying_Date',\n",
       " 'qualifying_SessionTime',\n",
       " 'qualifying_DriverAhead',\n",
       " 'qualifying_DistanceToDriverAhead',\n",
       " 'qualifying_Time_y',\n",
       " 'qualifying_RPM',\n",
       " 'qualifying_Speed',\n",
       " 'qualifying_nGear',\n",
       " 'qualifying_Throttle',\n",
       " 'qualifying_Brake',\n",
       " 'qualifying_DRS',\n",
       " 'qualifying_Source',\n",
       " 'qualifying_Distance',\n",
       " 'qualifying_RelativeDistance',\n",
       " 'qualifying_Status',\n",
       " 'qualifying_X',\n",
       " 'qualifying_Y',\n",
       " 'qualifying_Z',\n",
       " 'fastest_lap_milliseconds']"
      ]
     },
     "execution_count": 245,
     "metadata": {},
     "output_type": "execute_result"
    }
   ],
   "source": [
    "list(qualifying_data_clean.columns)"
   ]
  },
  {
   "cell_type": "markdown",
   "metadata": {},
   "source": [
    "Date is not the date of qualifying but of the race, we can replace that with qualifying lap data.\n",
    "time is also not of qualifying but of the race so can be dropped\n",
    "Location is a duplicate of Lat, Lng and Alt,\n",
    "grid is quali_position but accounts for penalties. This is not linked to pure performance ( such as engine penalties for replacing engines etc. Therefore we will drop grid)\n",
    "\n",
    "number should be a repeat of qualifying driver number"
   ]
  },
  {
   "cell_type": "code",
   "execution_count": 246,
   "metadata": {},
   "outputs": [],
   "source": [
    "qualifying_data_clean['date']=qualifying_data_clean['qualifying_Date'].str.split(' ').str[0]"
   ]
  },
  {
   "cell_type": "code",
   "execution_count": 247,
   "metadata": {},
   "outputs": [
    {
     "data": {
      "text/plain": [
       "1"
      ]
     },
     "execution_count": 247,
     "metadata": {},
     "output_type": "execute_result"
    }
   ],
   "source": [
    "(qualifying_data_clean['number'] != qualifying_data_clean['qualifying_DriverNumber']).sum()"
   ]
  },
  {
   "cell_type": "code",
   "execution_count": 248,
   "metadata": {},
   "outputs": [
    {
     "data": {
      "text/html": [
       "<div>\n",
       "<style scoped>\n",
       "    .dataframe tbody tr th:only-of-type {\n",
       "        vertical-align: middle;\n",
       "    }\n",
       "\n",
       "    .dataframe tbody tr th {\n",
       "        vertical-align: top;\n",
       "    }\n",
       "\n",
       "    .dataframe thead th {\n",
       "        text-align: right;\n",
       "    }\n",
       "</style>\n",
       "<table border=\"1\" class=\"dataframe\">\n",
       "  <thead>\n",
       "    <tr style=\"text-align: right;\">\n",
       "      <th></th>\n",
       "      <th>number</th>\n",
       "      <th>qualifying_DriverNumber</th>\n",
       "      <th>circuitRef</th>\n",
       "      <th>qualifying_lapId</th>\n",
       "    </tr>\n",
       "  </thead>\n",
       "  <tbody>\n",
       "    <tr>\n",
       "      <th>717562</th>\n",
       "      <td>26.0</td>\n",
       "      <td>NaN</td>\n",
       "      <td>sochi</td>\n",
       "      <td>NaN</td>\n",
       "    </tr>\n",
       "  </tbody>\n",
       "</table>\n",
       "</div>"
      ],
      "text/plain": [
       "        number  qualifying_DriverNumber circuitRef  qualifying_lapId\n",
       "717562    26.0                      NaN      sochi               NaN"
      ]
     },
     "execution_count": 248,
     "metadata": {},
     "output_type": "execute_result"
    }
   ],
   "source": [
    "qualifying_data_clean.loc[qualifying_data_clean['number'] != qualifying_data_clean['qualifying_DriverNumber'],['number','qualifying_DriverNumber','circuitRef','qualifying_lapId']]"
   ]
  },
  {
   "cell_type": "code",
   "execution_count": 249,
   "metadata": {},
   "outputs": [
    {
     "data": {
      "text/html": [
       "<div>\n",
       "<style scoped>\n",
       "    .dataframe tbody tr th:only-of-type {\n",
       "        vertical-align: middle;\n",
       "    }\n",
       "\n",
       "    .dataframe tbody tr th {\n",
       "        vertical-align: top;\n",
       "    }\n",
       "\n",
       "    .dataframe thead th {\n",
       "        text-align: right;\n",
       "    }\n",
       "</style>\n",
       "<table border=\"1\" class=\"dataframe\">\n",
       "  <thead>\n",
       "    <tr style=\"text-align: right;\">\n",
       "      <th></th>\n",
       "      <th>number</th>\n",
       "      <th>qualifying_DriverNumber</th>\n",
       "      <th>circuitRef</th>\n",
       "      <th>qualifying_lapId</th>\n",
       "    </tr>\n",
       "  </thead>\n",
       "  <tbody>\n",
       "    <tr>\n",
       "      <th>717557</th>\n",
       "      <td>23.0</td>\n",
       "      <td>23.0</td>\n",
       "      <td>sochi</td>\n",
       "      <td>110.0</td>\n",
       "    </tr>\n",
       "    <tr>\n",
       "      <th>717558</th>\n",
       "      <td>23.0</td>\n",
       "      <td>23.0</td>\n",
       "      <td>sochi</td>\n",
       "      <td>110.0</td>\n",
       "    </tr>\n",
       "    <tr>\n",
       "      <th>717559</th>\n",
       "      <td>23.0</td>\n",
       "      <td>23.0</td>\n",
       "      <td>sochi</td>\n",
       "      <td>110.0</td>\n",
       "    </tr>\n",
       "    <tr>\n",
       "      <th>717560</th>\n",
       "      <td>23.0</td>\n",
       "      <td>23.0</td>\n",
       "      <td>sochi</td>\n",
       "      <td>110.0</td>\n",
       "    </tr>\n",
       "    <tr>\n",
       "      <th>717561</th>\n",
       "      <td>23.0</td>\n",
       "      <td>23.0</td>\n",
       "      <td>sochi</td>\n",
       "      <td>110.0</td>\n",
       "    </tr>\n",
       "    <tr>\n",
       "      <th>717562</th>\n",
       "      <td>26.0</td>\n",
       "      <td>NaN</td>\n",
       "      <td>sochi</td>\n",
       "      <td>NaN</td>\n",
       "    </tr>\n",
       "    <tr>\n",
       "      <th>717563</th>\n",
       "      <td>33.0</td>\n",
       "      <td>33.0</td>\n",
       "      <td>hungaroring</td>\n",
       "      <td>0.0</td>\n",
       "    </tr>\n",
       "  </tbody>\n",
       "</table>\n",
       "</div>"
      ],
      "text/plain": [
       "        number  qualifying_DriverNumber   circuitRef  qualifying_lapId\n",
       "717557    23.0                     23.0        sochi             110.0\n",
       "717558    23.0                     23.0        sochi             110.0\n",
       "717559    23.0                     23.0        sochi             110.0\n",
       "717560    23.0                     23.0        sochi             110.0\n",
       "717561    23.0                     23.0        sochi             110.0\n",
       "717562    26.0                      NaN        sochi               NaN\n",
       "717563    33.0                     33.0  hungaroring               0.0"
      ]
     },
     "execution_count": 249,
     "metadata": {},
     "output_type": "execute_result"
    }
   ],
   "source": [
    "qualifying_data_clean[['number','qualifying_DriverNumber','circuitRef','qualifying_lapId']].iloc[717555:717562]"
   ]
  },
  {
   "cell_type": "markdown",
   "metadata": {},
   "source": [
    "Missing  lap data for car 26 in Sochi. Will drop this row of data"
   ]
  },
  {
   "cell_type": "code",
   "execution_count": 250,
   "metadata": {},
   "outputs": [],
   "source": [
    "qualifying_data_clean.drop(index=717562,axis=0,inplace=True)"
   ]
  },
  {
   "cell_type": "code",
   "execution_count": 251,
   "metadata": {},
   "outputs": [
    {
     "data": {
      "text/plain": [
       "0"
      ]
     },
     "execution_count": 251,
     "metadata": {},
     "output_type": "execute_result"
    }
   ],
   "source": [
    "(qualifying_data_clean['number'] != qualifying_data_clean['qualifying_DriverNumber']).sum()"
   ]
  },
  {
   "cell_type": "code",
   "execution_count": 252,
   "metadata": {},
   "outputs": [],
   "source": [
    "qualifying_data_clean.drop(columns=['number','location','grid'],axis=1,inplace=True)"
   ]
  },
  {
   "cell_type": "markdown",
   "metadata": {},
   "source": [
    "PositionText and positionOrder are duplicates of race result, will combine"
   ]
  },
  {
   "cell_type": "code",
   "execution_count": 253,
   "metadata": {},
   "outputs": [
    {
     "data": {
      "text/plain": [
       "array([19., 16.,  3.,  2.,  1.,  4., 18.,  5., 12., 20.,  6., 11.,  9.,\n",
       "        8., 14., 15.,  7., 13., 17., 10.])"
      ]
     },
     "execution_count": 253,
     "metadata": {},
     "output_type": "execute_result"
    }
   ],
   "source": [
    "qualifying_data_clean['positionOrder'].unique()"
   ]
  },
  {
   "cell_type": "code",
   "execution_count": 254,
   "metadata": {},
   "outputs": [
    {
     "data": {
      "text/plain": [
       "array(['R', '3', '2', 2, 1, 4, '4', '5', '12', '6', 6, 11, 9, 8, 14, 15,\n",
       "       7, '7', '13', '10', 3, 10, 13, 5, '17', '14', '18', '16', '15',\n",
       "       '11', 12, 16, 17, '8', '9', 19, 18, 20, '1', '19'], dtype=object)"
      ]
     },
     "execution_count": 254,
     "metadata": {},
     "output_type": "execute_result"
    }
   ],
   "source": [
    "qualifying_data_clean['positionText'].unique()"
   ]
  },
  {
   "cell_type": "code",
   "execution_count": 255,
   "metadata": {},
   "outputs": [
    {
     "data": {
      "text/html": [
       "<div>\n",
       "<style scoped>\n",
       "    .dataframe tbody tr th:only-of-type {\n",
       "        vertical-align: middle;\n",
       "    }\n",
       "\n",
       "    .dataframe tbody tr th {\n",
       "        vertical-align: top;\n",
       "    }\n",
       "\n",
       "    .dataframe thead th {\n",
       "        text-align: right;\n",
       "    }\n",
       "</style>\n",
       "<table border=\"1\" class=\"dataframe\">\n",
       "  <thead>\n",
       "    <tr style=\"text-align: right;\">\n",
       "      <th></th>\n",
       "      <th>positionText</th>\n",
       "      <th>positionOrder</th>\n",
       "    </tr>\n",
       "  </thead>\n",
       "  <tbody>\n",
       "    <tr>\n",
       "      <th>1000</th>\n",
       "      <td>R</td>\n",
       "      <td>19.0</td>\n",
       "    </tr>\n",
       "    <tr>\n",
       "      <th>1001</th>\n",
       "      <td>R</td>\n",
       "      <td>19.0</td>\n",
       "    </tr>\n",
       "    <tr>\n",
       "      <th>1002</th>\n",
       "      <td>R</td>\n",
       "      <td>19.0</td>\n",
       "    </tr>\n",
       "    <tr>\n",
       "      <th>1003</th>\n",
       "      <td>R</td>\n",
       "      <td>19.0</td>\n",
       "    </tr>\n",
       "    <tr>\n",
       "      <th>1004</th>\n",
       "      <td>R</td>\n",
       "      <td>19.0</td>\n",
       "    </tr>\n",
       "    <tr>\n",
       "      <th>1005</th>\n",
       "      <td>R</td>\n",
       "      <td>19.0</td>\n",
       "    </tr>\n",
       "    <tr>\n",
       "      <th>1006</th>\n",
       "      <td>R</td>\n",
       "      <td>19.0</td>\n",
       "    </tr>\n",
       "    <tr>\n",
       "      <th>1007</th>\n",
       "      <td>R</td>\n",
       "      <td>19.0</td>\n",
       "    </tr>\n",
       "    <tr>\n",
       "      <th>1008</th>\n",
       "      <td>R</td>\n",
       "      <td>19.0</td>\n",
       "    </tr>\n",
       "    <tr>\n",
       "      <th>1009</th>\n",
       "      <td>R</td>\n",
       "      <td>19.0</td>\n",
       "    </tr>\n",
       "  </tbody>\n",
       "</table>\n",
       "</div>"
      ],
      "text/plain": [
       "     positionText  positionOrder\n",
       "1000            R           19.0\n",
       "1001            R           19.0\n",
       "1002            R           19.0\n",
       "1003            R           19.0\n",
       "1004            R           19.0\n",
       "1005            R           19.0\n",
       "1006            R           19.0\n",
       "1007            R           19.0\n",
       "1008            R           19.0\n",
       "1009            R           19.0"
      ]
     },
     "execution_count": 255,
     "metadata": {},
     "output_type": "execute_result"
    }
   ],
   "source": [
    "qualifying_data_clean[['positionText','positionOrder']].iloc[1000:1010]"
   ]
  },
  {
   "cell_type": "markdown",
   "metadata": {},
   "source": [
    "Position Text accounts for retired, position Order is just a float which assigns cars a result even if they don't finish. The first car to retire is assigned last position and the next car to retire next to last etc.. Since we are focusing on qualifying car performance we will drop positionText"
   ]
  },
  {
   "cell_type": "code",
   "execution_count": 256,
   "metadata": {},
   "outputs": [],
   "source": [
    "qualifying_data_clean.drop(columns=['positionText'],axis=1,inplace=True)"
   ]
  },
  {
   "cell_type": "markdown",
   "metadata": {},
   "source": [
    "We will convert dob into age for this analysis to see if age has an impact on pole positions"
   ]
  },
  {
   "cell_type": "code",
   "execution_count": 257,
   "metadata": {},
   "outputs": [],
   "source": [
    "qualifying_data_clean['dob']=qualifying_data_clean['dob'].astype('datetime64')\n",
    "qualifying_data_clean['date']=qualifying_data_clean['date'].astype('datetime64')"
   ]
  },
  {
   "cell_type": "code",
   "execution_count": 258,
   "metadata": {},
   "outputs": [
    {
     "data": {
      "text/plain": [
       "Timestamp('2022-10-02 17:46:34.806449')"
      ]
     },
     "execution_count": 258,
     "metadata": {},
     "output_type": "execute_result"
    }
   ],
   "source": [
    "pd.Timestamp.today()   "
   ]
  },
  {
   "cell_type": "code",
   "execution_count": 259,
   "metadata": {},
   "outputs": [],
   "source": [
    "# inspired from stackoverflow https://stackoverflow.com/questions/26788854/pandas-get-the-age-from-a-date-example-date-of-birth\n",
    "qualifying_data_clean['age']=(qualifying_data_clean['date'] - qualifying_data_clean['dob']).astype('<m8[Y]')"
   ]
  },
  {
   "cell_type": "code",
   "execution_count": 260,
   "metadata": {},
   "outputs": [],
   "source": [
    "qualifying_data_clean.drop(columns=['dob'],axis=1,inplace=True)"
   ]
  },
  {
   "cell_type": "code",
   "execution_count": 261,
   "metadata": {},
   "outputs": [
    {
     "name": "stdout",
     "output_type": "stream",
     "text": [
      "This dataframe has 178042 NaN values\n",
      " The NaN values come from: ['qualifying_LapTime', 'qualifying_SpeedI1', 'qualifying_SpeedI2', 'qualifying_SpeedFL', 'qualifying_SpeedST', 'qualifying_Compound', 'qualifying_TyreLife', 'qualifying_FreshTyre', 'qualifying_Stint', 'qualifying_DriverAhead', 'qualifying_DistanceToDriverAhead']. \n",
      "\n"
     ]
    }
   ],
   "source": [
    "ds_ultils.nan_checker(qualifying_data_clean)\n"
   ]
  },
  {
   "cell_type": "code",
   "execution_count": 262,
   "metadata": {},
   "outputs": [
    {
     "data": {
      "text/html": [
       "<div>\n",
       "<style scoped>\n",
       "    .dataframe tbody tr th:only-of-type {\n",
       "        vertical-align: middle;\n",
       "    }\n",
       "\n",
       "    .dataframe tbody tr th {\n",
       "        vertical-align: top;\n",
       "    }\n",
       "\n",
       "    .dataframe thead th {\n",
       "        text-align: right;\n",
       "    }\n",
       "</style>\n",
       "<table border=\"1\" class=\"dataframe\">\n",
       "  <thead>\n",
       "    <tr style=\"text-align: right;\">\n",
       "      <th></th>\n",
       "      <th>qualifying_LapTime</th>\n",
       "      <th>qualifying_SpeedI1</th>\n",
       "      <th>qualifying_SpeedI2</th>\n",
       "      <th>qualifying_SpeedFL</th>\n",
       "      <th>qualifying_SpeedST</th>\n",
       "      <th>qualifying_Compound</th>\n",
       "      <th>qualifying_TyreLife</th>\n",
       "      <th>qualifying_FreshTyre</th>\n",
       "      <th>qualifying_Stint</th>\n",
       "      <th>qualifying_DriverAhead</th>\n",
       "      <th>qualifying_DistanceToDriverAhead</th>\n",
       "      <th>qualifying_DriverNumber</th>\n",
       "    </tr>\n",
       "  </thead>\n",
       "  <tbody>\n",
       "    <tr>\n",
       "      <th>95414</th>\n",
       "      <td>NaN</td>\n",
       "      <td>108.0</td>\n",
       "      <td>253.0</td>\n",
       "      <td>177.0</td>\n",
       "      <td>140.0</td>\n",
       "      <td>HYPERSOFT</td>\n",
       "      <td>5.0</td>\n",
       "      <td>True</td>\n",
       "      <td>1.0</td>\n",
       "      <td>NaN</td>\n",
       "      <td>1242.801111</td>\n",
       "      <td>44.0</td>\n",
       "    </tr>\n",
       "    <tr>\n",
       "      <th>95415</th>\n",
       "      <td>NaN</td>\n",
       "      <td>108.0</td>\n",
       "      <td>253.0</td>\n",
       "      <td>177.0</td>\n",
       "      <td>140.0</td>\n",
       "      <td>HYPERSOFT</td>\n",
       "      <td>5.0</td>\n",
       "      <td>True</td>\n",
       "      <td>1.0</td>\n",
       "      <td>NaN</td>\n",
       "      <td>1242.801111</td>\n",
       "      <td>44.0</td>\n",
       "    </tr>\n",
       "    <tr>\n",
       "      <th>95416</th>\n",
       "      <td>NaN</td>\n",
       "      <td>108.0</td>\n",
       "      <td>253.0</td>\n",
       "      <td>177.0</td>\n",
       "      <td>140.0</td>\n",
       "      <td>HYPERSOFT</td>\n",
       "      <td>5.0</td>\n",
       "      <td>True</td>\n",
       "      <td>1.0</td>\n",
       "      <td>NaN</td>\n",
       "      <td>1242.801111</td>\n",
       "      <td>44.0</td>\n",
       "    </tr>\n",
       "    <tr>\n",
       "      <th>95417</th>\n",
       "      <td>NaN</td>\n",
       "      <td>108.0</td>\n",
       "      <td>253.0</td>\n",
       "      <td>177.0</td>\n",
       "      <td>140.0</td>\n",
       "      <td>HYPERSOFT</td>\n",
       "      <td>5.0</td>\n",
       "      <td>True</td>\n",
       "      <td>1.0</td>\n",
       "      <td>NaN</td>\n",
       "      <td>1242.801111</td>\n",
       "      <td>44.0</td>\n",
       "    </tr>\n",
       "    <tr>\n",
       "      <th>95418</th>\n",
       "      <td>NaN</td>\n",
       "      <td>108.0</td>\n",
       "      <td>253.0</td>\n",
       "      <td>177.0</td>\n",
       "      <td>140.0</td>\n",
       "      <td>HYPERSOFT</td>\n",
       "      <td>5.0</td>\n",
       "      <td>True</td>\n",
       "      <td>1.0</td>\n",
       "      <td>77.0</td>\n",
       "      <td>1242.801111</td>\n",
       "      <td>44.0</td>\n",
       "    </tr>\n",
       "    <tr>\n",
       "      <th>...</th>\n",
       "      <td>...</td>\n",
       "      <td>...</td>\n",
       "      <td>...</td>\n",
       "      <td>...</td>\n",
       "      <td>...</td>\n",
       "      <td>...</td>\n",
       "      <td>...</td>\n",
       "      <td>...</td>\n",
       "      <td>...</td>\n",
       "      <td>...</td>\n",
       "      <td>...</td>\n",
       "      <td>...</td>\n",
       "    </tr>\n",
       "    <tr>\n",
       "      <th>677167</th>\n",
       "      <td>NaN</td>\n",
       "      <td>117.0</td>\n",
       "      <td>255.0</td>\n",
       "      <td>172.0</td>\n",
       "      <td>244.0</td>\n",
       "      <td>SOFT</td>\n",
       "      <td>3.0</td>\n",
       "      <td>True</td>\n",
       "      <td>1.0</td>\n",
       "      <td>23.0</td>\n",
       "      <td>322.196944</td>\n",
       "      <td>8.0</td>\n",
       "    </tr>\n",
       "    <tr>\n",
       "      <th>677168</th>\n",
       "      <td>NaN</td>\n",
       "      <td>117.0</td>\n",
       "      <td>255.0</td>\n",
       "      <td>172.0</td>\n",
       "      <td>244.0</td>\n",
       "      <td>SOFT</td>\n",
       "      <td>3.0</td>\n",
       "      <td>True</td>\n",
       "      <td>1.0</td>\n",
       "      <td>23.0</td>\n",
       "      <td>324.830278</td>\n",
       "      <td>8.0</td>\n",
       "    </tr>\n",
       "    <tr>\n",
       "      <th>677169</th>\n",
       "      <td>NaN</td>\n",
       "      <td>117.0</td>\n",
       "      <td>255.0</td>\n",
       "      <td>172.0</td>\n",
       "      <td>244.0</td>\n",
       "      <td>SOFT</td>\n",
       "      <td>3.0</td>\n",
       "      <td>True</td>\n",
       "      <td>1.0</td>\n",
       "      <td>23.0</td>\n",
       "      <td>327.054306</td>\n",
       "      <td>8.0</td>\n",
       "    </tr>\n",
       "    <tr>\n",
       "      <th>677170</th>\n",
       "      <td>NaN</td>\n",
       "      <td>117.0</td>\n",
       "      <td>255.0</td>\n",
       "      <td>172.0</td>\n",
       "      <td>244.0</td>\n",
       "      <td>SOFT</td>\n",
       "      <td>3.0</td>\n",
       "      <td>True</td>\n",
       "      <td>1.0</td>\n",
       "      <td>23.0</td>\n",
       "      <td>329.278333</td>\n",
       "      <td>8.0</td>\n",
       "    </tr>\n",
       "    <tr>\n",
       "      <th>677171</th>\n",
       "      <td>NaN</td>\n",
       "      <td>117.0</td>\n",
       "      <td>255.0</td>\n",
       "      <td>172.0</td>\n",
       "      <td>244.0</td>\n",
       "      <td>SOFT</td>\n",
       "      <td>3.0</td>\n",
       "      <td>True</td>\n",
       "      <td>1.0</td>\n",
       "      <td>23.0</td>\n",
       "      <td>329.278333</td>\n",
       "      <td>8.0</td>\n",
       "    </tr>\n",
       "  </tbody>\n",
       "</table>\n",
       "<p>10801 rows × 12 columns</p>\n",
       "</div>"
      ],
      "text/plain": [
       "       qualifying_LapTime  qualifying_SpeedI1  qualifying_SpeedI2  \\\n",
       "95414                 NaN               108.0               253.0   \n",
       "95415                 NaN               108.0               253.0   \n",
       "95416                 NaN               108.0               253.0   \n",
       "95417                 NaN               108.0               253.0   \n",
       "95418                 NaN               108.0               253.0   \n",
       "...                   ...                 ...                 ...   \n",
       "677167                NaN               117.0               255.0   \n",
       "677168                NaN               117.0               255.0   \n",
       "677169                NaN               117.0               255.0   \n",
       "677170                NaN               117.0               255.0   \n",
       "677171                NaN               117.0               255.0   \n",
       "\n",
       "        qualifying_SpeedFL  qualifying_SpeedST qualifying_Compound  \\\n",
       "95414                177.0               140.0           HYPERSOFT   \n",
       "95415                177.0               140.0           HYPERSOFT   \n",
       "95416                177.0               140.0           HYPERSOFT   \n",
       "95417                177.0               140.0           HYPERSOFT   \n",
       "95418                177.0               140.0           HYPERSOFT   \n",
       "...                    ...                 ...                 ...   \n",
       "677167               172.0               244.0                SOFT   \n",
       "677168               172.0               244.0                SOFT   \n",
       "677169               172.0               244.0                SOFT   \n",
       "677170               172.0               244.0                SOFT   \n",
       "677171               172.0               244.0                SOFT   \n",
       "\n",
       "        qualifying_TyreLife qualifying_FreshTyre  qualifying_Stint  \\\n",
       "95414                   5.0                 True               1.0   \n",
       "95415                   5.0                 True               1.0   \n",
       "95416                   5.0                 True               1.0   \n",
       "95417                   5.0                 True               1.0   \n",
       "95418                   5.0                 True               1.0   \n",
       "...                     ...                  ...               ...   \n",
       "677167                  3.0                 True               1.0   \n",
       "677168                  3.0                 True               1.0   \n",
       "677169                  3.0                 True               1.0   \n",
       "677170                  3.0                 True               1.0   \n",
       "677171                  3.0                 True               1.0   \n",
       "\n",
       "        qualifying_DriverAhead  qualifying_DistanceToDriverAhead  \\\n",
       "95414                      NaN                       1242.801111   \n",
       "95415                      NaN                       1242.801111   \n",
       "95416                      NaN                       1242.801111   \n",
       "95417                      NaN                       1242.801111   \n",
       "95418                     77.0                       1242.801111   \n",
       "...                        ...                               ...   \n",
       "677167                    23.0                        322.196944   \n",
       "677168                    23.0                        324.830278   \n",
       "677169                    23.0                        327.054306   \n",
       "677170                    23.0                        329.278333   \n",
       "677171                    23.0                        329.278333   \n",
       "\n",
       "        qualifying_DriverNumber  \n",
       "95414                      44.0  \n",
       "95415                      44.0  \n",
       "95416                      44.0  \n",
       "95417                      44.0  \n",
       "95418                      44.0  \n",
       "...                         ...  \n",
       "677167                      8.0  \n",
       "677168                      8.0  \n",
       "677169                      8.0  \n",
       "677170                      8.0  \n",
       "677171                      8.0  \n",
       "\n",
       "[10801 rows x 12 columns]"
      ]
     },
     "execution_count": 262,
     "metadata": {},
     "output_type": "execute_result"
    }
   ],
   "source": [
    "qualifying_data_clean.loc[qualifying_data_clean['qualifying_LapTime'].isna(),['qualifying_LapTime', 'qualifying_SpeedI1', 'qualifying_SpeedI2', 'qualifying_SpeedFL', 'qualifying_SpeedST', 'qualifying_Compound', 'qualifying_TyreLife', 'qualifying_FreshTyre', 'qualifying_Stint', 'qualifying_DriverAhead', 'qualifying_DistanceToDriverAhead','qualifying_DriverNumber']]"
   ]
  },
  {
   "cell_type": "markdown",
   "metadata": {},
   "source": [
    "To measure pure car performance we do not need to know which car is ahead. Therefore we can remove driver ahead"
   ]
  },
  {
   "cell_type": "code",
   "execution_count": 263,
   "metadata": {},
   "outputs": [],
   "source": [
    "qualifying_data_clean.drop(columns=['qualifying_DriverAhead'],axis=1,inplace=True)"
   ]
  },
  {
   "cell_type": "code",
   "execution_count": 264,
   "metadata": {},
   "outputs": [
    {
     "data": {
      "text/plain": [
       "1.0603197353372829"
      ]
     },
     "execution_count": 264,
     "metadata": {},
     "output_type": "execute_result"
    }
   ],
   "source": [
    "qualifying_data_clean['qualifying_LapTime'].isna().sum()/len(qualifying_data_clean)*100"
   ]
  },
  {
   "cell_type": "code",
   "execution_count": 265,
   "metadata": {},
   "outputs": [
    {
     "data": {
      "text/plain": [
       "10801"
      ]
     },
     "execution_count": 265,
     "metadata": {},
     "output_type": "execute_result"
    }
   ],
   "source": [
    "(qualifying_data_clean['qualifying_IsAccurate']==False).sum()"
   ]
  },
  {
   "cell_type": "code",
   "execution_count": 266,
   "metadata": {},
   "outputs": [
    {
     "data": {
      "text/plain": [
       "10801"
      ]
     },
     "execution_count": 266,
     "metadata": {},
     "output_type": "execute_result"
    }
   ],
   "source": [
    "qualifying_data_clean['qualifying_LapTime'].isna().sum()"
   ]
  },
  {
   "cell_type": "markdown",
   "metadata": {},
   "source": [
    "IsAccurate (bool): Indicates that the lap start and end time are synced correctly with other laps. Do not confuse this with the accuracy of the lap time or sector times. They are always considered to be accurate if they exist! If this value is True, the lap has passed as basic accuracy check for timing data. This does not guarantee accuracy but laps marked as inaccurate need to be handled with caution. They might contain errors which can not be spotted easily. Laps need to satisfy the following criteria to be marked as accurate:\n",
    "\n",
    "not an inlap or outlap\n",
    "\n",
    "set under green or yellow flag (the api sometimes has issues with data from SC/VSC laps)\n",
    "\n",
    "is not the first lap after a safety car period (issues with SC/VSC might still appear on the first lap after it has ended)\n",
    "\n",
    "has a value for lap time and all sector times\n",
    "\n",
    "the sum of the sector times matches the lap time (If this were to ever occur, it would also be logged separately as a data integrity error. You usually don’t need to worry about this.)"
   ]
  },
  {
   "cell_type": "markdown",
   "metadata": {},
   "source": [
    "Since in accurate lap time match the len of lap times with nans we will remove all laps not accurate from the database"
   ]
  },
  {
   "cell_type": "code",
   "execution_count": 267,
   "metadata": {},
   "outputs": [],
   "source": [
    "qualifying_data_clean = qualifying_data_clean[qualifying_data_clean['qualifying_IsAccurate']]"
   ]
  },
  {
   "cell_type": "code",
   "execution_count": 268,
   "metadata": {},
   "outputs": [
    {
     "data": {
      "text/plain": [
       "0"
      ]
     },
     "execution_count": 268,
     "metadata": {},
     "output_type": "execute_result"
    }
   ],
   "source": [
    "qualifying_data_clean['qualifying_LapTime'].isna().sum()"
   ]
  },
  {
   "cell_type": "markdown",
   "metadata": {},
   "source": [
    "Removing in accurate laps got rid of lap time nans"
   ]
  },
  {
   "cell_type": "code",
   "execution_count": 269,
   "metadata": {},
   "outputs": [
    {
     "name": "stdout",
     "output_type": "stream",
     "text": [
      "This dataframe has 83465 NaN values\n",
      " The NaN values come from: ['qualifying_SpeedI1', 'qualifying_SpeedI2', 'qualifying_SpeedFL', 'qualifying_SpeedST', 'qualifying_Compound', 'qualifying_TyreLife', 'qualifying_FreshTyre', 'qualifying_Stint', 'qualifying_DistanceToDriverAhead']. \n",
      "\n"
     ]
    }
   ],
   "source": [
    "ds_ultils.nan_checker(qualifying_data_clean)"
   ]
  },
  {
   "cell_type": "code",
   "execution_count": 270,
   "metadata": {},
   "outputs": [
    {
     "data": {
      "text/plain": [
       "array([ 7., 33., 28., 44., 77.])"
      ]
     },
     "execution_count": 270,
     "metadata": {},
     "output_type": "execute_result"
    }
   ],
   "source": [
    "qualifying_data_clean.loc[qualifying_data_clean['qualifying_SpeedI1'].isna(),'qualifying_DriverNumber'].unique()"
   ]
  },
  {
   "cell_type": "code",
   "execution_count": 271,
   "metadata": {},
   "outputs": [
    {
     "data": {
      "text/plain": [
       "array([ 33.,  41.,  98., 111.,   4.,  12.,  21.,  66.])"
      ]
     },
     "execution_count": 271,
     "metadata": {},
     "output_type": "execute_result"
    }
   ],
   "source": [
    "qualifying_data_clean.loc[qualifying_data_clean['qualifying_SpeedI1'].isna(),'qualifying_lapId'].unique()"
   ]
  },
  {
   "cell_type": "code",
   "execution_count": 272,
   "metadata": {},
   "outputs": [
    {
     "data": {
      "text/html": [
       "<div>\n",
       "<style scoped>\n",
       "    .dataframe tbody tr th:only-of-type {\n",
       "        vertical-align: middle;\n",
       "    }\n",
       "\n",
       "    .dataframe tbody tr th {\n",
       "        vertical-align: top;\n",
       "    }\n",
       "\n",
       "    .dataframe thead th {\n",
       "        text-align: right;\n",
       "    }\n",
       "</style>\n",
       "<table border=\"1\" class=\"dataframe\">\n",
       "  <thead>\n",
       "    <tr style=\"text-align: right;\">\n",
       "      <th></th>\n",
       "      <th>qualifying_lapId</th>\n",
       "      <th>raceId</th>\n",
       "      <th>qualifying_DriverNumber</th>\n",
       "      <th>qualifying_SpeedI1</th>\n",
       "    </tr>\n",
       "  </thead>\n",
       "  <tbody>\n",
       "    <tr>\n",
       "      <th>167010</th>\n",
       "      <td>33.0</td>\n",
       "      <td>1000</td>\n",
       "      <td>7.0</td>\n",
       "      <td>NaN</td>\n",
       "    </tr>\n",
       "    <tr>\n",
       "      <th>167011</th>\n",
       "      <td>33.0</td>\n",
       "      <td>1000</td>\n",
       "      <td>7.0</td>\n",
       "      <td>NaN</td>\n",
       "    </tr>\n",
       "    <tr>\n",
       "      <th>167012</th>\n",
       "      <td>33.0</td>\n",
       "      <td>1000</td>\n",
       "      <td>7.0</td>\n",
       "      <td>NaN</td>\n",
       "    </tr>\n",
       "    <tr>\n",
       "      <th>167013</th>\n",
       "      <td>33.0</td>\n",
       "      <td>1000</td>\n",
       "      <td>7.0</td>\n",
       "      <td>NaN</td>\n",
       "    </tr>\n",
       "    <tr>\n",
       "      <th>167014</th>\n",
       "      <td>33.0</td>\n",
       "      <td>1000</td>\n",
       "      <td>7.0</td>\n",
       "      <td>NaN</td>\n",
       "    </tr>\n",
       "    <tr>\n",
       "      <th>...</th>\n",
       "      <td>...</td>\n",
       "      <td>...</td>\n",
       "      <td>...</td>\n",
       "      <td>...</td>\n",
       "    </tr>\n",
       "    <tr>\n",
       "      <th>586811</th>\n",
       "      <td>66.0</td>\n",
       "      <td>1018</td>\n",
       "      <td>7.0</td>\n",
       "      <td>NaN</td>\n",
       "    </tr>\n",
       "    <tr>\n",
       "      <th>586812</th>\n",
       "      <td>66.0</td>\n",
       "      <td>1018</td>\n",
       "      <td>7.0</td>\n",
       "      <td>NaN</td>\n",
       "    </tr>\n",
       "    <tr>\n",
       "      <th>586813</th>\n",
       "      <td>66.0</td>\n",
       "      <td>1018</td>\n",
       "      <td>7.0</td>\n",
       "      <td>NaN</td>\n",
       "    </tr>\n",
       "    <tr>\n",
       "      <th>586814</th>\n",
       "      <td>66.0</td>\n",
       "      <td>1018</td>\n",
       "      <td>7.0</td>\n",
       "      <td>NaN</td>\n",
       "    </tr>\n",
       "    <tr>\n",
       "      <th>586815</th>\n",
       "      <td>66.0</td>\n",
       "      <td>1018</td>\n",
       "      <td>7.0</td>\n",
       "      <td>NaN</td>\n",
       "    </tr>\n",
       "  </tbody>\n",
       "</table>\n",
       "<p>5180 rows × 4 columns</p>\n",
       "</div>"
      ],
      "text/plain": [
       "        qualifying_lapId  raceId  qualifying_DriverNumber  qualifying_SpeedI1\n",
       "167010              33.0    1000                      7.0                 NaN\n",
       "167011              33.0    1000                      7.0                 NaN\n",
       "167012              33.0    1000                      7.0                 NaN\n",
       "167013              33.0    1000                      7.0                 NaN\n",
       "167014              33.0    1000                      7.0                 NaN\n",
       "...                  ...     ...                      ...                 ...\n",
       "586811              66.0    1018                      7.0                 NaN\n",
       "586812              66.0    1018                      7.0                 NaN\n",
       "586813              66.0    1018                      7.0                 NaN\n",
       "586814              66.0    1018                      7.0                 NaN\n",
       "586815              66.0    1018                      7.0                 NaN\n",
       "\n",
       "[5180 rows x 4 columns]"
      ]
     },
     "execution_count": 272,
     "metadata": {},
     "output_type": "execute_result"
    }
   ],
   "source": [
    "qualifying_data_clean.loc[qualifying_data_clean['qualifying_SpeedI1'].isna(),['qualifying_lapId','raceId','qualifying_DriverNumber','qualifying_SpeedI1']]"
   ]
  },
  {
   "cell_type": "code",
   "execution_count": 273,
   "metadata": {},
   "outputs": [
    {
     "name": "stdout",
     "output_type": "stream",
     "text": [
      "percentage nans: 100.0\n"
     ]
    },
    {
     "data": {
      "text/html": [
       "<div>\n",
       "<style scoped>\n",
       "    .dataframe tbody tr th:only-of-type {\n",
       "        vertical-align: middle;\n",
       "    }\n",
       "\n",
       "    .dataframe tbody tr th {\n",
       "        vertical-align: top;\n",
       "    }\n",
       "\n",
       "    .dataframe thead th {\n",
       "        text-align: right;\n",
       "    }\n",
       "</style>\n",
       "<table border=\"1\" class=\"dataframe\">\n",
       "  <thead>\n",
       "    <tr style=\"text-align: right;\">\n",
       "      <th></th>\n",
       "      <th>qualifying_SpeedI1</th>\n",
       "      <th>qualifying_Stint</th>\n",
       "    </tr>\n",
       "  </thead>\n",
       "  <tbody>\n",
       "    <tr>\n",
       "      <th>167010</th>\n",
       "      <td>NaN</td>\n",
       "      <td>2.0</td>\n",
       "    </tr>\n",
       "    <tr>\n",
       "      <th>167011</th>\n",
       "      <td>NaN</td>\n",
       "      <td>2.0</td>\n",
       "    </tr>\n",
       "    <tr>\n",
       "      <th>167012</th>\n",
       "      <td>NaN</td>\n",
       "      <td>2.0</td>\n",
       "    </tr>\n",
       "    <tr>\n",
       "      <th>167013</th>\n",
       "      <td>NaN</td>\n",
       "      <td>2.0</td>\n",
       "    </tr>\n",
       "    <tr>\n",
       "      <th>167014</th>\n",
       "      <td>NaN</td>\n",
       "      <td>2.0</td>\n",
       "    </tr>\n",
       "    <tr>\n",
       "      <th>...</th>\n",
       "      <td>...</td>\n",
       "      <td>...</td>\n",
       "    </tr>\n",
       "    <tr>\n",
       "      <th>167594</th>\n",
       "      <td>NaN</td>\n",
       "      <td>2.0</td>\n",
       "    </tr>\n",
       "    <tr>\n",
       "      <th>167595</th>\n",
       "      <td>NaN</td>\n",
       "      <td>2.0</td>\n",
       "    </tr>\n",
       "    <tr>\n",
       "      <th>167596</th>\n",
       "      <td>NaN</td>\n",
       "      <td>2.0</td>\n",
       "    </tr>\n",
       "    <tr>\n",
       "      <th>167597</th>\n",
       "      <td>NaN</td>\n",
       "      <td>2.0</td>\n",
       "    </tr>\n",
       "    <tr>\n",
       "      <th>167598</th>\n",
       "      <td>NaN</td>\n",
       "      <td>2.0</td>\n",
       "    </tr>\n",
       "  </tbody>\n",
       "</table>\n",
       "<p>589 rows × 2 columns</p>\n",
       "</div>"
      ],
      "text/plain": [
       "        qualifying_SpeedI1  qualifying_Stint\n",
       "167010                 NaN               2.0\n",
       "167011                 NaN               2.0\n",
       "167012                 NaN               2.0\n",
       "167013                 NaN               2.0\n",
       "167014                 NaN               2.0\n",
       "...                    ...               ...\n",
       "167594                 NaN               2.0\n",
       "167595                 NaN               2.0\n",
       "167596                 NaN               2.0\n",
       "167597                 NaN               2.0\n",
       "167598                 NaN               2.0\n",
       "\n",
       "[589 rows x 2 columns]"
      ]
     },
     "execution_count": 273,
     "metadata": {},
     "output_type": "execute_result"
    }
   ],
   "source": [
    "query = (qualifying_data_clean['qualifying_lapId']==33) & (qualifying_data_clean['raceId']==1000) & (qualifying_data_clean['qualifying_DriverNumber'] ==7)\n",
    "print('percentage nans:',(qualifying_data_clean.loc[query,'qualifying_SpeedI1'].isna().sum()/len(qualifying_data_clean.loc[query,'qualifying_SpeedI1']))*100)\n",
    "qualifying_data_clean.loc[query,['qualifying_SpeedI1','qualifying_Stint']]"
   ]
  },
  {
   "cell_type": "code",
   "execution_count": 274,
   "metadata": {},
   "outputs": [
    {
     "data": {
      "text/plain": [
       "qualifying_SpeedI1    272.635275\n",
       "dtype: float64"
      ]
     },
     "execution_count": 274,
     "metadata": {},
     "output_type": "execute_result"
    }
   ],
   "source": [
    "query = (qualifying_data_clean['qualifying_Stint']==2)&(qualifying_data_clean['raceId']==1000) & (qualifying_data_clean['qualifying_DriverNumber'] ==7)\n",
    "qualifying_data_clean.loc[query,['qualifying_SpeedI1']].mean()"
   ]
  },
  {
   "cell_type": "code",
   "execution_count": 275,
   "metadata": {},
   "outputs": [],
   "source": [
    "indexes = qualifying_data_clean.loc[qualifying_data_clean['qualifying_SpeedI1'].isna()].groupby(['qualifying_lapId','raceId','qualifying_DriverNumber'])['qualifying_Stint'].unique().index\n",
    "values = list(qualifying_data_clean.loc[qualifying_data_clean['qualifying_SpeedI1'].isna()].groupby(['qualifying_lapId','raceId','qualifying_DriverNumber'])['qualifying_Stint'].unique().values)"
   ]
  },
  {
   "cell_type": "code",
   "execution_count": 276,
   "metadata": {},
   "outputs": [
    {
     "name": "stdout",
     "output_type": "stream",
     "text": [
      "(4.0, 1000, 44.0)\n",
      "2.0\n",
      "(12.0, 1000, 44.0)\n",
      "5.0\n",
      "(21.0, 1000, 77.0)\n",
      "2.0\n",
      "(33.0, 1000, 7.0)\n",
      "2.0\n",
      "(41.0, 1000, 7.0)\n",
      "5.0\n",
      "(66.0, 1018, 7.0)\n",
      "2.0\n",
      "(98.0, 1000, 33.0)\n",
      "5.0\n",
      "(111.0, 1000, 28.0)\n",
      "6.0\n"
     ]
    }
   ],
   "source": [
    "for i,ind in enumerate(indexes):\n",
    "    print(ind)\n",
    "    for val in values[i]:\n",
    "        print(val)"
   ]
  },
  {
   "cell_type": "code",
   "execution_count": 277,
   "metadata": {},
   "outputs": [],
   "source": [
    "\n",
    "\n",
    "qualifying_data_clean = fill_mean_parameter(qualifying_data_clean,'qualifying_SpeedI1')"
   ]
  },
  {
   "cell_type": "markdown",
   "metadata": {},
   "source": [
    "Clean other parameters convert time to milliseconds save to csv"
   ]
  },
  {
   "cell_type": "code",
   "execution_count": 278,
   "metadata": {},
   "outputs": [
    {
     "name": "stdout",
     "output_type": "stream",
     "text": [
      "This dataframe has 78285 NaN values\n",
      " The NaN values come from: ['qualifying_SpeedI2', 'qualifying_SpeedFL', 'qualifying_SpeedST', 'qualifying_Compound', 'qualifying_TyreLife', 'qualifying_FreshTyre', 'qualifying_Stint', 'qualifying_DistanceToDriverAhead']. \n",
      "\n"
     ]
    }
   ],
   "source": [
    "ds_ultils.nan_checker(qualifying_data_clean)"
   ]
  },
  {
   "cell_type": "code",
   "execution_count": 279,
   "metadata": {},
   "outputs": [],
   "source": [
    "qualifying_data_clean = fill_mean_parameter(qualifying_data_clean,'qualifying_SpeedI2')\n",
    "qualifying_data_clean = fill_mean_parameter(qualifying_data_clean,'qualifying_SpeedFL')\n",
    "qualifying_data_clean = fill_mean_parameter(qualifying_data_clean,'qualifying_SpeedST')"
   ]
  },
  {
   "cell_type": "code",
   "execution_count": 280,
   "metadata": {},
   "outputs": [
    {
     "data": {
      "text/html": [
       "<div>\n",
       "<style scoped>\n",
       "    .dataframe tbody tr th:only-of-type {\n",
       "        vertical-align: middle;\n",
       "    }\n",
       "\n",
       "    .dataframe tbody tr th {\n",
       "        vertical-align: top;\n",
       "    }\n",
       "\n",
       "    .dataframe thead th {\n",
       "        text-align: right;\n",
       "    }\n",
       "</style>\n",
       "<table border=\"1\" class=\"dataframe\">\n",
       "  <thead>\n",
       "    <tr style=\"text-align: right;\">\n",
       "      <th></th>\n",
       "      <th>qualifying_Compound</th>\n",
       "      <th>qualifying_TyreLife</th>\n",
       "      <th>qualifying_FreshTyre</th>\n",
       "      <th>qualifying_Stint</th>\n",
       "    </tr>\n",
       "  </thead>\n",
       "  <tbody>\n",
       "    <tr>\n",
       "      <th>79477</th>\n",
       "      <td>NaN</td>\n",
       "      <td>NaN</td>\n",
       "      <td>NaN</td>\n",
       "      <td>NaN</td>\n",
       "    </tr>\n",
       "    <tr>\n",
       "      <th>79478</th>\n",
       "      <td>NaN</td>\n",
       "      <td>NaN</td>\n",
       "      <td>NaN</td>\n",
       "      <td>NaN</td>\n",
       "    </tr>\n",
       "    <tr>\n",
       "      <th>79479</th>\n",
       "      <td>NaN</td>\n",
       "      <td>NaN</td>\n",
       "      <td>NaN</td>\n",
       "      <td>NaN</td>\n",
       "    </tr>\n",
       "    <tr>\n",
       "      <th>79480</th>\n",
       "      <td>NaN</td>\n",
       "      <td>NaN</td>\n",
       "      <td>NaN</td>\n",
       "      <td>NaN</td>\n",
       "    </tr>\n",
       "    <tr>\n",
       "      <th>79481</th>\n",
       "      <td>NaN</td>\n",
       "      <td>NaN</td>\n",
       "      <td>NaN</td>\n",
       "      <td>NaN</td>\n",
       "    </tr>\n",
       "    <tr>\n",
       "      <th>...</th>\n",
       "      <td>...</td>\n",
       "      <td>...</td>\n",
       "      <td>...</td>\n",
       "      <td>...</td>\n",
       "    </tr>\n",
       "    <tr>\n",
       "      <th>546466</th>\n",
       "      <td>NaN</td>\n",
       "      <td>NaN</td>\n",
       "      <td>NaN</td>\n",
       "      <td>NaN</td>\n",
       "    </tr>\n",
       "    <tr>\n",
       "      <th>546467</th>\n",
       "      <td>NaN</td>\n",
       "      <td>NaN</td>\n",
       "      <td>NaN</td>\n",
       "      <td>NaN</td>\n",
       "    </tr>\n",
       "    <tr>\n",
       "      <th>546468</th>\n",
       "      <td>NaN</td>\n",
       "      <td>NaN</td>\n",
       "      <td>NaN</td>\n",
       "      <td>NaN</td>\n",
       "    </tr>\n",
       "    <tr>\n",
       "      <th>546469</th>\n",
       "      <td>NaN</td>\n",
       "      <td>NaN</td>\n",
       "      <td>NaN</td>\n",
       "      <td>NaN</td>\n",
       "    </tr>\n",
       "    <tr>\n",
       "      <th>546470</th>\n",
       "      <td>NaN</td>\n",
       "      <td>NaN</td>\n",
       "      <td>NaN</td>\n",
       "      <td>NaN</td>\n",
       "    </tr>\n",
       "  </tbody>\n",
       "</table>\n",
       "<p>2470 rows × 4 columns</p>\n",
       "</div>"
      ],
      "text/plain": [
       "       qualifying_Compound  qualifying_TyreLife qualifying_FreshTyre  \\\n",
       "79477                  NaN                  NaN                  NaN   \n",
       "79478                  NaN                  NaN                  NaN   \n",
       "79479                  NaN                  NaN                  NaN   \n",
       "79480                  NaN                  NaN                  NaN   \n",
       "79481                  NaN                  NaN                  NaN   \n",
       "...                    ...                  ...                  ...   \n",
       "546466                 NaN                  NaN                  NaN   \n",
       "546467                 NaN                  NaN                  NaN   \n",
       "546468                 NaN                  NaN                  NaN   \n",
       "546469                 NaN                  NaN                  NaN   \n",
       "546470                 NaN                  NaN                  NaN   \n",
       "\n",
       "        qualifying_Stint  \n",
       "79477                NaN  \n",
       "79478                NaN  \n",
       "79479                NaN  \n",
       "79480                NaN  \n",
       "79481                NaN  \n",
       "...                  ...  \n",
       "546466               NaN  \n",
       "546467               NaN  \n",
       "546468               NaN  \n",
       "546469               NaN  \n",
       "546470               NaN  \n",
       "\n",
       "[2470 rows x 4 columns]"
      ]
     },
     "execution_count": 280,
     "metadata": {},
     "output_type": "execute_result"
    }
   ],
   "source": [
    "qualifying_data_clean.loc[qualifying_data_clean['qualifying_Compound'].isna(),['qualifying_Compound', 'qualifying_TyreLife', 'qualifying_FreshTyre', 'qualifying_Stint']]"
   ]
  },
  {
   "cell_type": "code",
   "execution_count": 281,
   "metadata": {},
   "outputs": [
    {
     "name": "stdout",
     "output_type": "stream",
     "text": [
      "compound nans : 2470\n",
      "Tyrelife nans : 2470\n",
      "FreshTyre nans : 2470\n",
      "Stint nans : 2470\n",
      "distance to driver ahead nans : 59596\n"
     ]
    }
   ],
   "source": [
    "print('compound nans :', qualifying_data_clean['qualifying_Compound'].isna().sum())\n",
    "print('Tyrelife nans :',qualifying_data_clean['qualifying_TyreLife'].isna().sum())\n",
    "print('FreshTyre nans :',qualifying_data_clean['qualifying_FreshTyre'].isna().sum())\n",
    "print('Stint nans :',qualifying_data_clean['qualifying_Stint'].isna().sum())\n",
    "print('distance to driver ahead nans :',qualifying_data_clean['qualifying_DistanceToDriverAhead'].isna().sum())\n"
   ]
  },
  {
   "cell_type": "code",
   "execution_count": 282,
   "metadata": {},
   "outputs": [
    {
     "data": {
      "text/plain": [
       "qualifying_Compound     0.245075\n",
       "qualifying_TyreLife     0.245075\n",
       "qualifying_FreshTyre    0.245075\n",
       "qualifying_Stint        0.245075\n",
       "dtype: float64"
      ]
     },
     "execution_count": 282,
     "metadata": {},
     "output_type": "execute_result"
    }
   ],
   "source": [
    "(qualifying_data_clean.loc[qualifying_data_clean['qualifying_Compound'].isna(),['qualifying_Compound', 'qualifying_TyreLife', 'qualifying_FreshTyre', 'qualifying_Stint']].isna().sum()/len(qualifying_data_clean))*100"
   ]
  },
  {
   "cell_type": "markdown",
   "metadata": {},
   "source": [
    "Compount, tyreLife, freshtyre, stint all have there nans at the same rows. Drop these rows as 0.2% of the data"
   ]
  },
  {
   "cell_type": "code",
   "execution_count": 283,
   "metadata": {},
   "outputs": [],
   "source": [
    "qualifying_data_clean=qualifying_data_clean[qualifying_data_clean.index.isin(qualifying_data_clean['qualifying_Compound'].dropna(axis=0).index)].copy()"
   ]
  },
  {
   "cell_type": "code",
   "execution_count": 284,
   "metadata": {},
   "outputs": [
    {
     "data": {
      "text/plain": [
       "5.752826780613178"
      ]
     },
     "execution_count": 284,
     "metadata": {},
     "output_type": "execute_result"
    }
   ],
   "source": [
    "(qualifying_data_clean['qualifying_DistanceToDriverAhead'].isna().sum()/len(qualifying_data_clean))*100"
   ]
  },
  {
   "cell_type": "markdown",
   "metadata": {},
   "source": [
    "Distance to driver ahead every lap has 5% of the data missing. This can not be dropped and has to be filled. However for this lap it is always nan and even for the whole qualifying stint. Therefore since it is expected not to be a key parameter the missing values are filled with mean for that driver and race."
   ]
  },
  {
   "cell_type": "code",
   "execution_count": 285,
   "metadata": {},
   "outputs": [],
   "source": [
    "indexes = qualifying_data_clean.loc[qualifying_data_clean['qualifying_DistanceToDriverAhead'].isna()].groupby(['qualifying_lapId',\n",
    "'raceId','qualifying_DriverNumber'])['qualifying_Stint'].unique().index\n",
    "values = qualifying_data_clean.loc[qualifying_data_clean['qualifying_DistanceToDriverAhead'].isna()].groupby(['qualifying_lapId',\n",
    "'raceId','qualifying_DriverNumber'])['qualifying_Stint'].unique().values\n",
    "for i,ind in enumerate(indexes):   \n",
    "    query = (qualifying_data_clean['raceId']==ind[1]) & (qualifying_data_clean['qualifying_DriverNumber'] ==ind[2])\n",
    "    mean_para = qualifying_data_clean.loc[query,['qualifying_DistanceToDriverAhead']].mean()\n",
    "    query2= (qualifying_data_clean['qualifying_lapId']==ind[0])&(qualifying_data_clean['raceId']==ind[1]) & (qualifying_data_clean['qualifying_DriverNumber'] ==ind[2])\n",
    "    qualifying_data_clean.loc[query2,['qualifying_DistanceToDriverAhead']] = mean_para.values"
   ]
  },
  {
   "cell_type": "code",
   "execution_count": 286,
   "metadata": {},
   "outputs": [
    {
     "name": "stdout",
     "output_type": "stream",
     "text": [
      "This dataframe has 0 NaN values\n"
     ]
    }
   ],
   "source": [
    "ds_ultils.nan_checker(qualifying_data_clean)"
   ]
  },
  {
   "cell_type": "markdown",
   "metadata": {},
   "source": [
    "The dataframe has no nulls and most of the duplicated information in the columns is removed"
   ]
  },
  {
   "cell_type": "code",
   "execution_count": 287,
   "metadata": {},
   "outputs": [
    {
     "data": {
      "text/plain": [
       "0"
      ]
     },
     "execution_count": 287,
     "metadata": {},
     "output_type": "execute_result"
    }
   ],
   "source": [
    "qualifying_data_clean.duplicated().sum()\n",
    "# 0 duplicated rows"
   ]
  },
  {
   "cell_type": "code",
   "execution_count": 288,
   "metadata": {},
   "outputs": [
    {
     "name": "stdout",
     "output_type": "stream",
     "text": [
      "<class 'pandas.core.frame.DataFrame'>\n",
      "Int64Index: 1005384 entries, 0 to 1018657\n",
      "Data columns (total 77 columns):\n",
      " #   Column                            Non-Null Count    Dtype         \n",
      "---  ------                            --------------    -----         \n",
      " 0   raceId                            1005384 non-null  int64         \n",
      " 1   year                              1005384 non-null  int64         \n",
      " 2   name                              1005384 non-null  object        \n",
      " 3   date                              1005384 non-null  datetime64[ns]\n",
      " 4   time                              1005384 non-null  object        \n",
      " 5   lat_x                             1005384 non-null  float64       \n",
      " 6   lng_x                             1005384 non-null  float64       \n",
      " 7   circuitRef                        1005384 non-null  object        \n",
      " 8   country                           1005384 non-null  object        \n",
      " 9   alt                               1005384 non-null  float64       \n",
      " 10  qualifyId                         1005384 non-null  int64         \n",
      " 11  quali_position                    1005384 non-null  int64         \n",
      " 12  positionOrder                     1005384 non-null  float64       \n",
      " 13  points                            1005384 non-null  float64       \n",
      " 14  points_drivers                    1005384 non-null  float64       \n",
      " 15  position_drivers                  1005384 non-null  float64       \n",
      " 16  wins_drivers                      1005384 non-null  float64       \n",
      " 17  points_constructors               1005384 non-null  float64       \n",
      " 18  position_constructors             1005384 non-null  float64       \n",
      " 19  wins_constructors                 1005384 non-null  float64       \n",
      " 20  points_constructor_ind_races      1005384 non-null  float64       \n",
      " 21  driverRef                         1005384 non-null  object        \n",
      " 22  nationality_drivers               1005384 non-null  object        \n",
      " 23  constructorRef                    1005384 non-null  object        \n",
      " 24  nationality_constructors          1005384 non-null  object        \n",
      " 25  qualifying_lapId                  1005384 non-null  float64       \n",
      " 26  qualifying_Time_x                 1005384 non-null  object        \n",
      " 27  qualifying_DriverNumber           1005384 non-null  float64       \n",
      " 28  qualifying_LapTime                1005384 non-null  object        \n",
      " 29  qualifying_LapNumber              1005384 non-null  float64       \n",
      " 30  qualifying_Sector1Time            1005384 non-null  object        \n",
      " 31  qualifying_Sector2Time            1005384 non-null  object        \n",
      " 32  qualifying_Sector3Time            1005384 non-null  object        \n",
      " 33  qualifying_Sector1SessionTime     1005384 non-null  object        \n",
      " 34  qualifying_Sector2SessionTime     1005384 non-null  object        \n",
      " 35  qualifying_Sector3SessionTime     1005384 non-null  object        \n",
      " 36  qualifying_SpeedI1                1005384 non-null  float64       \n",
      " 37  qualifying_SpeedI2                1005384 non-null  float64       \n",
      " 38  qualifying_SpeedFL                1005384 non-null  float64       \n",
      " 39  qualifying_SpeedST                1005384 non-null  float64       \n",
      " 40  qualifying_IsPersonalBest         1005384 non-null  object        \n",
      " 41  qualifying_Compound               1005384 non-null  object        \n",
      " 42  qualifying_TyreLife               1005384 non-null  float64       \n",
      " 43  qualifying_FreshTyre              1005384 non-null  object        \n",
      " 44  qualifying_Stint                  1005384 non-null  float64       \n",
      " 45  qualifying_LapStartTime           1005384 non-null  object        \n",
      " 46  qualifying_Team                   1005384 non-null  object        \n",
      " 47  qualifying_Driver                 1005384 non-null  object        \n",
      " 48  qualifying_TrackStatus            1005384 non-null  float64       \n",
      " 49  qualifying_IsAccurate             1005384 non-null  object        \n",
      " 50  qualifying_LapStartDate           1005384 non-null  object        \n",
      " 51  qualifying_AirTemp                1005384 non-null  float64       \n",
      " 52  qualifying_Humidity               1005384 non-null  float64       \n",
      " 53  qualifying_Pressure               1005384 non-null  float64       \n",
      " 54  qualifying_Rainfall               1005384 non-null  object        \n",
      " 55  qualifying_TrackTemp              1005384 non-null  float64       \n",
      " 56  qualifying_WindDirection          1005384 non-null  float64       \n",
      " 57  qualifying_WindSpeed              1005384 non-null  float64       \n",
      " 58  qualifying_Date                   1005384 non-null  object        \n",
      " 59  qualifying_SessionTime            1005384 non-null  object        \n",
      " 60  qualifying_DistanceToDriverAhead  1005384 non-null  float64       \n",
      " 61  qualifying_Time_y                 1005384 non-null  object        \n",
      " 62  qualifying_RPM                    1005384 non-null  float64       \n",
      " 63  qualifying_Speed                  1005384 non-null  float64       \n",
      " 64  qualifying_nGear                  1005384 non-null  float64       \n",
      " 65  qualifying_Throttle               1005384 non-null  float64       \n",
      " 66  qualifying_Brake                  1005384 non-null  object        \n",
      " 67  qualifying_DRS                    1005384 non-null  float64       \n",
      " 68  qualifying_Source                 1005384 non-null  object        \n",
      " 69  qualifying_Distance               1005384 non-null  float64       \n",
      " 70  qualifying_RelativeDistance       1005384 non-null  float64       \n",
      " 71  qualifying_Status                 1005384 non-null  object        \n",
      " 72  qualifying_X                      1005384 non-null  float64       \n",
      " 73  qualifying_Y                      1005384 non-null  float64       \n",
      " 74  qualifying_Z                      1005384 non-null  float64       \n",
      " 75  fastest_lap_milliseconds          1005384 non-null  float64       \n",
      " 76  age                               1005384 non-null  float64       \n",
      "dtypes: datetime64[ns](1), float64(41), int64(4), object(31)\n",
      "memory usage: 598.3+ MB\n"
     ]
    }
   ],
   "source": [
    "qualifying_data_clean.info()"
   ]
  },
  {
   "cell_type": "markdown",
   "metadata": {},
   "source": [
    "# Now need to check the time columns"
   ]
  },
  {
   "cell_type": "code",
   "execution_count": 289,
   "metadata": {},
   "outputs": [
    {
     "data": {
      "text/plain": [
       "Index(['raceId', 'year', 'name', 'date', 'time', 'lat_x', 'lng_x',\n",
       "       'circuitRef', 'country', 'alt', 'qualifyId', 'quali_position',\n",
       "       'positionOrder', 'points', 'points_drivers', 'position_drivers',\n",
       "       'wins_drivers', 'points_constructors', 'position_constructors',\n",
       "       'wins_constructors', 'points_constructor_ind_races', 'driverRef',\n",
       "       'nationality_drivers', 'constructorRef', 'nationality_constructors',\n",
       "       'qualifying_lapId', 'qualifying_Time_x', 'qualifying_DriverNumber',\n",
       "       'qualifying_LapTime', 'qualifying_LapNumber', 'qualifying_Sector1Time',\n",
       "       'qualifying_Sector2Time', 'qualifying_Sector3Time',\n",
       "       'qualifying_Sector1SessionTime', 'qualifying_Sector2SessionTime',\n",
       "       'qualifying_Sector3SessionTime', 'qualifying_SpeedI1',\n",
       "       'qualifying_SpeedI2', 'qualifying_SpeedFL', 'qualifying_SpeedST',\n",
       "       'qualifying_IsPersonalBest', 'qualifying_Compound',\n",
       "       'qualifying_TyreLife', 'qualifying_FreshTyre', 'qualifying_Stint',\n",
       "       'qualifying_LapStartTime', 'qualifying_Team', 'qualifying_Driver',\n",
       "       'qualifying_TrackStatus', 'qualifying_IsAccurate',\n",
       "       'qualifying_LapStartDate', 'qualifying_AirTemp', 'qualifying_Humidity',\n",
       "       'qualifying_Pressure', 'qualifying_Rainfall', 'qualifying_TrackTemp',\n",
       "       'qualifying_WindDirection', 'qualifying_WindSpeed', 'qualifying_Date',\n",
       "       'qualifying_SessionTime', 'qualifying_DistanceToDriverAhead',\n",
       "       'qualifying_Time_y', 'qualifying_RPM', 'qualifying_Speed',\n",
       "       'qualifying_nGear', 'qualifying_Throttle', 'qualifying_Brake',\n",
       "       'qualifying_DRS', 'qualifying_Source', 'qualifying_Distance',\n",
       "       'qualifying_RelativeDistance', 'qualifying_Status', 'qualifying_X',\n",
       "       'qualifying_Y', 'qualifying_Z', 'fastest_lap_milliseconds', 'age'],\n",
       "      dtype='object')"
      ]
     },
     "execution_count": 289,
     "metadata": {},
     "output_type": "execute_result"
    }
   ],
   "source": [
    "qualifying_data_clean.columns"
   ]
  },
  {
   "cell_type": "code",
   "execution_count": 290,
   "metadata": {},
   "outputs": [
    {
     "data": {
      "text/html": [
       "<div>\n",
       "<style scoped>\n",
       "    .dataframe tbody tr th:only-of-type {\n",
       "        vertical-align: middle;\n",
       "    }\n",
       "\n",
       "    .dataframe tbody tr th {\n",
       "        vertical-align: top;\n",
       "    }\n",
       "\n",
       "    .dataframe thead th {\n",
       "        text-align: right;\n",
       "    }\n",
       "</style>\n",
       "<table border=\"1\" class=\"dataframe\">\n",
       "  <thead>\n",
       "    <tr style=\"text-align: right;\">\n",
       "      <th></th>\n",
       "      <th>qualifying_LapTime</th>\n",
       "      <th>qualifying_Time_x</th>\n",
       "      <th>qualifying_Sector1Time</th>\n",
       "      <th>qualifying_Sector2Time</th>\n",
       "      <th>qualifying_Sector3Time</th>\n",
       "      <th>qualifying_Sector1SessionTime</th>\n",
       "      <th>qualifying_Sector2SessionTime</th>\n",
       "      <th>qualifying_Sector3SessionTime</th>\n",
       "      <th>qualifying_LapStartTime</th>\n",
       "      <th>qualifying_LapStartDate</th>\n",
       "      <th>qualifying_Date</th>\n",
       "      <th>qualifying_SessionTime</th>\n",
       "      <th>qualifying_Time_y</th>\n",
       "    </tr>\n",
       "  </thead>\n",
       "  <tbody>\n",
       "    <tr>\n",
       "      <th>0</th>\n",
       "      <td>0 days 00:01:04.539000</td>\n",
       "      <td>0 days 00:08:43.423000</td>\n",
       "      <td>0 days 00:00:16.343000</td>\n",
       "      <td>0 days 00:00:28.620000</td>\n",
       "      <td>0 days 00:00:19.576000</td>\n",
       "      <td>0 days 00:07:55.227000</td>\n",
       "      <td>0 days 00:08:23.847000</td>\n",
       "      <td>0 days 00:08:43.423000</td>\n",
       "      <td>0 days 00:07:38.884000</td>\n",
       "      <td>2018-06-30 13:03:47.133</td>\n",
       "      <td>2018-06-30 13:03:47.133</td>\n",
       "      <td>0 days 00:07:38.884000</td>\n",
       "      <td>0 days 00:00:00</td>\n",
       "    </tr>\n",
       "    <tr>\n",
       "      <th>1</th>\n",
       "      <td>0 days 00:01:04.539000</td>\n",
       "      <td>0 days 00:08:43.423000</td>\n",
       "      <td>0 days 00:00:16.343000</td>\n",
       "      <td>0 days 00:00:28.620000</td>\n",
       "      <td>0 days 00:00:19.576000</td>\n",
       "      <td>0 days 00:07:55.227000</td>\n",
       "      <td>0 days 00:08:23.847000</td>\n",
       "      <td>0 days 00:08:43.423000</td>\n",
       "      <td>0 days 00:07:38.884000</td>\n",
       "      <td>2018-06-30 13:03:47.133</td>\n",
       "      <td>2018-06-30 13:03:47.280</td>\n",
       "      <td>0 days 00:07:39.031000</td>\n",
       "      <td>0 days 00:00:00.147000</td>\n",
       "    </tr>\n",
       "    <tr>\n",
       "      <th>2</th>\n",
       "      <td>0 days 00:01:04.539000</td>\n",
       "      <td>0 days 00:08:43.423000</td>\n",
       "      <td>0 days 00:00:16.343000</td>\n",
       "      <td>0 days 00:00:28.620000</td>\n",
       "      <td>0 days 00:00:19.576000</td>\n",
       "      <td>0 days 00:07:55.227000</td>\n",
       "      <td>0 days 00:08:23.847000</td>\n",
       "      <td>0 days 00:08:43.423000</td>\n",
       "      <td>0 days 00:07:38.884000</td>\n",
       "      <td>2018-06-30 13:03:47.133</td>\n",
       "      <td>2018-06-30 13:03:47.324</td>\n",
       "      <td>0 days 00:07:39.075000</td>\n",
       "      <td>0 days 00:00:00.191000</td>\n",
       "    </tr>\n",
       "    <tr>\n",
       "      <th>3</th>\n",
       "      <td>0 days 00:01:04.539000</td>\n",
       "      <td>0 days 00:08:43.423000</td>\n",
       "      <td>0 days 00:00:16.343000</td>\n",
       "      <td>0 days 00:00:28.620000</td>\n",
       "      <td>0 days 00:00:19.576000</td>\n",
       "      <td>0 days 00:07:55.227000</td>\n",
       "      <td>0 days 00:08:23.847000</td>\n",
       "      <td>0 days 00:08:43.423000</td>\n",
       "      <td>0 days 00:07:38.884000</td>\n",
       "      <td>2018-06-30 13:03:47.133</td>\n",
       "      <td>2018-06-30 13:03:47.564</td>\n",
       "      <td>0 days 00:07:39.315000</td>\n",
       "      <td>0 days 00:00:00.431000</td>\n",
       "    </tr>\n",
       "    <tr>\n",
       "      <th>4</th>\n",
       "      <td>0 days 00:01:04.539000</td>\n",
       "      <td>0 days 00:08:43.423000</td>\n",
       "      <td>0 days 00:00:16.343000</td>\n",
       "      <td>0 days 00:00:28.620000</td>\n",
       "      <td>0 days 00:00:19.576000</td>\n",
       "      <td>0 days 00:07:55.227000</td>\n",
       "      <td>0 days 00:08:23.847000</td>\n",
       "      <td>0 days 00:08:43.423000</td>\n",
       "      <td>0 days 00:07:38.884000</td>\n",
       "      <td>2018-06-30 13:03:47.133</td>\n",
       "      <td>2018-06-30 13:03:47.579</td>\n",
       "      <td>0 days 00:07:39.330000</td>\n",
       "      <td>0 days 00:00:00.446000</td>\n",
       "    </tr>\n",
       "    <tr>\n",
       "      <th>...</th>\n",
       "      <td>...</td>\n",
       "      <td>...</td>\n",
       "      <td>...</td>\n",
       "      <td>...</td>\n",
       "      <td>...</td>\n",
       "      <td>...</td>\n",
       "      <td>...</td>\n",
       "      <td>...</td>\n",
       "      <td>...</td>\n",
       "      <td>...</td>\n",
       "      <td>...</td>\n",
       "      <td>...</td>\n",
       "      <td>...</td>\n",
       "    </tr>\n",
       "    <tr>\n",
       "      <th>1018653</th>\n",
       "      <td>0 days 00:01:20.547000</td>\n",
       "      <td>0 days 00:32:57.064000</td>\n",
       "      <td>0 days 00:00:22.227000</td>\n",
       "      <td>0 days 00:00:30.223000</td>\n",
       "      <td>0 days 00:00:28.097000</td>\n",
       "      <td>0 days 00:31:58.744000</td>\n",
       "      <td>0 days 00:32:28.967000</td>\n",
       "      <td>0 days 00:32:57.064000</td>\n",
       "      <td>0 days 00:31:36.517000</td>\n",
       "      <td>2019-05-11 13:16:36.564</td>\n",
       "      <td>2019-05-11 13:17:56.609</td>\n",
       "      <td>0 days 00:32:56.562000</td>\n",
       "      <td>0 days 00:01:20.045000</td>\n",
       "    </tr>\n",
       "    <tr>\n",
       "      <th>1018654</th>\n",
       "      <td>0 days 00:01:20.547000</td>\n",
       "      <td>0 days 00:32:57.064000</td>\n",
       "      <td>0 days 00:00:22.227000</td>\n",
       "      <td>0 days 00:00:30.223000</td>\n",
       "      <td>0 days 00:00:28.097000</td>\n",
       "      <td>0 days 00:31:58.744000</td>\n",
       "      <td>0 days 00:32:28.967000</td>\n",
       "      <td>0 days 00:32:57.064000</td>\n",
       "      <td>0 days 00:31:36.517000</td>\n",
       "      <td>2019-05-11 13:16:36.564</td>\n",
       "      <td>2019-05-11 13:17:56.810</td>\n",
       "      <td>0 days 00:32:56.763000</td>\n",
       "      <td>0 days 00:01:20.246000</td>\n",
       "    </tr>\n",
       "    <tr>\n",
       "      <th>1018655</th>\n",
       "      <td>0 days 00:01:20.547000</td>\n",
       "      <td>0 days 00:32:57.064000</td>\n",
       "      <td>0 days 00:00:22.227000</td>\n",
       "      <td>0 days 00:00:30.223000</td>\n",
       "      <td>0 days 00:00:28.097000</td>\n",
       "      <td>0 days 00:31:58.744000</td>\n",
       "      <td>0 days 00:32:28.967000</td>\n",
       "      <td>0 days 00:32:57.064000</td>\n",
       "      <td>0 days 00:31:36.517000</td>\n",
       "      <td>2019-05-11 13:16:36.564</td>\n",
       "      <td>2019-05-11 13:17:56.849</td>\n",
       "      <td>0 days 00:32:56.802000</td>\n",
       "      <td>0 days 00:01:20.285000</td>\n",
       "    </tr>\n",
       "    <tr>\n",
       "      <th>1018656</th>\n",
       "      <td>0 days 00:01:20.547000</td>\n",
       "      <td>0 days 00:32:57.064000</td>\n",
       "      <td>0 days 00:00:22.227000</td>\n",
       "      <td>0 days 00:00:30.223000</td>\n",
       "      <td>0 days 00:00:28.097000</td>\n",
       "      <td>0 days 00:31:58.744000</td>\n",
       "      <td>0 days 00:32:28.967000</td>\n",
       "      <td>0 days 00:32:57.064000</td>\n",
       "      <td>0 days 00:31:36.517000</td>\n",
       "      <td>2019-05-11 13:16:36.564</td>\n",
       "      <td>2019-05-11 13:17:57.050</td>\n",
       "      <td>0 days 00:32:57.003000</td>\n",
       "      <td>0 days 00:01:20.486000</td>\n",
       "    </tr>\n",
       "    <tr>\n",
       "      <th>1018657</th>\n",
       "      <td>0 days 00:01:20.547000</td>\n",
       "      <td>0 days 00:32:57.064000</td>\n",
       "      <td>0 days 00:00:22.227000</td>\n",
       "      <td>0 days 00:00:30.223000</td>\n",
       "      <td>0 days 00:00:28.097000</td>\n",
       "      <td>0 days 00:31:58.744000</td>\n",
       "      <td>0 days 00:32:28.967000</td>\n",
       "      <td>0 days 00:32:57.064000</td>\n",
       "      <td>0 days 00:31:36.517000</td>\n",
       "      <td>2019-05-11 13:16:36.564</td>\n",
       "      <td>2019-05-11 13:17:57.111</td>\n",
       "      <td>0 days 00:32:57.064000</td>\n",
       "      <td>0 days 00:01:20.547000</td>\n",
       "    </tr>\n",
       "  </tbody>\n",
       "</table>\n",
       "<p>1005384 rows × 13 columns</p>\n",
       "</div>"
      ],
      "text/plain": [
       "             qualifying_LapTime       qualifying_Time_x  \\\n",
       "0        0 days 00:01:04.539000  0 days 00:08:43.423000   \n",
       "1        0 days 00:01:04.539000  0 days 00:08:43.423000   \n",
       "2        0 days 00:01:04.539000  0 days 00:08:43.423000   \n",
       "3        0 days 00:01:04.539000  0 days 00:08:43.423000   \n",
       "4        0 days 00:01:04.539000  0 days 00:08:43.423000   \n",
       "...                         ...                     ...   \n",
       "1018653  0 days 00:01:20.547000  0 days 00:32:57.064000   \n",
       "1018654  0 days 00:01:20.547000  0 days 00:32:57.064000   \n",
       "1018655  0 days 00:01:20.547000  0 days 00:32:57.064000   \n",
       "1018656  0 days 00:01:20.547000  0 days 00:32:57.064000   \n",
       "1018657  0 days 00:01:20.547000  0 days 00:32:57.064000   \n",
       "\n",
       "         qualifying_Sector1Time  qualifying_Sector2Time  \\\n",
       "0        0 days 00:00:16.343000  0 days 00:00:28.620000   \n",
       "1        0 days 00:00:16.343000  0 days 00:00:28.620000   \n",
       "2        0 days 00:00:16.343000  0 days 00:00:28.620000   \n",
       "3        0 days 00:00:16.343000  0 days 00:00:28.620000   \n",
       "4        0 days 00:00:16.343000  0 days 00:00:28.620000   \n",
       "...                         ...                     ...   \n",
       "1018653  0 days 00:00:22.227000  0 days 00:00:30.223000   \n",
       "1018654  0 days 00:00:22.227000  0 days 00:00:30.223000   \n",
       "1018655  0 days 00:00:22.227000  0 days 00:00:30.223000   \n",
       "1018656  0 days 00:00:22.227000  0 days 00:00:30.223000   \n",
       "1018657  0 days 00:00:22.227000  0 days 00:00:30.223000   \n",
       "\n",
       "         qualifying_Sector3Time qualifying_Sector1SessionTime  \\\n",
       "0        0 days 00:00:19.576000        0 days 00:07:55.227000   \n",
       "1        0 days 00:00:19.576000        0 days 00:07:55.227000   \n",
       "2        0 days 00:00:19.576000        0 days 00:07:55.227000   \n",
       "3        0 days 00:00:19.576000        0 days 00:07:55.227000   \n",
       "4        0 days 00:00:19.576000        0 days 00:07:55.227000   \n",
       "...                         ...                           ...   \n",
       "1018653  0 days 00:00:28.097000        0 days 00:31:58.744000   \n",
       "1018654  0 days 00:00:28.097000        0 days 00:31:58.744000   \n",
       "1018655  0 days 00:00:28.097000        0 days 00:31:58.744000   \n",
       "1018656  0 days 00:00:28.097000        0 days 00:31:58.744000   \n",
       "1018657  0 days 00:00:28.097000        0 days 00:31:58.744000   \n",
       "\n",
       "        qualifying_Sector2SessionTime qualifying_Sector3SessionTime  \\\n",
       "0              0 days 00:08:23.847000        0 days 00:08:43.423000   \n",
       "1              0 days 00:08:23.847000        0 days 00:08:43.423000   \n",
       "2              0 days 00:08:23.847000        0 days 00:08:43.423000   \n",
       "3              0 days 00:08:23.847000        0 days 00:08:43.423000   \n",
       "4              0 days 00:08:23.847000        0 days 00:08:43.423000   \n",
       "...                               ...                           ...   \n",
       "1018653        0 days 00:32:28.967000        0 days 00:32:57.064000   \n",
       "1018654        0 days 00:32:28.967000        0 days 00:32:57.064000   \n",
       "1018655        0 days 00:32:28.967000        0 days 00:32:57.064000   \n",
       "1018656        0 days 00:32:28.967000        0 days 00:32:57.064000   \n",
       "1018657        0 days 00:32:28.967000        0 days 00:32:57.064000   \n",
       "\n",
       "        qualifying_LapStartTime  qualifying_LapStartDate  \\\n",
       "0        0 days 00:07:38.884000  2018-06-30 13:03:47.133   \n",
       "1        0 days 00:07:38.884000  2018-06-30 13:03:47.133   \n",
       "2        0 days 00:07:38.884000  2018-06-30 13:03:47.133   \n",
       "3        0 days 00:07:38.884000  2018-06-30 13:03:47.133   \n",
       "4        0 days 00:07:38.884000  2018-06-30 13:03:47.133   \n",
       "...                         ...                      ...   \n",
       "1018653  0 days 00:31:36.517000  2019-05-11 13:16:36.564   \n",
       "1018654  0 days 00:31:36.517000  2019-05-11 13:16:36.564   \n",
       "1018655  0 days 00:31:36.517000  2019-05-11 13:16:36.564   \n",
       "1018656  0 days 00:31:36.517000  2019-05-11 13:16:36.564   \n",
       "1018657  0 days 00:31:36.517000  2019-05-11 13:16:36.564   \n",
       "\n",
       "                 qualifying_Date  qualifying_SessionTime  \\\n",
       "0        2018-06-30 13:03:47.133  0 days 00:07:38.884000   \n",
       "1        2018-06-30 13:03:47.280  0 days 00:07:39.031000   \n",
       "2        2018-06-30 13:03:47.324  0 days 00:07:39.075000   \n",
       "3        2018-06-30 13:03:47.564  0 days 00:07:39.315000   \n",
       "4        2018-06-30 13:03:47.579  0 days 00:07:39.330000   \n",
       "...                          ...                     ...   \n",
       "1018653  2019-05-11 13:17:56.609  0 days 00:32:56.562000   \n",
       "1018654  2019-05-11 13:17:56.810  0 days 00:32:56.763000   \n",
       "1018655  2019-05-11 13:17:56.849  0 days 00:32:56.802000   \n",
       "1018656  2019-05-11 13:17:57.050  0 days 00:32:57.003000   \n",
       "1018657  2019-05-11 13:17:57.111  0 days 00:32:57.064000   \n",
       "\n",
       "              qualifying_Time_y  \n",
       "0               0 days 00:00:00  \n",
       "1        0 days 00:00:00.147000  \n",
       "2        0 days 00:00:00.191000  \n",
       "3        0 days 00:00:00.431000  \n",
       "4        0 days 00:00:00.446000  \n",
       "...                         ...  \n",
       "1018653  0 days 00:01:20.045000  \n",
       "1018654  0 days 00:01:20.246000  \n",
       "1018655  0 days 00:01:20.285000  \n",
       "1018656  0 days 00:01:20.486000  \n",
       "1018657  0 days 00:01:20.547000  \n",
       "\n",
       "[1005384 rows x 13 columns]"
      ]
     },
     "execution_count": 290,
     "metadata": {},
     "output_type": "execute_result"
    }
   ],
   "source": [
    "qualifying_data_clean[['qualifying_LapTime','qualifying_Time_x','qualifying_Sector1Time',\n",
    "       'qualifying_Sector2Time', 'qualifying_Sector3Time','qualifying_Sector1SessionTime', 'qualifying_Sector2SessionTime',\n",
    "       'qualifying_Sector3SessionTime','qualifying_LapStartTime','qualifying_LapStartDate','qualifying_Date',\n",
    "       'qualifying_SessionTime', 'qualifying_Time_y']]"
   ]
  },
  {
   "cell_type": "code",
   "execution_count": null,
   "metadata": {},
   "outputs": [],
   "source": []
  },
  {
   "cell_type": "markdown",
   "metadata": {},
   "source": [
    "- `Time_x` (pandas.Timedelta): Session time when the lap time was set (end of lap) \n",
    "- `LapTime` (pandas.Timedelta): Recorded lap time. \n",
    "- `Sector1Time` (pandas.Timedelta): Sector 1 recorded time\n",
    "- `Sector2Time` (pandas.Timedelta): Sector 2 recorded time\n",
    "- `Sector3Time` (pandas.Timedelta): Sector 3 recorded time\n",
    "- `Sector1SessionTime` (pandas.Timedelta): Session time when the Sector 1 time was set\n",
    "- `Sector2SessionTime` (pandas.Timedelta): Session time when the Sector 2 time was set\n",
    "- `Sector3SessionTime` (pandas.Timedelta): Session time when the Sector 3 time was set\n",
    "- `LapStartTime` (pandas.Timedelta): Session time at the start of the lap\n",
    "- `LapStartDate` (pandas.Timestamp): Timestamp at the start of the lap\n",
    "- `Time_y` (timedelta): Time (0 is start of the data slice)\n",
    "- `SessionTime` (timedelta): Time elapsed since the start of the session\n",
    "- `Date` (datetime): The full date + time at which this sample was created\n",
    "\n",
    "\n",
    "`Laptime`, `sector` times are useful performance metrics\n",
    "\n",
    "When the laptime occured in the session could be useful for when the track is increasing in performance\n",
    "\n",
    "The times of the session when the sectors where recorded can be recreated from session time and lap time, and sectors time\n",
    "\n",
    "`LapStartTime` & `LapStartDate` repeat each other therefore we will keep only `LapStartDate`\n",
    "\n",
    "`Time_y` is the time delta from 0 at start of the lap, very useful for metrics around the lap\n",
    "\n",
    "`SessionTime` and `Date` around the lap are not needed as they can be recreated if need from other metrics"
   ]
  },
  {
   "cell_type": "code",
   "execution_count": 291,
   "metadata": {},
   "outputs": [],
   "source": [
    "qualifying_data_clean.drop(columns=['qualifying_Sector1SessionTime',\n",
    "'qualifying_Sector2SessionTime',\n",
    "'qualifying_Sector3SessionTime',\n",
    "'qualifying_LapStartTime',\n",
    "'qualifying_Date',\n",
    "'qualifying_SessionTime',    \n",
    "],axis=1, inplace=True)"
   ]
  },
  {
   "cell_type": "code",
   "execution_count": 294,
   "metadata": {},
   "outputs": [],
   "source": [
    "qualifying_data_clean.rename(columns ={'qualifying_Time_x':'qualifying_end_lap_sessiontime','qualifying_Time_y':'qualifying_lap_timedelta'},inplace=True)"
   ]
  },
  {
   "cell_type": "code",
   "execution_count": 296,
   "metadata": {},
   "outputs": [
    {
     "name": "stdout",
     "output_type": "stream",
     "text": [
      "<class 'pandas.core.frame.DataFrame'>\n",
      "Int64Index: 1005384 entries, 0 to 1018657\n",
      "Data columns (total 71 columns):\n",
      " #   Column                            Non-Null Count    Dtype         \n",
      "---  ------                            --------------    -----         \n",
      " 0   raceId                            1005384 non-null  int64         \n",
      " 1   year                              1005384 non-null  int64         \n",
      " 2   name                              1005384 non-null  object        \n",
      " 3   date                              1005384 non-null  datetime64[ns]\n",
      " 4   time                              1005384 non-null  object        \n",
      " 5   lat_x                             1005384 non-null  float64       \n",
      " 6   lng_x                             1005384 non-null  float64       \n",
      " 7   circuitRef                        1005384 non-null  object        \n",
      " 8   country                           1005384 non-null  object        \n",
      " 9   alt                               1005384 non-null  float64       \n",
      " 10  qualifyId                         1005384 non-null  int64         \n",
      " 11  quali_position                    1005384 non-null  int64         \n",
      " 12  positionOrder                     1005384 non-null  float64       \n",
      " 13  points                            1005384 non-null  float64       \n",
      " 14  points_drivers                    1005384 non-null  float64       \n",
      " 15  position_drivers                  1005384 non-null  float64       \n",
      " 16  wins_drivers                      1005384 non-null  float64       \n",
      " 17  points_constructors               1005384 non-null  float64       \n",
      " 18  position_constructors             1005384 non-null  float64       \n",
      " 19  wins_constructors                 1005384 non-null  float64       \n",
      " 20  points_constructor_ind_races      1005384 non-null  float64       \n",
      " 21  driverRef                         1005384 non-null  object        \n",
      " 22  nationality_drivers               1005384 non-null  object        \n",
      " 23  constructorRef                    1005384 non-null  object        \n",
      " 24  nationality_constructors          1005384 non-null  object        \n",
      " 25  qualifying_lapId                  1005384 non-null  float64       \n",
      " 26  qualifying_end_lap_sessiontime    1005384 non-null  object        \n",
      " 27  qualifying_DriverNumber           1005384 non-null  float64       \n",
      " 28  qualifying_LapTime                1005384 non-null  object        \n",
      " 29  qualifying_LapNumber              1005384 non-null  float64       \n",
      " 30  qualifying_Sector1Time            1005384 non-null  object        \n",
      " 31  qualifying_Sector2Time            1005384 non-null  object        \n",
      " 32  qualifying_Sector3Time            1005384 non-null  object        \n",
      " 33  qualifying_SpeedI1                1005384 non-null  float64       \n",
      " 34  qualifying_SpeedI2                1005384 non-null  float64       \n",
      " 35  qualifying_SpeedFL                1005384 non-null  float64       \n",
      " 36  qualifying_SpeedST                1005384 non-null  float64       \n",
      " 37  qualifying_IsPersonalBest         1005384 non-null  object        \n",
      " 38  qualifying_Compound               1005384 non-null  object        \n",
      " 39  qualifying_TyreLife               1005384 non-null  float64       \n",
      " 40  qualifying_FreshTyre              1005384 non-null  object        \n",
      " 41  qualifying_Stint                  1005384 non-null  float64       \n",
      " 42  qualifying_Team                   1005384 non-null  object        \n",
      " 43  qualifying_Driver                 1005384 non-null  object        \n",
      " 44  qualifying_TrackStatus            1005384 non-null  float64       \n",
      " 45  qualifying_IsAccurate             1005384 non-null  object        \n",
      " 46  qualifying_LapStartDate           1005384 non-null  object        \n",
      " 47  qualifying_AirTemp                1005384 non-null  float64       \n",
      " 48  qualifying_Humidity               1005384 non-null  float64       \n",
      " 49  qualifying_Pressure               1005384 non-null  float64       \n",
      " 50  qualifying_Rainfall               1005384 non-null  object        \n",
      " 51  qualifying_TrackTemp              1005384 non-null  float64       \n",
      " 52  qualifying_WindDirection          1005384 non-null  float64       \n",
      " 53  qualifying_WindSpeed              1005384 non-null  float64       \n",
      " 54  qualifying_DistanceToDriverAhead  1005384 non-null  float64       \n",
      " 55  qualifying_lap_timedelta          1005384 non-null  object        \n",
      " 56  qualifying_RPM                    1005384 non-null  float64       \n",
      " 57  qualifying_Speed                  1005384 non-null  float64       \n",
      " 58  qualifying_nGear                  1005384 non-null  float64       \n",
      " 59  qualifying_Throttle               1005384 non-null  float64       \n",
      " 60  qualifying_Brake                  1005384 non-null  object        \n",
      " 61  qualifying_DRS                    1005384 non-null  float64       \n",
      " 62  qualifying_Source                 1005384 non-null  object        \n",
      " 63  qualifying_Distance               1005384 non-null  float64       \n",
      " 64  qualifying_RelativeDistance       1005384 non-null  float64       \n",
      " 65  qualifying_Status                 1005384 non-null  object        \n",
      " 66  qualifying_X                      1005384 non-null  float64       \n",
      " 67  qualifying_Y                      1005384 non-null  float64       \n",
      " 68  qualifying_Z                      1005384 non-null  float64       \n",
      " 69  fastest_lap_milliseconds          1005384 non-null  float64       \n",
      " 70  age                               1005384 non-null  float64       \n",
      "dtypes: datetime64[ns](1), float64(41), int64(4), object(25)\n",
      "memory usage: 584.5+ MB\n"
     ]
    }
   ],
   "source": [
    "qualifying_data_clean.info()"
   ]
  },
  {
   "cell_type": "code",
   "execution_count": 318,
   "metadata": {},
   "outputs": [],
   "source": [
    "qualifying_data_clean['qualifying_end_lap_sessiontime'] = qualifying_data_clean['qualifying_end_lap_sessiontime'].astype('timedelta64')"
   ]
  },
  {
   "cell_type": "code",
   "execution_count": 298,
   "metadata": {},
   "outputs": [],
   "source": [
    "qualifying_data_clean['qualifying_LapTime'] = qualifying_data_clean['qualifying_LapTime'].astype('timedelta64')\n",
    "qualifying_data_clean['qualifying_Sector1Time'] = qualifying_data_clean['qualifying_Sector1Time'].astype('timedelta64')\n",
    "qualifying_data_clean['qualifying_Sector2Time'] = qualifying_data_clean['qualifying_Sector2Time'].astype('timedelta64')\n",
    "qualifying_data_clean['qualifying_Sector3Time'] = qualifying_data_clean['qualifying_Sector3Time'].astype('timedelta64')\n",
    "qualifying_data_clean['qualifying_LapStartDate'] = qualifying_data_clean['qualifying_LapStartDate'].astype('datetime64')\n",
    "qualifying_data_clean['qualifying_lap_timedelta'] = qualifying_data_clean['qualifying_lap_timedelta'].astype('timedelta64')"
   ]
  },
  {
   "cell_type": "code",
   "execution_count": 301,
   "metadata": {},
   "outputs": [
    {
     "data": {
      "text/plain": [
       "True"
      ]
     },
     "execution_count": 301,
     "metadata": {},
     "output_type": "execute_result"
    }
   ],
   "source": [
    "qualifying_data_clean['qualifying_LapTime'].dtype == '<m8[ns]'"
   ]
  },
  {
   "cell_type": "code",
   "execution_count": 314,
   "metadata": {},
   "outputs": [
    {
     "name": "stdout",
     "output_type": "stream",
     "text": [
      "qualifying_LapTime\n",
      "qualifying_Sector1Time\n",
      "qualifying_Sector2Time\n",
      "qualifying_Sector3Time\n",
      "qualifying_lap_timedelta\n"
     ]
    }
   ],
   "source": [
    "# convert timedeltas to total seconds\n",
    "column_data = list(qualifying_data_clean.columns)\n",
    "for col in column_data:\n",
    "    if qualifying_data_clean[col].dtype == '<m8[ns]':\n",
    "        print(col)\n",
    "        qualifying_data_clean[col] = qualifying_data_clean[col].dt.total_seconds()"
   ]
  },
  {
   "cell_type": "code",
   "execution_count": 320,
   "metadata": {},
   "outputs": [
    {
     "name": "stdout",
     "output_type": "stream",
     "text": [
      "<class 'pandas.core.frame.DataFrame'>\n",
      "Int64Index: 1005384 entries, 0 to 1018657\n",
      "Data columns (total 71 columns):\n",
      " #   Column                            Non-Null Count    Dtype         \n",
      "---  ------                            --------------    -----         \n",
      " 0   raceId                            1005384 non-null  int64         \n",
      " 1   year                              1005384 non-null  int64         \n",
      " 2   name                              1005384 non-null  object        \n",
      " 3   date                              1005384 non-null  datetime64[ns]\n",
      " 4   time                              1005384 non-null  object        \n",
      " 5   lat_x                             1005384 non-null  float64       \n",
      " 6   lng_x                             1005384 non-null  float64       \n",
      " 7   circuitRef                        1005384 non-null  object        \n",
      " 8   country                           1005384 non-null  object        \n",
      " 9   alt                               1005384 non-null  float64       \n",
      " 10  qualifyId                         1005384 non-null  int64         \n",
      " 11  quali_position                    1005384 non-null  int64         \n",
      " 12  positionOrder                     1005384 non-null  float64       \n",
      " 13  points                            1005384 non-null  float64       \n",
      " 14  points_drivers                    1005384 non-null  float64       \n",
      " 15  position_drivers                  1005384 non-null  float64       \n",
      " 16  wins_drivers                      1005384 non-null  float64       \n",
      " 17  points_constructors               1005384 non-null  float64       \n",
      " 18  position_constructors             1005384 non-null  float64       \n",
      " 19  wins_constructors                 1005384 non-null  float64       \n",
      " 20  points_constructor_ind_races      1005384 non-null  float64       \n",
      " 21  driverRef                         1005384 non-null  object        \n",
      " 22  nationality_drivers               1005384 non-null  object        \n",
      " 23  constructorRef                    1005384 non-null  object        \n",
      " 24  nationality_constructors          1005384 non-null  object        \n",
      " 25  qualifying_lapId                  1005384 non-null  float64       \n",
      " 26  qualifying_end_lap_sessiontime    1005384 non-null  float64       \n",
      " 27  qualifying_DriverNumber           1005384 non-null  float64       \n",
      " 28  qualifying_LapTime                1005384 non-null  float64       \n",
      " 29  qualifying_LapNumber              1005384 non-null  float64       \n",
      " 30  qualifying_Sector1Time            1005384 non-null  float64       \n",
      " 31  qualifying_Sector2Time            1005384 non-null  float64       \n",
      " 32  qualifying_Sector3Time            1005384 non-null  float64       \n",
      " 33  qualifying_SpeedI1                1005384 non-null  float64       \n",
      " 34  qualifying_SpeedI2                1005384 non-null  float64       \n",
      " 35  qualifying_SpeedFL                1005384 non-null  float64       \n",
      " 36  qualifying_SpeedST                1005384 non-null  float64       \n",
      " 37  qualifying_IsPersonalBest         1005384 non-null  object        \n",
      " 38  qualifying_Compound               1005384 non-null  object        \n",
      " 39  qualifying_TyreLife               1005384 non-null  float64       \n",
      " 40  qualifying_FreshTyre              1005384 non-null  object        \n",
      " 41  qualifying_Stint                  1005384 non-null  float64       \n",
      " 42  qualifying_Team                   1005384 non-null  object        \n",
      " 43  qualifying_Driver                 1005384 non-null  object        \n",
      " 44  qualifying_TrackStatus            1005384 non-null  float64       \n",
      " 45  qualifying_IsAccurate             1005384 non-null  object        \n",
      " 46  qualifying_LapStartDate           1005384 non-null  datetime64[ns]\n",
      " 47  qualifying_AirTemp                1005384 non-null  float64       \n",
      " 48  qualifying_Humidity               1005384 non-null  float64       \n",
      " 49  qualifying_Pressure               1005384 non-null  float64       \n",
      " 50  qualifying_Rainfall               1005384 non-null  object        \n",
      " 51  qualifying_TrackTemp              1005384 non-null  float64       \n",
      " 52  qualifying_WindDirection          1005384 non-null  float64       \n",
      " 53  qualifying_WindSpeed              1005384 non-null  float64       \n",
      " 54  qualifying_DistanceToDriverAhead  1005384 non-null  float64       \n",
      " 55  qualifying_lap_timedelta          1005384 non-null  float64       \n",
      " 56  qualifying_RPM                    1005384 non-null  float64       \n",
      " 57  qualifying_Speed                  1005384 non-null  float64       \n",
      " 58  qualifying_nGear                  1005384 non-null  float64       \n",
      " 59  qualifying_Throttle               1005384 non-null  float64       \n",
      " 60  qualifying_Brake                  1005384 non-null  object        \n",
      " 61  qualifying_DRS                    1005384 non-null  float64       \n",
      " 62  qualifying_Source                 1005384 non-null  object        \n",
      " 63  qualifying_Distance               1005384 non-null  float64       \n",
      " 64  qualifying_RelativeDistance       1005384 non-null  float64       \n",
      " 65  qualifying_Status                 1005384 non-null  object        \n",
      " 66  qualifying_X                      1005384 non-null  float64       \n",
      " 67  qualifying_Y                      1005384 non-null  float64       \n",
      " 68  qualifying_Z                      1005384 non-null  float64       \n",
      " 69  fastest_lap_milliseconds          1005384 non-null  float64       \n",
      " 70  age                               1005384 non-null  float64       \n",
      "dtypes: datetime64[ns](2), float64(47), int64(4), object(18)\n",
      "memory usage: 584.5+ MB\n"
     ]
    }
   ],
   "source": [
    "qualifying_data_clean.info()"
   ]
  },
  {
   "cell_type": "code",
   "execution_count": 330,
   "metadata": {},
   "outputs": [
    {
     "data": {
      "text/plain": [
       "array(['Red Bull Racing', 'Haas F1 Team', 'Force India', 'Toro Rosso',\n",
       "       'Racing Point', 'Alfa Romeo Racing'], dtype=object)"
      ]
     },
     "execution_count": 330,
     "metadata": {},
     "output_type": "execute_result"
    }
   ],
   "source": [
    "qualifying_data_clean.loc[(qualifying_data_clean['qualifying_Team'].str.lower()!=qualifying_data_clean['constructorRef']),'qualifying_Team'].unique()"
   ]
  },
  {
   "cell_type": "code",
   "execution_count": 331,
   "metadata": {},
   "outputs": [
    {
     "data": {
      "text/plain": [
       "array(['red_bull', 'haas', 'force_india', 'toro_rosso', 'alfa',\n",
       "       'racing_point'], dtype=object)"
      ]
     },
     "execution_count": 331,
     "metadata": {},
     "output_type": "execute_result"
    }
   ],
   "source": [
    "qualifying_data_clean.loc[(qualifying_data_clean['qualifying_Team'].str.lower()!=qualifying_data_clean['constructorRef']),'constructorRef'].unique()"
   ]
  },
  {
   "cell_type": "markdown",
   "metadata": {},
   "source": [
    "constructorRef does match qualifying_team it just has slightly different spelling. we will drop qualifying_team as the constructorRef comes from the larger Ergast database"
   ]
  },
  {
   "cell_type": "code",
   "execution_count": 332,
   "metadata": {},
   "outputs": [
    {
     "data": {
      "text/plain": [
       "array(['BOT', 'HAM', 'VET', 'RAI', 'VER', 'GRO', 'RIC', 'MAG', 'SAI',\n",
       "       'HUL', 'OCO', 'GAS', 'LEC', 'ALO', 'STR', 'VAN', 'PER', 'SIR',\n",
       "       'HAR', 'ERI', 'NOR', 'GIO', 'ALB', 'KVY', 'RUS', 'KUB'],\n",
       "      dtype=object)"
      ]
     },
     "execution_count": 332,
     "metadata": {},
     "output_type": "execute_result"
    }
   ],
   "source": [
    "qualifying_data_clean.loc[(qualifying_data_clean['qualifying_Driver'].str.lower()!=qualifying_data_clean['driverRef']),'qualifying_Driver'].unique()"
   ]
  },
  {
   "cell_type": "markdown",
   "metadata": {},
   "source": [
    "qualifyingRef uses the 3 letter acroynm instead of driverRef string, this is a repeat of the same information so will drop qualifying_Driver"
   ]
  },
  {
   "cell_type": "code",
   "execution_count": 335,
   "metadata": {},
   "outputs": [],
   "source": [
    "qualifying_data_clean.drop(columns=['qualifying_Team','qualifying_Driver'],axis=1,inplace=True)"
   ]
  },
  {
   "cell_type": "code",
   "execution_count": 336,
   "metadata": {},
   "outputs": [],
   "source": [
    "qualifying_data_clean.to_csv('./data/clean/years_18_19_telemetry_subsetcircuits_cleaned.csv',index=False)"
   ]
  },
  {
   "cell_type": "code",
   "execution_count": null,
   "metadata": {},
   "outputs": [],
   "source": []
  }
 ],
 "metadata": {
  "kernelspec": {
   "display_name": "Python 3.9.13 ('formula1')",
   "language": "python",
   "name": "python3"
  },
  "language_info": {
   "codemirror_mode": {
    "name": "ipython",
    "version": 3
   },
   "file_extension": ".py",
   "mimetype": "text/x-python",
   "name": "python",
   "nbconvert_exporter": "python",
   "pygments_lexer": "ipython3",
   "version": "3.9.13"
  },
  "orig_nbformat": 4,
  "vscode": {
   "interpreter": {
    "hash": "79208e11a51b6baeb35d49d6fe4646d819af132559d169634df40ee8e81c0c8b"
   }
  }
 },
 "nbformat": 4,
 "nbformat_minor": 2
}
