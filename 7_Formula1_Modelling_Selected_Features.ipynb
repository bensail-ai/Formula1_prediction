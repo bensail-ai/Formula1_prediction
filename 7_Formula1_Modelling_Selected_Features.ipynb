{
 "cells": [
  {
   "cell_type": "markdown",
   "metadata": {},
   "source": [
    "# Formula 1 Qualifying Classification Modelling using Random Forest Algorithm\n",
    "\n",
    "\n",
    "Author : Ben Palmer\\\n",
    "Date : 02/11/2022"
   ]
  },
  {
   "cell_type": "markdown",
   "metadata": {},
   "source": [
    "# Summary:\n",
    "In this analysis we have built and optimised Random Forest models to predict:\n",
    "- Qualifying Position bins \n",
    "- Lap Time delta bins\n",
    "\n",
    "We have found that optimising the models does improve the models performance fractionaly. However the accuracy scores are poor at 0.5-0.6 on the test data. We have seen from the confusion matrix's that the model does well not to classify a bottom driver as top however it often miss classifys the drivers into neighboring bins. This may be down to the bin size and binning process. When driver's results are close to the edge of the bin maybe the model struggles to assign it to a bin. Further analysis will be undertaken to predict the results as a number, treating the problem as a regression problem.\n",
    "\n",
    "\n",
    "# Introduction:\n",
    "\n",
    "The aim of this analysis is to optimise and evaluate the preformance of a Random Forest classification model to predict Qualifying Position and Lap Time Delta.\n",
    "\n",
    "Random Forest model was selected as a likely improvement on the baseline Logisitic Regression, as it uses an ensemble of simple decision trees to predict. By having an ensemble it means that any given tree is quite \"stupid\" on its own and therefore does not overfit the training data. However, we you combine the predictions of all the \"stupid\" trees the model can become very predictive without overfitting the training data. The aim is to see if this enesemble technique can improve the model accuracy.\n",
    "\n",
    "This notebook will look at optimising the hyperparameters of Random Forest. We will evaluate the model by looking at the overall accuracy score and confusion matrix for each optimised model. \n",
    "\n",
    "As discribed in [6_Formula1_Initial_Modelling](./6_Formula1_Initial_Modelling.ipynb) & [5_Forumla1_Feature_Importance](./5_Forumla1_Feature_Importance.ipynb). The target variables are numeric but have been binned into classes to simplify the problem into a classification of 4 classes for both Qualifying Position and Lap Time Delta.\n",
    "\n",
    "# Table of Contents:\n",
    "\n",
    "1. [Load and Prepare data for modelling](#prep)\n",
    "\n",
    "\n",
    "2. [Random Forest Classification model](#rf)\\\n",
    "    2.1 [Optimising Qualifying Position Prediction](#pos)\\\n",
    "    2.2 [Optimising Lap Time Delta Prediction](#delta)\n",
    "\n",
    "3. [Summary](#sum)\n",
    "\n",
    "4. [Next Steps](#nextsteps)\n",
    "\n",
    "5. [Appendix](#appendix)"
   ]
  },
  {
   "cell_type": "markdown",
   "metadata": {},
   "source": [
    "### Imports"
   ]
  },
  {
   "cell_type": "code",
   "execution_count": 1,
   "metadata": {},
   "outputs": [],
   "source": [
    "import pandas as pd\n",
    "import numpy as np\n",
    "import seaborn as sns\n",
    "import matplotlib.pyplot as plt\n",
    "from scipy import stats\n",
    "import plotly.express as px\n",
    "\n",
    "from scripts.ds_ultils import *\n",
    "from scripts.fastf1_data_download import *\n",
    "from scripts.model_ultils import *\n",
    "plt.style.use('./scripts/plotstyle.mplstyle')\n",
    "import warnings\n",
    "warnings.filterwarnings('ignore')\n",
    "from sklearn.compose import ColumnTransformer\n",
    "from sklearn.decomposition import PCA\n",
    "from sklearn.preprocessing import StandardScaler, OneHotEncoder, LabelEncoder\n",
    "from sklearn.pipeline import Pipeline\n",
    "from sklearn.preprocessing import MinMaxScaler, StandardScaler\n",
    "from sklearn.linear_model import LogisticRegression\n",
    "from sklearn.svm import SVC\n",
    "from sklearn.tree import DecisionTreeClassifier, plot_tree\n",
    "from sklearn.cluster import KMeans\n",
    "from sklearn.ensemble import RandomForestClassifier\n",
    "from sklearn.metrics import accuracy_score,confusion_matrix,classification_report, plot_roc_curve,roc_auc_score\n",
    "from sklearn.feature_selection import SelectKBest, SelectFromModel\n",
    "from mlxtend.feature_selection import ColumnSelector\n",
    "from sklearn.model_selection import (GridSearchCV, RandomizedSearchCV,\n",
    "                                     cross_val_score)\n",
    "import joblib"
   ]
  },
  {
   "cell_type": "markdown",
   "metadata": {},
   "source": [
    "## Load and Prepare the Data for modelling\n",
    "<a id=\"prep\"></a>\n",
    "\n",
    "The data needs to be prepared before any predictions can be made. This is to ensure there are no NaN values (when driving data is not recorded), the columns are in the right format and the final target and feature engineering is complete. \n",
    "The prepare modelling function does all of this, it:\n",
    "- converts columns which are numeric to float\n",
    "- Creates the target features and bins\n",
    "- Creates the home country feature\n",
    "- Cleans the dataframe \n",
    "- Fixes the GrandPrix where the DRS telemetry data was not working. \n",
    "\n",
    "The raceids for test set where defined by a random selection of two races for each year, to keep the test set consitent with previous modelling techniques the raceIds are passed into the function. Another option will be to use a random train test split by Sklearn library, however this will select random driver results from lots of different grandprix's and this does not reflect reality as the model will learn something about every GrandPrix in every year. Whereas in reality, the model will recieve data for a whole GrandPrix in a year which it hasn't been trained on. Therefore it makes most sense to split the test by the results of whole GrandPrix's and not completely randomly. \n",
    "\n",
    "This then also completes the test train split, plus runs the label encoder to encode the labels for the binned classes into numerical values."
   ]
  },
  {
   "cell_type": "code",
   "execution_count": 2,
   "metadata": {},
   "outputs": [],
   "source": [
    "qualify_df=pd.read_pickle('./data/model_data/formula1_complete_2018_2022_complete_301022.pkl',compression='gzip')\n",
    "qualifying_df=qualify_df.copy()\n",
    "qualifying_df.dropna(inplace=True)\n",
    "raceids=[989, 1010, 990, 1036, 1041, 1084, 1061, 1026, 1073, 1088]\n",
    "X_test, X_train, y_test, y_train = prepare_modelling_df(qualifying_df,test_raceids=raceids)\n",
    "labelencoder=LabelEncoder()\n",
    "labelencoder.fit(y_train['lap_timedelta_seconds_binned'])\n",
    "ydelta_train= labelencoder.transform(y_train['lap_timedelta_seconds_binned'])\n",
    "ydelta_test= labelencoder.transform(y_test['lap_timedelta_seconds_binned'])\n",
    "labelencoder=LabelEncoder()\n",
    "labelencoder.fit(y_train['quali_position_binned'])\n",
    "ypos_train= labelencoder.transform(y_train['quali_position_binned'])\n",
    "ypos_test= labelencoder.transform(y_test['quali_position_binned'])"
   ]
  },
  {
   "cell_type": "markdown",
   "metadata": {},
   "source": [
    "## Random Forest Classification with Manual Feature Selection\n",
    "<a id=\"rf\"></a>\n",
    "\n",
    "Intially lets see how a Random Forest baseline model performs. The notebook [6_Formula1_Initial_Modelling](./6_Formula1_Initial_Modelling.ipynb), investigated which are the most important features and shows that manual feature selection performs the best.Therefore we will subset the features using the most important features. Similar to previous analysis the Sector Times of Fastest Lap are removed since these are just the break down of the times of the target and therefore not considered an input feature.\n",
    "\n",
    "The function below, apply the manual features to the X features and saves the column names for the numerical columns which need to be scaled and the categorical columns which need to be hot encoded."
   ]
  },
  {
   "cell_type": "code",
   "execution_count": 3,
   "metadata": {},
   "outputs": [],
   "source": [
    "feature_importance=pd.read_pickle('./data/model_data/feature_importance_random_forest.pkl')\n",
    "manual_features = list(feature_importance[feature_importance['Random_forest_result']>0.0105].index)\n",
    "features_remove =[ 'numerical_transform__fastestlap_Sector1',\n",
    " 'numerical_transform__fastestlap_Sector2',\n",
    " 'numerical_transform__fastestlap_Sector3', \n",
    " ] \n",
    "manual_features = [x for x in manual_features if x not in features_remove]\n",
    "X_train_manual, X_test_manual = apply_manual_features(X_train,X_test,features=manual_features)\n",
    "scale_cols, hot_encode_col = column_lists(X_train_manual)"
   ]
  },
  {
   "cell_type": "code",
   "execution_count": 5,
   "metadata": {},
   "outputs": [],
   "source": [
    "#Create the pipeline for Random Forest Classifer\n",
    "transformer =[('numerical_transform',StandardScaler(),scale_cols),\n",
    "('hot_encode',OneHotEncoder(handle_unknown=\"ignore\"),hot_encode_col)\n",
    "]\n",
    "#selector = [('column_selector','passthrough',manual_features)]\n",
    "random_forest_estimator=[('column_transform',ColumnTransformer(transformers=transformer)),    \n",
    "        ('random_forest',RandomForestClassifier())# classifier\n",
    "        \n",
    "]\n",
    "forest_pipe=Pipeline(random_forest_estimator)"
   ]
  },
  {
   "cell_type": "markdown",
   "metadata": {},
   "source": [
    "Fit the vanilla default Random Forest Algorithm to the model. How does it perform?"
   ]
  },
  {
   "cell_type": "code",
   "execution_count": 6,
   "metadata": {},
   "outputs": [
    {
     "name": "stdout",
     "output_type": "stream",
     "text": [
      "Position Random Forest Initial train score with manual selected featuers 1.0\n",
      "Position Random Forest Initial test score with manual selected feaure 0.5561224489795918\n",
      "Lap Delta Random Forest Initial train score with manual selected featuers 1.0\n",
      "Lap Delta Random Forest Initial test score with manual selected feaure 0.5816326530612245\n"
     ]
    }
   ],
   "source": [
    "rf_model_pos= forest_pipe.fit(X_train_manual,ypos_train)\n",
    "print(f'Position Random Forest Initial train score with manual selected featuers {rf_model_pos.score(X_train_manual,ypos_train)}')\n",
    "print(f'Position Random Forest Initial test score with manual selected feaure {rf_model_pos.score(X_test_manual,ypos_test)}')\n",
    "rf_model_delta= forest_pipe.fit(X_train_manual,ydelta_train)\n",
    "print(f'Lap Delta Random Forest Initial train score with manual selected featuers {rf_model_delta.score(X_train_manual,ydelta_train)}')\n",
    "print(f'Lap Delta Random Forest Initial test score with manual selected feaure {rf_model_delta.score(X_test_manual,ydelta_test)}')"
   ]
  },
  {
   "cell_type": "markdown",
   "metadata": {},
   "source": [
    "Here we can see that the initial parameters of the Random Forest have an inital score on the test data set of 0.55 for Qualifying Position and 0.6 for Lap Time Delta. This is slightly worse than Logisitic Regression from initial modelling [6_Formula1_Initial_Modelling](./6_Formula1_Initial_Modelling.ipynb). However we can also see that Random forest with default parameters had overfitted the training data, giving a training score of 1. This was not expected. Lets see if optimising the hyperparamters on a validation set can reduce the over fitting and increase the test score.\n",
    "\n",
    "To do this we will use cross validation. Cross validation works by splitting the training data into chunks and rotating the train and validation data between the chunks. If we split it into 5 chunks, 4 are used for training and 1 to score the parameters with the validation chunks."
   ]
  },
  {
   "cell_type": "markdown",
   "metadata": {},
   "source": [
    "## Random Forest Qualifying Position Optimisation with manual feature selection\n",
    "<a id=\"pos\"></a>\n",
    "\n",
    "This section aims to optimise the hyperparameters for Qualifying position.\n",
    "What are the hyperparameters and the default parameters:"
   ]
  },
  {
   "cell_type": "code",
   "execution_count": 7,
   "metadata": {},
   "outputs": [
    {
     "data": {
      "text/plain": [
       "{'bootstrap': True,\n",
       " 'ccp_alpha': 0.0,\n",
       " 'class_weight': None,\n",
       " 'criterion': 'gini',\n",
       " 'max_depth': None,\n",
       " 'max_features': 'sqrt',\n",
       " 'max_leaf_nodes': None,\n",
       " 'max_samples': None,\n",
       " 'min_impurity_decrease': 0.0,\n",
       " 'min_samples_leaf': 1,\n",
       " 'min_samples_split': 2,\n",
       " 'min_weight_fraction_leaf': 0.0,\n",
       " 'n_estimators': 100,\n",
       " 'n_jobs': None,\n",
       " 'oob_score': False,\n",
       " 'random_state': None,\n",
       " 'verbose': 0,\n",
       " 'warm_start': False}"
      ]
     },
     "execution_count": 7,
     "metadata": {},
     "output_type": "execute_result"
    }
   ],
   "source": [
    "forest_pipe['random_forest'].get_params()"
   ]
  },
  {
   "cell_type": "markdown",
   "metadata": {},
   "source": [
    "As we can see there are number of hyperparameters we can vary. We will select a range that we expect to have the biggest impact and search for the optimal parameters of those:\n",
    "- Number of estimators, this can have a large impact as controls the number of simple trees in the model\n",
    "- Criterion, this is the criterion to rank the information gain at the splits\n",
    "- Max depth, how deep are the trees, the deeper the trees the more they learn but can also overfit\n",
    "- Min samples leaf, how isolating can leaf become? This stops leafs only having 1 sample and reducing overfitting\n",
    "- Max features, number of features used to build each tree.\n",
    "\n",
    "First we will apply a large randomised search to then narrow down with a grid search to find the final optimum parameters. Randomised search applies cross validation by splitting the dataset into chunks and rotating the validation set, hence making sure we are not affected by the split of our train test split\n",
    "\n",
    "Lets take the number of estimators from a small number 10, to 5 times the default value of 100 which we know did well.\n",
    "We can try all the criterion.\\\n",
    "For max depth, we can keep it open for know, but knowing the more simple trees are what we are aiming for.\\\n",
    "Minimum samples take an arbitary large range of 1 to 50\\\n",
    "Max features from 10 to the number of features in the dataset ~60.\n",
    "\n",
    "We will use a randomised search of 100 to try lots of different combinations so that we are confident we have narrowed down the parameter space to test further in grid search. This approach is to true reduce run time as running a open grid search will take a long time."
   ]
  },
  {
   "cell_type": "code",
   "execution_count": 8,
   "metadata": {},
   "outputs": [
    {
     "name": "stdout",
     "output_type": "stream",
     "text": [
      "Fitting 5 folds for each of 100 candidates, totalling 500 fits\n",
      "{'random_forest__n_estimators': 330, 'random_forest__min_samples_leaf': 1, 'random_forest__max_features': 10, 'random_forest__max_depth': 95, 'random_forest__criterion': 'entropy'}\n"
     ]
    }
   ],
   "source": [
    "param_grid_rf =[\n",
    "    \n",
    "    #vary DT parameters only\n",
    "    {\n",
    "    'random_forest__n_estimators':np.arange(10,500,10),\n",
    "    'random_forest__criterion':['gini','entropy','log_loss'],\n",
    "    'random_forest__max_depth':np.arange(5,100,10),\n",
    "    'random_forest__min_samples_leaf': np.arange(1,50,5),\n",
    "    'random_forest__max_features':np.arange(10,60,10),  \n",
    "    }\n",
    "   \n",
    "]\n",
    "\n",
    "grid_rf = RandomizedSearchCV(forest_pipe, param_grid_rf, cv=5,verbose=1, n_iter=100,return_train_score=True,n_jobs=-1) # cross validation fold of 5 20% validation per fold. N_iter 25 to limit random iteration to 25. \n",
    "fittedgrid_rf = grid_rf.fit(X_train_manual, ypos_train)\n",
    "\n",
    "print(fittedgrid_rf.best_params_)"
   ]
  },
  {
   "cell_type": "code",
   "execution_count": 9,
   "metadata": {},
   "outputs": [
    {
     "name": "stdout",
     "output_type": "stream",
     "text": [
      "{'random_forest__n_estimators': 330, 'random_forest__min_samples_leaf': 1, 'random_forest__max_features': 10, 'random_forest__max_depth': 95, 'random_forest__criterion': 'entropy'}\n"
     ]
    }
   ],
   "source": [
    "print(fittedgrid_rf.best_params_)"
   ]
  },
  {
   "cell_type": "markdown",
   "metadata": {},
   "source": [
    "Running the randomised search has shown that increasing the number of estimators and the depth of the trees has improved the validation score. Inaddition we have seen an improvement with using 20 features. We can use this learning to refine a Grid Search. The difference between Randomised and Grid Search is that Grid Search tests every possible combination in a cross validation whereas random search only takes random selections from the parameter grid.\n",
    "\n",
    "The randomised search had indicated that a complex model does better, this could be good to indicate that a more complex model may perform better. It also sends alarm bells that this model may becoming to targeted on the train set and will not perform too well in reality.\n",
    "\n",
    "We will look to optimise the number of estimators, max depth and features further in a Grid Search"
   ]
  },
  {
   "cell_type": "code",
   "execution_count": 10,
   "metadata": {},
   "outputs": [
    {
     "name": "stdout",
     "output_type": "stream",
     "text": [
      "Fitting 5 folds for each of 72 candidates, totalling 360 fits\n",
      "{'random_forest__criterion': 'entropy', 'random_forest__max_depth': 90, 'random_forest__max_features': 5, 'random_forest__min_samples_leaf': 1, 'random_forest__n_estimators': 335}\n"
     ]
    }
   ],
   "source": [
    "param_grid_rf =[\n",
    "    \n",
    "  \n",
    "    {\n",
    "    'random_forest__n_estimators':np.arange(320,340,5),\n",
    "    'random_forest__criterion':['entropy'],\n",
    "    'random_forest__max_depth':np.arange(70,100,5),\n",
    "    'random_forest__min_samples_leaf': [1],\n",
    "    'random_forest__max_features':np.arange(5,20,5),    \n",
    "    }\n",
    "   \n",
    "]\n",
    "\n",
    "grid_rf = GridSearchCV(forest_pipe, param_grid_rf, cv=5,verbose=1,return_train_score=True,n_jobs=-1) # cross validation fold of 5 20% validation per fold. N_iter 25 to limit random iteration to 25. \n",
    "fittedgrid_rf = grid_rf.fit(X_train_manual, ypos_train)\n",
    "\n",
    "print(fittedgrid_rf.best_params_)"
   ]
  },
  {
   "cell_type": "code",
   "execution_count": 11,
   "metadata": {},
   "outputs": [
    {
     "name": "stdout",
     "output_type": "stream",
     "text": [
      "{'random_forest__criterion': 'entropy', 'random_forest__max_depth': 90, 'random_forest__max_features': 5, 'random_forest__min_samples_leaf': 1, 'random_forest__n_estimators': 335}\n"
     ]
    }
   ],
   "source": [
    "print(fittedgrid_rf.best_params_)"
   ]
  },
  {
   "cell_type": "markdown",
   "metadata": {},
   "source": [
    "We can save the results of the grid search to inspect the best combination"
   ]
  },
  {
   "cell_type": "code",
   "execution_count": 12,
   "metadata": {},
   "outputs": [
    {
     "data": {
      "text/html": [
       "<div>\n",
       "<style scoped>\n",
       "    .dataframe tbody tr th:only-of-type {\n",
       "        vertical-align: middle;\n",
       "    }\n",
       "\n",
       "    .dataframe tbody tr th {\n",
       "        vertical-align: top;\n",
       "    }\n",
       "\n",
       "    .dataframe thead th {\n",
       "        text-align: right;\n",
       "    }\n",
       "</style>\n",
       "<table border=\"1\" class=\"dataframe\">\n",
       "  <thead>\n",
       "    <tr style=\"text-align: right;\">\n",
       "      <th></th>\n",
       "      <th>Validation score</th>\n",
       "      <th>Train score</th>\n",
       "      <th>n_estimators_in_grid</th>\n",
       "      <th>max_depth_in_grid</th>\n",
       "      <th>max_features_in_grid</th>\n",
       "      <th>min_samples_leaf_in_grid</th>\n",
       "    </tr>\n",
       "  </thead>\n",
       "  <tbody>\n",
       "    <tr>\n",
       "      <th>0</th>\n",
       "      <td>0.504376</td>\n",
       "      <td>1.0</td>\n",
       "      <td>320</td>\n",
       "      <td>70</td>\n",
       "      <td>5</td>\n",
       "      <td>1</td>\n",
       "    </tr>\n",
       "    <tr>\n",
       "      <th>1</th>\n",
       "      <td>0.512034</td>\n",
       "      <td>1.0</td>\n",
       "      <td>325</td>\n",
       "      <td>70</td>\n",
       "      <td>5</td>\n",
       "      <td>1</td>\n",
       "    </tr>\n",
       "    <tr>\n",
       "      <th>2</th>\n",
       "      <td>0.522044</td>\n",
       "      <td>1.0</td>\n",
       "      <td>330</td>\n",
       "      <td>70</td>\n",
       "      <td>5</td>\n",
       "      <td>1</td>\n",
       "    </tr>\n",
       "    <tr>\n",
       "      <th>3</th>\n",
       "      <td>0.512035</td>\n",
       "      <td>1.0</td>\n",
       "      <td>335</td>\n",
       "      <td>70</td>\n",
       "      <td>5</td>\n",
       "      <td>1</td>\n",
       "    </tr>\n",
       "    <tr>\n",
       "      <th>4</th>\n",
       "      <td>0.509676</td>\n",
       "      <td>1.0</td>\n",
       "      <td>320</td>\n",
       "      <td>70</td>\n",
       "      <td>10</td>\n",
       "      <td>1</td>\n",
       "    </tr>\n",
       "    <tr>\n",
       "      <th>...</th>\n",
       "      <td>...</td>\n",
       "      <td>...</td>\n",
       "      <td>...</td>\n",
       "      <td>...</td>\n",
       "      <td>...</td>\n",
       "      <td>...</td>\n",
       "    </tr>\n",
       "    <tr>\n",
       "      <th>67</th>\n",
       "      <td>0.507909</td>\n",
       "      <td>1.0</td>\n",
       "      <td>335</td>\n",
       "      <td>95</td>\n",
       "      <td>10</td>\n",
       "      <td>1</td>\n",
       "    </tr>\n",
       "    <tr>\n",
       "      <th>68</th>\n",
       "      <td>0.502615</td>\n",
       "      <td>1.0</td>\n",
       "      <td>320</td>\n",
       "      <td>95</td>\n",
       "      <td>15</td>\n",
       "      <td>1</td>\n",
       "    </tr>\n",
       "    <tr>\n",
       "      <th>69</th>\n",
       "      <td>0.503784</td>\n",
       "      <td>1.0</td>\n",
       "      <td>325</td>\n",
       "      <td>95</td>\n",
       "      <td>15</td>\n",
       "      <td>1</td>\n",
       "    </tr>\n",
       "    <tr>\n",
       "      <th>70</th>\n",
       "      <td>0.504383</td>\n",
       "      <td>1.0</td>\n",
       "      <td>330</td>\n",
       "      <td>95</td>\n",
       "      <td>15</td>\n",
       "      <td>1</td>\n",
       "    </tr>\n",
       "    <tr>\n",
       "      <th>71</th>\n",
       "      <td>0.514980</td>\n",
       "      <td>1.0</td>\n",
       "      <td>335</td>\n",
       "      <td>95</td>\n",
       "      <td>15</td>\n",
       "      <td>1</td>\n",
       "    </tr>\n",
       "  </tbody>\n",
       "</table>\n",
       "<p>72 rows × 6 columns</p>\n",
       "</div>"
      ],
      "text/plain": [
       "    Validation score  Train score n_estimators_in_grid max_depth_in_grid  \\\n",
       "0           0.504376          1.0                  320                70   \n",
       "1           0.512034          1.0                  325                70   \n",
       "2           0.522044          1.0                  330                70   \n",
       "3           0.512035          1.0                  335                70   \n",
       "4           0.509676          1.0                  320                70   \n",
       "..               ...          ...                  ...               ...   \n",
       "67          0.507909          1.0                  335                95   \n",
       "68          0.502615          1.0                  320                95   \n",
       "69          0.503784          1.0                  325                95   \n",
       "70          0.504383          1.0                  330                95   \n",
       "71          0.514980          1.0                  335                95   \n",
       "\n",
       "   max_features_in_grid min_samples_leaf_in_grid  \n",
       "0                     5                        1  \n",
       "1                     5                        1  \n",
       "2                     5                        1  \n",
       "3                     5                        1  \n",
       "4                    10                        1  \n",
       "..                  ...                      ...  \n",
       "67                   10                        1  \n",
       "68                   15                        1  \n",
       "69                   15                        1  \n",
       "70                   15                        1  \n",
       "71                   15                        1  \n",
       "\n",
       "[72 rows x 6 columns]"
      ]
     },
     "execution_count": 12,
     "metadata": {},
     "output_type": "execute_result"
    }
   ],
   "source": [
    "results_rf_pos = pd.DataFrame({'Validation score':fittedgrid_rf.cv_results_['mean_test_score'],\n",
    "'Train score':fittedgrid_rf.cv_results_['mean_train_score'],\n",
    "'n_estimators_in_grid':fittedgrid_rf.cv_results_['param_random_forest__n_estimators'],\n",
    "'max_depth_in_grid': fittedgrid_rf.cv_results_['param_random_forest__max_depth'],\n",
    "'max_features_in_grid': fittedgrid_rf.cv_results_['param_random_forest__max_features'],\n",
    "'min_samples_leaf_in_grid': fittedgrid_rf.cv_results_['param_random_forest__min_samples_leaf']})\n",
    "results_rf_pos"
   ]
  },
  {
   "cell_type": "markdown",
   "metadata": {},
   "source": [
    "We can see that with more estimators we are actually we still have a train accuracy of 1 and hence at the risk of overfitting the training data. This is likely because the cross validation has targeted a more complex model. This will need to be investigated further:\n",
    "\n",
    "How does the plot of Number of estimators vs max dpeth impact the validation score?"
   ]
  },
  {
   "cell_type": "code",
   "execution_count": 13,
   "metadata": {},
   "outputs": [
    {
     "data": {
      "image/png": "[encoded data removed]",
      "text/plain": [
       "<Figure size 640x480 with 1 Axes>"
      ]
     },
     "metadata": {},
     "output_type": "display_data"
    }
   ],
   "source": [
    "plt.figure()\n",
    "sns.scatterplot(data=results_rf_pos,x='n_estimators_in_grid',y='max_depth_in_grid',hue='Validation score',palette='plasma')\n",
    "plt.title('Variation of number of estimators and max depth with validation score')\n",
    "plt.legend()\n",
    "plt.xlabel('Number of trees')\n",
    "plt.ylabel('Number of features')\n",
    "plt.tight_layout()\n",
    "plt.show()"
   ]
  },
  {
   "cell_type": "markdown",
   "metadata": {},
   "source": [
    "We can see that the validation scores are actually quite similar , wih the top right parameter of trees and features having the highest score, hwoever there are similar scores for 325 trees and 90 depth. Therefore it is not conclusive that these parameters are the best.\n",
    "\n",
    "In addittion this may be down to the random search baises sending us down the wrong path of parameter optimisation or it may reflect the complex nature of the problem and the Random Forest algorithm struggles to predict the right classes.\n",
    "\n",
    "First how does this model compare on the test set?"
   ]
  },
  {
   "cell_type": "code",
   "execution_count": 14,
   "metadata": {},
   "outputs": [
    {
     "name": "stdout",
     "output_type": "stream",
     "text": [
      "Best Random Forest Position model accuracy_score on X test: 0.5663265306122449\n"
     ]
    }
   ],
   "source": [
    "print('Best Random Forest Position model accuracy_score on X test:',fittedgrid_rf.best_estimator_.score(X_test_manual, ypos_test))"
   ]
  },
  {
   "cell_type": "markdown",
   "metadata": {},
   "source": [
    "Through optimising the parameters we have increased the qualifying position accuracy score from 0.02 on the test set. A very minor increase. Have we made any improvements on the Recall & Precision? How does the confusion matrix look?"
   ]
  },
  {
   "cell_type": "code",
   "execution_count": 15,
   "metadata": {},
   "outputs": [
    {
     "data": {
      "text/plain": [
       "['pickled_best_RF_class_model_pos.pkl']"
      ]
     },
     "execution_count": 15,
     "metadata": {},
     "output_type": "execute_result"
    }
   ],
   "source": [
    "# Save the best model\n",
    "joblib.dump(fittedgrid_rf.best_estimator_, 'pickled_best_RF_class_model_pos.pkl', compress=('gzip',3))"
   ]
  },
  {
   "cell_type": "code",
   "execution_count": 16,
   "metadata": {},
   "outputs": [],
   "source": [
    "# get confusion matrix \n",
    "y_pred=fittedgrid_rf.best_estimator_.predict(X_test_manual)\n",
    "RF_confusion_matrix = confusion_matrix(ypos_test,y_pred)"
   ]
  },
  {
   "cell_type": "code",
   "execution_count": 17,
   "metadata": {},
   "outputs": [
    {
     "data": {
      "image/png": "[encoded data removed]",
      "text/plain": [
       "<Figure size 500x500 with 2 Axes>"
      ]
     },
     "metadata": {},
     "output_type": "display_data"
    }
   ],
   "source": [
    "plt.figure(figsize=(5,5))\n",
    "sns.heatmap(RF_confusion_matrix,\n",
    "    xticklabels=[\"Predicted 0-5\", \"Predicted 5-10\",\"Predicted 10-15\", \"Predicted 15-20\" ],\n",
    "    yticklabels=[\"True 0-5\", \"True 5-10\",\"True 10-15\", \"True 15-20\"],\n",
    " annot=True, fmt='g')\n",
    "plt.title('Best RF model Confusion Matrix on position')\n",
    "plt.show()"
   ]
  },
  {
   "cell_type": "markdown",
   "metadata": {},
   "source": [
    "We can see the model has improved from the inital accuracy score slightly, In addition the model performs reasonably well, with the model classifiying the results correctly most of the time.The model has improved the classification of good drivers increasing the number of True Predictions for 0-5 class. However, the model still suffers in the neighboring bins in the middle of the pack of drivers and towards the rear. This may be because the values are continuous and the results are close to the edge of the bin and hence the model has trouble to clasify the result correctly. \n",
    "\n",
    "The next step is to repeat the workflow for Qualifying Position:"
   ]
  },
  {
   "cell_type": "markdown",
   "metadata": {},
   "source": [
    "## Random Forest Lap time delta with manual feature selection\n",
    "<a id=\"delta\"></a>\n",
    "\n",
    "Same as before we will do a large Random search and then a narrow grid search using cross validation to tune the model."
   ]
  },
  {
   "cell_type": "code",
   "execution_count": 21,
   "metadata": {},
   "outputs": [
    {
     "name": "stdout",
     "output_type": "stream",
     "text": [
      "Fitting 5 folds for each of 100 candidates, totalling 500 fits\n",
      "{'random_forest__n_estimators': 460, 'random_forest__min_samples_leaf': 1, 'random_forest__max_features': 20, 'random_forest__max_depth': 5, 'random_forest__criterion': 'log_loss'}\n"
     ]
    }
   ],
   "source": [
    "param_grid_rf =[\n",
    "    \n",
    "  \n",
    "   {'random_forest__n_estimators':np.arange(10,500,10),\n",
    "    'random_forest__criterion':['gini','entropy','log_loss'],\n",
    "    'random_forest__max_depth':np.arange(5,100,10),\n",
    "    'random_forest__min_samples_leaf': np.arange(1,50,5),\n",
    "    'random_forest__max_features':np.arange(10,60,10),    \n",
    "    }\n",
    "   \n",
    "]\n",
    "\n",
    "grid_rf = RandomizedSearchCV(forest_pipe, param_grid_rf, cv=5,verbose=1, n_iter=100,return_train_score=True,n_jobs=-1) # cross validation fold of 5 20% validation per fold. N_iter 25 to limit random iteration to 25. \n",
    "fittedgrid_rf = grid_rf.fit(X_train_manual, ydelta_train)\n",
    "\n",
    "print(fittedgrid_rf.best_params_)"
   ]
  },
  {
   "cell_type": "code",
   "execution_count": 22,
   "metadata": {},
   "outputs": [
    {
     "name": "stdout",
     "output_type": "stream",
     "text": [
      "{'random_forest__n_estimators': 460, 'random_forest__min_samples_leaf': 1, 'random_forest__max_features': 20, 'random_forest__max_depth': 5, 'random_forest__criterion': 'log_loss'}\n"
     ]
    }
   ],
   "source": [
    "print(fittedgrid_rf.best_params_)"
   ]
  },
  {
   "cell_type": "markdown",
   "metadata": {},
   "source": [
    "We have seen the randomised search has increased the number of estimators to 460 and the max depth of the trees to 5. It has gone for an even larger forest than the Qualifying position but with much shorter trees. The hope that this improves the predictive power of the model. The next step is run a grid search with a narrow range of parameters and then evaluate the optimised model."
   ]
  },
  {
   "cell_type": "code",
   "execution_count": 23,
   "metadata": {},
   "outputs": [
    {
     "name": "stdout",
     "output_type": "stream",
     "text": [
      "Fitting 5 folds for each of 140 candidates, totalling 700 fits\n",
      "{'random_forest__criterion': 'log_loss', 'random_forest__max_depth': 5, 'random_forest__max_features': 15, 'random_forest__min_samples_leaf': 1, 'random_forest__n_estimators': 455}\n"
     ]
    }
   ],
   "source": [
    "param_grid_rf =[\n",
    "    \n",
    "    #vary DT parameters only\n",
    "    {\n",
    "    'random_forest__n_estimators':np.arange(450,471,5),\n",
    "    'random_forest__criterion':['log_loss'],\n",
    "    'random_forest__max_depth':np.arange(1,15,2),\n",
    "    'random_forest__min_samples_leaf': [1],\n",
    "    'random_forest__max_features':np.arange(15,31,5),  \n",
    "    }\n",
    "   \n",
    "]\n",
    "\n",
    "grid_rf = GridSearchCV(forest_pipe, param_grid_rf, cv=5,verbose=1,return_train_score=True,n_jobs=-1) # cross validation fold of 5 20% validation per fold. N_iter 25 to limit random iteration to 25. \n",
    "fittedgrid_rf = grid_rf.fit(X_train_manual, ydelta_train)\n",
    "\n",
    "print(fittedgrid_rf.best_params_)"
   ]
  },
  {
   "cell_type": "markdown",
   "metadata": {},
   "source": [
    "Save the results of the grid search"
   ]
  },
  {
   "cell_type": "code",
   "execution_count": 24,
   "metadata": {},
   "outputs": [
    {
     "data": {
      "text/html": [
       "<div>\n",
       "<style scoped>\n",
       "    .dataframe tbody tr th:only-of-type {\n",
       "        vertical-align: middle;\n",
       "    }\n",
       "\n",
       "    .dataframe tbody tr th {\n",
       "        vertical-align: top;\n",
       "    }\n",
       "\n",
       "    .dataframe thead th {\n",
       "        text-align: right;\n",
       "    }\n",
       "</style>\n",
       "<table border=\"1\" class=\"dataframe\">\n",
       "  <thead>\n",
       "    <tr style=\"text-align: right;\">\n",
       "      <th></th>\n",
       "      <th>Validation score</th>\n",
       "      <th>Train score</th>\n",
       "      <th>n_estimators_in_grid</th>\n",
       "      <th>max_depth_in_grid</th>\n",
       "      <th>max_features_in_grid</th>\n",
       "      <th>min_samples_leaf_in_grid</th>\n",
       "    </tr>\n",
       "  </thead>\n",
       "  <tbody>\n",
       "    <tr>\n",
       "      <th>0</th>\n",
       "      <td>0.473784</td>\n",
       "      <td>0.523545</td>\n",
       "      <td>450</td>\n",
       "      <td>1</td>\n",
       "      <td>15</td>\n",
       "      <td>1</td>\n",
       "    </tr>\n",
       "    <tr>\n",
       "      <th>1</th>\n",
       "      <td>0.462011</td>\n",
       "      <td>0.513247</td>\n",
       "      <td>455</td>\n",
       "      <td>1</td>\n",
       "      <td>15</td>\n",
       "      <td>1</td>\n",
       "    </tr>\n",
       "    <tr>\n",
       "      <th>2</th>\n",
       "      <td>0.475521</td>\n",
       "      <td>0.522371</td>\n",
       "      <td>460</td>\n",
       "      <td>1</td>\n",
       "      <td>15</td>\n",
       "      <td>1</td>\n",
       "    </tr>\n",
       "    <tr>\n",
       "      <th>3</th>\n",
       "      <td>0.478473</td>\n",
       "      <td>0.517810</td>\n",
       "      <td>465</td>\n",
       "      <td>1</td>\n",
       "      <td>15</td>\n",
       "      <td>1</td>\n",
       "    </tr>\n",
       "    <tr>\n",
       "      <th>4</th>\n",
       "      <td>0.489658</td>\n",
       "      <td>0.526635</td>\n",
       "      <td>470</td>\n",
       "      <td>1</td>\n",
       "      <td>15</td>\n",
       "      <td>1</td>\n",
       "    </tr>\n",
       "    <tr>\n",
       "      <th>...</th>\n",
       "      <td>...</td>\n",
       "      <td>...</td>\n",
       "      <td>...</td>\n",
       "      <td>...</td>\n",
       "      <td>...</td>\n",
       "      <td>...</td>\n",
       "    </tr>\n",
       "    <tr>\n",
       "      <th>135</th>\n",
       "      <td>0.483205</td>\n",
       "      <td>0.993231</td>\n",
       "      <td>450</td>\n",
       "      <td>13</td>\n",
       "      <td>30</td>\n",
       "      <td>1</td>\n",
       "    </tr>\n",
       "    <tr>\n",
       "      <th>136</th>\n",
       "      <td>0.490276</td>\n",
       "      <td>0.994261</td>\n",
       "      <td>455</td>\n",
       "      <td>13</td>\n",
       "      <td>30</td>\n",
       "      <td>1</td>\n",
       "    </tr>\n",
       "    <tr>\n",
       "      <th>137</th>\n",
       "      <td>0.487323</td>\n",
       "      <td>0.993672</td>\n",
       "      <td>460</td>\n",
       "      <td>13</td>\n",
       "      <td>30</td>\n",
       "      <td>1</td>\n",
       "    </tr>\n",
       "    <tr>\n",
       "      <th>138</th>\n",
       "      <td>0.489089</td>\n",
       "      <td>0.994261</td>\n",
       "      <td>465</td>\n",
       "      <td>13</td>\n",
       "      <td>30</td>\n",
       "      <td>1</td>\n",
       "    </tr>\n",
       "    <tr>\n",
       "      <th>139</th>\n",
       "      <td>0.486740</td>\n",
       "      <td>0.993231</td>\n",
       "      <td>470</td>\n",
       "      <td>13</td>\n",
       "      <td>30</td>\n",
       "      <td>1</td>\n",
       "    </tr>\n",
       "  </tbody>\n",
       "</table>\n",
       "<p>140 rows × 6 columns</p>\n",
       "</div>"
      ],
      "text/plain": [
       "     Validation score  Train score n_estimators_in_grid max_depth_in_grid  \\\n",
       "0            0.473784     0.523545                  450                 1   \n",
       "1            0.462011     0.513247                  455                 1   \n",
       "2            0.475521     0.522371                  460                 1   \n",
       "3            0.478473     0.517810                  465                 1   \n",
       "4            0.489658     0.526635                  470                 1   \n",
       "..                ...          ...                  ...               ...   \n",
       "135          0.483205     0.993231                  450                13   \n",
       "136          0.490276     0.994261                  455                13   \n",
       "137          0.487323     0.993672                  460                13   \n",
       "138          0.489089     0.994261                  465                13   \n",
       "139          0.486740     0.993231                  470                13   \n",
       "\n",
       "    max_features_in_grid min_samples_leaf_in_grid  \n",
       "0                     15                        1  \n",
       "1                     15                        1  \n",
       "2                     15                        1  \n",
       "3                     15                        1  \n",
       "4                     15                        1  \n",
       "..                   ...                      ...  \n",
       "135                   30                        1  \n",
       "136                   30                        1  \n",
       "137                   30                        1  \n",
       "138                   30                        1  \n",
       "139                   30                        1  \n",
       "\n",
       "[140 rows x 6 columns]"
      ]
     },
     "execution_count": 24,
     "metadata": {},
     "output_type": "execute_result"
    }
   ],
   "source": [
    "results_rf_delta = pd.DataFrame({'Validation score':fittedgrid_rf.cv_results_['mean_test_score'],\n",
    "'Train score':fittedgrid_rf.cv_results_['mean_train_score'],\n",
    "'n_estimators_in_grid':fittedgrid_rf.cv_results_['param_random_forest__n_estimators'],\n",
    "'max_depth_in_grid': fittedgrid_rf.cv_results_['param_random_forest__max_depth'],\n",
    "'max_features_in_grid': fittedgrid_rf.cv_results_['param_random_forest__max_features'],\n",
    "'min_samples_leaf_in_grid': fittedgrid_rf.cv_results_['param_random_forest__min_samples_leaf']})\n",
    "results_rf_delta"
   ]
  },
  {
   "cell_type": "code",
   "execution_count": 27,
   "metadata": {},
   "outputs": [
    {
     "name": "stdout",
     "output_type": "stream",
     "text": [
      "Best Random Forest Lap Delta model accuracy_score on X test: 0.5663265306122449\n"
     ]
    }
   ],
   "source": [
    "print('Best Random Forest Lap Delta model accuracy_score on X test:',fittedgrid_rf.best_estimator_.score(X_test_manual, ydelta_test))"
   ]
  },
  {
   "cell_type": "code",
   "execution_count": 28,
   "metadata": {},
   "outputs": [
    {
     "data": {
      "text/html": [
       "<div>\n",
       "<style scoped>\n",
       "    .dataframe tbody tr th:only-of-type {\n",
       "        vertical-align: middle;\n",
       "    }\n",
       "\n",
       "    .dataframe tbody tr th {\n",
       "        vertical-align: top;\n",
       "    }\n",
       "\n",
       "    .dataframe thead th {\n",
       "        text-align: right;\n",
       "    }\n",
       "</style>\n",
       "<table border=\"1\" class=\"dataframe\">\n",
       "  <thead>\n",
       "    <tr style=\"text-align: right;\">\n",
       "      <th></th>\n",
       "      <th>Validation score</th>\n",
       "      <th>Train score</th>\n",
       "      <th>n_estimators_in_grid</th>\n",
       "      <th>max_depth_in_grid</th>\n",
       "      <th>max_features_in_grid</th>\n",
       "      <th>min_samples_leaf_in_grid</th>\n",
       "    </tr>\n",
       "  </thead>\n",
       "  <tbody>\n",
       "    <tr>\n",
       "      <th>41</th>\n",
       "      <td>0.51029</td>\n",
       "      <td>0.679663</td>\n",
       "      <td>455</td>\n",
       "      <td>5</td>\n",
       "      <td>15</td>\n",
       "      <td>1</td>\n",
       "    </tr>\n",
       "  </tbody>\n",
       "</table>\n",
       "</div>"
      ],
      "text/plain": [
       "    Validation score  Train score n_estimators_in_grid max_depth_in_grid  \\\n",
       "41           0.51029     0.679663                  455                 5   \n",
       "\n",
       "   max_features_in_grid min_samples_leaf_in_grid  \n",
       "41                   15                        1  "
      ]
     },
     "execution_count": 28,
     "metadata": {},
     "output_type": "execute_result"
    }
   ],
   "source": [
    "results_rf_delta[results_rf_delta['Validation score'] == results_rf_delta['Validation score'].max()]"
   ]
  },
  {
   "cell_type": "markdown",
   "metadata": {},
   "source": [
    "Through Random search and grid search we have optimised the hyperparameters of Random Forest. We can see that the Train scorea and Validation Score for the optimised parameters have come closer together. The optimal model uses a lot of very small trees. This gives us confidence that the model shouldn't be overfitting and we are getting to a optimal solution. However the actual test score has decreased from 0.58 to 0.57. This is probably because the model has become to optimised to the train dataset."
   ]
  },
  {
   "cell_type": "code",
   "execution_count": 26,
   "metadata": {},
   "outputs": [
    {
     "data": {
      "text/plain": [
       "['pickled_best_RF_class_model_delta.pkl']"
      ]
     },
     "execution_count": 26,
     "metadata": {},
     "output_type": "execute_result"
    }
   ],
   "source": [
    "joblib.dump(fittedgrid_rf.best_estimator_, 'pickled_best_RF_class_model_delta.pkl', compress=('gzip',3))"
   ]
  },
  {
   "cell_type": "markdown",
   "metadata": {},
   "source": [
    "How does the confusion matrix of the optimised model look like?"
   ]
  },
  {
   "cell_type": "code",
   "execution_count": 29,
   "metadata": {},
   "outputs": [],
   "source": [
    "# get confusion matrix \n",
    "y_pred=fittedgrid_rf.best_estimator_.predict(X_test_manual)\n",
    "RF_confusion_matrix = confusion_matrix(ydelta_test,y_pred)"
   ]
  },
  {
   "cell_type": "code",
   "execution_count": 30,
   "metadata": {},
   "outputs": [
    {
     "data": {
      "image/png": "[encoded data removed]",
      "text/plain": [
       "<Figure size 500x500 with 2 Axes>"
      ]
     },
     "metadata": {},
     "output_type": "display_data"
    }
   ],
   "source": [
    "plt.figure(figsize=(5,5))\n",
    "sns.heatmap(RF_confusion_matrix,\n",
    "    xticklabels=[\"Predicted 0-0.8\", \"Predicted 0.8-1.5\",\"Predicted 1.5-2\", \"Predicted > 2\" ],\n",
    "    yticklabels=[\"True 0-0.8\", \"True 0.8 - 1.5\",\"True 1.5-2\", \"True > 2\"],\n",
    " annot=True, fmt='g')\n",
    "plt.title('Best RF model Confusion Matrix on Lap time delta')\n",
    "plt.show()"
   ]
  },
  {
   "cell_type": "markdown",
   "metadata": {},
   "source": [
    "We can see that the model overall performs ok, even with a low accuracy score it has learnt the general trend of the data and does not predict a bottom driver who is more than 2 seconds back to be less than 0.8 seconds from the top driver. The majority of the predictions except for the predictions > 2 seconds are along the diagonal of true predictions. \n",
    "\n",
    "Similar to Qualifying Position the model struggles with neighbouring bins. This could be because the time was close to the edge of the bin. e.g. a time of 0.75 seconds is close to the edge of the first bin 0-0.8 with the second bin 0.8-1.5 therefore the model may misclassify it based on the data. This is the challenge of binning numerical data. Maybe a regression approach would work better for Lap Time Delta?"
   ]
  },
  {
   "cell_type": "markdown",
   "metadata": {},
   "source": [
    "# Summary\n",
    "<a id=\"sum\"></a>\n",
    "\n",
    "In this analysis we have built and optimised Random Forest models to predict:\n",
    "- Qualifying Position bins \n",
    "- Lap Time delta bins\n",
    "\n",
    "We have found that optimising the models does improve the models performance fractionaly. However the accuracy scores are poor at 0.5-0.6 on the test data. We have seen from the confusion matrix's that the model does well not to classify a bottom driver as top however it often miss classifys the drivers into neighboring bins. This may be down to the bin size and binning process. When driver's results are close to the edge of the bin maybe the model struggles to assign it to a bin. "
   ]
  },
  {
   "cell_type": "markdown",
   "metadata": {},
   "source": [
    "# Next Steps\n",
    "<a id=\"nextsteps\"></a>\n",
    "\n",
    "Therefore to try and improve the model predictive power the next notebook will investigate predicting the results and lap time delta as a number. This will try regression modelling algorthims and evaluate if they are more accurate and solve this neighbour bin challenge. "
   ]
  },
  {
   "cell_type": "markdown",
   "metadata": {},
   "source": [
    "# Appendix\n",
    "<a id=\"appendix\"></a>\n",
    "## Feature Selection with Select from Model\n",
    "\n",
    "This section repeats the same workflow above, however instead of using the optimal features found in [6_Formula1_Initial_Modelling](./6_Formula1_Initial_Modelling.ipynb) it will use select from model to automatically select the features."
   ]
  },
  {
   "cell_type": "markdown",
   "metadata": {},
   "source": [
    "## Qualifying Position"
   ]
  },
  {
   "cell_type": "code",
   "execution_count": 3,
   "metadata": {},
   "outputs": [],
   "source": [
    "scale_cols, hot_encode_col = column_lists(X_train)"
   ]
  },
  {
   "cell_type": "code",
   "execution_count": 4,
   "metadata": {},
   "outputs": [],
   "source": [
    "transformer =[('numerical_transform',StandardScaler(),scale_cols),\n",
    "('hot_encode',OneHotEncoder(handle_unknown=\"ignore\"),hot_encode_col)\n",
    "]\n",
    "#selector = [('column_selector','passthrough',manual_features)]\n",
    "random_forest_estimator=[('column_transform',ColumnTransformer(transformers=transformer)),    \n",
    "        ('select_from_model',SelectFromModel(RandomForestClassifier())),\n",
    "        ('random_forest',RandomForestClassifier())# classifier\n",
    "        \n",
    "]\n",
    "forest_pipe=Pipeline(random_forest_estimator)"
   ]
  },
  {
   "cell_type": "code",
   "execution_count": 7,
   "metadata": {},
   "outputs": [
    {
     "name": "stdout",
     "output_type": "stream",
     "text": [
      "Fitting 5 folds for each of 375 candidates, totalling 1875 fits\n",
      "{'random_forest__criterion': 'gini', 'random_forest__max_depth': 12, 'random_forest__max_features': 11, 'random_forest__min_samples_leaf': 16, 'random_forest__n_estimators': 370, 'random_forest__oob_score': True, 'select_from_model__threshold': '1.75*mean'}\n"
     ]
    }
   ],
   "source": [
    "param_grid_rf =[\n",
    "    \n",
    "    #vary DT parameters only\n",
    "    {\n",
    "    'select_from_model__threshold' : ['1.75*mean'],\n",
    "    'random_forest__n_estimators':np.arange(350,400,10),\n",
    "    'random_forest__criterion':['gini'],\n",
    "    'random_forest__max_depth':np.arange(10,20,2),\n",
    "    'random_forest__min_samples_leaf': np.arange(10,20,2),\n",
    "    'random_forest__max_features':np.arange(1,15,5),\n",
    "    'random_forest__oob_score':[True]    \n",
    "    }\n",
    "   \n",
    "]\n",
    "\n",
    "grid_rf = GridSearchCV(forest_pipe, param_grid_rf, cv=5,verbose=1,return_train_score=True,n_jobs=-1) # cross validation fold of 5 20% validation per fold. N_iter 25 to limit random iteration to 25. \n",
    "fittedgrid_rf = grid_rf.fit(X_train, ypos_train)\n",
    "\n",
    "print(fittedgrid_rf.best_params_)"
   ]
  },
  {
   "cell_type": "code",
   "execution_count": 8,
   "metadata": {},
   "outputs": [
    {
     "name": "stdout",
     "output_type": "stream",
     "text": [
      "Best Random Forest Position model accuracy_score on X test: 0.576530612244898\n"
     ]
    }
   ],
   "source": [
    "print('Best Random Forest Position model accuracy_score on X test:',fittedgrid_rf.best_estimator_.score(X_test, ypos_test))"
   ]
  },
  {
   "cell_type": "code",
   "execution_count": 9,
   "metadata": {},
   "outputs": [],
   "source": [
    "# get confusion matrix \n",
    "y_pred=fittedgrid_rf.best_estimator_.predict(X_test)\n",
    "RF_confusion_matrix = confusion_matrix(ypos_test,y_pred)"
   ]
  },
  {
   "cell_type": "code",
   "execution_count": 10,
   "metadata": {},
   "outputs": [
    {
     "data": {
      "image/png": "[encoded data removed]",
      "text/plain": [
       "<Figure size 500x500 with 2 Axes>"
      ]
     },
     "metadata": {},
     "output_type": "display_data"
    }
   ],
   "source": [
    "plt.figure(figsize=(5,5))\n",
    "sns.heatmap(RF_confusion_matrix,\n",
    "    xticklabels=[\"Predicted 0-0.8\", \"Predicted 0.8-1.5\",\"Predicted 1.5-2\", \"Predicted > 2\" ],\n",
    "    yticklabels=[\"True 0-0.8\", \"True 0.8 - 1.5\",\"True 1.5-2\", \"True > 2\"],\n",
    " annot=True, fmt='g')\n",
    "plt.title('Best RF model Confusion Matrix on Lap time delta')\n",
    "plt.show()"
   ]
  },
  {
   "cell_type": "markdown",
   "metadata": {},
   "source": [
    "## Lap time delta \n",
    "\n",
    "### Selection via Select from model"
   ]
  },
  {
   "cell_type": "code",
   "execution_count": 11,
   "metadata": {},
   "outputs": [
    {
     "name": "stdout",
     "output_type": "stream",
     "text": [
      "Fitting 5 folds for each of 375 candidates, totalling 1875 fits\n",
      "{'random_forest__criterion': 'gini', 'random_forest__max_depth': 18, 'random_forest__max_features': 11, 'random_forest__min_samples_leaf': 18, 'random_forest__n_estimators': 390, 'random_forest__oob_score': True, 'select_from_model__threshold': '1.75*mean'}\n"
     ]
    }
   ],
   "source": [
    "param_grid_rf =[\n",
    "    \n",
    "    #vary DT parameters only\n",
    "    {\n",
    "    'select_from_model__threshold' : ['1.75*mean'],\n",
    "    'random_forest__n_estimators':np.arange(350,400,10),\n",
    "    'random_forest__criterion':['gini'],\n",
    "    'random_forest__max_depth':np.arange(10,20,2),\n",
    "    'random_forest__min_samples_leaf': np.arange(10,20,2),\n",
    "    'random_forest__max_features':np.arange(1,15,5),\n",
    "    'random_forest__oob_score':[True]    \n",
    "    }\n",
    "   \n",
    "]\n",
    "\n",
    "grid_rf = GridSearchCV(forest_pipe, param_grid_rf, cv=5,verbose=1,return_train_score=True,n_jobs=-1) # cross validation fold of 5 20% validation per fold. N_iter 25 to limit random iteration to 25. \n",
    "fittedgrid_rf = grid_rf.fit(X_train, ydelta_train)\n",
    "\n",
    "print(fittedgrid_rf.best_params_)"
   ]
  },
  {
   "cell_type": "code",
   "execution_count": 15,
   "metadata": {},
   "outputs": [
    {
     "name": "stdout",
     "output_type": "stream",
     "text": [
      "Best Random Forest lap delta model accuracy_score on X test: 0.5459183673469388\n"
     ]
    }
   ],
   "source": [
    "print('Best Random Forest lap delta model accuracy_score on X test:',fittedgrid_rf.best_estimator_.score(X_test, ypos_test))"
   ]
  },
  {
   "cell_type": "code",
   "execution_count": 13,
   "metadata": {},
   "outputs": [],
   "source": [
    "# get confusion matrix \n",
    "y_pred=fittedgrid_rf.best_estimator_.predict(X_test)\n",
    "RF_confusion_matrix = confusion_matrix(ydelta_test,y_pred)"
   ]
  },
  {
   "cell_type": "code",
   "execution_count": 14,
   "metadata": {},
   "outputs": [
    {
     "data": {
      "image/png": "[encoded data removed]",
      "text/plain": [
       "<Figure size 500x500 with 2 Axes>"
      ]
     },
     "metadata": {},
     "output_type": "display_data"
    }
   ],
   "source": [
    "plt.figure(figsize=(5,5))\n",
    "sns.heatmap(RF_confusion_matrix,\n",
    "    xticklabels=[\"Predicted 0-0.8\", \"Predicted 0.8-1.5\",\"Predicted 1.5-2\", \"Predicted > 2\" ],\n",
    "    yticklabels=[\"True 0-0.8\", \"True 0.8 - 1.5\",\"True 1.5-2\", \"True > 2\"],\n",
    " annot=True, fmt='g')\n",
    "plt.title('Best RF model Confusion Matrix on Lap time delta')\n",
    "plt.show()"
   ]
  },
  {
   "cell_type": "code",
   "execution_count": null,
   "metadata": {},
   "outputs": [],
   "source": []
  }
 ],
 "metadata": {
  "kernelspec": {
   "display_name": "Python 3.9.13 ('Formula1')",
   "language": "python",
   "name": "python3"
  },
  "language_info": {
   "codemirror_mode": {
    "name": "ipython",
    "version": 3
   },
   "file_extension": ".py",
   "mimetype": "text/x-python",
   "name": "python",
   "nbconvert_exporter": "python",
   "pygments_lexer": "ipython3",
   "version": "3.9.13"
  },
  "orig_nbformat": 4,
  "vscode": {
   "interpreter": {
    "hash": "df33e983c06e0aea19505ce5c944c877d6d15f02d67e223997f73ecad7eaf96c"
   }
  }
 },
 "nbformat": 4,
 "nbformat_minor": 2
}
