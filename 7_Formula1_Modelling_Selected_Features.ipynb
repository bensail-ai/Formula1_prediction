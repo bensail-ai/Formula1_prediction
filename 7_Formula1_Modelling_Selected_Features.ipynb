{
 "cells": [
  {
   "cell_type": "markdown",
   "metadata": {},
   "source": [
    "Formula 1 Modelling Random Forest "
   ]
  },
  {
   "cell_type": "code",
   "execution_count": 25,
   "metadata": {},
   "outputs": [],
   "source": [
    "import pandas as pd\n",
    "import numpy as np\n",
    "import seaborn as sns\n",
    "import matplotlib.pyplot as plt\n",
    "from scipy import stats\n",
    "import plotly.express as px\n",
    "\n",
    "from scripts.ds_ultils import *\n",
    "from scripts.fastf1_data_download import *\n",
    "from scripts.model_ultils import *\n",
    "plt.style.use('./scripts/plotstyle.mplstyle')\n",
    "import warnings\n",
    "warnings.filterwarnings('ignore')\n",
    "from sklearn.compose import ColumnTransformer\n",
    "from sklearn.decomposition import PCA\n",
    "from sklearn.preprocessing import StandardScaler, OneHotEncoder, LabelEncoder\n",
    "from sklearn.pipeline import Pipeline\n",
    "from sklearn.preprocessing import MinMaxScaler, StandardScaler\n",
    "from sklearn.linear_model import LogisticRegression\n",
    "from sklearn.svm import SVC\n",
    "from sklearn.tree import DecisionTreeClassifier, plot_tree\n",
    "from sklearn.cluster import KMeans\n",
    "from sklearn.ensemble import RandomForestClassifier\n",
    "from sklearn.metrics import accuracy_score,confusion_matrix,classification_report, plot_roc_curve,roc_auc_score\n",
    "from sklearn.feature_selection import SelectKBest\n",
    "from mlxtend.feature_selection import ColumnSelector\n",
    "from sklearn.model_selection import (GridSearchCV, RandomizedSearchCV,\n",
    "                                     cross_val_score)\n",
    "import joblib"
   ]
  },
  {
   "cell_type": "code",
   "execution_count": 7,
   "metadata": {},
   "outputs": [],
   "source": [
    "qualify_df=pd.read_pickle('./data/model_data/formula1_complete_2018_2022.pkl',compression='gzip')\n",
    "qualifying_df=qualify_df.copy()\n",
    "qualifying_df.dropna(inplace=True)\n",
    "X_test, X_train, y_test, y_train = prepare_modelling_df(qualifying_df)\n",
    "labelencoder=LabelEncoder()\n",
    "labelencoder.fit(y_train['lap_timedelta_seconds_binned'])\n",
    "ydelta_train= labelencoder.transform(y_train['lap_timedelta_seconds_binned'])\n",
    "ydelta_test= labelencoder.transform(y_test['lap_timedelta_seconds_binned'])\n",
    "labelencoder=LabelEncoder()\n",
    "labelencoder.fit(y_train['quali_position_binned'])\n",
    "ypos_train= labelencoder.transform(y_train['quali_position_binned'])\n",
    "ypos_test= labelencoder.transform(y_test['quali_position_binned'])"
   ]
  },
  {
   "cell_type": "code",
   "execution_count": 8,
   "metadata": {},
   "outputs": [],
   "source": [
    "feature_importance=pd.read_pickle('./data/model_data/feature_importance_results.pkl')"
   ]
  },
  {
   "cell_type": "code",
   "execution_count": 9,
   "metadata": {},
   "outputs": [],
   "source": [
    "manual_features = list(feature_importance[feature_importance['Random_forest_result']>0.8].index)\n",
    "features_remove =[ 'numerical_transform__avglap_Sector1',\n",
    " 'numerical_transform__avglap_Sector2',\n",
    " 'numerical_transform__avglap_Sector3',\n",
    " 'numerical_transform__max_max_rpm',\n",
    " 'numerical_transform__mean_var_straight_rpm',\n",
    " 'numerical_transform__mean_straight_rpm' ]"
   ]
  },
  {
   "cell_type": "code",
   "execution_count": 10,
   "metadata": {},
   "outputs": [],
   "source": [
    "manual_features = [x for x in manual_features if x not in features_remove]\n",
    "X_train_manual, X_test_manual = apply_manual_features(X_train,X_test,features=manual_features)\n",
    "scale_cols, hot_encode_col = column_lists(X_train_manual)"
   ]
  },
  {
   "cell_type": "code",
   "execution_count": 11,
   "metadata": {},
   "outputs": [],
   "source": [
    "\n",
    "transformer =[('numerical_transform',StandardScaler(),scale_cols),\n",
    "('hot_encode',OneHotEncoder(handle_unknown=\"ignore\"),hot_encode_col)\n",
    "]\n",
    "#selector = [('column_selector','passthrough',manual_features)]\n",
    "random_forest_estimator=[('column_transform',ColumnTransformer(transformers=transformer)),    \n",
    "        ('random_forest',RandomForestClassifier())# classifier\n",
    "        \n",
    "]\n",
    "forest_pipe=Pipeline(random_forest_estimator)"
   ]
  },
  {
   "cell_type": "code",
   "execution_count": 12,
   "metadata": {},
   "outputs": [
    {
     "name": "stdout",
     "output_type": "stream",
     "text": [
      "Position Random Forest Initial train score with manual selected featuers 1.0\n",
      "Position Random Forest Initial test score with manual selected feaure 0.6020408163265306\n",
      "Lap Delta Random Forest Initial train score with manual selected featuers 1.0\n",
      "Lap Delta Random Forest Initial test score with manual selected feaure 0.5510204081632653\n"
     ]
    }
   ],
   "source": [
    "rf_model_pos= forest_pipe.fit(X_train_manual,ypos_train)\n",
    "print(f'Position Random Forest Initial train score with manual selected featuers {rf_model_pos.score(X_train_manual,ypos_train)}')\n",
    "print(f'Position Random Forest Initial test score with manual selected feaure {rf_model_pos.score(X_test_manual,ypos_test)}')\n",
    "rf_model_delta= forest_pipe.fit(X_train_manual,ydelta_train)\n",
    "print(f'Lap Delta Random Forest Initial train score with manual selected featuers {rf_model_delta.score(X_train_manual,ydelta_train)}')\n",
    "print(f'Lap Delta Random Forest Initial test score with manual selected feaure {rf_model_delta.score(X_test_manual,ydelta_test)}')"
   ]
  },
  {
   "cell_type": "markdown",
   "metadata": {},
   "source": [
    "## Random Forest Qualifying Position"
   ]
  },
  {
   "cell_type": "code",
   "execution_count": 15,
   "metadata": {},
   "outputs": [
    {
     "name": "stdout",
     "output_type": "stream",
     "text": [
      "Fitting 5 folds for each of 25 candidates, totalling 125 fits\n",
      "{'random_forest__oob_score': False, 'random_forest__n_estimators': 170, 'random_forest__min_samples_leaf': 6, 'random_forest__max_features': 25, 'random_forest__max_depth': 35, 'random_forest__criterion': 'entropy'}\n"
     ]
    }
   ],
   "source": [
    "param_grid_rf =[\n",
    "    \n",
    "    #vary DT parameters only\n",
    "    {\n",
    "    'random_forest__n_estimators':np.arange(10,500,10),\n",
    "    'random_forest__criterion':['gini','entropy','log_loss'],\n",
    "    'random_forest__max_depth':np.arange(5,100,10),\n",
    "    'random_forest__min_samples_leaf': np.arange(1,50,5),\n",
    "    'random_forest__max_features':[5,10,15,20,25,30,'sqrt','log2'],\n",
    "    'random_forest__oob_score':[True, False],\n",
    "    }\n",
    "   \n",
    "]\n",
    "\n",
    "grid_rf = RandomizedSearchCV(forest_pipe, param_grid_rf, cv=5,verbose=1, n_iter=25,return_train_score=True,n_jobs=-1) # cross validation fold of 5 20% validation per fold. N_iter 25 to limit random iteration to 25. \n",
    "fittedgrid_rf = grid_rf.fit(X_train_manual, ypos_train)\n",
    "\n",
    "print(fittedgrid_rf.best_params_)"
   ]
  },
  {
   "cell_type": "code",
   "execution_count": 30,
   "metadata": {},
   "outputs": [
    {
     "name": "stdout",
     "output_type": "stream",
     "text": [
      "Fitting 5 folds for each of 450 candidates, totalling 2250 fits\n",
      "{'random_forest__criterion': 'entropy', 'random_forest__max_depth': 36, 'random_forest__max_features': 20, 'random_forest__min_samples_leaf': 3, 'random_forest__n_estimators': 165}\n"
     ]
    }
   ],
   "source": [
    "param_grid_rf =[\n",
    "    \n",
    "    #vary DT parameters only\n",
    "    {\n",
    "    'random_forest__n_estimators':np.arange(150,180,5),\n",
    "    'random_forest__criterion':['entropy'],\n",
    "    'random_forest__max_depth':np.arange(30,40,2),\n",
    "    'random_forest__min_samples_leaf': np.arange(1,10,2),\n",
    "    'random_forest__max_features':np.arange(20,35,5),    \n",
    "    }\n",
    "   \n",
    "]\n",
    "\n",
    "grid_rf = GridSearchCV(forest_pipe, param_grid_rf, cv=5,verbose=1,return_train_score=True,n_jobs=-1) # cross validation fold of 5 20% validation per fold. N_iter 25 to limit random iteration to 25. \n",
    "fittedgrid_rf = grid_rf.fit(X_train_manual, ypos_train)\n",
    "\n",
    "print(fittedgrid_rf.best_params_)"
   ]
  },
  {
   "cell_type": "code",
   "execution_count": 31,
   "metadata": {},
   "outputs": [
    {
     "data": {
      "text/html": [
       "<div>\n",
       "<style scoped>\n",
       "    .dataframe tbody tr th:only-of-type {\n",
       "        vertical-align: middle;\n",
       "    }\n",
       "\n",
       "    .dataframe tbody tr th {\n",
       "        vertical-align: top;\n",
       "    }\n",
       "\n",
       "    .dataframe thead th {\n",
       "        text-align: right;\n",
       "    }\n",
       "</style>\n",
       "<table border=\"1\" class=\"dataframe\">\n",
       "  <thead>\n",
       "    <tr style=\"text-align: right;\">\n",
       "      <th></th>\n",
       "      <th>Validation score</th>\n",
       "      <th>Train score</th>\n",
       "      <th>n_estimators_in_grid</th>\n",
       "      <th>max_depth_in_grid</th>\n",
       "      <th>max_features_in_grid</th>\n",
       "      <th>min_samples_leaf_in_grid</th>\n",
       "    </tr>\n",
       "  </thead>\n",
       "  <tbody>\n",
       "    <tr>\n",
       "      <th>0</th>\n",
       "      <td>0.536778</td>\n",
       "      <td>1.000000</td>\n",
       "      <td>150</td>\n",
       "      <td>30</td>\n",
       "      <td>20</td>\n",
       "      <td>1</td>\n",
       "    </tr>\n",
       "    <tr>\n",
       "      <th>1</th>\n",
       "      <td>0.539141</td>\n",
       "      <td>1.000000</td>\n",
       "      <td>155</td>\n",
       "      <td>30</td>\n",
       "      <td>20</td>\n",
       "      <td>1</td>\n",
       "    </tr>\n",
       "    <tr>\n",
       "      <th>2</th>\n",
       "      <td>0.546209</td>\n",
       "      <td>1.000000</td>\n",
       "      <td>160</td>\n",
       "      <td>30</td>\n",
       "      <td>20</td>\n",
       "      <td>1</td>\n",
       "    </tr>\n",
       "    <tr>\n",
       "      <th>3</th>\n",
       "      <td>0.543254</td>\n",
       "      <td>1.000000</td>\n",
       "      <td>165</td>\n",
       "      <td>30</td>\n",
       "      <td>20</td>\n",
       "      <td>1</td>\n",
       "    </tr>\n",
       "    <tr>\n",
       "      <th>4</th>\n",
       "      <td>0.545601</td>\n",
       "      <td>1.000000</td>\n",
       "      <td>170</td>\n",
       "      <td>30</td>\n",
       "      <td>20</td>\n",
       "      <td>1</td>\n",
       "    </tr>\n",
       "    <tr>\n",
       "      <th>...</th>\n",
       "      <td>...</td>\n",
       "      <td>...</td>\n",
       "      <td>...</td>\n",
       "      <td>...</td>\n",
       "      <td>...</td>\n",
       "      <td>...</td>\n",
       "    </tr>\n",
       "    <tr>\n",
       "      <th>445</th>\n",
       "      <td>0.536790</td>\n",
       "      <td>0.836226</td>\n",
       "      <td>155</td>\n",
       "      <td>38</td>\n",
       "      <td>30</td>\n",
       "      <td>9</td>\n",
       "    </tr>\n",
       "    <tr>\n",
       "      <th>446</th>\n",
       "      <td>0.539729</td>\n",
       "      <td>0.838287</td>\n",
       "      <td>160</td>\n",
       "      <td>38</td>\n",
       "      <td>30</td>\n",
       "      <td>9</td>\n",
       "    </tr>\n",
       "    <tr>\n",
       "      <th>447</th>\n",
       "      <td>0.546807</td>\n",
       "      <td>0.837992</td>\n",
       "      <td>165</td>\n",
       "      <td>38</td>\n",
       "      <td>30</td>\n",
       "      <td>9</td>\n",
       "    </tr>\n",
       "    <tr>\n",
       "      <th>448</th>\n",
       "      <td>0.547369</td>\n",
       "      <td>0.837698</td>\n",
       "      <td>170</td>\n",
       "      <td>38</td>\n",
       "      <td>30</td>\n",
       "      <td>9</td>\n",
       "    </tr>\n",
       "    <tr>\n",
       "      <th>449</th>\n",
       "      <td>0.540318</td>\n",
       "      <td>0.841082</td>\n",
       "      <td>175</td>\n",
       "      <td>38</td>\n",
       "      <td>30</td>\n",
       "      <td>9</td>\n",
       "    </tr>\n",
       "  </tbody>\n",
       "</table>\n",
       "<p>450 rows × 6 columns</p>\n",
       "</div>"
      ],
      "text/plain": [
       "     Validation score  Train score n_estimators_in_grid max_depth_in_grid  \\\n",
       "0            0.536778     1.000000                  150                30   \n",
       "1            0.539141     1.000000                  155                30   \n",
       "2            0.546209     1.000000                  160                30   \n",
       "3            0.543254     1.000000                  165                30   \n",
       "4            0.545601     1.000000                  170                30   \n",
       "..                ...          ...                  ...               ...   \n",
       "445          0.536790     0.836226                  155                38   \n",
       "446          0.539729     0.838287                  160                38   \n",
       "447          0.546807     0.837992                  165                38   \n",
       "448          0.547369     0.837698                  170                38   \n",
       "449          0.540318     0.841082                  175                38   \n",
       "\n",
       "    max_features_in_grid min_samples_leaf_in_grid  \n",
       "0                     20                        1  \n",
       "1                     20                        1  \n",
       "2                     20                        1  \n",
       "3                     20                        1  \n",
       "4                     20                        1  \n",
       "..                   ...                      ...  \n",
       "445                   30                        9  \n",
       "446                   30                        9  \n",
       "447                   30                        9  \n",
       "448                   30                        9  \n",
       "449                   30                        9  \n",
       "\n",
       "[450 rows x 6 columns]"
      ]
     },
     "execution_count": 31,
     "metadata": {},
     "output_type": "execute_result"
    }
   ],
   "source": [
    "results_rf_pos = pd.DataFrame({'Validation score':fittedgrid_rf.cv_results_['mean_test_score'],\n",
    "'Train score':fittedgrid_rf.cv_results_['mean_train_score'],\n",
    "'n_estimators_in_grid':fittedgrid_rf.cv_results_['param_random_forest__n_estimators'],\n",
    "'max_depth_in_grid': fittedgrid_rf.cv_results_['param_random_forest__max_depth'],\n",
    "'max_features_in_grid': fittedgrid_rf.cv_results_['param_random_forest__max_features'],\n",
    "'min_samples_leaf_in_grid': fittedgrid_rf.cv_results_['param_random_forest__min_samples_leaf']})\n",
    "results_rf_pos"
   ]
  },
  {
   "cell_type": "code",
   "execution_count": 32,
   "metadata": {},
   "outputs": [
    {
     "data": {
      "image/png": "[encoded data removed]",
      "text/plain": [
       "<Figure size 640x480 with 1 Axes>"
      ]
     },
     "metadata": {},
     "output_type": "display_data"
    }
   ],
   "source": [
    "plt.figure()\n",
    "sns.scatterplot(data=results_rf_pos,x='n_estimators_in_grid',y='max_features_in_grid',hue='Validation score',palette='plasma')\n",
    "plt.title('Variation of number of estimators and number of features with validation score')\n",
    "plt.legend()\n",
    "plt.xlabel('Number of trees')\n",
    "plt.ylabel('Number of features')\n",
    "plt.tight_layout()\n",
    "plt.show()"
   ]
  },
  {
   "cell_type": "code",
   "execution_count": 33,
   "metadata": {},
   "outputs": [
    {
     "data": {
      "image/png": "[encoded data removed]",
      "text/plain": [
       "<Figure size 640x480 with 1 Axes>"
      ]
     },
     "metadata": {},
     "output_type": "display_data"
    }
   ],
   "source": [
    "plt.figure()\n",
    "sns.scatterplot(data=results_rf_pos,x='max_depth_in_grid',y='min_samples_leaf_in_grid',hue='Validation score',palette='plasma')\n",
    "plt.title('Variation of max depth and min samples leaf with validation score')\n",
    "plt.legend()\n",
    "plt.xlabel('Depth of trees')\n",
    "plt.ylabel('Number of samples in tree')\n",
    "plt.tight_layout()\n",
    "plt.show()"
   ]
  },
  {
   "cell_type": "code",
   "execution_count": 34,
   "metadata": {},
   "outputs": [
    {
     "name": "stdout",
     "output_type": "stream",
     "text": [
      "Best Random Forest Position model accuracy_score on X test: 0.576530612244898\n"
     ]
    }
   ],
   "source": [
    "print('Best Random Forest Position model accuracy_score on X test:',fittedgrid_rf.best_estimator_.score(X_test_manual, ypos_test))"
   ]
  },
  {
   "cell_type": "code",
   "execution_count": 35,
   "metadata": {},
   "outputs": [
    {
     "data": {
      "text/plain": [
       "['pickled_best_RF_model_pos.pkl']"
      ]
     },
     "execution_count": 35,
     "metadata": {},
     "output_type": "execute_result"
    }
   ],
   "source": [
    "# Save the best model\n",
    "joblib.dump(fittedgrid_rf.best_estimator_, 'pickled_best_RF_model_pos.pkl')"
   ]
  },
  {
   "cell_type": "code",
   "execution_count": 36,
   "metadata": {},
   "outputs": [],
   "source": [
    "# get confusion matrix \n",
    "y_pred=fittedgrid_rf.best_estimator_.predict(X_test_manual)\n",
    "RF_confusion_matrix = confusion_matrix(ypos_test,y_pred)"
   ]
  },
  {
   "cell_type": "code",
   "execution_count": 37,
   "metadata": {},
   "outputs": [
    {
     "data": {
      "image/png": "[encoded data removed]",
      "text/plain": [
       "<Figure size 500x500 with 2 Axes>"
      ]
     },
     "metadata": {},
     "output_type": "display_data"
    }
   ],
   "source": [
    "plt.figure(figsize=(5,5))\n",
    "sns.heatmap(RF_confusion_matrix,\n",
    "    xticklabels=[\"Predicted 0-5\", \"Predicted 5-10\",\"Predicted 10-15\", \"Predicted 15-20\" ],\n",
    "    yticklabels=[\"True 0-5\", \"True 5-10\",\"True 10-15\", \"True 15-20\"],\n",
    " annot=True, fmt='g')\n",
    "plt.title('Best RF model Confusion Matrix on position')\n",
    "plt.show()"
   ]
  },
  {
   "cell_type": "markdown",
   "metadata": {},
   "source": [
    "## Random Forest Lap time delta"
   ]
  },
  {
   "cell_type": "code",
   "execution_count": 38,
   "metadata": {},
   "outputs": [
    {
     "name": "stdout",
     "output_type": "stream",
     "text": [
      "Fitting 5 folds for each of 25 candidates, totalling 125 fits\n",
      "{'random_forest__oob_score': True, 'random_forest__n_estimators': 360, 'random_forest__min_samples_leaf': 16, 'random_forest__max_features': 5, 'random_forest__max_depth': 15, 'random_forest__criterion': 'gini'}\n"
     ]
    }
   ],
   "source": [
    "param_grid_rf =[\n",
    "    \n",
    "    #vary DT parameters only\n",
    "    {\n",
    "    'random_forest__n_estimators':np.arange(10,500,10),\n",
    "    'random_forest__criterion':['gini','entropy','log_loss'],\n",
    "    'random_forest__max_depth':np.arange(5,100,10),\n",
    "    'random_forest__min_samples_leaf': np.arange(1,50,5),\n",
    "    'random_forest__max_features':[5,10,15,20,25,30,'sqrt','log2'],\n",
    "    'random_forest__oob_score':[True, False],\n",
    "    }\n",
    "   \n",
    "]\n",
    "\n",
    "grid_rf = RandomizedSearchCV(forest_pipe, param_grid_rf, cv=5,verbose=1, n_iter=25,return_train_score=True,n_jobs=-1) # cross validation fold of 5 20% validation per fold. N_iter 25 to limit random iteration to 25. \n",
    "fittedgrid_rf = grid_rf.fit(X_train_manual, ydelta_train)\n",
    "\n",
    "print(fittedgrid_rf.best_params_)"
   ]
  },
  {
   "cell_type": "code",
   "execution_count": 39,
   "metadata": {},
   "outputs": [
    {
     "name": "stdout",
     "output_type": "stream",
     "text": [
      "{'random_forest__oob_score': True, 'random_forest__n_estimators': 360, 'random_forest__min_samples_leaf': 16, 'random_forest__max_features': 5, 'random_forest__max_depth': 15, 'random_forest__criterion': 'gini'}\n"
     ]
    }
   ],
   "source": [
    "print(fittedgrid_rf.best_params_)"
   ]
  },
  {
   "cell_type": "code",
   "execution_count": 40,
   "metadata": {},
   "outputs": [
    {
     "name": "stdout",
     "output_type": "stream",
     "text": [
      "Fitting 5 folds for each of 375 candidates, totalling 1875 fits\n",
      "{'random_forest__criterion': 'gini', 'random_forest__max_depth': 18, 'random_forest__max_features': 1, 'random_forest__min_samples_leaf': 12, 'random_forest__n_estimators': 360, 'random_forest__oob_score': True}\n"
     ]
    }
   ],
   "source": [
    "param_grid_rf =[\n",
    "    \n",
    "    #vary DT parameters only\n",
    "    {\n",
    "    'random_forest__n_estimators':np.arange(350,400,10),\n",
    "    'random_forest__criterion':['gini'],\n",
    "    'random_forest__max_depth':np.arange(10,20,2),\n",
    "    'random_forest__min_samples_leaf': np.arange(10,20,2),\n",
    "    'random_forest__max_features':np.arange(1,15,5),\n",
    "    'random_forest__oob_score':[True]    \n",
    "    }\n",
    "   \n",
    "]\n",
    "\n",
    "grid_rf = GridSearchCV(forest_pipe, param_grid_rf, cv=5,verbose=1,return_train_score=True,n_jobs=-1) # cross validation fold of 5 20% validation per fold. N_iter 25 to limit random iteration to 25. \n",
    "fittedgrid_rf = grid_rf.fit(X_train_manual, ydelta_train)\n",
    "\n",
    "print(fittedgrid_rf.best_params_)"
   ]
  },
  {
   "cell_type": "code",
   "execution_count": 41,
   "metadata": {},
   "outputs": [
    {
     "data": {
      "text/html": [
       "<div>\n",
       "<style scoped>\n",
       "    .dataframe tbody tr th:only-of-type {\n",
       "        vertical-align: middle;\n",
       "    }\n",
       "\n",
       "    .dataframe tbody tr th {\n",
       "        vertical-align: top;\n",
       "    }\n",
       "\n",
       "    .dataframe thead th {\n",
       "        text-align: right;\n",
       "    }\n",
       "</style>\n",
       "<table border=\"1\" class=\"dataframe\">\n",
       "  <thead>\n",
       "    <tr style=\"text-align: right;\">\n",
       "      <th></th>\n",
       "      <th>Validation score</th>\n",
       "      <th>Train score</th>\n",
       "      <th>n_estimators_in_grid</th>\n",
       "      <th>max_depth_in_grid</th>\n",
       "      <th>max_features_in_grid</th>\n",
       "      <th>min_samples_leaf_in_grid</th>\n",
       "    </tr>\n",
       "  </thead>\n",
       "  <tbody>\n",
       "    <tr>\n",
       "      <th>0</th>\n",
       "      <td>0.525620</td>\n",
       "      <td>0.691877</td>\n",
       "      <td>350</td>\n",
       "      <td>10</td>\n",
       "      <td>1</td>\n",
       "      <td>10</td>\n",
       "    </tr>\n",
       "    <tr>\n",
       "      <th>1</th>\n",
       "      <td>0.516793</td>\n",
       "      <td>0.690702</td>\n",
       "      <td>360</td>\n",
       "      <td>10</td>\n",
       "      <td>1</td>\n",
       "      <td>10</td>\n",
       "    </tr>\n",
       "    <tr>\n",
       "      <th>2</th>\n",
       "      <td>0.525620</td>\n",
       "      <td>0.690995</td>\n",
       "      <td>370</td>\n",
       "      <td>10</td>\n",
       "      <td>1</td>\n",
       "      <td>10</td>\n",
       "    </tr>\n",
       "    <tr>\n",
       "      <th>3</th>\n",
       "      <td>0.526795</td>\n",
       "      <td>0.683932</td>\n",
       "      <td>380</td>\n",
       "      <td>10</td>\n",
       "      <td>1</td>\n",
       "      <td>10</td>\n",
       "    </tr>\n",
       "    <tr>\n",
       "      <th>4</th>\n",
       "      <td>0.532684</td>\n",
       "      <td>0.692614</td>\n",
       "      <td>390</td>\n",
       "      <td>10</td>\n",
       "      <td>1</td>\n",
       "      <td>10</td>\n",
       "    </tr>\n",
       "    <tr>\n",
       "      <th>...</th>\n",
       "      <td>...</td>\n",
       "      <td>...</td>\n",
       "      <td>...</td>\n",
       "      <td>...</td>\n",
       "      <td>...</td>\n",
       "      <td>...</td>\n",
       "    </tr>\n",
       "    <tr>\n",
       "      <th>370</th>\n",
       "      <td>0.508537</td>\n",
       "      <td>0.747059</td>\n",
       "      <td>350</td>\n",
       "      <td>18</td>\n",
       "      <td>11</td>\n",
       "      <td>18</td>\n",
       "    </tr>\n",
       "    <tr>\n",
       "      <th>371</th>\n",
       "      <td>0.512662</td>\n",
       "      <td>0.743968</td>\n",
       "      <td>360</td>\n",
       "      <td>18</td>\n",
       "      <td>11</td>\n",
       "      <td>18</td>\n",
       "    </tr>\n",
       "    <tr>\n",
       "      <th>372</th>\n",
       "      <td>0.514427</td>\n",
       "      <td>0.746763</td>\n",
       "      <td>370</td>\n",
       "      <td>18</td>\n",
       "      <td>11</td>\n",
       "      <td>18</td>\n",
       "    </tr>\n",
       "    <tr>\n",
       "      <th>373</th>\n",
       "      <td>0.515015</td>\n",
       "      <td>0.742202</td>\n",
       "      <td>380</td>\n",
       "      <td>18</td>\n",
       "      <td>11</td>\n",
       "      <td>18</td>\n",
       "    </tr>\n",
       "    <tr>\n",
       "      <th>374</th>\n",
       "      <td>0.512072</td>\n",
       "      <td>0.745145</td>\n",
       "      <td>390</td>\n",
       "      <td>18</td>\n",
       "      <td>11</td>\n",
       "      <td>18</td>\n",
       "    </tr>\n",
       "  </tbody>\n",
       "</table>\n",
       "<p>375 rows × 6 columns</p>\n",
       "</div>"
      ],
      "text/plain": [
       "     Validation score  Train score n_estimators_in_grid max_depth_in_grid  \\\n",
       "0            0.525620     0.691877                  350                10   \n",
       "1            0.516793     0.690702                  360                10   \n",
       "2            0.525620     0.690995                  370                10   \n",
       "3            0.526795     0.683932                  380                10   \n",
       "4            0.532684     0.692614                  390                10   \n",
       "..                ...          ...                  ...               ...   \n",
       "370          0.508537     0.747059                  350                18   \n",
       "371          0.512662     0.743968                  360                18   \n",
       "372          0.514427     0.746763                  370                18   \n",
       "373          0.515015     0.742202                  380                18   \n",
       "374          0.512072     0.745145                  390                18   \n",
       "\n",
       "    max_features_in_grid min_samples_leaf_in_grid  \n",
       "0                      1                       10  \n",
       "1                      1                       10  \n",
       "2                      1                       10  \n",
       "3                      1                       10  \n",
       "4                      1                       10  \n",
       "..                   ...                      ...  \n",
       "370                   11                       18  \n",
       "371                   11                       18  \n",
       "372                   11                       18  \n",
       "373                   11                       18  \n",
       "374                   11                       18  \n",
       "\n",
       "[375 rows x 6 columns]"
      ]
     },
     "execution_count": 41,
     "metadata": {},
     "output_type": "execute_result"
    }
   ],
   "source": [
    "results_rf_delta = pd.DataFrame({'Validation score':fittedgrid_rf.cv_results_['mean_test_score'],\n",
    "'Train score':fittedgrid_rf.cv_results_['mean_train_score'],\n",
    "'n_estimators_in_grid':fittedgrid_rf.cv_results_['param_random_forest__n_estimators'],\n",
    "'max_depth_in_grid': fittedgrid_rf.cv_results_['param_random_forest__max_depth'],\n",
    "'max_features_in_grid': fittedgrid_rf.cv_results_['param_random_forest__max_features'],\n",
    "'min_samples_leaf_in_grid': fittedgrid_rf.cv_results_['param_random_forest__min_samples_leaf']})\n",
    "results_rf_delta"
   ]
  },
  {
   "cell_type": "code",
   "execution_count": 42,
   "metadata": {},
   "outputs": [
    {
     "name": "stdout",
     "output_type": "stream",
     "text": [
      "Best Random Forest Lap Delta model accuracy_score on X test: 0.5612244897959183\n"
     ]
    }
   ],
   "source": [
    "print('Best Random Forest Lap Delta model accuracy_score on X test:',fittedgrid_rf.best_estimator_.score(X_test_manual, ydelta_test))"
   ]
  },
  {
   "cell_type": "code",
   "execution_count": 43,
   "metadata": {},
   "outputs": [
    {
     "data": {
      "text/plain": [
       "['pickled_best_RF_model_delta.pkl']"
      ]
     },
     "execution_count": 43,
     "metadata": {},
     "output_type": "execute_result"
    }
   ],
   "source": [
    "joblib.dump(fittedgrid_rf.best_estimator_, 'pickled_best_RF_model_delta.pkl')"
   ]
  },
  {
   "cell_type": "code",
   "execution_count": 44,
   "metadata": {},
   "outputs": [],
   "source": [
    "# get confusion matrix \n",
    "y_pred=fittedgrid_rf.best_estimator_.predict(X_test_manual)\n",
    "RF_confusion_matrix = confusion_matrix(ydelta_test,y_pred)"
   ]
  },
  {
   "cell_type": "code",
   "execution_count": 46,
   "metadata": {},
   "outputs": [
    {
     "data": {
      "image/png": "[encoded data removed]",
      "text/plain": [
       "<Figure size 500x500 with 2 Axes>"
      ]
     },
     "metadata": {},
     "output_type": "display_data"
    }
   ],
   "source": [
    "plt.figure(figsize=(5,5))\n",
    "sns.heatmap(RF_confusion_matrix,\n",
    "    xticklabels=[\"Predicted 0-0.8\", \"Predicted 0.8-1.5\",\"Predicted 1.5-2\", \"Predicted > 2\" ],\n",
    "    yticklabels=[\"True 0-0.8\", \"True 0.8 - 1.5\",\"True 1.5-2\", \"True > 2\"],\n",
    " annot=True, fmt='g')\n",
    "plt.title('Best RF model Confusion Matrix on Lap time delta')\n",
    "plt.show()"
   ]
  },
  {
   "cell_type": "code",
   "execution_count": null,
   "metadata": {},
   "outputs": [],
   "source": []
  },
  {
   "cell_type": "code",
   "execution_count": null,
   "metadata": {},
   "outputs": [],
   "source": []
  },
  {
   "cell_type": "code",
   "execution_count": null,
   "metadata": {},
   "outputs": [],
   "source": []
  },
  {
   "cell_type": "code",
   "execution_count": null,
   "metadata": {},
   "outputs": [],
   "source": []
  }
 ],
 "metadata": {
  "kernelspec": {
   "display_name": "Python 3.9.13 ('Formula1')",
   "language": "python",
   "name": "python3"
  },
  "language_info": {
   "codemirror_mode": {
    "name": "ipython",
    "version": 3
   },
   "file_extension": ".py",
   "mimetype": "text/x-python",
   "name": "python",
   "nbconvert_exporter": "python",
   "pygments_lexer": "ipython3",
   "version": "3.9.13"
  },
  "orig_nbformat": 4,
  "vscode": {
   "interpreter": {
    "hash": "df33e983c06e0aea19505ce5c944c877d6d15f02d67e223997f73ecad7eaf96c"
   }
  }
 },
 "nbformat": 4,
 "nbformat_minor": 2
}
